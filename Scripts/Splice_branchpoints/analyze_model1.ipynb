{
 "cells": [
  {
   "cell_type": "markdown",
   "metadata": {},
   "source": [
    "## Analyze trials"
   ]
  },
  {
   "cell_type": "code",
   "execution_count": 1,
   "metadata": {
    "collapsed": false
   },
   "outputs": [
    {
     "name": "stderr",
     "output_type": "stream",
     "text": [
      "Using TensorFlow backend.\n"
     ]
    }
   ],
   "source": [
    "%load_ext autoreload\n",
    "%autoreload 2\n",
    "%matplotlib inline\n",
    "import matplotlib.pyplot as plt\n",
    "from concise.hyopt import CompileFN, CMongoTrials, test_fn\n",
    "import numpy as np\n",
    "import pandas as ps\n",
    "from keras.models import load_model\n",
    "import sklearn.metrics as skm\n",
    "import concise.eval_metrics as cem\n",
    "import data\n",
    "import model\n",
    "from helper import *\n",
    "\n",
    "DB_NAME = \"Concise__Splice_branchpoints\"\n",
    "exp_name = \"model1\"\n"
   ]
  },
  {
   "cell_type": "code",
   "execution_count": 2,
   "metadata": {
    "collapsed": false
   },
   "outputs": [],
   "source": [
    "trials = CMongoTrials(DB_NAME, exp_name, kill_timeout=30 * 60)"
   ]
  },
  {
   "cell_type": "code",
   "execution_count": 6,
   "metadata": {
    "collapsed": false
   },
   "outputs": [
    {
     "data": {
      "text/html": [
       "<div>\n",
       "<table border=\"1\" class=\"dataframe\">\n",
       "  <thead>\n",
       "    <tr style=\"text-align: right;\">\n",
       "      <th></th>\n",
       "      <th>tid</th>\n",
       "      <th>loss</th>\n",
       "      <th>status</th>\n",
       "      <th>eval.accuracy</th>\n",
       "      <th>eval.auc</th>\n",
       "      <th>eval.auprc</th>\n",
       "      <th>eval.f1</th>\n",
       "      <th>eval.fdr</th>\n",
       "      <th>eval.loss</th>\n",
       "      <th>eval.precision</th>\n",
       "      <th>eval.sensitivity</th>\n",
       "      <th>eval.specificity</th>\n",
       "      <th>name.data</th>\n",
       "      <th>name.loss_metric</th>\n",
       "      <th>name.loss_metric_mode</th>\n",
       "      <th>name.model</th>\n",
       "      <th>param.data.n_bases</th>\n",
       "      <th>param.data.pos_class_weight</th>\n",
       "      <th>param.data.truncate</th>\n",
       "      <th>param.fit.batch_size</th>\n",
       "      <th>param.fit.early_stop_monitor</th>\n",
       "      <th>param.fit.epochs</th>\n",
       "      <th>param.fit.patience</th>\n",
       "      <th>param.model.filters</th>\n",
       "      <th>param.model.init_motifs</th>\n",
       "      <th>param.model.init_motifs.stddev</th>\n",
       "      <th>param.model.init_motifs.use_pssm</th>\n",
       "      <th>param.model.lr</th>\n",
       "      <th>param.model.nonlinearity</th>\n",
       "      <th>param.model.pos_effect.l2</th>\n",
       "      <th>param.model.pos_effect.l2_smooth</th>\n",
       "      <th>param.model.pos_effect.merge.hidden_fc</th>\n",
       "      <th>param.model.pos_effect.merge.hidden_fc.dropout_rate</th>\n",
       "      <th>param.model.pos_effect.merge.hidden_fc.n_hidden</th>\n",
       "      <th>param.model.pos_effect.merge.type</th>\n",
       "      <th>param.model.pos_effect.n_bases</th>\n",
       "      <th>param.model.pos_effect.use_bias</th>\n",
       "      <th>param.model.use_weightnorm</th>\n",
       "      <th>path.model</th>\n",
       "      <th>path.results</th>\n",
       "      <th>time.duration.dataload</th>\n",
       "      <th>time.duration.total</th>\n",
       "      <th>time.duration.training</th>\n",
       "      <th>time.end</th>\n",
       "      <th>time.start</th>\n",
       "    </tr>\n",
       "  </thead>\n",
       "  <tbody>\n",
       "    <tr>\n",
       "      <th>718</th>\n",
       "      <td>756</td>\n",
       "      <td>-0.6129</td>\n",
       "      <td>ok</td>\n",
       "      <td>0.9588</td>\n",
       "      <td>0.9227</td>\n",
       "      <td>0.6129</td>\n",
       "      <td>0.5236</td>\n",
       "      <td>0.2214</td>\n",
       "      <td>0.1230</td>\n",
       "      <td>0.7786</td>\n",
       "      <td>0.3985</td>\n",
       "      <td>0.9931</td>\n",
       "      <td>data</td>\n",
       "      <td>auprc</td>\n",
       "      <td>auprc</td>\n",
       "      <td>model</td>\n",
       "      <td>20</td>\n",
       "      <td>6.3078</td>\n",
       "      <td>False</td>\n",
       "      <td>128</td>\n",
       "      <td>val_loss</td>\n",
       "      <td>150</td>\n",
       "      <td>2</td>\n",
       "      <td>1</td>\n",
       "      <td>NaN</td>\n",
       "      <td>NaN</td>\n",
       "      <td>NaN</td>\n",
       "      <td>0.0040</td>\n",
       "      <td>None</td>\n",
       "      <td>3.3684e-11</td>\n",
       "      <td>3.8949e-07</td>\n",
       "      <td>NaN</td>\n",
       "      <td>0.0</td>\n",
       "      <td>20.0</td>\n",
       "      <td>concatenate</td>\n",
       "      <td>20</td>\n",
       "      <td>False</td>\n",
       "      <td>False</td>\n",
       "      <td>/s/project/deepcis/hy...</td>\n",
       "      <td>/s/project/deepcis/hy...</td>\n",
       "      <td>48.0837</td>\n",
       "      <td>127.9251</td>\n",
       "      <td>79.8414</td>\n",
       "      <td>2017-04-30 02:42:42.4...</td>\n",
       "      <td>2017-04-30 02:40:34.5...</td>\n",
       "    </tr>\n",
       "    <tr>\n",
       "      <th>606</th>\n",
       "      <td>644</td>\n",
       "      <td>-0.6124</td>\n",
       "      <td>ok</td>\n",
       "      <td>0.9592</td>\n",
       "      <td>0.9195</td>\n",
       "      <td>0.6124</td>\n",
       "      <td>0.5558</td>\n",
       "      <td>0.2593</td>\n",
       "      <td>0.1235</td>\n",
       "      <td>0.7407</td>\n",
       "      <td>0.4491</td>\n",
       "      <td>0.9904</td>\n",
       "      <td>data</td>\n",
       "      <td>auprc</td>\n",
       "      <td>auprc</td>\n",
       "      <td>model</td>\n",
       "      <td>20</td>\n",
       "      <td>7.0875</td>\n",
       "      <td>False</td>\n",
       "      <td>128</td>\n",
       "      <td>val_loss</td>\n",
       "      <td>150</td>\n",
       "      <td>2</td>\n",
       "      <td>1</td>\n",
       "      <td>NaN</td>\n",
       "      <td>NaN</td>\n",
       "      <td>NaN</td>\n",
       "      <td>0.0068</td>\n",
       "      <td>None</td>\n",
       "      <td>4.2315e-12</td>\n",
       "      <td>4.4642e-10</td>\n",
       "      <td>NaN</td>\n",
       "      <td>0.0</td>\n",
       "      <td>20.0</td>\n",
       "      <td>concatenate</td>\n",
       "      <td>20</td>\n",
       "      <td>False</td>\n",
       "      <td>False</td>\n",
       "      <td>/s/project/deepcis/hy...</td>\n",
       "      <td>/s/project/deepcis/hy...</td>\n",
       "      <td>47.6662</td>\n",
       "      <td>128.2978</td>\n",
       "      <td>80.6316</td>\n",
       "      <td>2017-04-30 02:30:06.0...</td>\n",
       "      <td>2017-04-30 02:27:57.7...</td>\n",
       "    </tr>\n",
       "    <tr>\n",
       "      <th>783</th>\n",
       "      <td>821</td>\n",
       "      <td>-0.6120</td>\n",
       "      <td>ok</td>\n",
       "      <td>0.9589</td>\n",
       "      <td>0.9169</td>\n",
       "      <td>0.6120</td>\n",
       "      <td>0.5213</td>\n",
       "      <td>0.2142</td>\n",
       "      <td>0.1243</td>\n",
       "      <td>0.7858</td>\n",
       "      <td>0.3937</td>\n",
       "      <td>0.9935</td>\n",
       "      <td>data</td>\n",
       "      <td>auprc</td>\n",
       "      <td>auprc</td>\n",
       "      <td>model</td>\n",
       "      <td>10</td>\n",
       "      <td>3.3912</td>\n",
       "      <td>False</td>\n",
       "      <td>128</td>\n",
       "      <td>val_loss</td>\n",
       "      <td>150</td>\n",
       "      <td>2</td>\n",
       "      <td>1</td>\n",
       "      <td>NaN</td>\n",
       "      <td>NaN</td>\n",
       "      <td>NaN</td>\n",
       "      <td>0.0067</td>\n",
       "      <td>None</td>\n",
       "      <td>1.6794e-12</td>\n",
       "      <td>4.8021e-10</td>\n",
       "      <td>NaN</td>\n",
       "      <td>0.0</td>\n",
       "      <td>20.0</td>\n",
       "      <td>concatenate</td>\n",
       "      <td>10</td>\n",
       "      <td>False</td>\n",
       "      <td>False</td>\n",
       "      <td>/s/project/deepcis/hy...</td>\n",
       "      <td>/s/project/deepcis/hy...</td>\n",
       "      <td>55.5565</td>\n",
       "      <td>229.1150</td>\n",
       "      <td>173.5585</td>\n",
       "      <td>2017-04-30 02:53:18.8...</td>\n",
       "      <td>2017-04-30 02:49:29.7...</td>\n",
       "    </tr>\n",
       "    <tr>\n",
       "      <th>...</th>\n",
       "      <td>...</td>\n",
       "      <td>...</td>\n",
       "      <td>...</td>\n",
       "      <td>...</td>\n",
       "      <td>...</td>\n",
       "      <td>...</td>\n",
       "      <td>...</td>\n",
       "      <td>...</td>\n",
       "      <td>...</td>\n",
       "      <td>...</td>\n",
       "      <td>...</td>\n",
       "      <td>...</td>\n",
       "      <td>...</td>\n",
       "      <td>...</td>\n",
       "      <td>...</td>\n",
       "      <td>...</td>\n",
       "      <td>...</td>\n",
       "      <td>...</td>\n",
       "      <td>...</td>\n",
       "      <td>...</td>\n",
       "      <td>...</td>\n",
       "      <td>...</td>\n",
       "      <td>...</td>\n",
       "      <td>...</td>\n",
       "      <td>...</td>\n",
       "      <td>...</td>\n",
       "      <td>...</td>\n",
       "      <td>...</td>\n",
       "      <td>...</td>\n",
       "      <td>...</td>\n",
       "      <td>...</td>\n",
       "      <td>...</td>\n",
       "      <td>...</td>\n",
       "      <td>...</td>\n",
       "      <td>...</td>\n",
       "      <td>...</td>\n",
       "      <td>...</td>\n",
       "      <td>...</td>\n",
       "      <td>...</td>\n",
       "      <td>...</td>\n",
       "      <td>...</td>\n",
       "      <td>...</td>\n",
       "      <td>...</td>\n",
       "      <td>...</td>\n",
       "      <td>...</td>\n",
       "    </tr>\n",
       "    <tr>\n",
       "      <th>19</th>\n",
       "      <td>45</td>\n",
       "      <td>-0.1336</td>\n",
       "      <td>ok</td>\n",
       "      <td>0.9427</td>\n",
       "      <td>0.7627</td>\n",
       "      <td>0.1336</td>\n",
       "      <td>NaN</td>\n",
       "      <td>NaN</td>\n",
       "      <td>0.1946</td>\n",
       "      <td>NaN</td>\n",
       "      <td>0.0000</td>\n",
       "      <td>1.0000</td>\n",
       "      <td>data</td>\n",
       "      <td>auprc</td>\n",
       "      <td>auprc</td>\n",
       "      <td>model</td>\n",
       "      <td>10</td>\n",
       "      <td>3.4204</td>\n",
       "      <td>True</td>\n",
       "      <td>128</td>\n",
       "      <td>val_loss</td>\n",
       "      <td>150</td>\n",
       "      <td>2</td>\n",
       "      <td>1</td>\n",
       "      <td>NaN</td>\n",
       "      <td>NaN</td>\n",
       "      <td>NaN</td>\n",
       "      <td>0.0002</td>\n",
       "      <td>relu</td>\n",
       "      <td>2.4476e-09</td>\n",
       "      <td>1.7681e-12</td>\n",
       "      <td>NaN</td>\n",
       "      <td>NaN</td>\n",
       "      <td>NaN</td>\n",
       "      <td>add</td>\n",
       "      <td>10</td>\n",
       "      <td>False</td>\n",
       "      <td>False</td>\n",
       "      <td>/s/project/deepcis/hy...</td>\n",
       "      <td>/s/project/deepcis/hy...</td>\n",
       "      <td>39.5799</td>\n",
       "      <td>284.4190</td>\n",
       "      <td>244.8391</td>\n",
       "      <td>2017-04-30 01:13:26.8...</td>\n",
       "      <td>2017-04-30 01:08:42.4...</td>\n",
       "    </tr>\n",
       "    <tr>\n",
       "      <th>721</th>\n",
       "      <td>759</td>\n",
       "      <td>-0.0286</td>\n",
       "      <td>ok</td>\n",
       "      <td>0.9427</td>\n",
       "      <td>0.5000</td>\n",
       "      <td>0.0286</td>\n",
       "      <td>NaN</td>\n",
       "      <td>NaN</td>\n",
       "      <td>0.2195</td>\n",
       "      <td>NaN</td>\n",
       "      <td>0.0000</td>\n",
       "      <td>1.0000</td>\n",
       "      <td>data</td>\n",
       "      <td>auprc</td>\n",
       "      <td>auprc</td>\n",
       "      <td>model</td>\n",
       "      <td>20</td>\n",
       "      <td>6.0460</td>\n",
       "      <td>False</td>\n",
       "      <td>128</td>\n",
       "      <td>val_loss</td>\n",
       "      <td>150</td>\n",
       "      <td>2</td>\n",
       "      <td>1</td>\n",
       "      <td>NaN</td>\n",
       "      <td>NaN</td>\n",
       "      <td>NaN</td>\n",
       "      <td>0.0067</td>\n",
       "      <td>relu</td>\n",
       "      <td>1.3762e-12</td>\n",
       "      <td>7.3917e-07</td>\n",
       "      <td>NaN</td>\n",
       "      <td>NaN</td>\n",
       "      <td>NaN</td>\n",
       "      <td>multiply</td>\n",
       "      <td>20</td>\n",
       "      <td>False</td>\n",
       "      <td>True</td>\n",
       "      <td>/s/project/deepcis/hy...</td>\n",
       "      <td>/s/project/deepcis/hy...</td>\n",
       "      <td>47.9346</td>\n",
       "      <td>94.5748</td>\n",
       "      <td>46.6402</td>\n",
       "      <td>2017-04-30 02:42:27.4...</td>\n",
       "      <td>2017-04-30 02:40:52.8...</td>\n",
       "    </tr>\n",
       "    <tr>\n",
       "      <th>4</th>\n",
       "      <td>9</td>\n",
       "      <td>-0.0286</td>\n",
       "      <td>ok</td>\n",
       "      <td>0.9427</td>\n",
       "      <td>0.5000</td>\n",
       "      <td>0.0286</td>\n",
       "      <td>NaN</td>\n",
       "      <td>NaN</td>\n",
       "      <td>0.2195</td>\n",
       "      <td>NaN</td>\n",
       "      <td>0.0000</td>\n",
       "      <td>1.0000</td>\n",
       "      <td>data</td>\n",
       "      <td>auprc</td>\n",
       "      <td>auprc</td>\n",
       "      <td>model</td>\n",
       "      <td>10</td>\n",
       "      <td>2.4885</td>\n",
       "      <td>True</td>\n",
       "      <td>128</td>\n",
       "      <td>val_loss</td>\n",
       "      <td>150</td>\n",
       "      <td>2</td>\n",
       "      <td>1</td>\n",
       "      <td>NaN</td>\n",
       "      <td>NaN</td>\n",
       "      <td>NaN</td>\n",
       "      <td>0.0052</td>\n",
       "      <td>relu</td>\n",
       "      <td>1.6762e-12</td>\n",
       "      <td>2.1675e-09</td>\n",
       "      <td>NaN</td>\n",
       "      <td>NaN</td>\n",
       "      <td>NaN</td>\n",
       "      <td>multiply</td>\n",
       "      <td>10</td>\n",
       "      <td>True</td>\n",
       "      <td>False</td>\n",
       "      <td>/s/project/deepcis/hy...</td>\n",
       "      <td>/s/project/deepcis/hy...</td>\n",
       "      <td>58.8188</td>\n",
       "      <td>108.9289</td>\n",
       "      <td>50.1102</td>\n",
       "      <td>2017-04-30 01:09:55.7...</td>\n",
       "      <td>2017-04-30 01:08:06.7...</td>\n",
       "    </tr>\n",
       "  </tbody>\n",
       "</table>\n",
       "<p>1000 rows × 45 columns</p>\n",
       "</div>"
      ],
      "text/plain": [
       "     tid    loss status  eval.accuracy  eval.auc  eval.auprc  eval.f1  eval.fdr  eval.loss  \\\n",
       "718  756 -0.6129     ok         0.9588    0.9227      0.6129   0.5236    0.2214     0.1230   \n",
       "606  644 -0.6124     ok         0.9592    0.9195      0.6124   0.5558    0.2593     0.1235   \n",
       "783  821 -0.6120     ok         0.9589    0.9169      0.6120   0.5213    0.2142     0.1243   \n",
       "..   ...     ...    ...            ...       ...         ...      ...       ...        ...   \n",
       "19    45 -0.1336     ok         0.9427    0.7627      0.1336      NaN       NaN     0.1946   \n",
       "721  759 -0.0286     ok         0.9427    0.5000      0.0286      NaN       NaN     0.2195   \n",
       "4      9 -0.0286     ok         0.9427    0.5000      0.0286      NaN       NaN     0.2195   \n",
       "\n",
       "     eval.precision  eval.sensitivity  eval.specificity name.data name.loss_metric  \\\n",
       "718          0.7786            0.3985            0.9931      data            auprc   \n",
       "606          0.7407            0.4491            0.9904      data            auprc   \n",
       "783          0.7858            0.3937            0.9935      data            auprc   \n",
       "..              ...               ...               ...       ...              ...   \n",
       "19              NaN            0.0000            1.0000      data            auprc   \n",
       "721             NaN            0.0000            1.0000      data            auprc   \n",
       "4               NaN            0.0000            1.0000      data            auprc   \n",
       "\n",
       "    name.loss_metric_mode name.model  param.data.n_bases  param.data.pos_class_weight  \\\n",
       "718                 auprc      model                  20                    6.3078      \n",
       "606                 auprc      model                  20                    7.0875      \n",
       "783                 auprc      model                  10                    3.3912      \n",
       "..                    ...        ...                 ...                       ...      \n",
       "19                  auprc      model                  10                    3.4204      \n",
       "721                 auprc      model                  20                    6.0460      \n",
       "4                   auprc      model                  10                    2.4885      \n",
       "\n",
       "    param.data.truncate  param.fit.batch_size param.fit.early_stop_monitor  param.fit.epochs  \\\n",
       "718               False                   128                  val_loss                  150   \n",
       "606               False                   128                  val_loss                  150   \n",
       "783               False                   128                  val_loss                  150   \n",
       "..                  ...                   ...                       ...                  ...   \n",
       "19                 True                   128                  val_loss                  150   \n",
       "721               False                   128                  val_loss                  150   \n",
       "4                  True                   128                  val_loss                  150   \n",
       "\n",
       "     param.fit.patience  param.model.filters  param.model.init_motifs  \\\n",
       "718                   2                    1                      NaN   \n",
       "606                   2                    1                      NaN   \n",
       "783                   2                    1                      NaN   \n",
       "..                  ...                  ...                      ...   \n",
       "19                    2                    1                      NaN   \n",
       "721                   2                    1                      NaN   \n",
       "4                     2                    1                      NaN   \n",
       "\n",
       "     param.model.init_motifs.stddev param.model.init_motifs.use_pssm  param.model.lr  \\\n",
       "718                       NaN                             NaN                 0.0040   \n",
       "606                       NaN                             NaN                 0.0068   \n",
       "783                       NaN                             NaN                 0.0067   \n",
       "..                        ...                             ...                    ...   \n",
       "19                        NaN                             NaN                 0.0002   \n",
       "721                       NaN                             NaN                 0.0067   \n",
       "4                         NaN                             NaN                 0.0052   \n",
       "\n",
       "    param.model.nonlinearity  param.model.pos_effect.l2  param.model.pos_effect.l2_smooth  \\\n",
       "718                     None                3.3684e-11                 3.8949e-07           \n",
       "606                     None                4.2315e-12                 4.4642e-10           \n",
       "783                     None                1.6794e-12                 4.8021e-10           \n",
       "..                       ...                       ...                        ...           \n",
       "19                      relu                2.4476e-09                 1.7681e-12           \n",
       "721                     relu                1.3762e-12                 7.3917e-07           \n",
       "4                       relu                1.6762e-12                 2.1675e-09           \n",
       "\n",
       "     param.model.pos_effect.merge.hidden_fc  param.model.pos_effect.merge.hidden_fc.dropout_rate  \\\n",
       "718                       NaN                                     0.0                              \n",
       "606                       NaN                                     0.0                              \n",
       "783                       NaN                                     0.0                              \n",
       "..                        ...                                     ...                              \n",
       "19                        NaN                                     NaN                              \n",
       "721                       NaN                                     NaN                              \n",
       "4                         NaN                                     NaN                              \n",
       "\n",
       "     param.model.pos_effect.merge.hidden_fc.n_hidden param.model.pos_effect.merge.type  \\\n",
       "718                      20.0                                      concatenate           \n",
       "606                      20.0                                      concatenate           \n",
       "783                      20.0                                      concatenate           \n",
       "..                        ...                                              ...           \n",
       "19                        NaN                                              add           \n",
       "721                       NaN                                         multiply           \n",
       "4                         NaN                                         multiply           \n",
       "\n",
       "     param.model.pos_effect.n_bases param.model.pos_effect.use_bias param.model.use_weightnorm  \\\n",
       "718                        20                           False                           False    \n",
       "606                        20                           False                           False    \n",
       "783                        10                           False                           False    \n",
       "..                        ...                             ...                             ...    \n",
       "19                         10                           False                           False    \n",
       "721                        20                           False                            True    \n",
       "4                          10                            True                           False    \n",
       "\n",
       "                   path.model              path.results  time.duration.dataload  \\\n",
       "718  /s/project/deepcis/hy...  /s/project/deepcis/hy...                 48.0837   \n",
       "606  /s/project/deepcis/hy...  /s/project/deepcis/hy...                 47.6662   \n",
       "783  /s/project/deepcis/hy...  /s/project/deepcis/hy...                 55.5565   \n",
       "..                        ...                       ...                     ...   \n",
       "19   /s/project/deepcis/hy...  /s/project/deepcis/hy...                 39.5799   \n",
       "721  /s/project/deepcis/hy...  /s/project/deepcis/hy...                 47.9346   \n",
       "4    /s/project/deepcis/hy...  /s/project/deepcis/hy...                 58.8188   \n",
       "\n",
       "     time.duration.total  time.duration.training                  time.end  \\\n",
       "718             127.9251                 79.8414  2017-04-30 02:42:42.4...   \n",
       "606             128.2978                 80.6316  2017-04-30 02:30:06.0...   \n",
       "783             229.1150                173.5585  2017-04-30 02:53:18.8...   \n",
       "..                   ...                     ...                       ...   \n",
       "19              284.4190                244.8391  2017-04-30 01:13:26.8...   \n",
       "721              94.5748                 46.6402  2017-04-30 02:42:27.4...   \n",
       "4               108.9289                 50.1102  2017-04-30 01:09:55.7...   \n",
       "\n",
       "                   time.start  \n",
       "718  2017-04-30 02:40:34.5...  \n",
       "606  2017-04-30 02:27:57.7...  \n",
       "783  2017-04-30 02:49:29.7...  \n",
       "..                        ...  \n",
       "19   2017-04-30 01:08:42.4...  \n",
       "721  2017-04-30 02:40:52.8...  \n",
       "4    2017-04-30 01:08:06.7...  \n",
       "\n",
       "[1000 rows x 45 columns]"
      ]
     },
     "execution_count": 6,
     "metadata": {},
     "output_type": "execute_result"
    }
   ],
   "source": [
    "df = trials.as_df().sort_values(\"eval.auprc\", ascending=False)\n",
    "del df[\"param.model.pos_effect.merge_type\"] #mis-specified\n",
    "df"
   ]
  },
  {
   "cell_type": "code",
   "execution_count": 11,
   "metadata": {
    "collapsed": false
   },
   "outputs": [
    {
     "data": {
      "text/plain": [
       "array([ 20.,  20.,  20.,  20.,  20.,  20.,  20.,  20.,  20.,  20.,  20.,  20.,  20.,  20.,  20.,\n",
       "        20.,  20.,  20.,  20.,  20.,  20.,  20.,  10.,  20.,  20.,  20.,  20.,  20.,  20.,  20.,\n",
       "        20.,  20.,  20.,  20.,  20.,  20.,  20.,  20.,  20.,  20.,  20.,  20.,  20.,  20.,  20.,\n",
       "        20.,  20.,  20.,  20.,  20.,  20.,  20.,  20.,  20.,  20.,  20.,  20.,  20.,  20.,  20.,\n",
       "        20.,  20.,  20.,  20.,  20.,  20.,  20.,  20.,  20.,  20.,  20.,  20.,  20.,  20.,  20.,\n",
       "        10.,  20.,  20.,  20.,  20.,  20.,  20.,  20.,  20.,  20.,  20.,  20.,  20.,  20.,  20.,\n",
       "        20.,  10.,  20.,  20.,  10.,  20.,  20.,  20.,  20.,  20.,  20.,  20.,  20.,  20.,  20.,\n",
       "        20.,  20.,  20.,  10.,  20.,  20.,  20.,  20.,  20.,  20.,  20.,  20.,  20.,  20.,  20.,\n",
       "        20.,  20.,  20.,  20.,  20.,  20.,  10.,  20.,  20.,  20.,  20.,  20.,  20.,  20.,  20.,\n",
       "        20.,  20.,  20.,  20.,  10.,  20.,  20.,  20.,  20.,  20.,  20.,  20.,  20.,  20.,  20.,\n",
       "        20.,  20.,  20.,  20.,  20.,  20.,  20.,  20.,  20.,  20.,  20.,  20.,  20.,  10.,  20.,\n",
       "        20.,  20.,  20.,  20.,  20.,  10.,  20.,  20.,  20.,  20.,  20.,  20.,  20.,  20.,  20.,\n",
       "        20.,  10.,  20.,  20.,  20.,  20.,  20.,  20.,  20.,  20.,   5.,  20.,  20.,  20.,  20.,\n",
       "        20.,  20.,  20.,  20.,  20.,  20.,  20.,  20.,  20.,  20.,  20.,  20.,  20.,  20.,  20.,\n",
       "        10.,  20.,  20.,  20.,  20.,  20.,  20.,  20.,  20.,  20.,  20.,  20.,  10.,  20.,  20.,\n",
       "        20.,  20.,  20.,  20.,  20.,  20.,  20.,  20.,  20.,  20.,  20.,  20.,  20.,  20.,  20.,\n",
       "        20.,  20.,  10.,  20.,  20.,  20.,  20.,  20.,  20.,  20.,  20.,  20.,  20.,  20.,  20.,\n",
       "        20.,  10.,  20.,  20.,  20.,  20.,  20.,  20.,  20.,  20.,  20.,  10.,  20.,  10.,  10.,\n",
       "        20.,  20.,   5.,  10.,  20.,  20.,   5.,  20.,  20.,  20.,  10.,  20.,  20.,  20.,   5.,\n",
       "        20.,  20.,  20.,  20.,  20.,  10.,  20.,  20.,  20.,  10.,   5.,  10.,  20.,  20.,  20.,\n",
       "        10.,  20.,  20.,  20.,  10.,  10.,  20.,  20.,  20.,  10.,  20.,   5.,  20.,  20.,  20.,\n",
       "        20.,  20.,  20.,  20.,  10.,  10.,  20.,  20.,  20.,  10.,  20.,   5.,  20.,  20.,  20.,\n",
       "        20.,  20.,  20.,  20.,   5.,  10.,  20.,  20.,  20.,   5.,  20.,  10.,  20.,  20.,  20.,\n",
       "        20.,  20.,  20.,  10.,  10.,  20.,  20.,  20.,  10.,   5.,   5.,  20.,  20.,  20.,  20.,\n",
       "        20.,  20.,  10.,  20.,  20.,  20.,  20.,  10.,  20.,  10.,  20.,   5.,  20.,  20.,  20.,\n",
       "        20.,  20.,  20.,  20.,  20.,  20.,  20.,  20.,  20.,   5.,  20.,  20.,   5.,  20.,  10.,\n",
       "        20.,  20.,  20.,  20.,   5.,  20.,  20.,  20.,   5.,  20.,  20.,  10.,  10.,  20.,  10.,\n",
       "        20.,  20.,  20.,  20.,  20.,   5.,  20.,  20.,  10.,  20.,  20.,  20.,  20.,  20.,  20.,\n",
       "        20.,   5.,  20.,  20.,  20.,  20.,  20.,  20.,  20.,  20.,  20.,  20.,  10.,  10.,  20.,\n",
       "        20.,  10.,  10.,  20.,  20.,  20.,  20.,   5.,  20.,  20.,   5.,  10.,  20.,  20.,  20.,\n",
       "        20.,  20.,  20.,  20.,   5.,  20.,  20.,  20.,  20.,  20.,  20.,  20.,  20.,  20.,  20.,\n",
       "        20.,  20.,  20.,  20.,  20.,  20.,  20.,  20.,   5.,  20.,  20.,  20.,  20.,  20.,  10.,\n",
       "        20.,   5.,  20.,  20.,  20.,  20.,   5.,  10.,  20.,  20.,   5.,  20.,  20.,  20.,  20.,\n",
       "        20.,  20.,  20.,  20.,  20.,  10.,  20.,  20.,  20.,  20.,  20.,  20.,   5.,  20.,  20.,\n",
       "        10.,  20.,  20.,  20.,  20.,  20.,  20.,  20.,  10.,  20.,  20.,  20.,   5.,  20.,  20.,\n",
       "        10.,  20.,  20.,  20.,  10.,  20.,  10.,  20.,  10.,  10.,  20.,  20.,  20.,  20.,   5.,\n",
       "        10.,  20.,  20.,  20.,   5.,  20.,  20.,  20.,   5.,  20.,  20.,  10.,  20.,  20.,   5.,\n",
       "        10.,  20.,  20.,  20.,  20.,   5.,  20.,  20.,   5.,  20.,  20.,  20.,  20.,  10.,  20.,\n",
       "        20.,  20.,  20.,   5.,  20.,  20.,   5.,   5.,  20.,  20.,   5.,  10.,  20.,   5.,  10.,\n",
       "        10.,  10.,  10.,  20.,  20.,   5.,  20.,  nan,   5.,  20.,   5.,  20.,   5.,   5.,  20.,\n",
       "         5.,  20.,   5.,  20.,  20.,  20.,  20.,  20.,  nan,  10.,  20.,   5.,  20.,  20.,   5.,\n",
       "        nan,  10.,  20.,  20.,  10.,   5.,  20.,  10.,  20.,  20.,  20.,  20.,   5.,  10.,  20.,\n",
       "        20.,  20.,   5.,  20.,   5.,   5.,   5.,  20.,  10.,  10.,  10.,  20.,  20.,  20.,  20.,\n",
       "         5.,  20.,  20.,  20.,   5.,   5.,  10.,  20.,  20.,   5.,  20.,  20.,  nan,  20.,  20.,\n",
       "        20.,   5.,  20.,  nan,  20.,  20.,  nan,  20.,  20.,  20.,  20.,  nan,  nan,  nan,   5.,\n",
       "        20.,  10.,  nan,  nan,  10.,  nan,  nan,  nan,  nan,  nan,  nan,  20.,  nan,  nan,  nan,\n",
       "        10.,   5.,   5.,  nan,  nan,  nan,  nan,  nan,  nan,  nan,  nan,  nan,   5.,  nan,  20.,\n",
       "        nan,   5.,  nan,  nan,  nan,  nan,  nan,  nan,  nan,  nan,  nan,  10.,  nan,  nan,  nan,\n",
       "        10.,  nan,  nan,  nan,  nan,  nan,  nan,  nan,  nan,  nan,  nan,  nan,  nan,  nan,  nan,\n",
       "        nan,  nan,  nan,   5.,  nan,   5.,  nan,  nan,  nan,  nan,  nan,  nan,  nan,  nan,   5.,\n",
       "        nan,  nan,  nan,   5.,  nan,  nan,  nan,  nan,  nan,  nan,  nan,  nan,  nan,  nan,  nan,\n",
       "        nan,  nan,  nan,  nan,  nan,  nan,  nan,  nan,  nan,  nan,  nan,  nan,  nan,  nan,  nan,\n",
       "        nan,  nan,  nan,  nan,  nan,  nan,  nan,  nan,  nan,  nan,  nan,  nan,  nan,  nan,  nan,\n",
       "        nan,  nan,  nan,  nan,  nan,  nan,  nan,  nan,  nan,  nan,  nan,  nan,  nan,  nan,  nan,\n",
       "        nan,  nan,  nan,  nan,  nan,  nan,  nan,  nan,  nan,  nan,  nan,  nan,  nan,  nan,  nan,\n",
       "        nan,  nan,  nan,  nan,  nan,  nan,  nan,  nan,  10.,  nan,  nan,  nan,  nan,  nan,  nan,\n",
       "        nan,  nan,  nan,  nan,  nan,  10.,  nan,  nan,  nan,  nan,  nan,  nan,  nan,  nan,  nan,\n",
       "        nan,  nan,  nan,  nan,  nan,  nan,  nan,  nan,  nan,  nan,  nan,  nan,  nan,  nan,  nan,\n",
       "        nan,  nan,  nan,  nan,  nan,  nan,  nan,  nan,  nan,  nan,  nan,  nan,  nan,  nan,  nan,\n",
       "        nan,  nan,  nan,  nan,  nan,  nan,  nan,  nan,  nan,  nan,  nan,  nan,  nan,  10.,  nan,\n",
       "        nan,  nan,  nan,  nan,  nan,  20.,  nan,  nan,  nan,  nan,  nan,  nan,  nan,   5.,  nan,\n",
       "        nan,  nan,  nan,  nan,  nan,  nan,  20.,  nan,  nan,  nan,  nan,  nan,  nan,  nan,  nan,\n",
       "        nan,  20.,  nan,  nan,  nan,  nan,  nan,   5.,  nan,  nan,  20.,  nan,  nan,  nan,  10.,\n",
       "        nan,  nan,  nan,  nan,  nan,  nan,  nan,  nan,  nan,  nan,  nan,  nan,  20.,  nan,  nan,\n",
       "        nan,  nan,  nan,  nan,  nan,  nan,  nan,  nan,  nan,  nan,  nan,  nan,  nan,  nan,  nan,\n",
       "        nan,  nan,  nan,  nan,  nan,  nan,  nan,  nan,  20.,  nan,  nan,  20.,  10.,  nan,  nan,\n",
       "        nan,  nan,  nan,  nan,  nan,  nan,  nan,  nan,  nan,  nan])"
      ]
     },
     "execution_count": 11,
     "metadata": {},
     "output_type": "execute_result"
    }
   ],
   "source": [
    "n_hid = np.array(df[\"param.model.pos_effect.merge.hidden_fc.n_hidden\"])\n",
    "n_hid"
   ]
  },
  {
   "cell_type": "code",
   "execution_count": 13,
   "metadata": {
    "collapsed": false
   },
   "outputs": [
    {
     "data": {
      "text/plain": [
       "array(['concatenate', 'concatenate', 'add', 'add', 'add', 'add', 'add', 'multiply', 'multiply',\n",
       "       'multiply', 'multiply', 'multiply', 'multiply', 'multiply', 'multiply', 'multiply',\n",
       "       'multiply', 'multiply', 'multiply', 'multiply', 'multiply', 'multiply', 'add', 'multiply',\n",
       "       'multiply', 'multiply', 'multiply', 'multiply', 'multiply', 'concatenate', 'multiply',\n",
       "       'multiply', 'multiply', 'multiply', 'multiply', 'add', 'multiply', 'multiply', 'multiply',\n",
       "       'add', 'multiply', 'multiply', 'concatenate', 'concatenate', 'multiply', 'add', 'multiply',\n",
       "       'add', 'add', 'add', 'concatenate', 'add', 'add', 'concatenate', 'multiply', 'add', 'add',\n",
       "       'concatenate', 'add', 'add', 'multiply', 'add', 'multiply', 'concatenate', 'add',\n",
       "       'concatenate', 'concatenate', 'add', 'concatenate', 'concatenate', 'add', 'add', 'add',\n",
       "       'concatenate', 'add', 'add', 'concatenate', 'add', 'add', 'add', 'concatenate',\n",
       "       'concatenate', 'add', 'add', 'add', 'add', 'add', 'add', 'add', 'concatenate', 'concatenate',\n",
       "       'concatenate', 'add', 'concatenate', 'add', 'concatenate', 'concatenate', 'add', 'add',\n",
       "       'multiply', 'concatenate', 'add', 'multiply', 'concatenate', 'add', 'add', 'add', 'add',\n",
       "       'concatenate', 'concatenate', 'concatenate', 'concatenate', 'concatenate', 'concatenate',\n",
       "       'concatenate', 'add', 'multiply', 'add', 'concatenate', 'add', 'concatenate', 'add',\n",
       "       'multiply', 'concatenate', 'concatenate', 'add', 'add', 'add', 'concatenate', 'concatenate',\n",
       "       'multiply', 'add', 'concatenate', 'concatenate', 'concatenate', 'concatenate', 'concatenate',\n",
       "       'add', 'add', 'concatenate', 'add', 'concatenate', 'concatenate', 'concatenate', 'add',\n",
       "       'concatenate', 'add', 'add', 'multiply', 'concatenate', 'add', 'concatenate', 'add',\n",
       "       'multiply', 'concatenate', 'add', 'add', 'multiply', 'concatenate', 'concatenate',\n",
       "       'concatenate', 'concatenate', 'multiply', 'concatenate', 'concatenate', 'concatenate',\n",
       "       'concatenate', 'multiply', 'add', 'add', 'concatenate', 'concatenate', 'add', 'concatenate',\n",
       "       'multiply', 'concatenate', 'concatenate', 'add', 'concatenate', 'add', 'concatenate',\n",
       "       'multiply', 'add', 'multiply', 'concatenate', 'add', 'multiply', 'add', 'multiply', 'add',\n",
       "       'add', 'multiply', 'add', 'multiply', 'multiply', 'add', 'multiply', 'concatenate',\n",
       "       'multiply', 'multiply', 'multiply', 'concatenate', 'concatenate', 'multiply', 'concatenate',\n",
       "       'add', 'add', 'multiply', 'add', 'add', 'multiply', 'add', 'multiply', 'concatenate', 'add',\n",
       "       'multiply', 'concatenate', 'add', 'add', 'add', 'concatenate', 'concatenate', 'multiply',\n",
       "       'concatenate', 'add', 'concatenate', 'concatenate', 'add', 'add', 'concatenate', 'add',\n",
       "       'concatenate', 'add', 'multiply', 'concatenate', 'concatenate', 'add', 'concatenate',\n",
       "       'multiply', 'add', 'add', 'add', 'add', 'add', 'add', 'concatenate', 'add', 'concatenate',\n",
       "       'multiply', 'add', 'multiply', 'concatenate', 'concatenate', 'multiply', 'multiply',\n",
       "       'concatenate', 'multiply', 'multiply', 'multiply', 'multiply', 'multiply', 'multiply',\n",
       "       'multiply', 'multiply', 'multiply', 'multiply', 'multiply', 'multiply', 'multiply',\n",
       "       'multiply', 'multiply', 'multiply', 'multiply', 'multiply', 'multiply', 'multiply',\n",
       "       'multiply', 'multiply', 'multiply', 'multiply', 'multiply', 'multiply', 'multiply',\n",
       "       'multiply', 'multiply', 'multiply', 'multiply', 'multiply', 'multiply', 'multiply',\n",
       "       'multiply', 'multiply', 'add', 'add', 'add', 'concatenate', 'add', 'add', 'add', 'add',\n",
       "       'add', 'add', 'multiply', 'multiply'], dtype=object)"
      ]
     },
     "execution_count": 13,
     "metadata": {},
     "output_type": "execute_result"
    }
   ],
   "source": [
    "np.array(df[\"param.model.pos_effect.merge.type\"])[np.isnan(n_hid)]"
   ]
  },
  {
   "cell_type": "code",
   "execution_count": 16,
   "metadata": {
    "collapsed": false
   },
   "outputs": [
    {
     "data": {
      "text/html": [
       "<div>\n",
       "<table border=\"1\" class=\"dataframe\">\n",
       "  <thead>\n",
       "    <tr style=\"text-align: right;\">\n",
       "      <th></th>\n",
       "      <th>tid</th>\n",
       "      <th>loss</th>\n",
       "      <th>status</th>\n",
       "      <th>eval.accuracy</th>\n",
       "      <th>eval.auc</th>\n",
       "      <th>eval.auprc</th>\n",
       "      <th>eval.f1</th>\n",
       "      <th>eval.fdr</th>\n",
       "      <th>eval.loss</th>\n",
       "      <th>eval.precision</th>\n",
       "      <th>eval.sensitivity</th>\n",
       "      <th>eval.specificity</th>\n",
       "      <th>name.data</th>\n",
       "      <th>name.loss_metric</th>\n",
       "      <th>name.loss_metric_mode</th>\n",
       "      <th>name.model</th>\n",
       "      <th>param.data.n_bases</th>\n",
       "      <th>param.data.pos_class_weight</th>\n",
       "      <th>param.data.truncate</th>\n",
       "      <th>param.fit.batch_size</th>\n",
       "      <th>param.fit.early_stop_monitor</th>\n",
       "      <th>param.fit.epochs</th>\n",
       "      <th>param.fit.patience</th>\n",
       "      <th>param.model.filters</th>\n",
       "      <th>param.model.init_motifs</th>\n",
       "      <th>param.model.init_motifs.stddev</th>\n",
       "      <th>param.model.init_motifs.use_pssm</th>\n",
       "      <th>param.model.lr</th>\n",
       "      <th>param.model.nonlinearity</th>\n",
       "      <th>param.model.pos_effect.l2</th>\n",
       "      <th>param.model.pos_effect.l2_smooth</th>\n",
       "      <th>param.model.pos_effect.merge.hidden_fc</th>\n",
       "      <th>param.model.pos_effect.merge.hidden_fc.dropout_rate</th>\n",
       "      <th>param.model.pos_effect.merge.hidden_fc.n_hidden</th>\n",
       "      <th>param.model.pos_effect.merge.type</th>\n",
       "      <th>param.model.pos_effect.n_bases</th>\n",
       "      <th>param.model.pos_effect.use_bias</th>\n",
       "      <th>param.model.use_weightnorm</th>\n",
       "      <th>path.model</th>\n",
       "      <th>path.results</th>\n",
       "      <th>time.duration.dataload</th>\n",
       "      <th>time.duration.total</th>\n",
       "      <th>time.duration.training</th>\n",
       "      <th>time.end</th>\n",
       "      <th>time.start</th>\n",
       "    </tr>\n",
       "  </thead>\n",
       "  <tbody>\n",
       "    <tr>\n",
       "      <th>479</th>\n",
       "      <td>517</td>\n",
       "      <td>-0.5956</td>\n",
       "      <td>ok</td>\n",
       "      <td>0.9573</td>\n",
       "      <td>0.9163</td>\n",
       "      <td>0.5956</td>\n",
       "      <td>0.5424</td>\n",
       "      <td>0.2944</td>\n",
       "      <td>0.1260</td>\n",
       "      <td>0.7056</td>\n",
       "      <td>0.4449</td>\n",
       "      <td>0.9887</td>\n",
       "      <td>data</td>\n",
       "      <td>auprc</td>\n",
       "      <td>auprc</td>\n",
       "      <td>model</td>\n",
       "      <td>20</td>\n",
       "      <td>9.1710</td>\n",
       "      <td>False</td>\n",
       "      <td>128</td>\n",
       "      <td>val_loss</td>\n",
       "      <td>150</td>\n",
       "      <td>2</td>\n",
       "      <td>1</td>\n",
       "      <td>NaN</td>\n",
       "      <td>0.1</td>\n",
       "      <td>True</td>\n",
       "      <td>0.0034</td>\n",
       "      <td>relu</td>\n",
       "      <td>1.0716e-08</td>\n",
       "      <td>1.3726e-07</td>\n",
       "      <td>NaN</td>\n",
       "      <td>NaN</td>\n",
       "      <td>NaN</td>\n",
       "      <td>concatenate</td>\n",
       "      <td>20</td>\n",
       "      <td>False</td>\n",
       "      <td>False</td>\n",
       "      <td>/s/project/deepcis/hy...</td>\n",
       "      <td>/s/project/deepcis/hy...</td>\n",
       "      <td>47.4688</td>\n",
       "      <td>120.6594</td>\n",
       "      <td>73.1906</td>\n",
       "      <td>2017-04-30 02:16:07.0...</td>\n",
       "      <td>2017-04-30 02:14:06.3...</td>\n",
       "    </tr>\n",
       "    <tr>\n",
       "      <th>54</th>\n",
       "      <td>92</td>\n",
       "      <td>-0.5949</td>\n",
       "      <td>ok</td>\n",
       "      <td>0.9574</td>\n",
       "      <td>0.9161</td>\n",
       "      <td>0.5949</td>\n",
       "      <td>0.5236</td>\n",
       "      <td>0.2692</td>\n",
       "      <td>0.1261</td>\n",
       "      <td>0.7308</td>\n",
       "      <td>0.4123</td>\n",
       "      <td>0.9907</td>\n",
       "      <td>data</td>\n",
       "      <td>auprc</td>\n",
       "      <td>auprc</td>\n",
       "      <td>model</td>\n",
       "      <td>20</td>\n",
       "      <td>9.7791</td>\n",
       "      <td>False</td>\n",
       "      <td>128</td>\n",
       "      <td>val_loss</td>\n",
       "      <td>150</td>\n",
       "      <td>2</td>\n",
       "      <td>1</td>\n",
       "      <td>NaN</td>\n",
       "      <td>0.1</td>\n",
       "      <td>True</td>\n",
       "      <td>0.0010</td>\n",
       "      <td>relu</td>\n",
       "      <td>2.7317e-07</td>\n",
       "      <td>4.7137e-10</td>\n",
       "      <td>NaN</td>\n",
       "      <td>NaN</td>\n",
       "      <td>NaN</td>\n",
       "      <td>concatenate</td>\n",
       "      <td>20</td>\n",
       "      <td>True</td>\n",
       "      <td>False</td>\n",
       "      <td>/s/project/deepcis/hy...</td>\n",
       "      <td>/s/project/deepcis/hy...</td>\n",
       "      <td>86.6339</td>\n",
       "      <td>367.5151</td>\n",
       "      <td>280.8812</td>\n",
       "      <td>2017-04-30 01:21:38.6...</td>\n",
       "      <td>2017-04-30 01:15:31.1...</td>\n",
       "    </tr>\n",
       "    <tr>\n",
       "      <th>197</th>\n",
       "      <td>235</td>\n",
       "      <td>-0.5946</td>\n",
       "      <td>ok</td>\n",
       "      <td>0.9571</td>\n",
       "      <td>0.9155</td>\n",
       "      <td>0.5946</td>\n",
       "      <td>0.5472</td>\n",
       "      <td>0.3044</td>\n",
       "      <td>0.1264</td>\n",
       "      <td>0.6956</td>\n",
       "      <td>0.4557</td>\n",
       "      <td>0.9878</td>\n",
       "      <td>data</td>\n",
       "      <td>auprc</td>\n",
       "      <td>auprc</td>\n",
       "      <td>model</td>\n",
       "      <td>20</td>\n",
       "      <td>6.8995</td>\n",
       "      <td>False</td>\n",
       "      <td>128</td>\n",
       "      <td>val_loss</td>\n",
       "      <td>150</td>\n",
       "      <td>2</td>\n",
       "      <td>1</td>\n",
       "      <td>NaN</td>\n",
       "      <td>NaN</td>\n",
       "      <td>NaN</td>\n",
       "      <td>0.0006</td>\n",
       "      <td>relu</td>\n",
       "      <td>3.8046e-08</td>\n",
       "      <td>2.7554e-10</td>\n",
       "      <td>NaN</td>\n",
       "      <td>NaN</td>\n",
       "      <td>NaN</td>\n",
       "      <td>add</td>\n",
       "      <td>20</td>\n",
       "      <td>False</td>\n",
       "      <td>True</td>\n",
       "      <td>/s/project/deepcis/hy...</td>\n",
       "      <td>/s/project/deepcis/hy...</td>\n",
       "      <td>48.5484</td>\n",
       "      <td>181.8019</td>\n",
       "      <td>133.2535</td>\n",
       "      <td>2017-04-30 01:41:14.8...</td>\n",
       "      <td>2017-04-30 01:38:13.0...</td>\n",
       "    </tr>\n",
       "    <tr>\n",
       "      <th>...</th>\n",
       "      <td>...</td>\n",
       "      <td>...</td>\n",
       "      <td>...</td>\n",
       "      <td>...</td>\n",
       "      <td>...</td>\n",
       "      <td>...</td>\n",
       "      <td>...</td>\n",
       "      <td>...</td>\n",
       "      <td>...</td>\n",
       "      <td>...</td>\n",
       "      <td>...</td>\n",
       "      <td>...</td>\n",
       "      <td>...</td>\n",
       "      <td>...</td>\n",
       "      <td>...</td>\n",
       "      <td>...</td>\n",
       "      <td>...</td>\n",
       "      <td>...</td>\n",
       "      <td>...</td>\n",
       "      <td>...</td>\n",
       "      <td>...</td>\n",
       "      <td>...</td>\n",
       "      <td>...</td>\n",
       "      <td>...</td>\n",
       "      <td>...</td>\n",
       "      <td>...</td>\n",
       "      <td>...</td>\n",
       "      <td>...</td>\n",
       "      <td>...</td>\n",
       "      <td>...</td>\n",
       "      <td>...</td>\n",
       "      <td>...</td>\n",
       "      <td>...</td>\n",
       "      <td>...</td>\n",
       "      <td>...</td>\n",
       "      <td>...</td>\n",
       "      <td>...</td>\n",
       "      <td>...</td>\n",
       "      <td>...</td>\n",
       "      <td>...</td>\n",
       "      <td>...</td>\n",
       "      <td>...</td>\n",
       "      <td>...</td>\n",
       "      <td>...</td>\n",
       "      <td>...</td>\n",
       "    </tr>\n",
       "    <tr>\n",
       "      <th>19</th>\n",
       "      <td>45</td>\n",
       "      <td>-0.1336</td>\n",
       "      <td>ok</td>\n",
       "      <td>0.9427</td>\n",
       "      <td>0.7627</td>\n",
       "      <td>0.1336</td>\n",
       "      <td>NaN</td>\n",
       "      <td>NaN</td>\n",
       "      <td>0.1946</td>\n",
       "      <td>NaN</td>\n",
       "      <td>0.0000</td>\n",
       "      <td>1.0000</td>\n",
       "      <td>data</td>\n",
       "      <td>auprc</td>\n",
       "      <td>auprc</td>\n",
       "      <td>model</td>\n",
       "      <td>10</td>\n",
       "      <td>3.4204</td>\n",
       "      <td>True</td>\n",
       "      <td>128</td>\n",
       "      <td>val_loss</td>\n",
       "      <td>150</td>\n",
       "      <td>2</td>\n",
       "      <td>1</td>\n",
       "      <td>NaN</td>\n",
       "      <td>NaN</td>\n",
       "      <td>NaN</td>\n",
       "      <td>0.0002</td>\n",
       "      <td>relu</td>\n",
       "      <td>2.4476e-09</td>\n",
       "      <td>1.7681e-12</td>\n",
       "      <td>NaN</td>\n",
       "      <td>NaN</td>\n",
       "      <td>NaN</td>\n",
       "      <td>add</td>\n",
       "      <td>10</td>\n",
       "      <td>False</td>\n",
       "      <td>False</td>\n",
       "      <td>/s/project/deepcis/hy...</td>\n",
       "      <td>/s/project/deepcis/hy...</td>\n",
       "      <td>39.5799</td>\n",
       "      <td>284.4190</td>\n",
       "      <td>244.8391</td>\n",
       "      <td>2017-04-30 01:13:26.8...</td>\n",
       "      <td>2017-04-30 01:08:42.4...</td>\n",
       "    </tr>\n",
       "    <tr>\n",
       "      <th>721</th>\n",
       "      <td>759</td>\n",
       "      <td>-0.0286</td>\n",
       "      <td>ok</td>\n",
       "      <td>0.9427</td>\n",
       "      <td>0.5000</td>\n",
       "      <td>0.0286</td>\n",
       "      <td>NaN</td>\n",
       "      <td>NaN</td>\n",
       "      <td>0.2195</td>\n",
       "      <td>NaN</td>\n",
       "      <td>0.0000</td>\n",
       "      <td>1.0000</td>\n",
       "      <td>data</td>\n",
       "      <td>auprc</td>\n",
       "      <td>auprc</td>\n",
       "      <td>model</td>\n",
       "      <td>20</td>\n",
       "      <td>6.0460</td>\n",
       "      <td>False</td>\n",
       "      <td>128</td>\n",
       "      <td>val_loss</td>\n",
       "      <td>150</td>\n",
       "      <td>2</td>\n",
       "      <td>1</td>\n",
       "      <td>NaN</td>\n",
       "      <td>NaN</td>\n",
       "      <td>NaN</td>\n",
       "      <td>0.0067</td>\n",
       "      <td>relu</td>\n",
       "      <td>1.3762e-12</td>\n",
       "      <td>7.3917e-07</td>\n",
       "      <td>NaN</td>\n",
       "      <td>NaN</td>\n",
       "      <td>NaN</td>\n",
       "      <td>multiply</td>\n",
       "      <td>20</td>\n",
       "      <td>False</td>\n",
       "      <td>True</td>\n",
       "      <td>/s/project/deepcis/hy...</td>\n",
       "      <td>/s/project/deepcis/hy...</td>\n",
       "      <td>47.9346</td>\n",
       "      <td>94.5748</td>\n",
       "      <td>46.6402</td>\n",
       "      <td>2017-04-30 02:42:27.4...</td>\n",
       "      <td>2017-04-30 02:40:52.8...</td>\n",
       "    </tr>\n",
       "    <tr>\n",
       "      <th>4</th>\n",
       "      <td>9</td>\n",
       "      <td>-0.0286</td>\n",
       "      <td>ok</td>\n",
       "      <td>0.9427</td>\n",
       "      <td>0.5000</td>\n",
       "      <td>0.0286</td>\n",
       "      <td>NaN</td>\n",
       "      <td>NaN</td>\n",
       "      <td>0.2195</td>\n",
       "      <td>NaN</td>\n",
       "      <td>0.0000</td>\n",
       "      <td>1.0000</td>\n",
       "      <td>data</td>\n",
       "      <td>auprc</td>\n",
       "      <td>auprc</td>\n",
       "      <td>model</td>\n",
       "      <td>10</td>\n",
       "      <td>2.4885</td>\n",
       "      <td>True</td>\n",
       "      <td>128</td>\n",
       "      <td>val_loss</td>\n",
       "      <td>150</td>\n",
       "      <td>2</td>\n",
       "      <td>1</td>\n",
       "      <td>NaN</td>\n",
       "      <td>NaN</td>\n",
       "      <td>NaN</td>\n",
       "      <td>0.0052</td>\n",
       "      <td>relu</td>\n",
       "      <td>1.6762e-12</td>\n",
       "      <td>2.1675e-09</td>\n",
       "      <td>NaN</td>\n",
       "      <td>NaN</td>\n",
       "      <td>NaN</td>\n",
       "      <td>multiply</td>\n",
       "      <td>10</td>\n",
       "      <td>True</td>\n",
       "      <td>False</td>\n",
       "      <td>/s/project/deepcis/hy...</td>\n",
       "      <td>/s/project/deepcis/hy...</td>\n",
       "      <td>58.8188</td>\n",
       "      <td>108.9289</td>\n",
       "      <td>50.1102</td>\n",
       "      <td>2017-04-30 01:09:55.7...</td>\n",
       "      <td>2017-04-30 01:08:06.7...</td>\n",
       "    </tr>\n",
       "  </tbody>\n",
       "</table>\n",
       "<p>304 rows × 45 columns</p>\n",
       "</div>"
      ],
      "text/plain": [
       "     tid    loss status  eval.accuracy  eval.auc  eval.auprc  eval.f1  eval.fdr  eval.loss  \\\n",
       "479  517 -0.5956     ok         0.9573    0.9163      0.5956   0.5424    0.2944     0.1260   \n",
       "54    92 -0.5949     ok         0.9574    0.9161      0.5949   0.5236    0.2692     0.1261   \n",
       "197  235 -0.5946     ok         0.9571    0.9155      0.5946   0.5472    0.3044     0.1264   \n",
       "..   ...     ...    ...            ...       ...         ...      ...       ...        ...   \n",
       "19    45 -0.1336     ok         0.9427    0.7627      0.1336      NaN       NaN     0.1946   \n",
       "721  759 -0.0286     ok         0.9427    0.5000      0.0286      NaN       NaN     0.2195   \n",
       "4      9 -0.0286     ok         0.9427    0.5000      0.0286      NaN       NaN     0.2195   \n",
       "\n",
       "     eval.precision  eval.sensitivity  eval.specificity name.data name.loss_metric  \\\n",
       "479          0.7056            0.4449            0.9887      data            auprc   \n",
       "54           0.7308            0.4123            0.9907      data            auprc   \n",
       "197          0.6956            0.4557            0.9878      data            auprc   \n",
       "..              ...               ...               ...       ...              ...   \n",
       "19              NaN            0.0000            1.0000      data            auprc   \n",
       "721             NaN            0.0000            1.0000      data            auprc   \n",
       "4               NaN            0.0000            1.0000      data            auprc   \n",
       "\n",
       "    name.loss_metric_mode name.model  param.data.n_bases  param.data.pos_class_weight  \\\n",
       "479                 auprc      model                  20                    9.1710      \n",
       "54                  auprc      model                  20                    9.7791      \n",
       "197                 auprc      model                  20                    6.8995      \n",
       "..                    ...        ...                 ...                       ...      \n",
       "19                  auprc      model                  10                    3.4204      \n",
       "721                 auprc      model                  20                    6.0460      \n",
       "4                   auprc      model                  10                    2.4885      \n",
       "\n",
       "    param.data.truncate  param.fit.batch_size param.fit.early_stop_monitor  param.fit.epochs  \\\n",
       "479               False                   128                  val_loss                  150   \n",
       "54                False                   128                  val_loss                  150   \n",
       "197               False                   128                  val_loss                  150   \n",
       "..                  ...                   ...                       ...                  ...   \n",
       "19                 True                   128                  val_loss                  150   \n",
       "721               False                   128                  val_loss                  150   \n",
       "4                  True                   128                  val_loss                  150   \n",
       "\n",
       "     param.fit.patience  param.model.filters  param.model.init_motifs  \\\n",
       "479                   2                    1                      NaN   \n",
       "54                    2                    1                      NaN   \n",
       "197                   2                    1                      NaN   \n",
       "..                  ...                  ...                      ...   \n",
       "19                    2                    1                      NaN   \n",
       "721                   2                    1                      NaN   \n",
       "4                     2                    1                      NaN   \n",
       "\n",
       "     param.model.init_motifs.stddev param.model.init_motifs.use_pssm  param.model.lr  \\\n",
       "479                       0.1                            True                 0.0034   \n",
       "54                        0.1                            True                 0.0010   \n",
       "197                       NaN                             NaN                 0.0006   \n",
       "..                        ...                             ...                    ...   \n",
       "19                        NaN                             NaN                 0.0002   \n",
       "721                       NaN                             NaN                 0.0067   \n",
       "4                         NaN                             NaN                 0.0052   \n",
       "\n",
       "    param.model.nonlinearity  param.model.pos_effect.l2  param.model.pos_effect.l2_smooth  \\\n",
       "479                     relu                1.0716e-08                 1.3726e-07           \n",
       "54                      relu                2.7317e-07                 4.7137e-10           \n",
       "197                     relu                3.8046e-08                 2.7554e-10           \n",
       "..                       ...                       ...                        ...           \n",
       "19                      relu                2.4476e-09                 1.7681e-12           \n",
       "721                     relu                1.3762e-12                 7.3917e-07           \n",
       "4                       relu                1.6762e-12                 2.1675e-09           \n",
       "\n",
       "     param.model.pos_effect.merge.hidden_fc  param.model.pos_effect.merge.hidden_fc.dropout_rate  \\\n",
       "479                       NaN                                     NaN                              \n",
       "54                        NaN                                     NaN                              \n",
       "197                       NaN                                     NaN                              \n",
       "..                        ...                                     ...                              \n",
       "19                        NaN                                     NaN                              \n",
       "721                       NaN                                     NaN                              \n",
       "4                         NaN                                     NaN                              \n",
       "\n",
       "     param.model.pos_effect.merge.hidden_fc.n_hidden param.model.pos_effect.merge.type  \\\n",
       "479                       NaN                                      concatenate           \n",
       "54                        NaN                                      concatenate           \n",
       "197                       NaN                                              add           \n",
       "..                        ...                                              ...           \n",
       "19                        NaN                                              add           \n",
       "721                       NaN                                         multiply           \n",
       "4                         NaN                                         multiply           \n",
       "\n",
       "     param.model.pos_effect.n_bases param.model.pos_effect.use_bias param.model.use_weightnorm  \\\n",
       "479                        20                           False                           False    \n",
       "54                         20                            True                           False    \n",
       "197                        20                           False                            True    \n",
       "..                        ...                             ...                             ...    \n",
       "19                         10                           False                           False    \n",
       "721                        20                           False                            True    \n",
       "4                          10                            True                           False    \n",
       "\n",
       "                   path.model              path.results  time.duration.dataload  \\\n",
       "479  /s/project/deepcis/hy...  /s/project/deepcis/hy...                 47.4688   \n",
       "54   /s/project/deepcis/hy...  /s/project/deepcis/hy...                 86.6339   \n",
       "197  /s/project/deepcis/hy...  /s/project/deepcis/hy...                 48.5484   \n",
       "..                        ...                       ...                     ...   \n",
       "19   /s/project/deepcis/hy...  /s/project/deepcis/hy...                 39.5799   \n",
       "721  /s/project/deepcis/hy...  /s/project/deepcis/hy...                 47.9346   \n",
       "4    /s/project/deepcis/hy...  /s/project/deepcis/hy...                 58.8188   \n",
       "\n",
       "     time.duration.total  time.duration.training                  time.end  \\\n",
       "479             120.6594                 73.1906  2017-04-30 02:16:07.0...   \n",
       "54              367.5151                280.8812  2017-04-30 01:21:38.6...   \n",
       "197             181.8019                133.2535  2017-04-30 01:41:14.8...   \n",
       "..                   ...                     ...                       ...   \n",
       "19              284.4190                244.8391  2017-04-30 01:13:26.8...   \n",
       "721              94.5748                 46.6402  2017-04-30 02:42:27.4...   \n",
       "4               108.9289                 50.1102  2017-04-30 01:09:55.7...   \n",
       "\n",
       "                   time.start  \n",
       "479  2017-04-30 02:14:06.3...  \n",
       "54   2017-04-30 01:15:31.1...  \n",
       "197  2017-04-30 01:38:13.0...  \n",
       "..                        ...  \n",
       "19   2017-04-30 01:08:42.4...  \n",
       "721  2017-04-30 02:40:52.8...  \n",
       "4    2017-04-30 01:08:06.7...  \n",
       "\n",
       "[304 rows x 45 columns]"
      ]
     },
     "execution_count": 16,
     "metadata": {},
     "output_type": "execute_result"
    }
   ],
   "source": [
    "df[np.isnan(df[\"param.model.pos_effect.merge.hidden_fc.n_hidden\"])]"
   ]
  },
  {
   "cell_type": "code",
   "execution_count": 23,
   "metadata": {
    "collapsed": false
   },
   "outputs": [
    {
     "data": {
      "text/plain": [
       "{'data': {'n_bases': 20,\n",
       "  'pos_class_weight': 9.171006099308933,\n",
       "  'truncate': False},\n",
       " 'fit': {'batch_size': 128,\n",
       "  'early_stop_monitor': 'val_loss',\n",
       "  'epochs': 150,\n",
       "  'patience': 2},\n",
       " 'model': {'filters': 1,\n",
       "  'init_motifs': {'stddev': 0.1, 'use_pssm': True},\n",
       "  'lr': 0.0034329655705705913,\n",
       "  'nonlinearity': 'relu',\n",
       "  'pos_effect': {'l2': 1.071557178101583e-08,\n",
       "   'l2_smooth': 1.3725606005881432e-07,\n",
       "   'merge': {'hidden_fc': None, 'type': 'concatenate'},\n",
       "   'merge_type': 'multiply',\n",
       "   'n_bases': 20,\n",
       "   'use_bias': False},\n",
       "  'use_weightnorm': False}}"
      ]
     },
     "execution_count": 23,
     "metadata": {},
     "output_type": "execute_result"
    }
   ],
   "source": [
    "TID = 517\n",
    "model_path = df[df[\"tid\"] == TID][\"path.model\"].iloc[0]\n",
    "param = trials.get_param(TID).to_dict()\n",
    "param"
   ]
  },
  {
   "cell_type": "code",
   "execution_count": null,
   "metadata": {
    "collapsed": true
   },
   "outputs": [],
   "source": [
    "m = load_model(model_path)"
   ]
  },
  {
   "cell_type": "code",
   "execution_count": 63,
   "metadata": {
    "collapsed": true
   },
   "outputs": [],
   "source": [
    "train, test = data.data(**param[\"data\"])"
   ]
  },
  {
   "cell_type": "code",
   "execution_count": 64,
   "metadata": {
    "collapsed": false
   },
   "outputs": [
    {
     "data": {
      "text/plain": [
       "(28042, 27, 20)"
      ]
     },
     "execution_count": 64,
     "metadata": {},
     "output_type": "execute_result"
    }
   ],
   "source": [
    "train[0][\"dist1\"].shape"
   ]
  },
  {
   "cell_type": "code",
   "execution_count": 42,
   "metadata": {
    "collapsed": false
   },
   "outputs": [],
   "source": [
    "##m.summary()"
   ]
  },
  {
   "cell_type": "code",
   "execution_count": 65,
   "metadata": {
    "collapsed": false
   },
   "outputs": [
    {
     "data": {
      "image/png": "[encoded data removed]",
      "text/plain": [
       "<matplotlib.figure.Figure at 0x7f56e744fa20>"
      ]
     },
     "metadata": {},
     "output_type": "display_data"
    }
   ],
   "source": [
    "# summarize history for loss\n",
    "score = \"accuracy\"\n",
    "history = trials.train_history(TID)\n",
    "plt.figure(figsize=(15,3))\n",
    "for i, score in enumerate([\"loss\", \"f1\", \"accuracy\"]):\n",
    "    plt.subplot(1,4,i+1)\n",
    "    plt.tight_layout()\n",
    "    plt.plot(history[score], label=\"train\")\n",
    "    plt.plot(history['val_' + score], label=\"validation\")\n",
    "    plt.title(score)\n",
    "    plt.ylabel(score)\n",
    "    plt.xlabel('epoch')\n",
    "    plt.legend(loc='best')"
   ]
  },
  {
   "cell_type": "markdown",
   "metadata": {},
   "source": [
    "### Reproduce valid performance"
   ]
  },
  {
   "cell_type": "code",
   "execution_count": 12,
   "metadata": {
    "collapsed": false
   },
   "outputs": [],
   "source": [
    "from concise.utils.model_data import split_train_test_idx, subset"
   ]
  },
  {
   "cell_type": "code",
   "execution_count": 35,
   "metadata": {
    "collapsed": true
   },
   "outputs": [],
   "source": [
    "from concise.utils.model_data import split_train_test_idx, subset\n",
    "\n",
    "train_idx, valid_idx = split_train_test_idx(train, valid_split=.2, stratified=False, random_state=100)\n",
    "\n",
    "valid = subset(train, valid_idx, keep_other=False)\n",
    "train_train = subset(train, train_idx)"
   ]
  },
  {
   "cell_type": "code",
   "execution_count": 36,
   "metadata": {
    "collapsed": false
   },
   "outputs": [
    {
     "name": "stdout",
     "output_type": "stream",
     "text": [
      "auprc:  0.593139963651\n",
      "auc:  0.914152721571\n"
     ]
    }
   ],
   "source": [
    "y_pred = m.predict(valid[0])\n",
    "y_true = valid[1]\n",
    "print(\"auprc: \", cem.auprc(y_true, y_pred))\n",
    "print(\"auc: \", cem.auc(y_true, y_pred))"
   ]
  },
  {
   "cell_type": "code",
   "execution_count": 37,
   "metadata": {
    "collapsed": false
   },
   "outputs": [
    {
     "name": "stdout",
     "output_type": "stream",
     "text": [
      "f1:  0.541264266901\n"
     ]
    },
    {
     "data": {
      "image/png": "[encoded data removed]",
      "text/plain": [
       "<matplotlib.figure.Figure at 0x7f570c2c81d0>"
      ]
     },
     "metadata": {},
     "output_type": "display_data"
    }
   ],
   "source": [
    "y_true = valid[1]\n",
    "y_pred = m.predict(valid[0])\n",
    "y_true_train = train_train[1]\n",
    "y_pred_train = m.predict(train_train[0])\n",
    "plt.figure(figsize=(6,2.5))\n",
    "plt.subplot(121)\n",
    "plot_roc_curve(y_true_train, y_pred_train, show=False)\n",
    "plot_roc_curve(y_true, y_pred, show=False)\n",
    "plt.legend([\"train\", \"valid\"])\n",
    "plt.tight_layout()\n",
    "plt.subplot(122)\n",
    "plot_pr_curve(y_true_train, y_pred_train, show=False)\n",
    "\n",
    "plot_pr_curve(y_true, y_pred, show=False)\n",
    "plt.legend([\"train\", \"valid\"])\n",
    "plt.tight_layout()\n",
    "print(\"f1: \", cem.f1(y_true, y_pred))"
   ]
  },
  {
   "cell_type": "markdown",
   "metadata": {},
   "source": [
    "### Get test performance"
   ]
  },
  {
   "cell_type": "code",
   "execution_count": 38,
   "metadata": {
    "collapsed": false
   },
   "outputs": [
    {
     "name": "stdout",
     "output_type": "stream",
     "text": [
      "f1:  0.531125978002\n"
     ]
    },
    {
     "data": {
      "image/png": "[encoded data removed]",
      "text/plain": [
       "<matplotlib.figure.Figure at 0x7f593e770780>"
      ]
     },
     "metadata": {},
     "output_type": "display_data"
    }
   ],
   "source": [
    "y_true = test[1]\n",
    "y_pred = m.predict(test[0])\n",
    "plt.figure(figsize=(6,2.5))\n",
    "plt.subplot(121)\n",
    "plot_roc_curve(y_true, y_pred, show=False)\n",
    "plt.tight_layout()\n",
    "plt.subplot(122)\n",
    "plot_pr_curve(y_true, y_pred, show=False)\n",
    "plt.tight_layout()\n",
    "print(\"f1: \", cem.f1(y_true, y_pred))"
   ]
  },
  {
   "cell_type": "markdown",
   "metadata": {},
   "source": [
    "## Export predictions to csv"
   ]
  },
  {
   "cell_type": "code",
   "execution_count": 39,
   "metadata": {
    "collapsed": false
   },
   "outputs": [
    {
     "data": {
      "text/html": [
       "<div>\n",
       "<table border=\"1\" class=\"dataframe\">\n",
       "  <thead>\n",
       "    <tr style=\"text-align: right;\">\n",
       "      <th></th>\n",
       "      <th>y_pred</th>\n",
       "      <th>y_true</th>\n",
       "    </tr>\n",
       "  </thead>\n",
       "  <tbody>\n",
       "    <tr>\n",
       "      <th>88891</th>\n",
       "      <td>0.0000</td>\n",
       "      <td>NEG</td>\n",
       "    </tr>\n",
       "    <tr>\n",
       "      <th>88884</th>\n",
       "      <td>0.0000</td>\n",
       "      <td>NEG</td>\n",
       "    </tr>\n",
       "    <tr>\n",
       "      <th>88885</th>\n",
       "      <td>0.0000</td>\n",
       "      <td>NEG</td>\n",
       "    </tr>\n",
       "    <tr>\n",
       "      <th>...</th>\n",
       "      <td>...</td>\n",
       "      <td>...</td>\n",
       "    </tr>\n",
       "    <tr>\n",
       "      <th>162182</th>\n",
       "      <td>0.9665</td>\n",
       "      <td>HC</td>\n",
       "    </tr>\n",
       "    <tr>\n",
       "      <th>197260</th>\n",
       "      <td>0.9754</td>\n",
       "      <td>HC</td>\n",
       "    </tr>\n",
       "    <tr>\n",
       "      <th>108969</th>\n",
       "      <td>0.9860</td>\n",
       "      <td>HC</td>\n",
       "    </tr>\n",
       "  </tbody>\n",
       "</table>\n",
       "<p>196715 rows × 2 columns</p>\n",
       "</div>"
      ],
      "text/plain": [
       "        y_pred y_true\n",
       "88891   0.0000    NEG\n",
       "88884   0.0000    NEG\n",
       "88885   0.0000    NEG\n",
       "...        ...    ...\n",
       "162182  0.9665     HC\n",
       "197260  0.9754     HC\n",
       "108969  0.9860     HC\n",
       "\n",
       "[196715 rows x 2 columns]"
      ]
     },
     "execution_count": 39,
     "metadata": {},
     "output_type": "execute_result"
    }
   ],
   "source": [
    "dt_pred = pd.DataFrame({\"y_true\": y_true.reshape((-1,)), \"y_pred\": y_pred.reshape((-1,))})\n",
    "dt_pred = dt_pred[dt_pred[\"y_true\"] != -1]\n",
    "dt_pred[\"y_true\"] = np.where(dt_pred[\"y_true\"]== 1, \"HC\", \"NEG\")\n",
    "dt_pred.sort_values(\"y_pred\")"
   ]
  },
  {
   "cell_type": "code",
   "execution_count": 40,
   "metadata": {
    "collapsed": true
   },
   "outputs": [],
   "source": [
    "dt_pred.to_csv(\"/s/project/deepcis/Concise/Splice_branchpoints/test_predictions/concise_shallow.csv\")"
   ]
  },
  {
   "cell_type": "markdown",
   "metadata": {},
   "source": [
    "## Model fitting"
   ]
  },
  {
   "cell_type": "code",
   "execution_count": null,
   "metadata": {
    "collapsed": true
   },
   "outputs": [],
   "source": [
    "m = model.model(**{\"train_data\": train, **param[\"model\"]})\n",
    "\n",
    "cur_model = param2str(param)\n",
    "tb = kc.TensorBoard(log_dir='./logs4/'+ cur_model,\n",
    "                    histogram_freq=0, \n",
    "                    write_graph=False, \n",
    "                    write_images=True)\n",
    "cur_model"
   ]
  },
  {
   "cell_type": "code",
   "execution_count": null,
   "metadata": {
    "collapsed": true
   },
   "outputs": [],
   "source": [
    "sample_weight = np.squeeze(np.where(train[1]==1, param[\"data\"][\"pos_class_weight\"], 1), -1)\n",
    "m.fit(train[0], train[1], epochs=15, \n",
    "      batch_size=128,\n",
    "      sample_weight = sample_weight,\n",
    "      callbacks=[tb])"
   ]
  },
  {
   "cell_type": "markdown",
   "metadata": {},
   "source": [
    "## Model interpretation\n",
    "\n",
    "- **DONE** - download pwm from \n",
    "http://katahdin.mssm.edu/splice/splice_matrix.cgi?database=spliceNew\n",
    "\n",
    "- **TODO** - read - http://www.nature.com.emedien.ub.uni-muenchen.de/nrg/journal/v17/n1/full/nrg.2015.3.html\n",
    "- splice-site fractions: http://katahdin.mssm.edu/splice/splicesites.html\n",
    "   - **U12 = 1%, U2 = 99%**\n",
    "\n",
    "- **DONE** - initialize once only with U2 and then with U12 branchsite\n",
    "0, 1 or 2 branchsite inizialized (use int as the variable) "
   ]
  },
  {
   "cell_type": "code",
   "execution_count": 120,
   "metadata": {
    "collapsed": true
   },
   "outputs": [],
   "source": [
    "bp_freq = np.array([169, 1602, 469, 183800])"
   ]
  },
  {
   "cell_type": "code",
   "execution_count": 121,
   "metadata": {
    "collapsed": false
   },
   "outputs": [
    {
     "data": {
      "text/plain": [
       "array([   169,   1602,    469, 183800])"
      ]
     },
     "execution_count": 121,
     "metadata": {},
     "output_type": "execute_result"
    }
   ],
   "source": [
    "bp_freq"
   ]
  },
  {
   "cell_type": "code",
   "execution_count": 122,
   "metadata": {
    "collapsed": false
   },
   "outputs": [
    {
     "data": {
      "text/plain": [
       "array([ 0.0009,  0.0086,  0.0025,  0.988 ])"
      ]
     },
     "execution_count": 122,
     "metadata": {},
     "output_type": "execute_result"
    }
   ],
   "source": [
    "bp_freq / bp_freq.sum()"
   ]
  },
  {
   "cell_type": "code",
   "execution_count": null,
   "metadata": {
    "collapsed": true
   },
   "outputs": [],
   "source": [
    "sum(bp_freq[[0,2]]) / bp_freq.sum()"
   ]
  },
  {
   "cell_type": "code",
   "execution_count": null,
   "metadata": {
    "collapsed": true
   },
   "outputs": [],
   "source": [
    "sum([169, 1602, 469, 183800])"
   ]
  },
  {
   "cell_type": "markdown",
   "metadata": {},
   "source": [
    "### PWM"
   ]
  },
  {
   "cell_type": "code",
   "execution_count": 57,
   "metadata": {
    "collapsed": false
   },
   "outputs": [
    {
     "name": "stdout",
     "output_type": "stream",
     "text": [
      "filter index: 0\n"
     ]
    },
    {
     "data": {
      "image/png": "[encoded data removed]",
      "text/plain": [
       "<matplotlib.figure.Figure at 0x7f58ac76f7b8>"
      ]
     },
     "metadata": {},
     "output_type": "display_data"
    }
   ],
   "source": [
    "m.layers[10].plotFilters()"
   ]
  },
  {
   "cell_type": "code",
   "execution_count": 58,
   "metadata": {
    "collapsed": false
   },
   "outputs": [
    {
     "data": {
      "image/png": "[encoded data removed]",
      "text/plain": [
       "<matplotlib.figure.Figure at 0x7f583074c2e8>"
      ]
     },
     "metadata": {},
     "output_type": "display_data"
    },
    {
     "data": {
      "image/png": "[encoded data removed]",
      "text/plain": [
       "<matplotlib.figure.Figure at 0x7f583074c0b8>"
      ]
     },
     "metadata": {},
     "output_type": "display_data"
    }
   ],
   "source": [
    "## Aligned positive sequences\n",
    "pwm_list = train[4]\n",
    "pwm_list[0].plotPSSM()\n",
    "pwm_list[0].plotPWM()"
   ]
  },
  {
   "cell_type": "markdown",
   "metadata": {},
   "source": [
    "The two pssm matrices differ slightly but have the same two strong bases 0:A and -2:T."
   ]
  },
  {
   "cell_type": "markdown",
   "metadata": {},
   "source": [
    "### Positional effects"
   ]
  },
  {
   "cell_type": "code",
   "execution_count": 62,
   "metadata": {
    "collapsed": false
   },
   "outputs": [
    {
     "data": {
      "text/plain": [
       "{'data': {'n_bases': 20,\n",
       "  'pos_class_weight': 9.171006099308933,\n",
       "  'truncate': False},\n",
       " 'fit': {'batch_size': 128,\n",
       "  'early_stop_monitor': 'val_loss',\n",
       "  'epochs': 150,\n",
       "  'patience': 2},\n",
       " 'model': {'filters': 1,\n",
       "  'init_motifs': {'stddev': 0.1, 'use_pssm': True},\n",
       "  'lr': 0.0034329655705705913,\n",
       "  'nonlinearity': 'relu',\n",
       "  'pos_effect': {'l2': 1.071557178101583e-08,\n",
       "   'l2_smooth': 1.3725606005881432e-07,\n",
       "   'merge': {'hidden_fc': None, 'type': 'concatenate'},\n",
       "   'merge_type': 'multiply',\n",
       "   'n_bases': 20,\n",
       "   'use_bias': False},\n",
       "  'use_weightnorm': False}}"
      ]
     },
     "execution_count": 62,
     "metadata": {},
     "output_type": "execute_result"
    }
   ],
   "source": [
    "param"
   ]
  },
  {
   "cell_type": "code",
   "execution_count": 71,
   "metadata": {
    "collapsed": false
   },
   "outputs": [
    {
     "data": {
      "text/plain": [
       "{'canon_hit1': {'max': 132.0, 'min': 1.0},\n",
       " 'canon_hit2': {'max': 196.0, 'min': 3.0},\n",
       " 'canon_hit3': {'max': 216.0, 'min': 5.0},\n",
       " 'canon_hit4': {'max': 300.0, 'min': 7.0},\n",
       " 'canon_hit5': {'max': 300.0, 'min': 10.0},\n",
       " 'dist1': {'max': 278852.0, 'min': -20.0},\n",
       " 'dist2': {'max': 44.0, 'min': 18.0},\n",
       " 'ppt_run_length': {'max': 43.0, 'min': 0.0},\n",
       " 'ppt_start': {'max': 36.0, 'min': 0.0}}"
      ]
     },
     "execution_count": 71,
     "metadata": {},
     "output_type": "execute_result"
    }
   ],
   "source": [
    "position_stats = train[5]\n",
    "position_stats"
   ]
  },
  {
   "cell_type": "code",
   "execution_count": 61,
   "metadata": {
    "collapsed": true
   },
   "outputs": [],
   "source": [
    "from concise.utils.splines import BSpline\n",
    "#def plot_position(weights, x_train):\n",
    "# start = np.nanmin(x)\n",
    "# end = np.nanmax(x)\n",
    "start = 0\n",
    "end = 1\n",
    "bs = BSpline(start, end, n_bases=param[\"data\"][\"n_bases\"])\n",
    "x_range = np.arange(start, end, (end-start) / 100)\n",
    "X_pred = bs.predict(x_range)"
   ]
  },
  {
   "cell_type": "code",
   "execution_count": 49,
   "metadata": {
    "collapsed": false
   },
   "outputs": [
    {
     "data": {
      "text/plain": [
       "['dist1',\n",
       " 'dist2',\n",
       " 'ppt_start',\n",
       " 'ppt_run_length',\n",
       " 'canon_hit1',\n",
       " 'canon_hit2',\n",
       " 'canon_hit3',\n",
       " 'canon_hit4',\n",
       " 'canon_hit5']"
      ]
     },
     "execution_count": 49,
     "metadata": {},
     "output_type": "execute_result"
    }
   ],
   "source": [
    "train[3]"
   ]
  },
  {
   "cell_type": "markdown",
   "metadata": {},
   "source": [
    "- [ ] **TODO** - add the appropriate x, y ranges\n",
    "- [ ] **TODO** - get the final weight values ( after concat)\n",
    "- [ ] **TODO** - make the fraction plots in numpy?"
   ]
  },
  {
   "cell_type": "code",
   "execution_count": 93,
   "metadata": {
    "collapsed": false
   },
   "outputs": [],
   "source": [
    "w_final = m.layers[-1].get_weights()[0][0,:, 0]"
   ]
  },
  {
   "cell_type": "code",
   "execution_count": 96,
   "metadata": {
    "collapsed": false
   },
   "outputs": [
    {
     "data": {
      "text/plain": [
       "array([ 1.0761, -1.5576,  1.4698, -0.8619, -0.7967, -1.6362, -1.2261, -0.7655, -0.6297,  0.6946], dtype=float32)"
      ]
     },
     "execution_count": 96,
     "metadata": {},
     "output_type": "execute_result"
    }
   ],
   "source": [
    "w_final"
   ]
  },
  {
   "cell_type": "code",
   "execution_count": 105,
   "metadata": {
    "collapsed": true
   },
   "outputs": [],
   "source": [
    "## TODO - add horizontal line at 0"
   ]
  },
  {
   "cell_type": "code",
   "execution_count": 106,
   "metadata": {
    "collapsed": true
   },
   "outputs": [],
   "source": [
    "## TODO - plot y on the logit scale?"
   ]
  },
  {
   "cell_type": "code",
   "execution_count": 114,
   "metadata": {
    "collapsed": true
   },
   "outputs": [],
   "source": [
    "def sigm(x):\n",
    "    return 1 / (1 + np.exp(-x))"
   ]
  },
  {
   "cell_type": "code",
   "execution_count": 118,
   "metadata": {
    "collapsed": false
   },
   "outputs": [
    {
     "data": {
      "image/png": "[encoded data removed]",
      "text/plain": [
       "<matplotlib.figure.Figure at 0x7f580c799b70>"
      ]
     },
     "metadata": {},
     "output_type": "display_data"
    }
   ],
   "source": [
    "plt.figure(figsize=(15,6))\n",
    "for i, l  in enumerate(train[3]):\n",
    "    layer = m.get_layer(l + \"_conv\")\n",
    "    w = layer.get_weights()[0].reshape((-1,))\n",
    "    y_pred = np.dot(X_pred, w) * w_final[i + 1]\n",
    "    plt.subplot(3,3,i+1)\n",
    "    plt.tight_layout()\n",
    "    plt.plot(x_range, sigm(y_pred))\n",
    "    #plt.plot(x_range, y_pred)\n",
    "    plt.title(l)"
   ]
  },
  {
   "cell_type": "code",
   "execution_count": 65,
   "metadata": {
    "collapsed": false
   },
   "outputs": [
    {
     "data": {
      "image/png": "[encoded data removed]",
      "text/plain": [
       "<matplotlib.figure.Figure at 0x7f56e744fa20>"
      ]
     },
     "metadata": {},
     "output_type": "display_data"
    }
   ],
   "source": [
    "# summarize history for loss\n",
    "score = \"accuracy\"\n",
    "history = trials.train_history(TID)\n",
    "plt.figure(figsize=(15,3))\n",
    "for i, score in enumerate([\"loss\", \"f1\", \"accuracy\"]):\n",
    "    plt.subplot(1,4,i+1)\n",
    "    plt.tight_layout()\n",
    "    plt.plot(history[score], label=\"train\")\n",
    "    plt.plot(history['val_' + score], label=\"validation\")\n",
    "    plt.title(score)\n",
    "    plt.ylabel(score)\n",
    "    plt.xlabel('epoch')\n",
    "    plt.legend(loc='best')"
   ]
  }
 ],
 "metadata": {
  "anaconda-cloud": {},
  "kernelspec": {
   "display_name": "Python [default]",
   "language": "python",
   "name": "python3"
  },
  "language_info": {
   "codemirror_mode": {
    "name": "ipython",
    "version": 3
   },
   "file_extension": ".py",
   "mimetype": "text/x-python",
   "name": "python",
   "nbconvert_exporter": "python",
   "pygments_lexer": "ipython3",
   "version": "3.5.2"
  }
 },
 "nbformat": 4,
 "nbformat_minor": 0
}
