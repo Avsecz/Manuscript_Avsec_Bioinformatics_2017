{
 "cells": [
  {
   "cell_type": "markdown",
   "metadata": {},
   "source": [
    "## Goal - study initialization\n",
    "\n",
    "- [issue link](https://i12g-gagneurweb.informatik.tu-muenchen.de/gitlab/avsec/deepcis/issues/51), see plot c)\n",
    "\n",
    "## Tasks\n",
    "\n",
    "**Overall goal:** fit and interpret the values for: pwm init, random init, freezed pwm init \n",
    "\n",
    "- **Write the section titles**\n",
    "- setup the param describing data and global model configuration\n",
    "- for each of the models, specify the model config (edit the param[\"model\"])\n",
    "- get the data\n",
    "- for a single case, go through the whole pipeline\n",
    "   - save loss curves and evaluate the model at the end\n",
    "- run: for each of the experiments, run the optimization 10 times\n",
    "- plot the loss curves (maybe use ribbons to display them all)\n",
    "- plot the resulting motifs\n",
    "\n",
    "## Concerns\n",
    "\n",
    "- since the signal in the data is so strong, fitting will always work\n",
    "\n",
    "## Questions\n",
    "\n",
    "- how many filters to use?\n",
    "    - {1, 10}?"
   ]
  }
 ],
 "metadata": {
  "anaconda-cloud": {},
  "kernelspec": {
   "display_name": "Python [default]",
   "language": "python",
   "name": "python3"
  },
  "language_info": {
   "codemirror_mode": {
    "name": "ipython",
    "version": 3
   },
   "file_extension": ".py",
   "mimetype": "text/x-python",
   "name": "python",
   "nbconvert_exporter": "python",
   "pygments_lexer": "ipython3",
   "version": "3.5.2"
  }
 },
 "nbformat": 4,
 "nbformat_minor": 0
}
