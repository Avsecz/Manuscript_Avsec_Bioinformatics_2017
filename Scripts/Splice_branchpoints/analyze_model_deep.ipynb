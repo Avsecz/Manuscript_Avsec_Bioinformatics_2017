{
 "cells": [
  {
   "cell_type": "markdown",
   "metadata": {},
   "source": [
    "## Analyze trials"
   ]
  },
  {
   "cell_type": "code",
   "execution_count": 325,
   "metadata": {
    "collapsed": false
   },
   "outputs": [
    {
     "name": "stdout",
     "output_type": "stream",
     "text": [
      "The autoreload extension is already loaded. To reload it, use:\n",
      "  %reload_ext autoreload\n"
     ]
    }
   ],
   "source": [
    "%load_ext autoreload\n",
    "%autoreload 2\n",
    "%matplotlib inline\n",
    "import matplotlib.pyplot as plt\n",
    "from concise.hyopt import CompileFN, CMongoTrials, test_fn\n",
    "import numpy as np\n",
    "import pandas as ps\n",
    "from keras.models import load_model\n",
    "import sklearn.metrics as skm\n",
    "import concise.eval_metrics as cem\n",
    "import keras.callbacks as kc\n",
    "import data\n",
    "import model\n",
    "from helper import *\n",
    "\n",
    "DB_NAME = \"Concise__Splice_branchpoints\"\n",
    "exp_name = \"model_deep\"\n"
   ]
  },
  {
   "cell_type": "code",
   "execution_count": 281,
   "metadata": {
    "collapsed": false
   },
   "outputs": [],
   "source": [
    "trials = CMongoTrials(DB_NAME, exp_name, kill_timeout=30 * 60)"
   ]
  },
  {
   "cell_type": "code",
   "execution_count": 282,
   "metadata": {
    "collapsed": false
   },
   "outputs": [
    {
     "data": {
      "text/html": [
       "<div>\n",
       "<table border=\"1\" class=\"dataframe\">\n",
       "  <thead>\n",
       "    <tr style=\"text-align: right;\">\n",
       "      <th></th>\n",
       "      <th>tid</th>\n",
       "      <th>loss</th>\n",
       "      <th>status</th>\n",
       "      <th>eval.accuracy</th>\n",
       "      <th>eval.auc</th>\n",
       "      <th>eval.auprc</th>\n",
       "      <th>eval.f1</th>\n",
       "      <th>eval.fdr</th>\n",
       "      <th>eval.loss</th>\n",
       "      <th>eval.precision</th>\n",
       "      <th>eval.sensitivity</th>\n",
       "      <th>eval.specificity</th>\n",
       "      <th>name.data</th>\n",
       "      <th>name.loss_metric</th>\n",
       "      <th>name.loss_metric_mode</th>\n",
       "      <th>name.model</th>\n",
       "      <th>param.data.n_bases</th>\n",
       "      <th>param.data.pos_class_weight</th>\n",
       "      <th>param.data.truncate</th>\n",
       "      <th>param.fit.batch_size</th>\n",
       "      <th>param.fit.early_stop_monitor</th>\n",
       "      <th>param.fit.epochs</th>\n",
       "      <th>param.fit.patience</th>\n",
       "      <th>param.model.filters</th>\n",
       "      <th>param.model.init_motifs</th>\n",
       "      <th>param.model.lr</th>\n",
       "      <th>param.model.nonlinearity</th>\n",
       "      <th>param.model.pos_effect.l2</th>\n",
       "      <th>param.model.pos_effect.l2_smooth</th>\n",
       "      <th>param.model.pos_effect.merge.hidden_fc.activation</th>\n",
       "      <th>param.model.pos_effect.merge.hidden_fc.dropout_rate</th>\n",
       "      <th>param.model.pos_effect.merge.hidden_fc.n_hidden</th>\n",
       "      <th>param.model.pos_effect.merge.hidden_fc.n_layers</th>\n",
       "      <th>param.model.pos_effect.merge.type</th>\n",
       "      <th>param.model.pos_effect.n_bases</th>\n",
       "      <th>param.model.pos_effect.use_bias</th>\n",
       "      <th>path.model</th>\n",
       "      <th>path.results</th>\n",
       "      <th>time.duration.dataload</th>\n",
       "      <th>time.duration.total</th>\n",
       "      <th>time.duration.training</th>\n",
       "      <th>time.end</th>\n",
       "      <th>time.start</th>\n",
       "    </tr>\n",
       "  </thead>\n",
       "  <tbody>\n",
       "    <tr>\n",
       "      <th>589</th>\n",
       "      <td>1704</td>\n",
       "      <td>-0.6795</td>\n",
       "      <td>ok</td>\n",
       "      <td>0.9617</td>\n",
       "      <td>0.9481</td>\n",
       "      <td>0.6795</td>\n",
       "      <td>0.5824</td>\n",
       "      <td>0.2187</td>\n",
       "      <td>0.1087</td>\n",
       "      <td>0.7813</td>\n",
       "      <td>0.4701</td>\n",
       "      <td>0.9919</td>\n",
       "      <td>data</td>\n",
       "      <td>auprc</td>\n",
       "      <td>auprc</td>\n",
       "      <td>model</td>\n",
       "      <td>30</td>\n",
       "      <td>2.0</td>\n",
       "      <td>True</td>\n",
       "      <td>128</td>\n",
       "      <td>val_loss</td>\n",
       "      <td>150</td>\n",
       "      <td>4</td>\n",
       "      <td>120</td>\n",
       "      <td>None</td>\n",
       "      <td>0.0018</td>\n",
       "      <td>relu</td>\n",
       "      <td>0</td>\n",
       "      <td>1.8044e-13</td>\n",
       "      <td>relu</td>\n",
       "      <td>0.2222</td>\n",
       "      <td>70</td>\n",
       "      <td>2</td>\n",
       "      <td>concatenate</td>\n",
       "      <td>30</td>\n",
       "      <td>False</td>\n",
       "      <td>/s/project/deepcis/hy...</td>\n",
       "      <td>/s/project/deepcis/hy...</td>\n",
       "      <td>55.4963</td>\n",
       "      <td>285.6366</td>\n",
       "      <td>230.1403</td>\n",
       "      <td>2017-05-01 10:03:18.1...</td>\n",
       "      <td>2017-05-01 09:58:32.5...</td>\n",
       "    </tr>\n",
       "    <tr>\n",
       "      <th>939</th>\n",
       "      <td>2058</td>\n",
       "      <td>-0.6794</td>\n",
       "      <td>ok</td>\n",
       "      <td>0.9619</td>\n",
       "      <td>0.9472</td>\n",
       "      <td>0.6794</td>\n",
       "      <td>0.5873</td>\n",
       "      <td>0.2207</td>\n",
       "      <td>0.1098</td>\n",
       "      <td>0.7793</td>\n",
       "      <td>0.4768</td>\n",
       "      <td>0.9917</td>\n",
       "      <td>data</td>\n",
       "      <td>auprc</td>\n",
       "      <td>auprc</td>\n",
       "      <td>model</td>\n",
       "      <td>30</td>\n",
       "      <td>2.0</td>\n",
       "      <td>True</td>\n",
       "      <td>128</td>\n",
       "      <td>val_loss</td>\n",
       "      <td>150</td>\n",
       "      <td>4</td>\n",
       "      <td>120</td>\n",
       "      <td>None</td>\n",
       "      <td>0.0009</td>\n",
       "      <td>relu</td>\n",
       "      <td>0</td>\n",
       "      <td>6.5912e-16</td>\n",
       "      <td>relu</td>\n",
       "      <td>0.3178</td>\n",
       "      <td>70</td>\n",
       "      <td>2</td>\n",
       "      <td>concatenate</td>\n",
       "      <td>30</td>\n",
       "      <td>False</td>\n",
       "      <td>/s/project/deepcis/hy...</td>\n",
       "      <td>/s/project/deepcis/hy...</td>\n",
       "      <td>55.8533</td>\n",
       "      <td>429.8302</td>\n",
       "      <td>373.9769</td>\n",
       "      <td>2017-05-01 15:47:45.9...</td>\n",
       "      <td>2017-05-01 15:40:36.1...</td>\n",
       "    </tr>\n",
       "    <tr>\n",
       "      <th>599</th>\n",
       "      <td>1718</td>\n",
       "      <td>-0.6792</td>\n",
       "      <td>ok</td>\n",
       "      <td>0.9616</td>\n",
       "      <td>0.9476</td>\n",
       "      <td>0.6792</td>\n",
       "      <td>0.5804</td>\n",
       "      <td>0.2171</td>\n",
       "      <td>0.1080</td>\n",
       "      <td>0.7829</td>\n",
       "      <td>0.4660</td>\n",
       "      <td>0.9920</td>\n",
       "      <td>data</td>\n",
       "      <td>auprc</td>\n",
       "      <td>auprc</td>\n",
       "      <td>model</td>\n",
       "      <td>30</td>\n",
       "      <td>2.0</td>\n",
       "      <td>True</td>\n",
       "      <td>128</td>\n",
       "      <td>val_loss</td>\n",
       "      <td>150</td>\n",
       "      <td>4</td>\n",
       "      <td>120</td>\n",
       "      <td>None</td>\n",
       "      <td>0.0026</td>\n",
       "      <td>relu</td>\n",
       "      <td>0</td>\n",
       "      <td>1.2122e-13</td>\n",
       "      <td>relu</td>\n",
       "      <td>0.2681</td>\n",
       "      <td>70</td>\n",
       "      <td>2</td>\n",
       "      <td>concatenate</td>\n",
       "      <td>30</td>\n",
       "      <td>False</td>\n",
       "      <td>/s/project/deepcis/hy...</td>\n",
       "      <td>/s/project/deepcis/hy...</td>\n",
       "      <td>56.2211</td>\n",
       "      <td>307.0460</td>\n",
       "      <td>250.8249</td>\n",
       "      <td>2017-05-01 10:09:05.5...</td>\n",
       "      <td>2017-05-01 10:03:58.4...</td>\n",
       "    </tr>\n",
       "    <tr>\n",
       "      <th>443</th>\n",
       "      <td>1525</td>\n",
       "      <td>-0.6792</td>\n",
       "      <td>ok</td>\n",
       "      <td>0.9613</td>\n",
       "      <td>0.9486</td>\n",
       "      <td>0.6792</td>\n",
       "      <td>0.5546</td>\n",
       "      <td>0.1787</td>\n",
       "      <td>0.1094</td>\n",
       "      <td>0.8213</td>\n",
       "      <td>0.4238</td>\n",
       "      <td>0.9943</td>\n",
       "      <td>data</td>\n",
       "      <td>auprc</td>\n",
       "      <td>auprc</td>\n",
       "      <td>model</td>\n",
       "      <td>30</td>\n",
       "      <td>2.0</td>\n",
       "      <td>True</td>\n",
       "      <td>128</td>\n",
       "      <td>val_loss</td>\n",
       "      <td>150</td>\n",
       "      <td>4</td>\n",
       "      <td>120</td>\n",
       "      <td>None</td>\n",
       "      <td>0.0021</td>\n",
       "      <td>relu</td>\n",
       "      <td>0</td>\n",
       "      <td>8.7263e-18</td>\n",
       "      <td>relu</td>\n",
       "      <td>0.4771</td>\n",
       "      <td>70</td>\n",
       "      <td>2</td>\n",
       "      <td>concatenate</td>\n",
       "      <td>30</td>\n",
       "      <td>False</td>\n",
       "      <td>/s/project/deepcis/hy...</td>\n",
       "      <td>/s/project/deepcis/hy...</td>\n",
       "      <td>56.4571</td>\n",
       "      <td>310.3179</td>\n",
       "      <td>253.8608</td>\n",
       "      <td>2017-05-01 00:17:33.0...</td>\n",
       "      <td>2017-05-01 00:12:22.7...</td>\n",
       "    </tr>\n",
       "    <tr>\n",
       "      <th>909</th>\n",
       "      <td>2028</td>\n",
       "      <td>-0.6792</td>\n",
       "      <td>ok</td>\n",
       "      <td>0.9619</td>\n",
       "      <td>0.9482</td>\n",
       "      <td>0.6792</td>\n",
       "      <td>0.5877</td>\n",
       "      <td>0.2187</td>\n",
       "      <td>0.1081</td>\n",
       "      <td>0.7813</td>\n",
       "      <td>0.4762</td>\n",
       "      <td>0.9918</td>\n",
       "      <td>data</td>\n",
       "      <td>auprc</td>\n",
       "      <td>auprc</td>\n",
       "      <td>model</td>\n",
       "      <td>30</td>\n",
       "      <td>2.0</td>\n",
       "      <td>True</td>\n",
       "      <td>128</td>\n",
       "      <td>val_loss</td>\n",
       "      <td>150</td>\n",
       "      <td>4</td>\n",
       "      <td>120</td>\n",
       "      <td>None</td>\n",
       "      <td>0.0006</td>\n",
       "      <td>relu</td>\n",
       "      <td>0</td>\n",
       "      <td>6.2145e-15</td>\n",
       "      <td>relu</td>\n",
       "      <td>0.3107</td>\n",
       "      <td>70</td>\n",
       "      <td>2</td>\n",
       "      <td>concatenate</td>\n",
       "      <td>30</td>\n",
       "      <td>False</td>\n",
       "      <td>/s/project/deepcis/hy...</td>\n",
       "      <td>/s/project/deepcis/hy...</td>\n",
       "      <td>56.4162</td>\n",
       "      <td>407.3404</td>\n",
       "      <td>350.9241</td>\n",
       "      <td>2017-05-01 11:38:03.1...</td>\n",
       "      <td>2017-05-01 11:31:15.7...</td>\n",
       "    </tr>\n",
       "    <tr>\n",
       "      <th>732</th>\n",
       "      <td>1851</td>\n",
       "      <td>-0.6792</td>\n",
       "      <td>ok</td>\n",
       "      <td>0.9617</td>\n",
       "      <td>0.9478</td>\n",
       "      <td>0.6792</td>\n",
       "      <td>0.5751</td>\n",
       "      <td>0.2064</td>\n",
       "      <td>0.1090</td>\n",
       "      <td>0.7936</td>\n",
       "      <td>0.4562</td>\n",
       "      <td>0.9927</td>\n",
       "      <td>data</td>\n",
       "      <td>auprc</td>\n",
       "      <td>auprc</td>\n",
       "      <td>model</td>\n",
       "      <td>20</td>\n",
       "      <td>2.0</td>\n",
       "      <td>True</td>\n",
       "      <td>128</td>\n",
       "      <td>val_loss</td>\n",
       "      <td>150</td>\n",
       "      <td>4</td>\n",
       "      <td>120</td>\n",
       "      <td>None</td>\n",
       "      <td>0.0020</td>\n",
       "      <td>relu</td>\n",
       "      <td>0</td>\n",
       "      <td>3.7560e-15</td>\n",
       "      <td>relu</td>\n",
       "      <td>0.3347</td>\n",
       "      <td>70</td>\n",
       "      <td>2</td>\n",
       "      <td>concatenate</td>\n",
       "      <td>20</td>\n",
       "      <td>False</td>\n",
       "      <td>/s/project/deepcis/hy...</td>\n",
       "      <td>/s/project/deepcis/hy...</td>\n",
       "      <td>77.4000</td>\n",
       "      <td>417.1731</td>\n",
       "      <td>339.7730</td>\n",
       "      <td>2017-05-01 10:48:09.9...</td>\n",
       "      <td>2017-05-01 10:41:12.8...</td>\n",
       "    </tr>\n",
       "    <tr>\n",
       "      <th>413</th>\n",
       "      <td>1495</td>\n",
       "      <td>-0.6791</td>\n",
       "      <td>ok</td>\n",
       "      <td>0.9615</td>\n",
       "      <td>0.9483</td>\n",
       "      <td>0.6791</td>\n",
       "      <td>0.5861</td>\n",
       "      <td>0.2304</td>\n",
       "      <td>0.1095</td>\n",
       "      <td>0.7696</td>\n",
       "      <td>0.4781</td>\n",
       "      <td>0.9912</td>\n",
       "      <td>data</td>\n",
       "      <td>auprc</td>\n",
       "      <td>auprc</td>\n",
       "      <td>model</td>\n",
       "      <td>30</td>\n",
       "      <td>2.0</td>\n",
       "      <td>True</td>\n",
       "      <td>128</td>\n",
       "      <td>val_loss</td>\n",
       "      <td>150</td>\n",
       "      <td>4</td>\n",
       "      <td>120</td>\n",
       "      <td>None</td>\n",
       "      <td>0.0015</td>\n",
       "      <td>relu</td>\n",
       "      <td>0</td>\n",
       "      <td>1.4277e-15</td>\n",
       "      <td>relu</td>\n",
       "      <td>0.4504</td>\n",
       "      <td>70</td>\n",
       "      <td>2</td>\n",
       "      <td>concatenate</td>\n",
       "      <td>30</td>\n",
       "      <td>False</td>\n",
       "      <td>/s/project/deepcis/hy...</td>\n",
       "      <td>/s/project/deepcis/hy...</td>\n",
       "      <td>88.1476</td>\n",
       "      <td>450.1160</td>\n",
       "      <td>361.9684</td>\n",
       "      <td>2017-05-01 00:10:01.0...</td>\n",
       "      <td>2017-05-01 00:02:30.9...</td>\n",
       "    </tr>\n",
       "  </tbody>\n",
       "</table>\n",
       "</div>"
      ],
      "text/plain": [
       "      tid    loss status  eval.accuracy  eval.auc  eval.auprc  eval.f1  eval.fdr  eval.loss  \\\n",
       "589  1704 -0.6795     ok         0.9617    0.9481      0.6795   0.5824    0.2187     0.1087   \n",
       "939  2058 -0.6794     ok         0.9619    0.9472      0.6794   0.5873    0.2207     0.1098   \n",
       "599  1718 -0.6792     ok         0.9616    0.9476      0.6792   0.5804    0.2171     0.1080   \n",
       "443  1525 -0.6792     ok         0.9613    0.9486      0.6792   0.5546    0.1787     0.1094   \n",
       "909  2028 -0.6792     ok         0.9619    0.9482      0.6792   0.5877    0.2187     0.1081   \n",
       "732  1851 -0.6792     ok         0.9617    0.9478      0.6792   0.5751    0.2064     0.1090   \n",
       "413  1495 -0.6791     ok         0.9615    0.9483      0.6791   0.5861    0.2304     0.1095   \n",
       "\n",
       "     eval.precision  eval.sensitivity  eval.specificity name.data name.loss_metric  \\\n",
       "589          0.7813            0.4701            0.9919      data            auprc   \n",
       "939          0.7793            0.4768            0.9917      data            auprc   \n",
       "599          0.7829            0.4660            0.9920      data            auprc   \n",
       "443          0.8213            0.4238            0.9943      data            auprc   \n",
       "909          0.7813            0.4762            0.9918      data            auprc   \n",
       "732          0.7936            0.4562            0.9927      data            auprc   \n",
       "413          0.7696            0.4781            0.9912      data            auprc   \n",
       "\n",
       "    name.loss_metric_mode name.model  param.data.n_bases  param.data.pos_class_weight  \\\n",
       "589                 auprc      model                  30                       2.0      \n",
       "939                 auprc      model                  30                       2.0      \n",
       "599                 auprc      model                  30                       2.0      \n",
       "443                 auprc      model                  30                       2.0      \n",
       "909                 auprc      model                  30                       2.0      \n",
       "732                 auprc      model                  20                       2.0      \n",
       "413                 auprc      model                  30                       2.0      \n",
       "\n",
       "    param.data.truncate  param.fit.batch_size param.fit.early_stop_monitor  param.fit.epochs  \\\n",
       "589                True                   128                  val_loss                  150   \n",
       "939                True                   128                  val_loss                  150   \n",
       "599                True                   128                  val_loss                  150   \n",
       "443                True                   128                  val_loss                  150   \n",
       "909                True                   128                  val_loss                  150   \n",
       "732                True                   128                  val_loss                  150   \n",
       "413                True                   128                  val_loss                  150   \n",
       "\n",
       "     param.fit.patience  param.model.filters param.model.init_motifs  param.model.lr  \\\n",
       "589                   4                  120                    None          0.0018   \n",
       "939                   4                  120                    None          0.0009   \n",
       "599                   4                  120                    None          0.0026   \n",
       "443                   4                  120                    None          0.0021   \n",
       "909                   4                  120                    None          0.0006   \n",
       "732                   4                  120                    None          0.0020   \n",
       "413                   4                  120                    None          0.0015   \n",
       "\n",
       "    param.model.nonlinearity  param.model.pos_effect.l2  param.model.pos_effect.l2_smooth  \\\n",
       "589                     relu                         0                 1.8044e-13           \n",
       "939                     relu                         0                 6.5912e-16           \n",
       "599                     relu                         0                 1.2122e-13           \n",
       "443                     relu                         0                 8.7263e-18           \n",
       "909                     relu                         0                 6.2145e-15           \n",
       "732                     relu                         0                 3.7560e-15           \n",
       "413                     relu                         0                 1.4277e-15           \n",
       "\n",
       "    param.model.pos_effect.merge.hidden_fc.activation  \\\n",
       "589                      relu                           \n",
       "939                      relu                           \n",
       "599                      relu                           \n",
       "443                      relu                           \n",
       "909                      relu                           \n",
       "732                      relu                           \n",
       "413                      relu                           \n",
       "\n",
       "     param.model.pos_effect.merge.hidden_fc.dropout_rate  \\\n",
       "589                    0.2222                              \n",
       "939                    0.3178                              \n",
       "599                    0.2681                              \n",
       "443                    0.4771                              \n",
       "909                    0.3107                              \n",
       "732                    0.3347                              \n",
       "413                    0.4504                              \n",
       "\n",
       "     param.model.pos_effect.merge.hidden_fc.n_hidden  \\\n",
       "589                        70                          \n",
       "939                        70                          \n",
       "599                        70                          \n",
       "443                        70                          \n",
       "909                        70                          \n",
       "732                        70                          \n",
       "413                        70                          \n",
       "\n",
       "     param.model.pos_effect.merge.hidden_fc.n_layers param.model.pos_effect.merge.type  \\\n",
       "589                         2                                      concatenate           \n",
       "939                         2                                      concatenate           \n",
       "599                         2                                      concatenate           \n",
       "443                         2                                      concatenate           \n",
       "909                         2                                      concatenate           \n",
       "732                         2                                      concatenate           \n",
       "413                         2                                      concatenate           \n",
       "\n",
       "     param.model.pos_effect.n_bases param.model.pos_effect.use_bias                path.model  \\\n",
       "589                        30                           False        /s/project/deepcis/hy...   \n",
       "939                        30                           False        /s/project/deepcis/hy...   \n",
       "599                        30                           False        /s/project/deepcis/hy...   \n",
       "443                        30                           False        /s/project/deepcis/hy...   \n",
       "909                        30                           False        /s/project/deepcis/hy...   \n",
       "732                        20                           False        /s/project/deepcis/hy...   \n",
       "413                        30                           False        /s/project/deepcis/hy...   \n",
       "\n",
       "                 path.results  time.duration.dataload  time.duration.total  \\\n",
       "589  /s/project/deepcis/hy...                 55.4963             285.6366   \n",
       "939  /s/project/deepcis/hy...                 55.8533             429.8302   \n",
       "599  /s/project/deepcis/hy...                 56.2211             307.0460   \n",
       "443  /s/project/deepcis/hy...                 56.4571             310.3179   \n",
       "909  /s/project/deepcis/hy...                 56.4162             407.3404   \n",
       "732  /s/project/deepcis/hy...                 77.4000             417.1731   \n",
       "413  /s/project/deepcis/hy...                 88.1476             450.1160   \n",
       "\n",
       "     time.duration.training                  time.end                time.start  \n",
       "589                230.1403  2017-05-01 10:03:18.1...  2017-05-01 09:58:32.5...  \n",
       "939                373.9769  2017-05-01 15:47:45.9...  2017-05-01 15:40:36.1...  \n",
       "599                250.8249  2017-05-01 10:09:05.5...  2017-05-01 10:03:58.4...  \n",
       "443                253.8608  2017-05-01 00:17:33.0...  2017-05-01 00:12:22.7...  \n",
       "909                350.9241  2017-05-01 11:38:03.1...  2017-05-01 11:31:15.7...  \n",
       "732                339.7730  2017-05-01 10:48:09.9...  2017-05-01 10:41:12.8...  \n",
       "413                361.9684  2017-05-01 00:10:01.0...  2017-05-01 00:02:30.9...  "
      ]
     },
     "execution_count": 282,
     "metadata": {},
     "output_type": "execute_result"
    }
   ],
   "source": [
    "df = trials.as_df().sort_values(\"eval.auprc\", ascending=False)\n",
    "df.head(7)"
   ]
  },
  {
   "cell_type": "code",
   "execution_count": 263,
   "metadata": {
    "collapsed": true
   },
   "outputs": [],
   "source": [
    "TID = 1704"
   ]
  },
  {
   "cell_type": "code",
   "execution_count": 264,
   "metadata": {
    "collapsed": false
   },
   "outputs": [],
   "source": [
    "model_path = df[df[\"tid\"] == TID][\"path.model\"].iloc[0]\n",
    "m = load_model(model_path)"
   ]
  },
  {
   "cell_type": "code",
   "execution_count": 265,
   "metadata": {
    "collapsed": true
   },
   "outputs": [
    {
     "data": {
      "text/plain": [
       "{'data': {'n_bases': 30, 'pos_class_weight': 2.0, 'truncate': True},\n",
       " 'fit': {'batch_size': 128,\n",
       "  'early_stop_monitor': 'val_loss',\n",
       "  'epochs': 150,\n",
       "  'patience': 4},\n",
       " 'model': {'filters': 120,\n",
       "  'init_motifs': None,\n",
       "  'lr': 0.0018083393108468257,\n",
       "  'nonlinearity': 'relu',\n",
       "  'pos_effect': {'l2': 0,\n",
       "   'l2_smooth': 1.8043779896824148e-13,\n",
       "   'merge': {'hidden_fc': {'activation': 'relu',\n",
       "     'dropout_rate': 0.22224175847973257,\n",
       "     'n_hidden': 70,\n",
       "     'n_layers': 2},\n",
       "    'type': 'concatenate'},\n",
       "   'n_bases': 30,\n",
       "   'use_bias': False}}}"
      ]
     },
     "execution_count": 265,
     "metadata": {},
     "output_type": "execute_result"
    }
   ],
   "source": [
    "param = trials.get_param(TID).to_dict()\n",
    "param"
   ]
  },
  {
   "cell_type": "code",
   "execution_count": 299,
   "metadata": {
    "collapsed": false
   },
   "outputs": [],
   "source": [
    "param[\"data\"][\"truncate\"] = False  #  this version was ran ignoring the truncate value\n",
    "train, test = data.data(**param[\"data\"])"
   ]
  },
  {
   "cell_type": "code",
   "execution_count": 300,
   "metadata": {
    "collapsed": false
   },
   "outputs": [
    {
     "data": {
      "text/plain": [
       "(28042, 27, 30)"
      ]
     },
     "execution_count": 300,
     "metadata": {},
     "output_type": "execute_result"
    }
   ],
   "source": [
    "train[0][\"dist1\"].shape"
   ]
  },
  {
   "cell_type": "code",
   "execution_count": 290,
   "metadata": {
    "collapsed": false
   },
   "outputs": [
    {
     "data": {
      "image/png": "[encoded data removed]",
      "text/plain": [
       "<matplotlib.figure.Figure at 0x7fcdb74dd668>"
      ]
     },
     "metadata": {},
     "output_type": "display_data"
    }
   ],
   "source": [
    "plot_history(trials, TID)"
   ]
  },
  {
   "cell_type": "code",
   "execution_count": 269,
   "metadata": {
    "collapsed": true
   },
   "outputs": [
    {
     "name": "stdout",
     "output_type": "stream",
     "text": [
      "____________________________________________________________________________________________________\n",
      "Layer (type)                     Output Shape          Param #     Connected to                     \n",
      "====================================================================================================\n",
      "seq (InputLayer)                 (None, 37, 4)         0                                            \n",
      "____________________________________________________________________________________________________\n",
      "dist1 (InputLayer)               (None, 27, 30)        0                                            \n",
      "____________________________________________________________________________________________________\n",
      "dist2 (InputLayer)               (None, 27, 30)        0                                            \n",
      "____________________________________________________________________________________________________\n",
      "ppt_start (InputLayer)           (None, 27, 30)        0                                            \n",
      "____________________________________________________________________________________________________\n",
      "ppt_run_length (InputLayer)      (None, 27, 30)        0                                            \n",
      "____________________________________________________________________________________________________\n",
      "canon_hit1 (InputLayer)          (None, 27, 30)        0                                            \n",
      "____________________________________________________________________________________________________\n",
      "canon_hit2 (InputLayer)          (None, 27, 30)        0                                            \n",
      "____________________________________________________________________________________________________\n",
      "canon_hit3 (InputLayer)          (None, 27, 30)        0                                            \n",
      "____________________________________________________________________________________________________\n",
      "canon_hit4 (InputLayer)          (None, 27, 30)        0                                            \n",
      "____________________________________________________________________________________________________\n",
      "canon_hit5 (InputLayer)          (None, 27, 30)        0                                            \n",
      "____________________________________________________________________________________________________\n",
      "conv_dna_1 (ConvDNA)             (None, 27, 120)       5400                                         \n",
      "____________________________________________________________________________________________________\n",
      "dist1_conv (ConvDNAQuantitySplin (None, 27, 1)         30                                           \n",
      "____________________________________________________________________________________________________\n",
      "dist2_conv (ConvDNAQuantitySplin (None, 27, 1)         30                                           \n",
      "____________________________________________________________________________________________________\n",
      "ppt_start_conv (ConvDNAQuantityS (None, 27, 1)         30                                           \n",
      "____________________________________________________________________________________________________\n",
      "ppt_run_length_conv (ConvDNAQuan (None, 27, 1)         30                                           \n",
      "____________________________________________________________________________________________________\n",
      "canon_hit1_conv (ConvDNAQuantity (None, 27, 1)         30                                           \n",
      "____________________________________________________________________________________________________\n",
      "canon_hit2_conv (ConvDNAQuantity (None, 27, 1)         30                                           \n",
      "____________________________________________________________________________________________________\n",
      "canon_hit3_conv (ConvDNAQuantity (None, 27, 1)         30                                           \n",
      "____________________________________________________________________________________________________\n",
      "canon_hit4_conv (ConvDNAQuantity (None, 27, 1)         30                                           \n",
      "____________________________________________________________________________________________________\n",
      "canon_hit5_conv (ConvDNAQuantity (None, 27, 1)         30                                           \n",
      "____________________________________________________________________________________________________\n",
      "concatenate_1 (Concatenate)      (None, 27, 129)       0                                            \n",
      "____________________________________________________________________________________________________\n",
      "conv1d_1 (Conv1D)                (None, 27, 70)        9100                                         \n",
      "____________________________________________________________________________________________________\n",
      "dropout_1 (Dropout)              (None, 27, 70)        0                                            \n",
      "____________________________________________________________________________________________________\n",
      "conv1d_2 (Conv1D)                (None, 27, 70)        4970                                         \n",
      "____________________________________________________________________________________________________\n",
      "dropout_2 (Dropout)              (None, 27, 70)        0                                            \n",
      "____________________________________________________________________________________________________\n",
      "Conv1D_final_layer (Conv1D)      (None, 27, 1)         71                                           \n",
      "====================================================================================================\n",
      "Total params: 19,811.0\n",
      "Trainable params: 19,811.0\n",
      "Non-trainable params: 0.0\n",
      "____________________________________________________________________________________________________\n"
     ]
    }
   ],
   "source": [
    "m.summary()"
   ]
  },
  {
   "cell_type": "markdown",
   "metadata": {},
   "source": [
    "## Model performance"
   ]
  },
  {
   "cell_type": "code",
   "execution_count": 270,
   "metadata": {
    "collapsed": false
   },
   "outputs": [],
   "source": [
    "from concise.utils.model_data import split_train_test_idx, subset\n",
    "\n",
    "train_idx, valid_idx = split_train_test_idx(train, valid_split=.2, stratified=False, random_state=100)\n",
    "\n",
    "valid = subset(train, valid_idx, keep_other=False)\n",
    "train_train = subset(train, train_idx)"
   ]
  },
  {
   "cell_type": "code",
   "execution_count": 351,
   "metadata": {
    "collapsed": false,
    "scrolled": true
   },
   "outputs": [
    {
     "data": {
      "text/html": [
       "<div>\n",
       "<table border=\"1\" class=\"dataframe\">\n",
       "  <thead>\n",
       "    <tr style=\"text-align: right;\">\n",
       "      <th></th>\n",
       "      <th>dataset</th>\n",
       "      <th>loss</th>\n",
       "      <th>acc</th>\n",
       "      <th>f1</th>\n",
       "      <th>precision</th>\n",
       "      <th>sensitivity</th>\n",
       "      <th>sensitivity</th>\n",
       "      <th>specificity</th>\n",
       "      <th>fdr</th>\n",
       "      <th>auprc</th>\n",
       "      <th>auc</th>\n",
       "    </tr>\n",
       "  </thead>\n",
       "  <tbody>\n",
       "    <tr>\n",
       "      <th>0</th>\n",
       "      <td>test</td>\n",
       "      <td>0.1066</td>\n",
       "      <td>0.9327</td>\n",
       "      <td>0.5615</td>\n",
       "      <td>0.7364</td>\n",
       "      <td>0.4586</td>\n",
       "      <td>0.4586</td>\n",
       "      <td>0.9906</td>\n",
       "      <td>0.2636</td>\n",
       "      <td>0.6508</td>\n",
       "      <td>0.9477</td>\n",
       "    </tr>\n",
       "    <tr>\n",
       "      <th>1</th>\n",
       "      <td>valid</td>\n",
       "      <td>0.1087</td>\n",
       "      <td>0.9332</td>\n",
       "      <td>0.5824</td>\n",
       "      <td>0.7813</td>\n",
       "      <td>0.4701</td>\n",
       "      <td>0.4701</td>\n",
       "      <td>0.9919</td>\n",
       "      <td>0.2187</td>\n",
       "      <td>0.6795</td>\n",
       "      <td>0.9481</td>\n",
       "    </tr>\n",
       "    <tr>\n",
       "      <th>2</th>\n",
       "      <td>train</td>\n",
       "      <td>0.0977</td>\n",
       "      <td>0.9355</td>\n",
       "      <td>NaN</td>\n",
       "      <td>NaN</td>\n",
       "      <td>0.5059</td>\n",
       "      <td>0.5059</td>\n",
       "      <td>0.9930</td>\n",
       "      <td>NaN</td>\n",
       "      <td>0.7274</td>\n",
       "      <td>0.9592</td>\n",
       "    </tr>\n",
       "  </tbody>\n",
       "</table>\n",
       "</div>"
      ],
      "text/plain": [
       "  dataset    loss     acc      f1  precision  sensitivity  sensitivity  specificity     fdr  \\\n",
       "0    test  0.1066  0.9327  0.5615     0.7364       0.4586       0.4586       0.9906  0.2636   \n",
       "1   valid  0.1087  0.9332  0.5824     0.7813       0.4701       0.4701       0.9919  0.2187   \n",
       "2   train  0.0977  0.9355     NaN        NaN       0.5059       0.5059       0.9930     NaN   \n",
       "\n",
       "    auprc     auc  \n",
       "0  0.6508  0.9477  \n",
       "1  0.6795  0.9481  \n",
       "2  0.7274  0.9592  "
      ]
     },
     "execution_count": 351,
     "metadata": {},
     "output_type": "execute_result"
    }
   ],
   "source": [
    "metrics_dt(m, {\"train\": train_train, \"valid\": valid, \"test\": test})"
   ]
  },
  {
   "cell_type": "code",
   "execution_count": 350,
   "metadata": {
    "collapsed": false
   },
   "outputs": [
    {
     "data": {
      "image/png": "[encoded data removed]",
      "text/plain": [
       "<matplotlib.figure.Figure at 0x7fcdcb8ed9b0>"
      ]
     },
     "metadata": {},
     "output_type": "display_data"
    }
   ],
   "source": [
    "plot_roc_pr(m, [train_train, valid], [\"train\", \"valid\"])"
   ]
  },
  {
   "cell_type": "code",
   "execution_count": 328,
   "metadata": {
    "collapsed": false
   },
   "outputs": [
    {
     "data": {
      "image/png": "[encoded data removed]",
      "text/plain": [
       "<matplotlib.figure.Figure at 0x7fcdcba205f8>"
      ]
     },
     "metadata": {},
     "output_type": "display_data"
    }
   ],
   "source": [
    "data = plot_roc_pr(m, [test], [\"test\"], return_data=True)\n",
    "y_true, y_pred = data[0]"
   ]
  },
  {
   "cell_type": "markdown",
   "metadata": {},
   "source": [
    "## Export predictions to csv"
   ]
  },
  {
   "cell_type": "code",
   "execution_count": 329,
   "metadata": {
    "collapsed": true
   },
   "outputs": [
    {
     "data": {
      "text/html": [
       "<div>\n",
       "<table border=\"1\" class=\"dataframe\">\n",
       "  <thead>\n",
       "    <tr style=\"text-align: right;\">\n",
       "      <th></th>\n",
       "      <th>y_pred</th>\n",
       "      <th>y_true</th>\n",
       "    </tr>\n",
       "  </thead>\n",
       "  <tbody>\n",
       "    <tr>\n",
       "      <th>88908</th>\n",
       "      <td>2.4367e-18</td>\n",
       "      <td>NEG</td>\n",
       "    </tr>\n",
       "    <tr>\n",
       "      <th>88904</th>\n",
       "      <td>3.1727e-18</td>\n",
       "      <td>NEG</td>\n",
       "    </tr>\n",
       "    <tr>\n",
       "      <th>88909</th>\n",
       "      <td>4.9674e-18</td>\n",
       "      <td>NEG</td>\n",
       "    </tr>\n",
       "    <tr>\n",
       "      <th>...</th>\n",
       "      <td>...</td>\n",
       "      <td>...</td>\n",
       "    </tr>\n",
       "    <tr>\n",
       "      <th>82239</th>\n",
       "      <td>9.9352e-01</td>\n",
       "      <td>HC</td>\n",
       "    </tr>\n",
       "    <tr>\n",
       "      <th>74217</th>\n",
       "      <td>9.9406e-01</td>\n",
       "      <td>HC</td>\n",
       "    </tr>\n",
       "    <tr>\n",
       "      <th>147375</th>\n",
       "      <td>9.9686e-01</td>\n",
       "      <td>NEG</td>\n",
       "    </tr>\n",
       "  </tbody>\n",
       "</table>\n",
       "<p>196715 rows × 2 columns</p>\n",
       "</div>"
      ],
      "text/plain": [
       "            y_pred y_true\n",
       "88908   2.4367e-18    NEG\n",
       "88904   3.1727e-18    NEG\n",
       "88909   4.9674e-18    NEG\n",
       "...            ...    ...\n",
       "82239   9.9352e-01     HC\n",
       "74217   9.9406e-01     HC\n",
       "147375  9.9686e-01    NEG\n",
       "\n",
       "[196715 rows x 2 columns]"
      ]
     },
     "execution_count": 329,
     "metadata": {},
     "output_type": "execute_result"
    }
   ],
   "source": [
    "dt_pred = pd.DataFrame({\"y_true\": y_true.reshape((-1,)), \"y_pred\": y_pred.reshape((-1,))})\n",
    "dt_pred = dt_pred[dt_pred[\"y_true\"] != -1]\n",
    "dt_pred[\"y_true\"] = np.where(dt_pred[\"y_true\"]== 1, \"HC\", \"NEG\")\n",
    "dt_pred.sort_values(\"y_pred\")"
   ]
  },
  {
   "cell_type": "code",
   "execution_count": 280,
   "metadata": {
    "collapsed": true
   },
   "outputs": [],
   "source": [
    "dt_pred.to_csv(\"/s/project/deepcis/Concise/Splice_branchpoints/test_predictions/concise_deep.csv\")"
   ]
  },
  {
   "cell_type": "markdown",
   "metadata": {},
   "source": [
    "## Plot positional dependence"
   ]
  },
  {
   "cell_type": "code",
   "execution_count": 308,
   "metadata": {
    "collapsed": false,
    "scrolled": true
   },
   "outputs": [
    {
     "data": {
      "image/png": "[encoded data removed]",
      "text/plain": [
       "<matplotlib.figure.Figure at 0x7fcdca489b00>"
      ]
     },
     "metadata": {},
     "output_type": "display_data"
    }
   ],
   "source": [
    "dfpos = plot_pos_dep(m, param, train)"
   ]
  },
  {
   "cell_type": "code",
   "execution_count": 309,
   "metadata": {
    "collapsed": true
   },
   "outputs": [
    {
     "data": {
      "text/html": [
       "<div>\n",
       "<table border=\"1\" class=\"dataframe\">\n",
       "  <thead>\n",
       "    <tr style=\"text-align: right;\">\n",
       "      <th></th>\n",
       "      <th>feature</th>\n",
       "      <th>x</th>\n",
       "      <th>y</th>\n",
       "    </tr>\n",
       "  </thead>\n",
       "  <tbody>\n",
       "    <tr>\n",
       "      <th>0</th>\n",
       "      <td>dist1</td>\n",
       "      <td>-20.0000</td>\n",
       "      <td>-0.2350</td>\n",
       "    </tr>\n",
       "    <tr>\n",
       "      <th>1</th>\n",
       "      <td>dist1</td>\n",
       "      <td>259.1512</td>\n",
       "      <td>-0.2161</td>\n",
       "    </tr>\n",
       "    <tr>\n",
       "      <th>2</th>\n",
       "      <td>dist1</td>\n",
       "      <td>538.3023</td>\n",
       "      <td>-0.1973</td>\n",
       "    </tr>\n",
       "    <tr>\n",
       "      <th>...</th>\n",
       "      <td>...</td>\n",
       "      <td>...</td>\n",
       "      <td>...</td>\n",
       "    </tr>\n",
       "    <tr>\n",
       "      <th>997</th>\n",
       "      <td>canon_hit5</td>\n",
       "      <td>299.4194</td>\n",
       "      <td>-0.6693</td>\n",
       "    </tr>\n",
       "    <tr>\n",
       "      <th>998</th>\n",
       "      <td>canon_hit5</td>\n",
       "      <td>299.7097</td>\n",
       "      <td>-0.6708</td>\n",
       "    </tr>\n",
       "    <tr>\n",
       "      <th>999</th>\n",
       "      <td>canon_hit5</td>\n",
       "      <td>300.0000</td>\n",
       "      <td>-0.6723</td>\n",
       "    </tr>\n",
       "  </tbody>\n",
       "</table>\n",
       "<p>9000 rows × 3 columns</p>\n",
       "</div>"
      ],
      "text/plain": [
       "        feature         x       y\n",
       "0         dist1  -20.0000 -0.2350\n",
       "1         dist1  259.1512 -0.2161\n",
       "2         dist1  538.3023 -0.1973\n",
       "..          ...       ...     ...\n",
       "997  canon_hit5  299.4194 -0.6693\n",
       "998  canon_hit5  299.7097 -0.6708\n",
       "999  canon_hit5  300.0000 -0.6723\n",
       "\n",
       "[9000 rows x 3 columns]"
      ]
     },
     "execution_count": 309,
     "metadata": {},
     "output_type": "execute_result"
    }
   ],
   "source": [
    "dfpos"
   ]
  }
 ],
 "metadata": {
  "anaconda-cloud": {},
  "kernelspec": {
   "display_name": "Python [default]",
   "language": "python",
   "name": "python3"
  },
  "language_info": {
   "codemirror_mode": {
    "name": "ipython",
    "version": 3
   },
   "file_extension": ".py",
   "mimetype": "text/x-python",
   "name": "python",
   "nbconvert_exporter": "python",
   "pygments_lexer": "ipython3",
   "version": "3.5.2"
  }
 },
 "nbformat": 4,
 "nbformat_minor": 0
}
