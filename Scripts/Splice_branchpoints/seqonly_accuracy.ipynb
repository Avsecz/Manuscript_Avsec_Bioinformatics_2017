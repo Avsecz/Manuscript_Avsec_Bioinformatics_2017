{
 "cells": [
  {
   "cell_type": "markdown",
   "metadata": {},
   "source": [
    "## Get seqonly performance"
   ]
  },
  {
   "cell_type": "code",
   "execution_count": 38,
   "metadata": {},
   "outputs": [],
   "source": [
    "import os\n",
    "from concise.hyopt import CompileFN, CMongoTrials, test_fn, get_model, get_data\n",
    "import concise.eval_metrics as cem\n",
    "import data\n",
    "import model\n",
    "from helper import *\n",
    "import concise.eval_metrics as cem\n",
    "\n",
    "DB_NAME = \"Concise__Splice_branchpoints\"\n",
    "DATA_DIR = os.path.expanduser(\"~/projects-work/deepcis/data/\")\n",
    "EXP_DIR = DATA_DIR + \"/Splice_branchpoints/\""
   ]
  },
  {
   "cell_type": "code",
   "execution_count": 3,
   "metadata": {},
   "outputs": [
    {
     "name": "stderr",
     "output_type": "stream",
     "text": [
      "2017-10-12 19:14:40,234 [INFO] PROTOCOL mongo\n",
      "2017-10-12 19:14:40,237 [INFO] USERNAME None\n",
      "2017-10-12 19:14:40,240 [INFO] HOSTNAME ouga03\n",
      "2017-10-12 19:14:40,243 [INFO] PORT 1234\n",
      "2017-10-12 19:14:40,245 [INFO] PATH /Concise__Splice_branchpoints/jobs\n",
      "2017-10-12 19:14:40,247 [INFO] DB Concise__Splice_branchpoints\n",
      "2017-10-12 19:14:40,249 [INFO] COLLECTION jobs\n",
      "2017-10-12 19:14:40,251 [INFO] PASS None\n"
     ]
    }
   ],
   "source": [
    "trials = CMongoTrials(DB_NAME, \"model_deep_seqonly\")"
   ]
  },
  {
   "cell_type": "code",
   "execution_count": 32,
   "metadata": {},
   "outputs": [],
   "source": [
    "tid = trials.best_trial_tid()"
   ]
  },
  {
   "cell_type": "code",
   "execution_count": 33,
   "metadata": {},
   "outputs": [],
   "source": [
    "m = trials.load_model(tid)"
   ]
  },
  {
   "cell_type": "code",
   "execution_count": 34,
   "metadata": {},
   "outputs": [],
   "source": [
    "param = trials.get_param(tid)"
   ]
  },
  {
   "cell_type": "code",
   "execution_count": 22,
   "metadata": {},
   "outputs": [
    {
     "name": "stdout",
     "output_type": "stream",
     "text": [
      "loading cached array\n",
      "loading cached array\n"
     ]
    }
   ],
   "source": [
    "train,  test = get_data(data.data, param)"
   ]
  },
  {
   "cell_type": "code",
   "execution_count": 35,
   "metadata": {},
   "outputs": [],
   "source": [
    "y_pred = m.predict(test[0])"
   ]
  },
  {
   "cell_type": "code",
   "execution_count": 36,
   "metadata": {},
   "outputs": [
    {
     "data": {
      "text/plain": [
       "0.47778047335800022"
      ]
     },
     "execution_count": 36,
     "metadata": {},
     "output_type": "execute_result"
    }
   ],
   "source": [
    "cem.auprc(test[1], y_pred)"
   ]
  },
  {
   "cell_type": "code",
   "execution_count": 37,
   "metadata": {},
   "outputs": [
    {
     "data": {
      "text/plain": [
       "0.91891758556132452"
      ]
     },
     "execution_count": 37,
     "metadata": {},
     "output_type": "execute_result"
    }
   ],
   "source": [
    "cem.auc(test[1], y_pred)"
   ]
  }
 ],
 "metadata": {
  "kernelspec": {
   "display_name": "Python [default]",
   "language": "python",
   "name": "python3"
  },
  "language_info": {
   "codemirror_mode": {
    "name": "ipython",
    "version": 3
   },
   "file_extension": ".py",
   "mimetype": "text/x-python",
   "name": "python",
   "nbconvert_exporter": "python",
   "pygments_lexer": "ipython3",
   "version": "3.6.1"
  }
 },
 "nbformat": 4,
 "nbformat_minor": 2
}
