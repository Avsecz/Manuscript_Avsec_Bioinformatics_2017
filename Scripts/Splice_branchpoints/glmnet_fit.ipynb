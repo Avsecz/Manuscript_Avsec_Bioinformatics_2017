{
 "cells": [
  {
   "cell_type": "code",
   "execution_count": 1,
   "metadata": {},
   "outputs": [
    {
     "name": "stderr",
     "output_type": "stream",
     "text": [
      "Using TensorFlow backend.\n"
     ]
    }
   ],
   "source": [
    "import data"
   ]
  },
  {
   "cell_type": "code",
   "execution_count": 2,
   "metadata": {},
   "outputs": [],
   "source": [
    "from concise.preprocessing import EncodeSplines"
   ]
  },
  {
   "cell_type": "code",
   "execution_count": 59,
   "metadata": {},
   "outputs": [],
   "source": [
    "dt = pd.read_csv(data.DATA_ROOT + \"/Splice_branchpoints/processed/branchpointer/train/filteredDescr.csv\")\n",
    "dt_test = pd.read_csv(data.DATA_ROOT + \"/Splice_branchpoints/processed/branchpointer/test/filteredDescr.csv\")"
   ]
  },
  {
   "cell_type": "code",
   "execution_count": 29,
   "metadata": {},
   "outputs": [
    {
     "data": {
      "text/html": [
       "<div>\n",
       "<style>\n",
       "    .dataframe thead tr:only-child th {\n",
       "        text-align: right;\n",
       "    }\n",
       "\n",
       "    .dataframe thead th {\n",
       "        text-align: left;\n",
       "    }\n",
       "\n",
       "    .dataframe tbody tr th {\n",
       "        vertical-align: top;\n",
       "    }\n",
       "</style>\n",
       "<table border=\"1\" class=\"dataframe\">\n",
       "  <thead>\n",
       "    <tr style=\"text-align: right;\">\n",
       "      <th></th>\n",
       "      <th>set</th>\n",
       "      <th>dist.1</th>\n",
       "      <th>dist.2</th>\n",
       "      <th>ppt_start</th>\n",
       "      <th>ppt_run_length</th>\n",
       "      <th>canon_hit1</th>\n",
       "      <th>canon_hit2</th>\n",
       "      <th>canon_hit3</th>\n",
       "      <th>canon_hit4</th>\n",
       "      <th>canon_hit5</th>\n",
       "      <th>seq_neg5A</th>\n",
       "      <th>seq_neg5C</th>\n",
       "      <th>seq_neg5G</th>\n",
       "      <th>seq_neg5T</th>\n",
       "      <th>seq_neg4A</th>\n",
       "      <th>seq_neg4C</th>\n",
       "      <th>seq_neg4G</th>\n",
       "      <th>seq_neg4T</th>\n",
       "      <th>seq_neg3A</th>\n",
       "      <th>seq_neg3C</th>\n",
       "      <th>seq_neg3G</th>\n",
       "      <th>seq_neg3T</th>\n",
       "      <th>seq_neg2A</th>\n",
       "      <th>seq_neg2C</th>\n",
       "      <th>seq_neg2G</th>\n",
       "      <th>seq_neg2T</th>\n",
       "      <th>seq_neg1A</th>\n",
       "      <th>seq_neg1C</th>\n",
       "      <th>seq_neg1G</th>\n",
       "      <th>seq_neg1T</th>\n",
       "      <th>seq_pos0A</th>\n",
       "      <th>seq_pos0C</th>\n",
       "      <th>seq_pos0G</th>\n",
       "      <th>seq_pos0T</th>\n",
       "      <th>seq_pos1A</th>\n",
       "      <th>seq_pos1C</th>\n",
       "      <th>seq_pos1G</th>\n",
       "      <th>seq_pos1T</th>\n",
       "      <th>seq_pos2A</th>\n",
       "      <th>seq_pos2C</th>\n",
       "      <th>seq_pos2G</th>\n",
       "      <th>seq_pos2T</th>\n",
       "      <th>seq_pos3A</th>\n",
       "      <th>seq_pos3C</th>\n",
       "      <th>seq_pos3G</th>\n",
       "      <th>seq_pos3T</th>\n",
       "      <th>seq_pos4A</th>\n",
       "      <th>seq_pos4C</th>\n",
       "      <th>seq_pos4G</th>\n",
       "      <th>seq_pos4T</th>\n",
       "      <th>seq_pos5A</th>\n",
       "      <th>seq_pos5C</th>\n",
       "      <th>seq_pos5G</th>\n",
       "      <th>seq_pos5T</th>\n",
       "    </tr>\n",
       "  </thead>\n",
       "  <tbody>\n",
       "    <tr>\n",
       "      <th>0</th>\n",
       "      <td>HC</td>\n",
       "      <td>8726</td>\n",
       "      <td>16</td>\n",
       "      <td>5</td>\n",
       "      <td>42</td>\n",
       "      <td>52</td>\n",
       "      <td>122</td>\n",
       "      <td>159</td>\n",
       "      <td>201</td>\n",
       "      <td>229</td>\n",
       "      <td>1</td>\n",
       "      <td>1</td>\n",
       "      <td>1</td>\n",
       "      <td>2</td>\n",
       "      <td>1</td>\n",
       "      <td>2</td>\n",
       "      <td>1</td>\n",
       "      <td>1</td>\n",
       "      <td>1</td>\n",
       "      <td>2</td>\n",
       "      <td>1</td>\n",
       "      <td>1</td>\n",
       "      <td>1</td>\n",
       "      <td>1</td>\n",
       "      <td>1</td>\n",
       "      <td>2</td>\n",
       "      <td>1</td>\n",
       "      <td>2</td>\n",
       "      <td>1</td>\n",
       "      <td>1</td>\n",
       "      <td>2</td>\n",
       "      <td>1</td>\n",
       "      <td>1</td>\n",
       "      <td>1</td>\n",
       "      <td>1</td>\n",
       "      <td>2</td>\n",
       "      <td>1</td>\n",
       "      <td>1</td>\n",
       "      <td>2</td>\n",
       "      <td>1</td>\n",
       "      <td>1</td>\n",
       "      <td>1</td>\n",
       "      <td>1</td>\n",
       "      <td>1</td>\n",
       "      <td>1</td>\n",
       "      <td>2</td>\n",
       "      <td>1</td>\n",
       "      <td>1</td>\n",
       "      <td>1</td>\n",
       "      <td>2</td>\n",
       "      <td>1</td>\n",
       "      <td>1</td>\n",
       "      <td>1</td>\n",
       "      <td>2</td>\n",
       "    </tr>\n",
       "    <tr>\n",
       "      <th>1</th>\n",
       "      <td>HC</td>\n",
       "      <td>7104</td>\n",
       "      <td>15</td>\n",
       "      <td>35</td>\n",
       "      <td>44</td>\n",
       "      <td>51</td>\n",
       "      <td>127</td>\n",
       "      <td>151</td>\n",
       "      <td>181</td>\n",
       "      <td>199</td>\n",
       "      <td>1</td>\n",
       "      <td>1</td>\n",
       "      <td>1</td>\n",
       "      <td>2</td>\n",
       "      <td>2</td>\n",
       "      <td>1</td>\n",
       "      <td>1</td>\n",
       "      <td>1</td>\n",
       "      <td>1</td>\n",
       "      <td>1</td>\n",
       "      <td>2</td>\n",
       "      <td>1</td>\n",
       "      <td>1</td>\n",
       "      <td>1</td>\n",
       "      <td>1</td>\n",
       "      <td>2</td>\n",
       "      <td>1</td>\n",
       "      <td>1</td>\n",
       "      <td>2</td>\n",
       "      <td>1</td>\n",
       "      <td>2</td>\n",
       "      <td>1</td>\n",
       "      <td>1</td>\n",
       "      <td>1</td>\n",
       "      <td>1</td>\n",
       "      <td>2</td>\n",
       "      <td>1</td>\n",
       "      <td>1</td>\n",
       "      <td>1</td>\n",
       "      <td>1</td>\n",
       "      <td>1</td>\n",
       "      <td>2</td>\n",
       "      <td>1</td>\n",
       "      <td>1</td>\n",
       "      <td>1</td>\n",
       "      <td>2</td>\n",
       "      <td>2</td>\n",
       "      <td>1</td>\n",
       "      <td>1</td>\n",
       "      <td>1</td>\n",
       "      <td>2</td>\n",
       "      <td>1</td>\n",
       "      <td>1</td>\n",
       "      <td>1</td>\n",
       "    </tr>\n",
       "    <tr>\n",
       "      <th>2</th>\n",
       "      <td>HC</td>\n",
       "      <td>4725</td>\n",
       "      <td>4</td>\n",
       "      <td>13</td>\n",
       "      <td>11</td>\n",
       "      <td>38</td>\n",
       "      <td>122</td>\n",
       "      <td>156</td>\n",
       "      <td>212</td>\n",
       "      <td>14</td>\n",
       "      <td>1</td>\n",
       "      <td>2</td>\n",
       "      <td>1</td>\n",
       "      <td>1</td>\n",
       "      <td>1</td>\n",
       "      <td>1</td>\n",
       "      <td>1</td>\n",
       "      <td>2</td>\n",
       "      <td>1</td>\n",
       "      <td>1</td>\n",
       "      <td>2</td>\n",
       "      <td>1</td>\n",
       "      <td>1</td>\n",
       "      <td>1</td>\n",
       "      <td>1</td>\n",
       "      <td>2</td>\n",
       "      <td>1</td>\n",
       "      <td>2</td>\n",
       "      <td>1</td>\n",
       "      <td>1</td>\n",
       "      <td>2</td>\n",
       "      <td>1</td>\n",
       "      <td>1</td>\n",
       "      <td>1</td>\n",
       "      <td>1</td>\n",
       "      <td>2</td>\n",
       "      <td>1</td>\n",
       "      <td>1</td>\n",
       "      <td>1</td>\n",
       "      <td>1</td>\n",
       "      <td>1</td>\n",
       "      <td>2</td>\n",
       "      <td>1</td>\n",
       "      <td>1</td>\n",
       "      <td>1</td>\n",
       "      <td>2</td>\n",
       "      <td>1</td>\n",
       "      <td>1</td>\n",
       "      <td>1</td>\n",
       "      <td>2</td>\n",
       "      <td>1</td>\n",
       "      <td>2</td>\n",
       "      <td>1</td>\n",
       "      <td>1</td>\n",
       "    </tr>\n",
       "    <tr>\n",
       "      <th>...</th>\n",
       "      <td>...</td>\n",
       "      <td>...</td>\n",
       "      <td>...</td>\n",
       "      <td>...</td>\n",
       "      <td>...</td>\n",
       "      <td>...</td>\n",
       "      <td>...</td>\n",
       "      <td>...</td>\n",
       "      <td>...</td>\n",
       "      <td>...</td>\n",
       "      <td>...</td>\n",
       "      <td>...</td>\n",
       "      <td>...</td>\n",
       "      <td>...</td>\n",
       "      <td>...</td>\n",
       "      <td>...</td>\n",
       "      <td>...</td>\n",
       "      <td>...</td>\n",
       "      <td>...</td>\n",
       "      <td>...</td>\n",
       "      <td>...</td>\n",
       "      <td>...</td>\n",
       "      <td>...</td>\n",
       "      <td>...</td>\n",
       "      <td>...</td>\n",
       "      <td>...</td>\n",
       "      <td>...</td>\n",
       "      <td>...</td>\n",
       "      <td>...</td>\n",
       "      <td>...</td>\n",
       "      <td>...</td>\n",
       "      <td>...</td>\n",
       "      <td>...</td>\n",
       "      <td>...</td>\n",
       "      <td>...</td>\n",
       "      <td>...</td>\n",
       "      <td>...</td>\n",
       "      <td>...</td>\n",
       "      <td>...</td>\n",
       "      <td>...</td>\n",
       "      <td>...</td>\n",
       "      <td>...</td>\n",
       "      <td>...</td>\n",
       "      <td>...</td>\n",
       "      <td>...</td>\n",
       "      <td>...</td>\n",
       "      <td>...</td>\n",
       "      <td>...</td>\n",
       "      <td>...</td>\n",
       "      <td>...</td>\n",
       "      <td>...</td>\n",
       "      <td>...</td>\n",
       "      <td>...</td>\n",
       "      <td>...</td>\n",
       "    </tr>\n",
       "    <tr>\n",
       "      <th>734193</th>\n",
       "      <td>NEG</td>\n",
       "      <td>12980</td>\n",
       "      <td>25</td>\n",
       "      <td>19</td>\n",
       "      <td>44</td>\n",
       "      <td>1</td>\n",
       "      <td>184</td>\n",
       "      <td>78</td>\n",
       "      <td>168</td>\n",
       "      <td>200</td>\n",
       "      <td>1</td>\n",
       "      <td>2</td>\n",
       "      <td>1</td>\n",
       "      <td>1</td>\n",
       "      <td>2</td>\n",
       "      <td>1</td>\n",
       "      <td>1</td>\n",
       "      <td>1</td>\n",
       "      <td>1</td>\n",
       "      <td>2</td>\n",
       "      <td>1</td>\n",
       "      <td>1</td>\n",
       "      <td>2</td>\n",
       "      <td>1</td>\n",
       "      <td>1</td>\n",
       "      <td>1</td>\n",
       "      <td>1</td>\n",
       "      <td>1</td>\n",
       "      <td>2</td>\n",
       "      <td>1</td>\n",
       "      <td>2</td>\n",
       "      <td>1</td>\n",
       "      <td>1</td>\n",
       "      <td>1</td>\n",
       "      <td>2</td>\n",
       "      <td>1</td>\n",
       "      <td>1</td>\n",
       "      <td>1</td>\n",
       "      <td>1</td>\n",
       "      <td>1</td>\n",
       "      <td>2</td>\n",
       "      <td>1</td>\n",
       "      <td>1</td>\n",
       "      <td>1</td>\n",
       "      <td>1</td>\n",
       "      <td>2</td>\n",
       "      <td>1</td>\n",
       "      <td>1</td>\n",
       "      <td>2</td>\n",
       "      <td>1</td>\n",
       "      <td>1</td>\n",
       "      <td>2</td>\n",
       "      <td>1</td>\n",
       "      <td>1</td>\n",
       "    </tr>\n",
       "    <tr>\n",
       "      <th>734194</th>\n",
       "      <td>NEG</td>\n",
       "      <td>12969</td>\n",
       "      <td>26</td>\n",
       "      <td>20</td>\n",
       "      <td>44</td>\n",
       "      <td>39</td>\n",
       "      <td>1</td>\n",
       "      <td>89</td>\n",
       "      <td>169</td>\n",
       "      <td>201</td>\n",
       "      <td>1</td>\n",
       "      <td>1</td>\n",
       "      <td>2</td>\n",
       "      <td>1</td>\n",
       "      <td>1</td>\n",
       "      <td>2</td>\n",
       "      <td>1</td>\n",
       "      <td>1</td>\n",
       "      <td>2</td>\n",
       "      <td>1</td>\n",
       "      <td>1</td>\n",
       "      <td>1</td>\n",
       "      <td>1</td>\n",
       "      <td>2</td>\n",
       "      <td>1</td>\n",
       "      <td>1</td>\n",
       "      <td>2</td>\n",
       "      <td>1</td>\n",
       "      <td>1</td>\n",
       "      <td>1</td>\n",
       "      <td>1</td>\n",
       "      <td>1</td>\n",
       "      <td>2</td>\n",
       "      <td>1</td>\n",
       "      <td>2</td>\n",
       "      <td>1</td>\n",
       "      <td>1</td>\n",
       "      <td>1</td>\n",
       "      <td>2</td>\n",
       "      <td>1</td>\n",
       "      <td>1</td>\n",
       "      <td>1</td>\n",
       "      <td>1</td>\n",
       "      <td>1</td>\n",
       "      <td>2</td>\n",
       "      <td>1</td>\n",
       "      <td>1</td>\n",
       "      <td>1</td>\n",
       "      <td>1</td>\n",
       "      <td>2</td>\n",
       "      <td>1</td>\n",
       "      <td>1</td>\n",
       "      <td>2</td>\n",
       "      <td>1</td>\n",
       "    </tr>\n",
       "    <tr>\n",
       "      <th>734195</th>\n",
       "      <td>NEG</td>\n",
       "      <td>12958</td>\n",
       "      <td>27</td>\n",
       "      <td>21</td>\n",
       "      <td>44</td>\n",
       "      <td>50</td>\n",
       "      <td>12</td>\n",
       "      <td>100</td>\n",
       "      <td>170</td>\n",
       "      <td>202</td>\n",
       "      <td>1</td>\n",
       "      <td>1</td>\n",
       "      <td>1</td>\n",
       "      <td>2</td>\n",
       "      <td>1</td>\n",
       "      <td>1</td>\n",
       "      <td>2</td>\n",
       "      <td>1</td>\n",
       "      <td>1</td>\n",
       "      <td>2</td>\n",
       "      <td>1</td>\n",
       "      <td>1</td>\n",
       "      <td>2</td>\n",
       "      <td>1</td>\n",
       "      <td>1</td>\n",
       "      <td>1</td>\n",
       "      <td>1</td>\n",
       "      <td>2</td>\n",
       "      <td>1</td>\n",
       "      <td>1</td>\n",
       "      <td>2</td>\n",
       "      <td>1</td>\n",
       "      <td>1</td>\n",
       "      <td>1</td>\n",
       "      <td>1</td>\n",
       "      <td>1</td>\n",
       "      <td>2</td>\n",
       "      <td>1</td>\n",
       "      <td>2</td>\n",
       "      <td>1</td>\n",
       "      <td>1</td>\n",
       "      <td>1</td>\n",
       "      <td>2</td>\n",
       "      <td>1</td>\n",
       "      <td>1</td>\n",
       "      <td>1</td>\n",
       "      <td>1</td>\n",
       "      <td>1</td>\n",
       "      <td>2</td>\n",
       "      <td>1</td>\n",
       "      <td>1</td>\n",
       "      <td>1</td>\n",
       "      <td>1</td>\n",
       "      <td>2</td>\n",
       "    </tr>\n",
       "  </tbody>\n",
       "</table>\n",
       "<p>734196 rows × 54 columns</p>\n",
       "</div>"
      ],
      "text/plain": [
       "        set  dist.1  dist.2  ppt_start  ppt_run_length  canon_hit1  canon_hit2  canon_hit3  \\\n",
       "0        HC    8726      16          5              42          52         122         159   \n",
       "1        HC    7104      15         35              44          51         127         151   \n",
       "2        HC    4725       4         13              11          38         122         156   \n",
       "...     ...     ...     ...        ...             ...         ...         ...         ...   \n",
       "734193  NEG   12980      25         19              44           1         184          78   \n",
       "734194  NEG   12969      26         20              44          39           1          89   \n",
       "734195  NEG   12958      27         21              44          50          12         100   \n",
       "\n",
       "        canon_hit4  canon_hit5  seq_neg5A  seq_neg5C  seq_neg5G  seq_neg5T  seq_neg4A  seq_neg4C  \\\n",
       "0              201         229          1          1          1          2          1          2   \n",
       "1              181         199          1          1          1          2          2          1   \n",
       "2              212          14          1          2          1          1          1          1   \n",
       "...            ...         ...        ...        ...        ...        ...        ...        ...   \n",
       "734193         168         200          1          2          1          1          2          1   \n",
       "734194         169         201          1          1          2          1          1          2   \n",
       "734195         170         202          1          1          1          2          1          1   \n",
       "\n",
       "        seq_neg4G  seq_neg4T  seq_neg3A  seq_neg3C  seq_neg3G  seq_neg3T  seq_neg2A  seq_neg2C  \\\n",
       "0               1          1          1          2          1          1          1          1   \n",
       "1               1          1          1          1          2          1          1          1   \n",
       "2               1          2          1          1          2          1          1          1   \n",
       "...           ...        ...        ...        ...        ...        ...        ...        ...   \n",
       "734193          1          1          1          2          1          1          2          1   \n",
       "734194          1          1          2          1          1          1          1          2   \n",
       "734195          2          1          1          2          1          1          2          1   \n",
       "\n",
       "        seq_neg2G  seq_neg2T  seq_neg1A  seq_neg1C  seq_neg1G  seq_neg1T  seq_pos0A  seq_pos0C  \\\n",
       "0               1          2          1          2          1          1          2          1   \n",
       "1               1          2          1          1          2          1          2          1   \n",
       "2               1          2          1          2          1          1          2          1   \n",
       "...           ...        ...        ...        ...        ...        ...        ...        ...   \n",
       "734193          1          1          1          1          2          1          2          1   \n",
       "734194          1          1          2          1          1          1          1          1   \n",
       "734195          1          1          1          2          1          1          2          1   \n",
       "\n",
       "        seq_pos0G  seq_pos0T  seq_pos1A  seq_pos1C  seq_pos1G  seq_pos1T  seq_pos2A  seq_pos2C  \\\n",
       "0               1          1          1          2          1          1          2          1   \n",
       "1               1          1          1          2          1          1          1          1   \n",
       "2               1          1          1          2          1          1          1          1   \n",
       "...           ...        ...        ...        ...        ...        ...        ...        ...   \n",
       "734193          1          1          2          1          1          1          1          1   \n",
       "734194          2          1          2          1          1          1          2          1   \n",
       "734195          1          1          1          1          2          1          2          1   \n",
       "\n",
       "        seq_pos2G  seq_pos2T  seq_pos3A  seq_pos3C  seq_pos3G  seq_pos3T  seq_pos4A  seq_pos4C  \\\n",
       "0               1          1          1          1          1          2          1          1   \n",
       "1               1          2          1          1          1          2          2          1   \n",
       "2               1          2          1          1          1          2          1          1   \n",
       "...           ...        ...        ...        ...        ...        ...        ...        ...   \n",
       "734193          2          1          1          1          1          2          1          1   \n",
       "734194          1          1          1          1          2          1          1          1   \n",
       "734195          1          1          2          1          1          1          1          1   \n",
       "\n",
       "        seq_pos4G  seq_pos4T  seq_pos5A  seq_pos5C  seq_pos5G  seq_pos5T  \n",
       "0               1          2          1          1          1          2  \n",
       "1               1          1          2          1          1          1  \n",
       "2               1          2          1          2          1          1  \n",
       "...           ...        ...        ...        ...        ...        ...  \n",
       "734193          2          1          1          2          1          1  \n",
       "734194          1          2          1          1          2          1  \n",
       "734195          2          1          1          1          1          2  \n",
       "\n",
       "[734196 rows x 54 columns]"
      ]
     },
     "execution_count": 29,
     "metadata": {},
     "output_type": "execute_result"
    }
   ],
   "source": [
    "dt"
   ]
  },
  {
   "cell_type": "code",
   "execution_count": 3,
   "metadata": {},
   "outputs": [],
   "source": [
    "def read_long_data(n_bases=None):\n",
    "    dt = pd.read_csv(data.DATA_ROOT + \"/Splice_branchpoints/processed/branchpointer/train/filteredDescr.csv\")\n",
    "    dt_test = pd.read_csv(data.DATA_ROOT + \"/Splice_branchpoints/processed/branchpointer/test/filteredDescr.csv\")\n",
    "\n",
    "    del dt[\"Unnamed: 0\"]\n",
    "    del dt_test[\"Unnamed: 0\"]\n",
    "\n",
    "    y_train = dt.set == \"HC\"\n",
    "    y_test = dt_test.set == \"HC\"\n",
    "\n",
    "    x_seq_train = dt.loc[:, dt.columns.str.match(\"^seq\")]\n",
    "    x_seq_test = dt_test.loc[:, dt_test.columns.str.match(\"^seq\")]\n",
    "\n",
    "    x_pos_train = dt.loc[:, ~dt.columns.str.match(\"^seq|^set$\")]\n",
    "    x_pos_test = dt_test.loc[:, ~dt_test.columns.str.match(\"^seq|^set$\")]\n",
    "\n",
    "    if n_bases is not None:\n",
    "        pos_features = list(x_pos_train.columns)\n",
    "\n",
    "        assert np.all(x_pos_train.columns == x_pos_test.columns)\n",
    "\n",
    "        x_pos_train = x_pos_train.as_matrix()\n",
    "        x_pos_test = x_pos_test.as_matrix()\n",
    "\n",
    "        st = EncodeSplines(n_bases=n_bases)\n",
    "\n",
    "        st.fit(x_pos_train)\n",
    "\n",
    "        x_pos_bs_train = st.transform(x_pos_train)\n",
    "        x_pos_bs_test = st.transform(x_pos_test)\n",
    "\n",
    "        x_pos_bs_train = x_pos_bs_train.reshape((x_pos_bs_train.shape[0], -1))\n",
    "        x_pos_bs_test = x_pos_bs_test.reshape((x_pos_bs_test.shape[0], -1))\n",
    "\n",
    "\n",
    "        x_train = np.concatenate([x_seq_train, x_pos_bs_train], axis = 1)\n",
    "        x_test = np.concatenate([x_seq_test, x_pos_bs_test], axis = 1)\n",
    "        return (x_train, y_train, pos_features, st), (x_test, y_test)\n",
    "    else:\n",
    "        return (np.array(x_seq_train), np.array(y_train)), (np.array(x_seq_test), np.array(y_test))\n",
    "        \n"
   ]
  },
  {
   "cell_type": "code",
   "execution_count": 21,
   "metadata": {},
   "outputs": [],
   "source": [
    "train, test = read_long_data(10)"
   ]
  },
  {
   "cell_type": "code",
   "execution_count": 118,
   "metadata": {},
   "outputs": [
    {
     "data": {
      "text/plain": [
       "(734196, 134)"
      ]
     },
     "execution_count": 118,
     "metadata": {},
     "output_type": "execute_result"
    }
   ],
   "source": [
    "train[0].shape"
   ]
  },
  {
   "cell_type": "code",
   "execution_count": 5,
   "metadata": {},
   "outputs": [],
   "source": [
    "train_seqonly, test_seqonly = read_long_data(None)"
   ]
  },
  {
   "cell_type": "code",
   "execution_count": 6,
   "metadata": {},
   "outputs": [
    {
     "data": {
      "text/plain": [
       "(734196, 44)"
      ]
     },
     "execution_count": 6,
     "metadata": {},
     "output_type": "execute_result"
    }
   ],
   "source": [
    "train_seqonly[0].shape"
   ]
  },
  {
   "cell_type": "markdown",
   "metadata": {},
   "source": [
    "## Sequence + distance model"
   ]
  },
  {
   "cell_type": "code",
   "execution_count": 9,
   "metadata": {},
   "outputs": [],
   "source": [
    "from glmnet import LogitNet"
   ]
  },
  {
   "cell_type": "code",
   "execution_count": 15,
   "metadata": {},
   "outputs": [],
   "source": [
    "ln = LogitNet(alpha=0.5, n_splits=10, n_jobs=5)"
   ]
  },
  {
   "cell_type": "code",
   "execution_count": 16,
   "metadata": {},
   "outputs": [],
   "source": [
    "from scipy.sparse import csc_matrix"
   ]
  },
  {
   "cell_type": "code",
   "execution_count": 73,
   "metadata": {},
   "outputs": [],
   "source": [
    "# to sparse\n",
    "train_sparse = (csc_matrix(train[0]), csc_matrix(train[1].values.astype(np.float64).reshape((-1,1))))\n",
    "test_sparse = (csc_matrix(test[0]), csc_matrix(test[1].values.astype(np.float64).reshape((-1,1))))"
   ]
  },
  {
   "cell_type": "code",
   "execution_count": 94,
   "metadata": {},
   "outputs": [],
   "source": [
    "# to sparse\n",
    "train_sparse_seqonly = (csc_matrix(train_seqonly[0]), csc_matrix(train_seqonly[1].astype(np.float64).reshape((-1,1))))\n",
    "test_sparse_seqonly = (csc_matrix(test_seqonly[0]), csc_matrix(test_seqonly[1].astype(np.float64).reshape((-1,1))))"
   ]
  },
  {
   "cell_type": "code",
   "execution_count": 66,
   "metadata": {},
   "outputs": [
    {
     "data": {
      "text/plain": [
       "0          True\n",
       "1          True\n",
       "2          True\n",
       "          ...  \n",
       "734193    False\n",
       "734194    False\n",
       "734195    False\n",
       "Name: set, Length: 734196, dtype: bool"
      ]
     },
     "execution_count": 66,
     "metadata": {},
     "output_type": "execute_result"
    }
   ],
   "source": [
    "train[1]"
   ]
  },
  {
   "cell_type": "code",
   "execution_count": 32,
   "metadata": {},
   "outputs": [
    {
     "data": {
      "text/plain": [
       "(1, 734196)"
      ]
     },
     "execution_count": 32,
     "metadata": {},
     "output_type": "execute_result"
    }
   ],
   "source": [
    "train_sparse[1].shape"
   ]
  },
  {
   "cell_type": "code",
   "execution_count": null,
   "metadata": {},
   "outputs": [],
   "source": [
    "train[0] = "
   ]
  },
  {
   "cell_type": "code",
   "execution_count": 87,
   "metadata": {},
   "outputs": [
    {
     "name": "stdout",
     "output_type": "stream",
     "text": [
      "CPU times: user 2h 56min 27s, sys: 16.2 s, total: 2h 56min 43s\n",
      "Wall time: 39min 35s\n"
     ]
    },
    {
     "data": {
      "text/plain": [
       "LogitNet(alpha=0.5, cut_point=1.0, fit_intercept=True, lambda_path=None,\n",
       "     max_iter=100000, min_lambda_ratio=0.0001, n_jobs=5, n_lambda=100,\n",
       "     n_splits=10, random_state=None, scoring=None, standardize=True,\n",
       "     tol=1e-07, verbose=False)"
      ]
     },
     "execution_count": 87,
     "metadata": {},
     "output_type": "execute_result"
    }
   ],
   "source": [
    "%time ln.fit(train_sparse[0], train[1])"
   ]
  },
  {
   "cell_type": "code",
   "execution_count": 88,
   "metadata": {},
   "outputs": [],
   "source": [
    "y_pred = ln.predict_proba(test_sparse[0])[:, 1]"
   ]
  },
  {
   "cell_type": "code",
   "execution_count": 89,
   "metadata": {},
   "outputs": [],
   "source": [
    "y_true = test[1]"
   ]
  },
  {
   "cell_type": "code",
   "execution_count": 80,
   "metadata": {},
   "outputs": [],
   "source": [
    "import concise.eval_metrics as cem"
   ]
  },
  {
   "cell_type": "code",
   "execution_count": 90,
   "metadata": {},
   "outputs": [
    {
     "data": {
      "text/plain": [
       "0.48468812870060429"
      ]
     },
     "execution_count": 90,
     "metadata": {},
     "output_type": "execute_result"
    }
   ],
   "source": [
    "cem.auprc(y_true, y_pred)"
   ]
  },
  {
   "cell_type": "code",
   "execution_count": 100,
   "metadata": {},
   "outputs": [
    {
     "data": {
      "text/plain": [
       "0.90138928107495186"
      ]
     },
     "execution_count": 100,
     "metadata": {},
     "output_type": "execute_result"
    }
   ],
   "source": [
    "cem.auc(y_true, y_pred)"
   ]
  },
  {
   "cell_type": "markdown",
   "metadata": {},
   "source": [
    "## Model from the plot"
   ]
  },
  {
   "cell_type": "code",
   "execution_count": 272,
   "metadata": {},
   "outputs": [],
   "source": [
    "load_dir = \"../../data/Splice_branchpoints/processed/pr_roc/\""
   ]
  },
  {
   "cell_type": "code",
   "execution_count": 274,
   "metadata": {},
   "outputs": [],
   "source": [
    "roc_curves = pd.read_csv(os.path.join(load_dir, \"roc_curves.csv\"))\n",
    "pr_curves = pd.read_csv(os.path.join(load_dir, \"pr_curves.csv\"))"
   ]
  },
  {
   "cell_type": "code",
   "execution_count": 278,
   "metadata": {},
   "outputs": [
    {
     "data": {
      "text/html": [
       "<div>\n",
       "<style>\n",
       "    .dataframe thead tr:only-child th {\n",
       "        text-align: right;\n",
       "    }\n",
       "\n",
       "    .dataframe thead th {\n",
       "        text-align: left;\n",
       "    }\n",
       "\n",
       "    .dataframe tbody tr th {\n",
       "        vertical-align: top;\n",
       "    }\n",
       "</style>\n",
       "<table border=\"1\" class=\"dataframe\">\n",
       "  <thead>\n",
       "    <tr style=\"text-align: right;\">\n",
       "      <th></th>\n",
       "      <th>Recall</th>\n",
       "      <th>Precision</th>\n",
       "      <th>cut</th>\n",
       "      <th>method</th>\n",
       "      <th>auPR</th>\n",
       "      <th>method_perf</th>\n",
       "    </tr>\n",
       "  </thead>\n",
       "  <tbody>\n",
       "    <tr>\n",
       "      <th>765711</th>\n",
       "      <td>1.0000e+00</td>\n",
       "      <td>0.0573</td>\n",
       "      <td>-10.0043</td>\n",
       "      <td>glmnet</td>\n",
       "      <td>0.5022</td>\n",
       "      <td>glmnet, 0.502</td>\n",
       "    </tr>\n",
       "    <tr>\n",
       "      <th>765712</th>\n",
       "      <td>1.0000e+00</td>\n",
       "      <td>0.0573</td>\n",
       "      <td>-10.0043</td>\n",
       "      <td>glmnet</td>\n",
       "      <td>0.5022</td>\n",
       "      <td>glmnet, 0.502</td>\n",
       "    </tr>\n",
       "    <tr>\n",
       "      <th>765713</th>\n",
       "      <td>1.0000e+00</td>\n",
       "      <td>0.0573</td>\n",
       "      <td>-9.9527</td>\n",
       "      <td>glmnet</td>\n",
       "      <td>0.5022</td>\n",
       "      <td>glmnet, 0.502</td>\n",
       "    </tr>\n",
       "    <tr>\n",
       "      <th>...</th>\n",
       "      <td>...</td>\n",
       "      <td>...</td>\n",
       "      <td>...</td>\n",
       "      <td>...</td>\n",
       "      <td>...</td>\n",
       "      <td>...</td>\n",
       "    </tr>\n",
       "    <tr>\n",
       "      <th>1488700</th>\n",
       "      <td>4.7512e-05</td>\n",
       "      <td>1.0000</td>\n",
       "      <td>2.4596</td>\n",
       "      <td>glmnet</td>\n",
       "      <td>0.5022</td>\n",
       "      <td>glmnet, 0.502</td>\n",
       "    </tr>\n",
       "    <tr>\n",
       "      <th>1488701</th>\n",
       "      <td>2.3756e-05</td>\n",
       "      <td>1.0000</td>\n",
       "      <td>2.5463</td>\n",
       "      <td>glmnet</td>\n",
       "      <td>0.5022</td>\n",
       "      <td>glmnet, 0.502</td>\n",
       "    </tr>\n",
       "    <tr>\n",
       "      <th>1488702</th>\n",
       "      <td>0.0000e+00</td>\n",
       "      <td>1.0000</td>\n",
       "      <td>2.5463</td>\n",
       "      <td>glmnet</td>\n",
       "      <td>0.5022</td>\n",
       "      <td>glmnet, 0.502</td>\n",
       "    </tr>\n",
       "  </tbody>\n",
       "</table>\n",
       "<p>722992 rows × 6 columns</p>\n",
       "</div>"
      ],
      "text/plain": [
       "             Recall  Precision      cut  method    auPR    method_perf\n",
       "765711   1.0000e+00     0.0573 -10.0043  glmnet  0.5022  glmnet, 0.502\n",
       "765712   1.0000e+00     0.0573 -10.0043  glmnet  0.5022  glmnet, 0.502\n",
       "765713   1.0000e+00     0.0573  -9.9527  glmnet  0.5022  glmnet, 0.502\n",
       "...             ...        ...      ...     ...     ...            ...\n",
       "1488700  4.7512e-05     1.0000   2.4596  glmnet  0.5022  glmnet, 0.502\n",
       "1488701  2.3756e-05     1.0000   2.5463  glmnet  0.5022  glmnet, 0.502\n",
       "1488702  0.0000e+00     1.0000   2.5463  glmnet  0.5022  glmnet, 0.502\n",
       "\n",
       "[722992 rows x 6 columns]"
      ]
     },
     "execution_count": 278,
     "metadata": {},
     "output_type": "execute_result"
    }
   ],
   "source": [
    "pr_curves[pr_curves.method == \"glmnet\"]"
   ]
  },
  {
   "cell_type": "code",
   "execution_count": 279,
   "metadata": {},
   "outputs": [],
   "source": [
    "# The right accuracy is 0.502"
   ]
  },
  {
   "cell_type": "markdown",
   "metadata": {},
   "source": [
    "## Sequence-only model"
   ]
  },
  {
   "cell_type": "code",
   "execution_count": 95,
   "metadata": {},
   "outputs": [],
   "source": [
    "ln_seqonly = LogitNet(alpha=0.5, n_splits=10, n_jobs=5)"
   ]
  },
  {
   "cell_type": "code",
   "execution_count": 96,
   "metadata": {},
   "outputs": [
    {
     "name": "stdout",
     "output_type": "stream",
     "text": [
      "CPU times: user 27min 28s, sys: 7.8 s, total: 27min 36s\n",
      "Wall time: 6min 9s\n"
     ]
    },
    {
     "data": {
      "text/plain": [
       "LogitNet(alpha=0.5, cut_point=1.0, fit_intercept=True, lambda_path=None,\n",
       "     max_iter=100000, min_lambda_ratio=0.0001, n_jobs=5, n_lambda=100,\n",
       "     n_splits=10, random_state=None, scoring=None, standardize=True,\n",
       "     tol=1e-07, verbose=False)"
      ]
     },
     "execution_count": 96,
     "metadata": {},
     "output_type": "execute_result"
    }
   ],
   "source": [
    "%time ln_seqonly.fit(train_sparse_seqonly[0], train_seqonly[1])"
   ]
  },
  {
   "cell_type": "code",
   "execution_count": 97,
   "metadata": {},
   "outputs": [],
   "source": [
    "y_pred_seqonly = ln_seqonly.predict_proba(test_sparse_seqonly[0])[:, 1]"
   ]
  },
  {
   "cell_type": "code",
   "execution_count": 98,
   "metadata": {},
   "outputs": [
    {
     "data": {
      "text/plain": [
       "0.41880125922995781"
      ]
     },
     "execution_count": 98,
     "metadata": {},
     "output_type": "execute_result"
    }
   ],
   "source": [
    "cem.auprc(test_seqonly[1], y_pred_seqonly)"
   ]
  },
  {
   "cell_type": "code",
   "execution_count": 99,
   "metadata": {},
   "outputs": [
    {
     "data": {
      "text/plain": [
       "0.8743892308946899"
      ]
     },
     "execution_count": 99,
     "metadata": {},
     "output_type": "execute_result"
    }
   ],
   "source": [
    "cem.auc(test_seqonly[1], y_pred_seqonly)"
   ]
  },
  {
   "cell_type": "code",
   "execution_count": 101,
   "metadata": {},
   "outputs": [],
   "source": [
    "## iDeep results"
   ]
  },
  {
   "cell_type": "markdown",
   "metadata": {},
   "source": [
    "### Kmer results"
   ]
  },
  {
   "cell_type": "code",
   "execution_count": 104,
   "metadata": {},
   "outputs": [],
   "source": [
    "import os"
   ]
  },
  {
   "cell_type": "code",
   "execution_count": 173,
   "metadata": {},
   "outputs": [],
   "source": [
    "from concise.utils.helper import read_json"
   ]
  },
  {
   "cell_type": "code",
   "execution_count": 224,
   "metadata": {},
   "outputs": [],
   "source": [
    "PROC_DIR = \"../../data/clip/\""
   ]
  },
  {
   "cell_type": "code",
   "execution_count": 225,
   "metadata": {},
   "outputs": [],
   "source": [
    "proteins = os.listdir(PROC_DIR)"
   ]
  },
  {
   "cell_type": "code",
   "execution_count": 226,
   "metadata": {},
   "outputs": [],
   "source": [
    "kmer = 6\n",
    "\n",
    "glob_pattern = PROC_DIR + \"evaluation/{protein}/kmer_k={kmer}_pos={pos}.json\""
   ]
  },
  {
   "cell_type": "code",
   "execution_count": 190,
   "metadata": {},
   "outputs": [
    {
     "data": {
      "text/plain": [
       "('../../data/clip/evaluation/18_ICLIP_hnRNPL_Hela_group_3975_all-hnRNPL-Hela-hg19_sum_G_hg19--ensembl59_from_2337-2339-741_bedGraph-cDNA-hits-in-genome/kmer_k=6_pos=seq.json',\n",
       " ['18_ICLIP_hnRNPL_Hela_group_3975_all-hnRNPL-Hela-hg19_sum_G_hg19--ensembl59_from_2337-2339-741_bedGraph-cDNA-hits-in-genome',\n",
       "  'seq',\n",
       "  '6'])"
      ]
     },
     "execution_count": 190,
     "metadata": {},
     "output_type": "execute_result"
    }
   ],
   "source": [
    "next(listfiles(glob_pattern))"
   ]
  },
  {
   "cell_type": "code",
   "execution_count": 177,
   "metadata": {},
   "outputs": [],
   "source": [
    "from snakemake.utils import listfiles"
   ]
  },
  {
   "cell_type": "code",
   "execution_count": 191,
   "metadata": {},
   "outputs": [],
   "source": [
    "def load_file(fname, args):\n",
    "    arg_names = [\"protein\", \"pos\", \"kmer\"]\n",
    "    return {**read_json(fname), **dict(zip(arg_names, args))}"
   ]
  },
  {
   "cell_type": "code",
   "execution_count": 237,
   "metadata": {},
   "outputs": [
    {
     "name": "stdout",
     "output_type": "stream",
     "text": [
      "../../data/clip//iDeep_seq_only/10_PARCLIP_ELAVL1A_hg19.csv\r\n"
     ]
    }
   ],
   "source": [
    "ls $PROC_DIR/iDeep_seq_only/10_PARCLIP_ELAVL1A_hg19.csv"
   ]
  },
  {
   "cell_type": "markdown",
   "metadata": {},
   "source": [
    "### Using a sequence only-DNN on iDeep daa"
   ]
  },
  {
   "cell_type": "code",
   "execution_count": 238,
   "metadata": {},
   "outputs": [],
   "source": [
    "from glob import glob"
   ]
  },
  {
   "cell_type": "code",
   "execution_count": 242,
   "metadata": {},
   "outputs": [],
   "source": [
    "auprc_list = []\n",
    "for fname in glob(os.path.join(PROC_DIR, \"iDeep_seq_only/*.csv\")):\n",
    "    dt = pd.read_csv(fname)\n",
    "    auprc_list.append(cem.auprc(dt.y_true, dt.y_pred_proba))"
   ]
  },
  {
   "cell_type": "code",
   "execution_count": 245,
   "metadata": {},
   "outputs": [
    {
     "data": {
      "text/plain": [
       "0.6252644896091234"
      ]
     },
     "execution_count": 245,
     "metadata": {},
     "output_type": "execute_result"
    }
   ],
   "source": [
    "np.array(auprc_list).mean()"
   ]
  },
  {
   "cell_type": "markdown",
   "metadata": {},
   "source": [
    "### Exclude features"
   ]
  },
  {
   "cell_type": "code",
   "execution_count": 210,
   "metadata": {},
   "outputs": [],
   "source": [
    "df = pd.DataFrame([load_file(fname, args) for fname, args in listfiles(glob_pattern)])"
   ]
  },
  {
   "cell_type": "code",
   "execution_count": 214,
   "metadata": {},
   "outputs": [],
   "source": [
    "# fix the labelling\n",
    "df.pos = df.pos.str.replace(\"seq+dist\", \"sequence\")\n",
    "\n",
    "df.pos = df.pos.str.replace(\"seq$\", \"sequence + distance\", )"
   ]
  },
  {
   "cell_type": "code",
   "execution_count": 213,
   "metadata": {},
   "outputs": [
    {
     "data": {
      "text/html": [
       "<div>\n",
       "<style>\n",
       "    .dataframe thead tr:only-child th {\n",
       "        text-align: right;\n",
       "    }\n",
       "\n",
       "    .dataframe thead th {\n",
       "        text-align: left;\n",
       "    }\n",
       "\n",
       "    .dataframe tbody tr th {\n",
       "        vertical-align: top;\n",
       "    }\n",
       "</style>\n",
       "<table border=\"1\" class=\"dataframe\">\n",
       "  <thead>\n",
       "    <tr style=\"text-align: right;\">\n",
       "      <th></th>\n",
       "      <th>auc</th>\n",
       "      <th>auprc</th>\n",
       "    </tr>\n",
       "    <tr>\n",
       "      <th>pos</th>\n",
       "      <th></th>\n",
       "      <th></th>\n",
       "    </tr>\n",
       "  </thead>\n",
       "  <tbody>\n",
       "    <tr>\n",
       "      <th>seq+dist</th>\n",
       "      <td>0.7608</td>\n",
       "      <td>0.5554</td>\n",
       "    </tr>\n",
       "    <tr>\n",
       "      <th>sequence + distance</th>\n",
       "      <td>0.8647</td>\n",
       "      <td>0.6602</td>\n",
       "    </tr>\n",
       "  </tbody>\n",
       "</table>\n",
       "</div>"
      ],
      "text/plain": [
       "                        auc   auprc\n",
       "pos                                \n",
       "seq+dist             0.7608  0.5554\n",
       "sequence + distance  0.8647  0.6602"
      ]
     },
     "execution_count": 213,
     "metadata": {},
     "output_type": "execute_result"
    }
   ],
   "source": [
    "df.groupby([\"pos\"]).mean()"
   ]
  },
  {
   "cell_type": "markdown",
   "metadata": {},
   "source": [
    "### Seq-only dnn"
   ]
  },
  {
   "cell_type": "markdown",
   "metadata": {},
   "source": [
    "### Eclip"
   ]
  },
  {
   "cell_type": "code",
   "execution_count": 261,
   "metadata": {},
   "outputs": [],
   "source": [
    "DIR_ROOT = os.path.expanduser(\"~/projects-work/code_spline_trans/data/eclip/\")\n",
    "PROC_DIR = DIR_ROOT + \"/processed\"\n",
    "SAVE_ROOT = os.path.join(PROC_DIR, \"feature_glmnet_baseline_exp\")\n",
    "glob_pattern = SAVE_ROOT + \"/evaluation/{protein}/kmer_k={kmer}_pos={pos}.json\""
   ]
  },
  {
   "cell_type": "code",
   "execution_count": 262,
   "metadata": {},
   "outputs": [],
   "source": [
    "df = pd.DataFrame([load_file(fname, args) for fname, args in listfiles(glob_pattern)])"
   ]
  },
  {
   "cell_type": "code",
   "execution_count": 263,
   "metadata": {},
   "outputs": [],
   "source": [
    "df.pos = df.pos.str.replace(\"seq+dist\", \"sequence\")\n",
    "\n",
    "df.pos = df.pos.str.replace(\"seq$\", \"sequence + distance\", )"
   ]
  },
  {
   "cell_type": "code",
   "execution_count": 264,
   "metadata": {},
   "outputs": [
    {
     "data": {
      "text/html": [
       "<div>\n",
       "<style>\n",
       "    .dataframe thead tr:only-child th {\n",
       "        text-align: right;\n",
       "    }\n",
       "\n",
       "    .dataframe thead th {\n",
       "        text-align: left;\n",
       "    }\n",
       "\n",
       "    .dataframe tbody tr th {\n",
       "        vertical-align: top;\n",
       "    }\n",
       "</style>\n",
       "<table border=\"1\" class=\"dataframe\">\n",
       "  <thead>\n",
       "    <tr style=\"text-align: right;\">\n",
       "      <th></th>\n",
       "      <th>auc</th>\n",
       "      <th>auprc</th>\n",
       "      <th>kmer</th>\n",
       "      <th>pos</th>\n",
       "      <th>protein</th>\n",
       "    </tr>\n",
       "  </thead>\n",
       "  <tbody>\n",
       "    <tr>\n",
       "      <th>0</th>\n",
       "      <td>0.8172</td>\n",
       "      <td>0.5064</td>\n",
       "      <td>6</td>\n",
       "      <td>sequence + distance</td>\n",
       "      <td>DHX30</td>\n",
       "    </tr>\n",
       "    <tr>\n",
       "      <th>1</th>\n",
       "      <td>0.6841</td>\n",
       "      <td>0.3693</td>\n",
       "      <td>6</td>\n",
       "      <td>seq+dist</td>\n",
       "      <td>DHX30</td>\n",
       "    </tr>\n",
       "    <tr>\n",
       "      <th>2</th>\n",
       "      <td>0.7953</td>\n",
       "      <td>0.5120</td>\n",
       "      <td>6</td>\n",
       "      <td>seq+dist</td>\n",
       "      <td>ZRANB2</td>\n",
       "    </tr>\n",
       "    <tr>\n",
       "      <th>...</th>\n",
       "      <td>...</td>\n",
       "      <td>...</td>\n",
       "      <td>...</td>\n",
       "      <td>...</td>\n",
       "      <td>...</td>\n",
       "    </tr>\n",
       "    <tr>\n",
       "      <th>221</th>\n",
       "      <td>0.9092</td>\n",
       "      <td>0.7347</td>\n",
       "      <td>6</td>\n",
       "      <td>sequence + distance</td>\n",
       "      <td>BCCIP</td>\n",
       "    </tr>\n",
       "    <tr>\n",
       "      <th>222</th>\n",
       "      <td>0.7699</td>\n",
       "      <td>0.4509</td>\n",
       "      <td>6</td>\n",
       "      <td>seq+dist</td>\n",
       "      <td>MTPAP</td>\n",
       "    </tr>\n",
       "    <tr>\n",
       "      <th>223</th>\n",
       "      <td>0.8677</td>\n",
       "      <td>0.6473</td>\n",
       "      <td>6</td>\n",
       "      <td>sequence + distance</td>\n",
       "      <td>MTPAP</td>\n",
       "    </tr>\n",
       "  </tbody>\n",
       "</table>\n",
       "<p>224 rows × 5 columns</p>\n",
       "</div>"
      ],
      "text/plain": [
       "        auc   auprc kmer                  pos protein\n",
       "0    0.8172  0.5064    6  sequence + distance   DHX30\n",
       "1    0.6841  0.3693    6             seq+dist   DHX30\n",
       "2    0.7953  0.5120    6             seq+dist  ZRANB2\n",
       "..      ...     ...  ...                  ...     ...\n",
       "221  0.9092  0.7347    6  sequence + distance   BCCIP\n",
       "222  0.7699  0.4509    6             seq+dist   MTPAP\n",
       "223  0.8677  0.6473    6  sequence + distance   MTPAP\n",
       "\n",
       "[224 rows x 5 columns]"
      ]
     },
     "execution_count": 264,
     "metadata": {},
     "output_type": "execute_result"
    }
   ],
   "source": [
    "df"
   ]
  },
  {
   "cell_type": "code",
   "execution_count": 265,
   "metadata": {},
   "outputs": [
    {
     "data": {
      "text/html": [
       "<div>\n",
       "<style>\n",
       "    .dataframe thead tr:only-child th {\n",
       "        text-align: right;\n",
       "    }\n",
       "\n",
       "    .dataframe thead th {\n",
       "        text-align: left;\n",
       "    }\n",
       "\n",
       "    .dataframe tbody tr th {\n",
       "        vertical-align: top;\n",
       "    }\n",
       "</style>\n",
       "<table border=\"1\" class=\"dataframe\">\n",
       "  <thead>\n",
       "    <tr style=\"text-align: right;\">\n",
       "      <th></th>\n",
       "      <th>auc</th>\n",
       "      <th>auprc</th>\n",
       "    </tr>\n",
       "    <tr>\n",
       "      <th>pos</th>\n",
       "      <th></th>\n",
       "      <th></th>\n",
       "    </tr>\n",
       "  </thead>\n",
       "  <tbody>\n",
       "    <tr>\n",
       "      <th>seq+dist</th>\n",
       "      <td>0.7708</td>\n",
       "      <td>0.5566</td>\n",
       "    </tr>\n",
       "    <tr>\n",
       "      <th>sequence + distance</th>\n",
       "      <td>0.8728</td>\n",
       "      <td>0.6773</td>\n",
       "    </tr>\n",
       "  </tbody>\n",
       "</table>\n",
       "</div>"
      ],
      "text/plain": [
       "                        auc   auprc\n",
       "pos                                \n",
       "seq+dist             0.7708  0.5566\n",
       "sequence + distance  0.8728  0.6773"
      ]
     },
     "execution_count": 265,
     "metadata": {},
     "output_type": "execute_result"
    }
   ],
   "source": [
    "df.groupby(\"pos\").mean()"
   ]
  },
  {
   "cell_type": "code",
   "execution_count": null,
   "metadata": {},
   "outputs": [],
   "source": []
  },
  {
   "cell_type": "code",
   "execution_count": null,
   "metadata": {},
   "outputs": [],
   "source": []
  }
 ],
 "metadata": {
  "kernelspec": {
   "display_name": "Python [default]",
   "language": "python",
   "name": "python3"
  },
  "language_info": {
   "codemirror_mode": {
    "name": "ipython",
    "version": 3
   },
   "file_extension": ".py",
   "mimetype": "text/x-python",
   "name": "python",
   "nbconvert_exporter": "python",
   "pygments_lexer": "ipython3",
   "version": "3.6.1"
  }
 },
 "nbformat": 4,
 "nbformat_minor": 2
}
