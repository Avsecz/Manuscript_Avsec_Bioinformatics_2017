{
 "cells": [
  {
   "cell_type": "code",
   "execution_count": 1,
   "metadata": {
    "collapsed": false
   },
   "outputs": [
    {
     "name": "stderr",
     "output_type": "stream",
     "text": [
      "Using TensorFlow backend.\n"
     ]
    }
   ],
   "source": [
    "import concise"
   ]
  },
  {
   "cell_type": "code",
   "execution_count": 6,
   "metadata": {
    "collapsed": true
   },
   "outputs": [],
   "source": [
    "from concise.data import attract"
   ]
  },
  {
   "cell_type": "code",
   "execution_count": 8,
   "metadata": {
    "collapsed": false
   },
   "outputs": [],
   "source": [
    "df = attract.get_metadata()"
   ]
  },
  {
   "cell_type": "code",
   "execution_count": 11,
   "metadata": {
    "collapsed": false
   },
   "outputs": [],
   "source": [
    "df_human = df[df.Organism == \"Homo_sapiens\"]"
   ]
  },
  {
   "cell_type": "code",
   "execution_count": 32,
   "metadata": {
    "collapsed": true
   },
   "outputs": [],
   "source": [
    "DIR_OUT = \"/s/project/deepcis/public/attract/processed/\""
   ]
  },
  {
   "cell_type": "code",
   "execution_count": 41,
   "metadata": {
    "collapsed": false
   },
   "outputs": [],
   "source": [
    "!mkdir -p {DIR_OUT}"
   ]
  },
  {
   "cell_type": "code",
   "execution_count": 42,
   "metadata": {
    "collapsed": true
   },
   "outputs": [],
   "source": [
    "!mkdir -p {DIR_OUT}/pwm/"
   ]
  },
  {
   "cell_type": "code",
   "execution_count": 43,
   "metadata": {
    "collapsed": false
   },
   "outputs": [
    {
     "data": {
      "text/html": [
       "<div>\n",
       "<table border=\"1\" class=\"dataframe\">\n",
       "  <thead>\n",
       "    <tr style=\"text-align: right;\">\n",
       "      <th></th>\n",
       "      <th>PWM_id</th>\n",
       "      <th>Gene_name</th>\n",
       "      <th>Gene_id</th>\n",
       "      <th>Mutated</th>\n",
       "      <th>Organism</th>\n",
       "      <th>Motif</th>\n",
       "      <th>Len</th>\n",
       "      <th>Experiment_description</th>\n",
       "      <th>Database</th>\n",
       "      <th>Pubmed</th>\n",
       "      <th>Experiment_description.1</th>\n",
       "      <th>Family</th>\n",
       "      <th>Score</th>\n",
       "    </tr>\n",
       "  </thead>\n",
       "  <tbody>\n",
       "    <tr>\n",
       "      <th>6</th>\n",
       "      <td>110</td>\n",
       "      <td>A1CF</td>\n",
       "      <td>ENSG00000148584</td>\n",
       "      <td>no</td>\n",
       "      <td>Homo_sapiens</td>\n",
       "      <td>UGAUCAGUAUA</td>\n",
       "      <td>11</td>\n",
       "      <td>UV cross-linking</td>\n",
       "      <td>R</td>\n",
       "      <td>10669759</td>\n",
       "      <td>UV cross-linking</td>\n",
       "      <td>RRM</td>\n",
       "      <td>1.000000**</td>\n",
       "    </tr>\n",
       "    <tr>\n",
       "      <th>7</th>\n",
       "      <td>M001_0.6</td>\n",
       "      <td>A1CF</td>\n",
       "      <td>ENSG00000148584</td>\n",
       "      <td>no</td>\n",
       "      <td>Homo_sapiens</td>\n",
       "      <td>AUAAUUA</td>\n",
       "      <td>7</td>\n",
       "      <td>RNAcompete</td>\n",
       "      <td>C</td>\n",
       "      <td>23846655</td>\n",
       "      <td>RNAcompete</td>\n",
       "      <td>RRM</td>\n",
       "      <td>0.126952</td>\n",
       "    </tr>\n",
       "    <tr>\n",
       "      <th>8</th>\n",
       "      <td>M001_0.6</td>\n",
       "      <td>A1CF</td>\n",
       "      <td>ENSG00000148584</td>\n",
       "      <td>no</td>\n",
       "      <td>Homo_sapiens</td>\n",
       "      <td>UUAAUUA</td>\n",
       "      <td>7</td>\n",
       "      <td>RNAcompete</td>\n",
       "      <td>C</td>\n",
       "      <td>23846655</td>\n",
       "      <td>RNAcompete</td>\n",
       "      <td>RRM</td>\n",
       "      <td>0.126411</td>\n",
       "    </tr>\n",
       "    <tr>\n",
       "      <th>...</th>\n",
       "      <td>...</td>\n",
       "      <td>...</td>\n",
       "      <td>...</td>\n",
       "      <td>...</td>\n",
       "      <td>...</td>\n",
       "      <td>...</td>\n",
       "      <td>...</td>\n",
       "      <td>...</td>\n",
       "      <td>...</td>\n",
       "      <td>...</td>\n",
       "      <td>...</td>\n",
       "      <td>...</td>\n",
       "      <td>...</td>\n",
       "    </tr>\n",
       "    <tr>\n",
       "      <th>4879</th>\n",
       "      <td>1396</td>\n",
       "      <td>HNRNPAB</td>\n",
       "      <td>ENSG00000197451</td>\n",
       "      <td>no</td>\n",
       "      <td>Homo_sapiens</td>\n",
       "      <td>AUAGCA</td>\n",
       "      <td>6</td>\n",
       "      <td>In vitro splicing assays</td>\n",
       "      <td>AEDB</td>\n",
       "      <td>12426391</td>\n",
       "      <td>other</td>\n",
       "      <td>RRM</td>\n",
       "      <td>1.000000**</td>\n",
       "    </tr>\n",
       "    <tr>\n",
       "      <th>4880</th>\n",
       "      <td>1397</td>\n",
       "      <td>HNRNPA1</td>\n",
       "      <td>ENSG00000135486</td>\n",
       "      <td>no</td>\n",
       "      <td>Homo_sapiens</td>\n",
       "      <td>UAGG</td>\n",
       "      <td>4</td>\n",
       "      <td>Immunoprecipitation;U...</td>\n",
       "      <td>AEDB</td>\n",
       "      <td>15506926</td>\n",
       "      <td>UV cross-linking</td>\n",
       "      <td>RRM</td>\n",
       "      <td>1.000000**</td>\n",
       "    </tr>\n",
       "    <tr>\n",
       "      <th>4881</th>\n",
       "      <td>1398</td>\n",
       "      <td>PTBP1</td>\n",
       "      <td>ENSG00000011304</td>\n",
       "      <td>no</td>\n",
       "      <td>Homo_sapiens</td>\n",
       "      <td>UUCUUC</td>\n",
       "      <td>6</td>\n",
       "      <td>In vivo splicing assa...</td>\n",
       "      <td>AEDB</td>\n",
       "      <td>14966131</td>\n",
       "      <td>UV cross-linking</td>\n",
       "      <td>RRM</td>\n",
       "      <td>1.000000**</td>\n",
       "    </tr>\n",
       "  </tbody>\n",
       "</table>\n",
       "<p>3256 rows × 13 columns</p>\n",
       "</div>"
      ],
      "text/plain": [
       "        PWM_id Gene_name          Gene_id Mutated      Organism        Motif  Len  \\\n",
       "6          110      A1CF  ENSG00000148584      no  Homo_sapiens  UGAUCAGUAUA   11   \n",
       "7     M001_0.6      A1CF  ENSG00000148584      no  Homo_sapiens      AUAAUUA    7   \n",
       "8     M001_0.6      A1CF  ENSG00000148584      no  Homo_sapiens      UUAAUUA    7   \n",
       "...        ...       ...              ...     ...           ...          ...  ...   \n",
       "4879      1396   HNRNPAB  ENSG00000197451      no  Homo_sapiens       AUAGCA    6   \n",
       "4880      1397   HNRNPA1  ENSG00000135486      no  Homo_sapiens         UAGG    4   \n",
       "4881      1398     PTBP1  ENSG00000011304      no  Homo_sapiens       UUCUUC    6   \n",
       "\n",
       "        Experiment_description Database    Pubmed Experiment_description.1 Family       Score  \n",
       "6             UV cross-linking        R  10669759         UV cross-linking    RRM  1.000000**  \n",
       "7                   RNAcompete        C  23846655               RNAcompete    RRM    0.126952  \n",
       "8                   RNAcompete        C  23846655               RNAcompete    RRM    0.126411  \n",
       "...                        ...      ...       ...                      ...    ...         ...  \n",
       "4879  In vitro splicing assays     AEDB  12426391                    other    RRM  1.000000**  \n",
       "4880  Immunoprecipitation;U...     AEDB  15506926         UV cross-linking    RRM  1.000000**  \n",
       "4881  In vivo splicing assa...     AEDB  14966131         UV cross-linking    RRM  1.000000**  \n",
       "\n",
       "[3256 rows x 13 columns]"
      ]
     },
     "execution_count": 43,
     "metadata": {},
     "output_type": "execute_result"
    }
   ],
   "source": [
    "df_human"
   ]
  },
  {
   "cell_type": "code",
   "execution_count": 44,
   "metadata": {
    "collapsed": false
   },
   "outputs": [],
   "source": [
    "pwm_list = attract.get_pwm_list(df_human.PWM_id)"
   ]
  },
  {
   "cell_type": "code",
   "execution_count": 45,
   "metadata": {
    "collapsed": false
   },
   "outputs": [],
   "source": [
    "df_human.to_csv(DIR_OUT + \"metadata.csv\")"
   ]
  },
  {
   "cell_type": "code",
   "execution_count": 46,
   "metadata": {
    "collapsed": false
   },
   "outputs": [],
   "source": [
    "for pwm in pwm_list:\n",
    "    np.savetxt(DIR_OUT + \"/pwm/\" + pwm.name+ \".txt\", pwm.pwm)"
   ]
  }
 ],
 "metadata": {
  "kernelspec": {
   "display_name": "Python [default]",
   "language": "python",
   "name": "python3"
  },
  "language_info": {
   "codemirror_mode": {
    "name": "ipython",
    "version": 3
   },
   "file_extension": ".py",
   "mimetype": "text/x-python",
   "name": "python",
   "nbconvert_exporter": "python",
   "pygments_lexer": "ipython3",
   "version": "3.5.2"
  }
 },
 "nbformat": 4,
 "nbformat_minor": 0
}
