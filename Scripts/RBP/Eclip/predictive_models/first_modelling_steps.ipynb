{
 "cells": [
  {
   "cell_type": "code",
   "execution_count": 6,
   "metadata": {
    "collapsed": false
   },
   "outputs": [
    {
     "name": "stdout",
     "output_type": "stream",
     "text": [
      "The autoreload extension is already loaded. To reload it, use:\n",
      "  %reload_ext autoreload\n"
     ]
    }
   ],
   "source": [
    "%load_ext autoreload\n",
    "%autoreload 2\n",
    "import model\n",
    "import data\n",
    "import concise.metrics as cm\n",
    "import concise.eval_metrics as cem\n",
    "from helper import *"
   ]
  },
  {
   "cell_type": "markdown",
   "metadata": {},
   "source": [
    "## Load the data"
   ]
  },
  {
   "cell_type": "code",
   "execution_count": 317,
   "metadata": {
    "collapsed": false
   },
   "outputs": [
    {
     "name": "stdout",
     "output_type": "stream",
     "text": [
      "WARNING, x.max() > end for some elements. Truncating them to end: x[x > end] = end\n",
      "WARNING, x.max() > end for some elements. Truncating them to end: x[x > end] = end\n",
      "WARNING, x.max() > end for some elements. Truncating them to end: x[x > end] = end\n",
      "WARNING, x.max() > end for some elements. Truncating them to end: x[x > end] = end\n",
      "WARNING, x.max() > end for some elements. Truncating them to end: x[x > end] = end\n",
      "WARNING, x.max() > end for some elements. Truncating them to end: x[x > end] = end\n"
     ]
    }
   ],
   "source": [
    "rbp_name = \"GEMIN5\"\n",
    "train, valid, test = data.data(rbp_name, pos_as_track=True)"
   ]
  },
  {
   "cell_type": "code",
   "execution_count": 309,
   "metadata": {
    "collapsed": false
   },
   "outputs": [
    {
     "data": {
      "text/plain": [
       "array([[[ 0.    ,  0.    ,  0.0007, ...,  0.    ,  0.    ,  0.    ]],\n",
       "\n",
       "       [[ 0.    ,  0.    ,  0.0003, ...,  0.    ,  0.    ,  0.    ]],\n",
       "\n",
       "       [[ 0.    ,  0.    ,  0.    , ...,  0.2233,  0.0002,  0.    ]],\n",
       "\n",
       "       ..., \n",
       "       [[ 0.    ,  0.    ,  0.    , ...,  0.    ,  0.    ,  0.    ]],\n",
       "\n",
       "       [[ 0.    ,  0.    ,  0.    , ...,  0.5079,  0.0273,  0.    ]],\n",
       "\n",
       "       [[ 0.    ,  0.    ,  0.    , ...,  0.0031,  0.    ,  0.    ]]], dtype=float32)"
      ]
     },
     "execution_count": 309,
     "metadata": {},
     "output_type": "execute_result"
    }
   ],
   "source": [
    "test[0][\"dist_tss_log\"]"
   ]
  },
  {
   "cell_type": "markdown",
   "metadata": {},
   "source": [
    "### Start tensorboard"
   ]
  },
  {
   "cell_type": "code",
   "execution_count": 310,
   "metadata": {
    "collapsed": false
   },
   "outputs": [
    {
     "name": "stdout",
     "output_type": "stream",
     "text": [
      "data.py\t\t\t     gksvm.R\t    logs\r\n",
      "devel_data.ipynb\t     helper.py\t    model.py\r\n",
      "first_modelling_steps.ipynb  kmer_glmnet.R  __pycache__\r\n"
     ]
    }
   ],
   "source": [
    "!ls"
   ]
  },
  {
   "cell_type": "code",
   "execution_count": 311,
   "metadata": {
    "collapsed": true
   },
   "outputs": [],
   "source": [
    "import subprocess\n",
    "def TB(cleanup=False):\n",
    "    #import webbrowser\n",
    "    #webbrowser.open('http://127.0.1.1:6006')\n",
    "    if cleanup:\n",
    "        !rm -Rf logs/\n",
    "    server = subprocess.Popen([\"tensorboard\", \"--logdir=logs\", \"--reload_interval=5\"])\n",
    "    return server"
   ]
  },
  {
   "cell_type": "code",
   "execution_count": 312,
   "metadata": {
    "collapsed": false
   },
   "outputs": [
    {
     "name": "stdout",
     "output_type": "stream",
     "text": [
      "rm: cannot remove ‘logs/7d84aa3f-b5de-4dee-9db7-3ec1d7958121’: Directory not empty\r\n",
      "rm: cannot remove ‘logs/9af48f15-3c6e-4c8b-bdf0-a769ebe81781’: Directory not empty\r\n",
      "rm: cannot remove ‘logs/76109eb7-217d-40f1-9d0a-8b9eb74cf752’: Directory not empty\r\n",
      "rm: cannot remove ‘logs/430eb65d-8da3-434f-8b8e-5e826cbec418’: Directory not empty\r\n",
      "rm: cannot remove ‘logs/fac5390f-2057-41be-87c4-5045c3084d2c’: Directory not empty\r\n",
      "rm: cannot remove ‘logs/bd76681c-724c-465b-b478-aa77b60d45cf’: Directory not empty\r\n",
      "rm: cannot remove ‘logs/e7ff5a33-b10c-46d7-8233-d1d132166462’: Directory not empty\r\n",
      "rm: cannot remove ‘logs/19dc1353-4bf2-4677-905a-f69705b939ed’: Directory not empty\r\n",
      "rm: cannot remove ‘logs/056fc911-e7d6-4463-9f0e-41ab223050b7’: Directory not empty\r\n",
      "rm: cannot remove ‘logs/8a2b472a-ab82-4760-a80d-c6d9e87d70a2’: Directory not empty\r\n",
      "rm: cannot remove ‘logs/76ed2e33-36b3-410a-9785-8a93e6e706e0/.nfs00000000014c06c200000188’: Device or resource busy\r\n",
      "rm: cannot remove ‘logs/41464a7d-a20a-46e3-8258-6afb0a428112’: Directory not empty\r\n",
      "rm: cannot remove ‘logs/c7be67fb-aabe-400c-8caa-a77f64132f12/.nfs00000000014c07c000000189’: Device or resource busy\r\n",
      "rm: cannot remove ‘logs/f5b5c6ee-9765-4eeb-9396-7b67faabe732/.nfs00000000014c07c30000018a’: Device or resource busy\r\n",
      "rm: cannot remove ‘logs/ee4dd495-7e25-4104-9e8d-f35970f2b25d’: Directory not empty\r\n",
      "rm: cannot remove ‘logs/31778321-285d-4cb2-8a16-0db23dbf8e81’: Directory not empty\r\n",
      "rm: cannot remove ‘logs/100fbbbc-0be0-4835-bee2-3272c5622468’: Directory not empty\r\n",
      "rm: cannot remove ‘logs/ffc93998-ede2-4713-ba43-91b345783ec1’: Directory not empty\r\n",
      "rm: cannot remove ‘logs/e2d3c62b-616a-485e-a57a-4d553b81837b’: Directory not empty\r\n",
      "rm: cannot remove ‘logs/fe470edf-f0bf-4b9b-9c61-59b573c91a1b’: Directory not empty\r\n",
      "rm: cannot remove ‘logs/49e97fd1-898a-4ac0-8753-fa3f602b3eba’: Directory not empty\r\n",
      "rm: cannot remove ‘logs/994091b9-dfdb-4c4b-82cc-e93241c12d3e’: Directory not empty\r\n",
      "rm: cannot remove ‘logs/0025cde7-0b41-479d-879f-89c149434b0e’: Directory not empty\r\n",
      "rm: cannot remove ‘logs/45d049fb-dc02-4bc7-b9c5-b831e87e7342’: Directory not empty\r\n",
      "rm: cannot remove ‘logs/225d256f-df5b-4b1e-84af-4e74ef1340d0/.nfs00000000005400f50000018b’: Device or resource busy\r\n",
      "rm: cannot remove ‘logs/0f242da1-5158-4b5b-a4d6-ddf6b75a8ac7’: Directory not empty\r\n"
     ]
    }
   ],
   "source": [
    "tbp = TB(True)"
   ]
  },
  {
   "cell_type": "markdown",
   "metadata": {},
   "source": [
    "[tensorboard link](http://localhost:6006)"
   ]
  },
  {
   "cell_type": "code",
   "execution_count": 67,
   "metadata": {
    "collapsed": true
   },
   "outputs": [],
   "source": [
    "tbp.kill() # Stop tensorboard"
   ]
  },
  {
   "cell_type": "markdown",
   "metadata": {},
   "source": [
    "## Start training"
   ]
  },
  {
   "cell_type": "code",
   "execution_count": 318,
   "metadata": {
    "collapsed": false
   },
   "outputs": [],
   "source": [
    "m = model.model(train, \n",
    "                filters=20,\n",
    "                internal_pos={\"name\": \"maxpool+weight_sum\", \"pool_size\": 4},\n",
    "                external_pos={\"scale\": \"log\", \"units\": 10},\n",
    "                dropout_rate=0.3,\n",
    "                n_hidden=100,\n",
    "                use_batchnorm=True)"
   ]
  },
  {
   "cell_type": "code",
   "execution_count": 321,
   "metadata": {
    "collapsed": false
   },
   "outputs": [
    {
     "name": "stdout",
     "output_type": "stream",
     "text": [
      "____________________________________________________________________________________________________\n",
      "Layer (type)                     Output Shape          Param #     Connected to                     \n",
      "====================================================================================================\n",
      "seq (InputLayer)                 (None, 101, 4)        0                                            \n",
      "____________________________________________________________________________________________________\n",
      "conv_dna_64 (ConvDNA)            (None, 92, 20)        820         seq[0][0]                        \n",
      "____________________________________________________________________________________________________\n",
      "batch_normalization_77 (BatchNor (None, 92, 20)        368         conv_dna_64[0][0]                \n",
      "____________________________________________________________________________________________________\n",
      "dropout_119 (Dropout)            (None, 92, 20)        0           batch_normalization_77[0][0]     \n",
      "____________________________________________________________________________________________________\n",
      "conv1d_42 (Conv1D)               (None, 92, 20)        420         dropout_119[0][0]                \n",
      "____________________________________________________________________________________________________\n",
      "dist_tss_log (InputLayer)        (None, 92, 10)        0                                            \n",
      "____________________________________________________________________________________________________\n",
      "dist_polya_log (InputLayer)      (None, 92, 10)        0                                            \n",
      "____________________________________________________________________________________________________\n",
      "batch_normalization_78 (BatchNor (None, 92, 20)        368         conv1d_42[0][0]                  \n",
      "____________________________________________________________________________________________________\n",
      "conv_splines_11 (ConvSplines)    (None, 92, 10)        110         dist_tss_log[0][0]               \n",
      "____________________________________________________________________________________________________\n",
      "conv_splines_12 (ConvSplines)    (None, 92, 10)        110         dist_polya_log[0][0]             \n",
      "____________________________________________________________________________________________________\n",
      "concatenate_7 (Concatenate)      (None, 92, 40)        0           batch_normalization_78[0][0]     \n",
      "                                                                   conv_splines_11[0][0]            \n",
      "                                                                   conv_splines_12[0][0]            \n",
      "____________________________________________________________________________________________________\n",
      "max_pooling1d_46 (MaxPooling1D)  (None, 23, 40)        0           concatenate_7[0][0]              \n",
      "____________________________________________________________________________________________________\n",
      "gam_smooth_7 (GAMSmooth)         (None, 23, 40)        400         max_pooling1d_46[0][0]           \n",
      "____________________________________________________________________________________________________\n",
      "global_sum_pooling1d_7 (GlobalSu (None, 40)            0           gam_smooth_7[0][0]               \n",
      "____________________________________________________________________________________________________\n",
      "batch_normalization_79 (BatchNor (None, 40)            160         global_sum_pooling1d_7[0][0]     \n",
      "____________________________________________________________________________________________________\n",
      "dropout_120 (Dropout)            (None, 40)            0           batch_normalization_79[0][0]     \n",
      "____________________________________________________________________________________________________\n",
      "dense_114 (Dense)                (None, 100)           4100        dropout_120[0][0]                \n",
      "____________________________________________________________________________________________________\n",
      "batch_normalization_80 (BatchNor (None, 100)           400         dense_114[0][0]                  \n",
      "____________________________________________________________________________________________________\n",
      "dropout_121 (Dropout)            (None, 100)           0           batch_normalization_80[0][0]     \n",
      "____________________________________________________________________________________________________\n",
      "dense_115 (Dense)                (None, 1)             101         dropout_121[0][0]                \n",
      "====================================================================================================\n",
      "Total params: 7,357\n",
      "Trainable params: 6,709\n",
      "Non-trainable params: 648\n",
      "____________________________________________________________________________________________________\n"
     ]
    }
   ],
   "source": [
    "m.summary()"
   ]
  },
  {
   "cell_type": "code",
   "execution_count": 322,
   "metadata": {
    "collapsed": true
   },
   "outputs": [],
   "source": [
    "from keras.callbacks import TensorBoard"
   ]
  },
  {
   "cell_type": "code",
   "execution_count": 323,
   "metadata": {
    "collapsed": false
   },
   "outputs": [],
   "source": [
    "upweight_pos = 1\n",
    "sample_weight=np.ones((train[1].shape[0])) + (upweight_pos - 1) * train[1].reshape((-1,))"
   ]
  },
  {
   "cell_type": "code",
   "execution_count": 324,
   "metadata": {
    "collapsed": true
   },
   "outputs": [],
   "source": [
    "from uuid import uuid4"
   ]
  },
  {
   "cell_type": "code",
   "execution_count": 326,
   "metadata": {
    "collapsed": false
   },
   "outputs": [
    {
     "name": "stdout",
     "output_type": "stream",
     "text": [
      "Train on 8908 samples, validate on 2936 samples\n",
      "Epoch 1/15\n",
      "8908/8908 [==============================] - 6s - loss: 0.5539 - acc: 0.7501 - val_loss: 1.7999 - val_acc: 0.2013\n",
      "Epoch 2/15\n",
      "8908/8908 [==============================] - 6s - loss: 0.4501 - acc: 0.8087 - val_loss: 0.4709 - val_acc: 0.8116\n",
      "Epoch 3/15\n",
      "8908/8908 [==============================] - 6s - loss: 0.4278 - acc: 0.8170 - val_loss: 0.4460 - val_acc: 0.8263\n",
      "Epoch 4/15\n",
      "8908/8908 [==============================] - 6s - loss: 0.4088 - acc: 0.8295 - val_loss: 0.3997 - val_acc: 0.8300\n",
      "Epoch 5/15\n",
      "8908/8908 [==============================] - 6s - loss: 0.4031 - acc: 0.8312 - val_loss: 0.3975 - val_acc: 0.8314\n",
      "Epoch 6/15\n",
      "8908/8908 [==============================] - 6s - loss: 0.3858 - acc: 0.8335 - val_loss: 0.4020 - val_acc: 0.8225\n",
      "Epoch 7/15\n",
      "8908/8908 [==============================] - 6s - loss: 0.3727 - acc: 0.8396 - val_loss: 0.3832 - val_acc: 0.8345\n",
      "Epoch 8/15\n",
      "2240/8908 [======>.......................] - ETA: 4s - loss: 0.3953 - acc: 0.8321"
     ]
    },
    {
     "ename": "KeyboardInterrupt",
     "evalue": "",
     "output_type": "error",
     "traceback": [
      "\u001b[0;31m---------------------------------------------------------------------------\u001b[0m",
      "\u001b[0;31mKeyboardInterrupt\u001b[0m                         Traceback (most recent call last)",
      "\u001b[0;32m<ipython-input-326-a6f0cc5fc098>\u001b[0m in \u001b[0;36m<module>\u001b[0;34m()\u001b[0m\n\u001b[1;32m      1\u001b[0m m.fit(train[0], train[1].astype(int), epochs=15, #sample_weight=sample_weight,\n\u001b[1;32m      2\u001b[0m       \u001b[0mvalidation_data\u001b[0m\u001b[0;34m=\u001b[0m\u001b[0;34m(\u001b[0m\u001b[0mvalid\u001b[0m\u001b[0;34m[\u001b[0m\u001b[0;36m0\u001b[0m\u001b[0;34m]\u001b[0m\u001b[0;34m,\u001b[0m \u001b[0mvalid\u001b[0m\u001b[0;34m[\u001b[0m\u001b[0;36m1\u001b[0m\u001b[0;34m]\u001b[0m\u001b[0;34m.\u001b[0m\u001b[0mastype\u001b[0m\u001b[0;34m(\u001b[0m\u001b[0mint\u001b[0m\u001b[0;34m)\u001b[0m\u001b[0;34m)\u001b[0m\u001b[0;34m,\u001b[0m\u001b[0;34m\u001b[0m\u001b[0m\n\u001b[0;32m----> 3\u001b[0;31m      callbacks=[TensorBoard(log_dir=\"logs/\" + str(uuid4()), histogram_freq=0, write_graph=False)])\n\u001b[0m",
      "\u001b[0;32m/opt/modules/i12g/anaconda/3-4.1.1/envs/gpu-tensorflow/lib/python3.5/site-packages/keras/engine/training.py\u001b[0m in \u001b[0;36mfit\u001b[0;34m(self, x, y, batch_size, epochs, verbose, callbacks, validation_split, validation_data, shuffle, class_weight, sample_weight, initial_epoch, **kwargs)\u001b[0m\n\u001b[1;32m   1496\u001b[0m                               \u001b[0mval_f\u001b[0m\u001b[0;34m=\u001b[0m\u001b[0mval_f\u001b[0m\u001b[0;34m,\u001b[0m \u001b[0mval_ins\u001b[0m\u001b[0;34m=\u001b[0m\u001b[0mval_ins\u001b[0m\u001b[0;34m,\u001b[0m \u001b[0mshuffle\u001b[0m\u001b[0;34m=\u001b[0m\u001b[0mshuffle\u001b[0m\u001b[0;34m,\u001b[0m\u001b[0;34m\u001b[0m\u001b[0m\n\u001b[1;32m   1497\u001b[0m                               \u001b[0mcallback_metrics\u001b[0m\u001b[0;34m=\u001b[0m\u001b[0mcallback_metrics\u001b[0m\u001b[0;34m,\u001b[0m\u001b[0;34m\u001b[0m\u001b[0m\n\u001b[0;32m-> 1498\u001b[0;31m                               initial_epoch=initial_epoch)\n\u001b[0m\u001b[1;32m   1499\u001b[0m \u001b[0;34m\u001b[0m\u001b[0m\n\u001b[1;32m   1500\u001b[0m     \u001b[0;32mdef\u001b[0m \u001b[0mevaluate\u001b[0m\u001b[0;34m(\u001b[0m\u001b[0mself\u001b[0m\u001b[0;34m,\u001b[0m \u001b[0mx\u001b[0m\u001b[0;34m,\u001b[0m \u001b[0my\u001b[0m\u001b[0;34m,\u001b[0m \u001b[0mbatch_size\u001b[0m\u001b[0;34m=\u001b[0m\u001b[0;36m32\u001b[0m\u001b[0;34m,\u001b[0m \u001b[0mverbose\u001b[0m\u001b[0;34m=\u001b[0m\u001b[0;36m1\u001b[0m\u001b[0;34m,\u001b[0m \u001b[0msample_weight\u001b[0m\u001b[0;34m=\u001b[0m\u001b[0;32mNone\u001b[0m\u001b[0;34m)\u001b[0m\u001b[0;34m:\u001b[0m\u001b[0;34m\u001b[0m\u001b[0m\n",
      "\u001b[0;32m/opt/modules/i12g/anaconda/3-4.1.1/envs/gpu-tensorflow/lib/python3.5/site-packages/keras/engine/training.py\u001b[0m in \u001b[0;36m_fit_loop\u001b[0;34m(self, f, ins, out_labels, batch_size, epochs, verbose, callbacks, val_f, val_ins, shuffle, callback_metrics, initial_epoch)\u001b[0m\n\u001b[1;32m   1150\u001b[0m                 \u001b[0mbatch_logs\u001b[0m\u001b[0;34m[\u001b[0m\u001b[0;34m'size'\u001b[0m\u001b[0;34m]\u001b[0m \u001b[0;34m=\u001b[0m \u001b[0mlen\u001b[0m\u001b[0;34m(\u001b[0m\u001b[0mbatch_ids\u001b[0m\u001b[0;34m)\u001b[0m\u001b[0;34m\u001b[0m\u001b[0m\n\u001b[1;32m   1151\u001b[0m                 \u001b[0mcallbacks\u001b[0m\u001b[0;34m.\u001b[0m\u001b[0mon_batch_begin\u001b[0m\u001b[0;34m(\u001b[0m\u001b[0mbatch_index\u001b[0m\u001b[0;34m,\u001b[0m \u001b[0mbatch_logs\u001b[0m\u001b[0;34m)\u001b[0m\u001b[0;34m\u001b[0m\u001b[0m\n\u001b[0;32m-> 1152\u001b[0;31m                 \u001b[0mouts\u001b[0m \u001b[0;34m=\u001b[0m \u001b[0mf\u001b[0m\u001b[0;34m(\u001b[0m\u001b[0mins_batch\u001b[0m\u001b[0;34m)\u001b[0m\u001b[0;34m\u001b[0m\u001b[0m\n\u001b[0m\u001b[1;32m   1153\u001b[0m                 \u001b[0;32mif\u001b[0m \u001b[0;32mnot\u001b[0m \u001b[0misinstance\u001b[0m\u001b[0;34m(\u001b[0m\u001b[0mouts\u001b[0m\u001b[0;34m,\u001b[0m \u001b[0mlist\u001b[0m\u001b[0;34m)\u001b[0m\u001b[0;34m:\u001b[0m\u001b[0;34m\u001b[0m\u001b[0m\n\u001b[1;32m   1154\u001b[0m                     \u001b[0mouts\u001b[0m \u001b[0;34m=\u001b[0m \u001b[0;34m[\u001b[0m\u001b[0mouts\u001b[0m\u001b[0;34m]\u001b[0m\u001b[0;34m\u001b[0m\u001b[0m\n",
      "\u001b[0;32m/opt/modules/i12g/anaconda/3-4.1.1/envs/gpu-tensorflow/lib/python3.5/site-packages/keras/backend/tensorflow_backend.py\u001b[0m in \u001b[0;36m__call__\u001b[0;34m(self, inputs)\u001b[0m\n\u001b[1;32m   2227\u001b[0m         \u001b[0msession\u001b[0m \u001b[0;34m=\u001b[0m \u001b[0mget_session\u001b[0m\u001b[0;34m(\u001b[0m\u001b[0;34m)\u001b[0m\u001b[0;34m\u001b[0m\u001b[0m\n\u001b[1;32m   2228\u001b[0m         updated = session.run(self.outputs + [self.updates_op],\n\u001b[0;32m-> 2229\u001b[0;31m                               feed_dict=feed_dict)\n\u001b[0m\u001b[1;32m   2230\u001b[0m         \u001b[0;32mreturn\u001b[0m \u001b[0mupdated\u001b[0m\u001b[0;34m[\u001b[0m\u001b[0;34m:\u001b[0m\u001b[0mlen\u001b[0m\u001b[0;34m(\u001b[0m\u001b[0mself\u001b[0m\u001b[0;34m.\u001b[0m\u001b[0moutputs\u001b[0m\u001b[0;34m)\u001b[0m\u001b[0;34m]\u001b[0m\u001b[0;34m\u001b[0m\u001b[0m\n\u001b[1;32m   2231\u001b[0m \u001b[0;34m\u001b[0m\u001b[0m\n",
      "\u001b[0;32m/opt/modules/i12g/anaconda/3-4.1.1/envs/gpu-tensorflow/lib/python3.5/site-packages/tensorflow/python/client/session.py\u001b[0m in \u001b[0;36mrun\u001b[0;34m(self, fetches, feed_dict, options, run_metadata)\u001b[0m\n\u001b[1;32m    776\u001b[0m     \u001b[0;32mtry\u001b[0m\u001b[0;34m:\u001b[0m\u001b[0;34m\u001b[0m\u001b[0m\n\u001b[1;32m    777\u001b[0m       result = self._run(None, fetches, feed_dict, options_ptr,\n\u001b[0;32m--> 778\u001b[0;31m                          run_metadata_ptr)\n\u001b[0m\u001b[1;32m    779\u001b[0m       \u001b[0;32mif\u001b[0m \u001b[0mrun_metadata\u001b[0m\u001b[0;34m:\u001b[0m\u001b[0;34m\u001b[0m\u001b[0m\n\u001b[1;32m    780\u001b[0m         \u001b[0mproto_data\u001b[0m \u001b[0;34m=\u001b[0m \u001b[0mtf_session\u001b[0m\u001b[0;34m.\u001b[0m\u001b[0mTF_GetBuffer\u001b[0m\u001b[0;34m(\u001b[0m\u001b[0mrun_metadata_ptr\u001b[0m\u001b[0;34m)\u001b[0m\u001b[0;34m\u001b[0m\u001b[0m\n",
      "\u001b[0;32m/opt/modules/i12g/anaconda/3-4.1.1/envs/gpu-tensorflow/lib/python3.5/site-packages/tensorflow/python/client/session.py\u001b[0m in \u001b[0;36m_run\u001b[0;34m(self, handle, fetches, feed_dict, options, run_metadata)\u001b[0m\n\u001b[1;32m    980\u001b[0m     \u001b[0;32mif\u001b[0m \u001b[0mfinal_fetches\u001b[0m \u001b[0;32mor\u001b[0m \u001b[0mfinal_targets\u001b[0m\u001b[0;34m:\u001b[0m\u001b[0;34m\u001b[0m\u001b[0m\n\u001b[1;32m    981\u001b[0m       results = self._do_run(handle, final_targets, final_fetches,\n\u001b[0;32m--> 982\u001b[0;31m                              feed_dict_string, options, run_metadata)\n\u001b[0m\u001b[1;32m    983\u001b[0m     \u001b[0;32melse\u001b[0m\u001b[0;34m:\u001b[0m\u001b[0;34m\u001b[0m\u001b[0m\n\u001b[1;32m    984\u001b[0m       \u001b[0mresults\u001b[0m \u001b[0;34m=\u001b[0m \u001b[0;34m[\u001b[0m\u001b[0;34m]\u001b[0m\u001b[0;34m\u001b[0m\u001b[0m\n",
      "\u001b[0;32m/opt/modules/i12g/anaconda/3-4.1.1/envs/gpu-tensorflow/lib/python3.5/site-packages/tensorflow/python/client/session.py\u001b[0m in \u001b[0;36m_do_run\u001b[0;34m(self, handle, target_list, fetch_list, feed_dict, options, run_metadata)\u001b[0m\n\u001b[1;32m   1030\u001b[0m     \u001b[0;32mif\u001b[0m \u001b[0mhandle\u001b[0m \u001b[0;32mis\u001b[0m \u001b[0;32mNone\u001b[0m\u001b[0;34m:\u001b[0m\u001b[0;34m\u001b[0m\u001b[0m\n\u001b[1;32m   1031\u001b[0m       return self._do_call(_run_fn, self._session, feed_dict, fetch_list,\n\u001b[0;32m-> 1032\u001b[0;31m                            target_list, options, run_metadata)\n\u001b[0m\u001b[1;32m   1033\u001b[0m     \u001b[0;32melse\u001b[0m\u001b[0;34m:\u001b[0m\u001b[0;34m\u001b[0m\u001b[0m\n\u001b[1;32m   1034\u001b[0m       return self._do_call(_prun_fn, self._session, handle, feed_dict,\n",
      "\u001b[0;32m/opt/modules/i12g/anaconda/3-4.1.1/envs/gpu-tensorflow/lib/python3.5/site-packages/tensorflow/python/client/session.py\u001b[0m in \u001b[0;36m_do_call\u001b[0;34m(self, fn, *args)\u001b[0m\n\u001b[1;32m   1037\u001b[0m   \u001b[0;32mdef\u001b[0m \u001b[0m_do_call\u001b[0m\u001b[0;34m(\u001b[0m\u001b[0mself\u001b[0m\u001b[0;34m,\u001b[0m \u001b[0mfn\u001b[0m\u001b[0;34m,\u001b[0m \u001b[0;34m*\u001b[0m\u001b[0margs\u001b[0m\u001b[0;34m)\u001b[0m\u001b[0;34m:\u001b[0m\u001b[0;34m\u001b[0m\u001b[0m\n\u001b[1;32m   1038\u001b[0m     \u001b[0;32mtry\u001b[0m\u001b[0;34m:\u001b[0m\u001b[0;34m\u001b[0m\u001b[0m\n\u001b[0;32m-> 1039\u001b[0;31m       \u001b[0;32mreturn\u001b[0m \u001b[0mfn\u001b[0m\u001b[0;34m(\u001b[0m\u001b[0;34m*\u001b[0m\u001b[0margs\u001b[0m\u001b[0;34m)\u001b[0m\u001b[0;34m\u001b[0m\u001b[0m\n\u001b[0m\u001b[1;32m   1040\u001b[0m     \u001b[0;32mexcept\u001b[0m \u001b[0merrors\u001b[0m\u001b[0;34m.\u001b[0m\u001b[0mOpError\u001b[0m \u001b[0;32mas\u001b[0m \u001b[0me\u001b[0m\u001b[0;34m:\u001b[0m\u001b[0;34m\u001b[0m\u001b[0m\n\u001b[1;32m   1041\u001b[0m       \u001b[0mmessage\u001b[0m \u001b[0;34m=\u001b[0m \u001b[0mcompat\u001b[0m\u001b[0;34m.\u001b[0m\u001b[0mas_text\u001b[0m\u001b[0;34m(\u001b[0m\u001b[0me\u001b[0m\u001b[0;34m.\u001b[0m\u001b[0mmessage\u001b[0m\u001b[0;34m)\u001b[0m\u001b[0;34m\u001b[0m\u001b[0m\n",
      "\u001b[0;32m/opt/modules/i12g/anaconda/3-4.1.1/envs/gpu-tensorflow/lib/python3.5/site-packages/tensorflow/python/client/session.py\u001b[0m in \u001b[0;36m_run_fn\u001b[0;34m(session, feed_dict, fetch_list, target_list, options, run_metadata)\u001b[0m\n\u001b[1;32m   1019\u001b[0m         return tf_session.TF_Run(session, options,\n\u001b[1;32m   1020\u001b[0m                                  \u001b[0mfeed_dict\u001b[0m\u001b[0;34m,\u001b[0m \u001b[0mfetch_list\u001b[0m\u001b[0;34m,\u001b[0m \u001b[0mtarget_list\u001b[0m\u001b[0;34m,\u001b[0m\u001b[0;34m\u001b[0m\u001b[0m\n\u001b[0;32m-> 1021\u001b[0;31m                                  status, run_metadata)\n\u001b[0m\u001b[1;32m   1022\u001b[0m \u001b[0;34m\u001b[0m\u001b[0m\n\u001b[1;32m   1023\u001b[0m     \u001b[0;32mdef\u001b[0m \u001b[0m_prun_fn\u001b[0m\u001b[0;34m(\u001b[0m\u001b[0msession\u001b[0m\u001b[0;34m,\u001b[0m \u001b[0mhandle\u001b[0m\u001b[0;34m,\u001b[0m \u001b[0mfeed_dict\u001b[0m\u001b[0;34m,\u001b[0m \u001b[0mfetch_list\u001b[0m\u001b[0;34m)\u001b[0m\u001b[0;34m:\u001b[0m\u001b[0;34m\u001b[0m\u001b[0m\n",
      "\u001b[0;31mKeyboardInterrupt\u001b[0m: "
     ]
    }
   ],
   "source": [
    "m.fit(train[0], train[1].astype(int), epochs=15, #sample_weight=sample_weight,\n",
    "      validation_data=(valid[0], valid[1].astype(int)),\n",
    "      callbacks=[TensorBoard(log_dir=\"logs/\" + str(uuid4()), histogram_freq=0, write_graph=False)])"
   ]
  },
  {
   "cell_type": "code",
   "execution_count": 110,
   "metadata": {
    "collapsed": false
   },
   "outputs": [
    {
     "data": {
      "text/plain": [
       "dtype('float64')"
      ]
     },
     "execution_count": 110,
     "metadata": {},
     "output_type": "execute_result"
    }
   ],
   "source": [
    "train[1].dtype"
   ]
  },
  {
   "cell_type": "code",
   "execution_count": 119,
   "metadata": {
    "collapsed": false
   },
   "outputs": [
    {
     "data": {
      "text/plain": [
       "[array([[-0.2348],\n",
       "        [ 0.379 ],\n",
       "        [ 0.0766],\n",
       "        [-0.1532],\n",
       "        [ 0.5383],\n",
       "        [ 0.5845],\n",
       "        [ 0.2725],\n",
       "        [-0.4947],\n",
       "        [ 0.3726],\n",
       "        [ 0.3135]], dtype=float32), array([ 0.], dtype=float32)]"
      ]
     },
     "execution_count": 119,
     "metadata": {},
     "output_type": "execute_result"
    }
   ],
   "source": [
    "m.layers[-1].get_weights()"
   ]
  },
  {
   "cell_type": "code",
   "execution_count": 93,
   "metadata": {
    "collapsed": false
   },
   "outputs": [
    {
     "name": "stdout",
     "output_type": "stream",
     "text": [
      "Train on 8908 samples, validate on 2330 samples\n",
      "Epoch 1/5\n",
      "8908/8908 [==============================] - 3s - loss: 12.6208 - acc: 0.2084 - val_loss: 12.7471 - val_acc: 0.2004\n",
      "Epoch 2/5\n",
      "8908/8908 [==============================] - 2s - loss: 12.6208 - acc: 0.2084 - val_loss: 12.7471 - val_acc: 0.2004\n",
      "Epoch 3/5\n",
      "8908/8908 [==============================] - 2s - loss: 12.6208 - acc: 0.2084 - val_loss: 12.7471 - val_acc: 0.2004\n",
      "Epoch 4/5\n",
      "8908/8908 [==============================] - 2s - loss: 12.6208 - acc: 0.2084 - val_loss: 12.7471 - val_acc: 0.2004\n",
      "Epoch 5/5\n",
      "8908/8908 [==============================] - 2s - loss: 12.6208 - acc: 0.2084 - val_loss: 12.7471 - val_acc: 0.2004\n"
     ]
    },
    {
     "data": {
      "text/plain": [
       "<keras.callbacks.History at 0x7f8444708860>"
      ]
     },
     "execution_count": 93,
     "metadata": {},
     "output_type": "execute_result"
    }
   ],
   "source": [
    "m.optimizer.lr = 0.1\n",
    "m.fit(train[0][\"seq\"], train[1], epochs=5, sample_weight=sample_weight,\n",
    "      validation_data=(valid[0][\"seq\"], valid[1]))"
   ]
  },
  {
   "cell_type": "code",
   "execution_count": 118,
   "metadata": {
    "collapsed": false
   },
   "outputs": [
    {
     "name": "stdout",
     "output_type": "stream",
     "text": [
      "Train on 8908 samples, validate on 2330 samples\n",
      "Epoch 1/5\n",
      "8908/8908 [==============================] - 2s - loss: 12.6208 - acc: 0.2084 - val_loss: 12.7471 - val_acc: 0.2004\n",
      "Epoch 2/5\n",
      "8908/8908 [==============================] - 2s - loss: 12.6208 - acc: 0.2084 - val_loss: 12.7471 - val_acc: 0.2004\n",
      "Epoch 3/5\n",
      "8908/8908 [==============================] - 2s - loss: 12.6208 - acc: 0.2084 - val_loss: 12.7471 - val_acc: 0.2004\n",
      "Epoch 4/5\n",
      "8908/8908 [==============================] - 2s - loss: 12.6208 - acc: 0.2084 - val_loss: 12.7471 - val_acc: 0.2004\n",
      "Epoch 5/5\n",
      "8908/8908 [==============================] - 2s - loss: 12.6208 - acc: 0.2084 - val_loss: 12.7471 - val_acc: 0.2004\n"
     ]
    },
    {
     "data": {
      "text/plain": [
       "<keras.callbacks.History at 0x7f83807f6390>"
      ]
     },
     "execution_count": 118,
     "metadata": {},
     "output_type": "execute_result"
    }
   ],
   "source": [
    "m.optimizer.lr = 0.001\n",
    "m.fit(train[0][\"seq\"], train[1], epochs=5, sample_weight=sample_weight,\n",
    "      validation_data=(valid[0][\"seq\"], valid[1]))"
   ]
  },
  {
   "cell_type": "code",
   "execution_count": 255,
   "metadata": {
    "collapsed": false
   },
   "outputs": [
    {
     "ename": "AttributeError",
     "evalue": "'InputLayer' object has no attribute 'plot_weights'",
     "output_type": "error",
     "traceback": [
      "\u001b[0;31m---------------------------------------------------------------------------\u001b[0m",
      "\u001b[0;31mAttributeError\u001b[0m                            Traceback (most recent call last)",
      "\u001b[0;32m<ipython-input-255-3ad7e54e274e>\u001b[0m in \u001b[0;36m<module>\u001b[0;34m()\u001b[0m\n\u001b[0;32m----> 1\u001b[0;31m \u001b[0mm\u001b[0m\u001b[0;34m.\u001b[0m\u001b[0mlayers\u001b[0m\u001b[0;34m[\u001b[0m\u001b[0;36m0\u001b[0m\u001b[0;34m]\u001b[0m\u001b[0;34m.\u001b[0m\u001b[0mplot_weights\u001b[0m\u001b[0;34m(\u001b[0m\u001b[0mplot_type\u001b[0m\u001b[0;34m=\u001b[0m\u001b[0;34m\"motif_pwm_info\"\u001b[0m\u001b[0;34m)\u001b[0m\u001b[0;34m\u001b[0m\u001b[0m\n\u001b[0m",
      "\u001b[0;31mAttributeError\u001b[0m: 'InputLayer' object has no attribute 'plot_weights'"
     ]
    }
   ],
   "source": [
    "m.layers[0].plot_weights(plot_type=\"motif_pwm_info\")"
   ]
  },
  {
   "cell_type": "code",
   "execution_count": 266,
   "metadata": {
    "collapsed": false
   },
   "outputs": [
    {
     "ename": "AttributeError",
     "evalue": "'Dropout' object has no attribute 'plot'",
     "output_type": "error",
     "traceback": [
      "\u001b[0;31m---------------------------------------------------------------------------\u001b[0m",
      "\u001b[0;31mAttributeError\u001b[0m                            Traceback (most recent call last)",
      "\u001b[0;32m<ipython-input-266-1382c7b46c0d>\u001b[0m in \u001b[0;36m<module>\u001b[0;34m()\u001b[0m\n\u001b[0;32m----> 1\u001b[0;31m \u001b[0mm\u001b[0m\u001b[0;34m.\u001b[0m\u001b[0mlayers\u001b[0m\u001b[0;34m[\u001b[0m\u001b[0;36m4\u001b[0m\u001b[0;34m]\u001b[0m\u001b[0;34m.\u001b[0m\u001b[0mplot\u001b[0m\u001b[0;34m(\u001b[0m\u001b[0;34m)\u001b[0m\u001b[0;34m\u001b[0m\u001b[0m\n\u001b[0m\u001b[1;32m      2\u001b[0m \u001b[0mplt\u001b[0m\u001b[0;34m.\u001b[0m\u001b[0mshow\u001b[0m\u001b[0;34m(\u001b[0m\u001b[0;34m)\u001b[0m\u001b[0;34m\u001b[0m\u001b[0m\n",
      "\u001b[0;31mAttributeError\u001b[0m: 'Dropout' object has no attribute 'plot'"
     ]
    }
   ],
   "source": [
    "m.layers[4].plot()\n",
    "plt.show()"
   ]
  },
  {
   "cell_type": "code",
   "execution_count": 257,
   "metadata": {
    "collapsed": false
   },
   "outputs": [],
   "source": [
    "y_pred = m.predict(valid[0][\"seq\"])"
   ]
  },
  {
   "cell_type": "code",
   "execution_count": 269,
   "metadata": {
    "collapsed": false
   },
   "outputs": [
    {
     "data": {
      "image/png": "[encoded data removed]",
      "text/plain": [
       "<matplotlib.figure.Figure at 0x7f82fd53ec88>"
      ]
     },
     "metadata": {},
     "output_type": "display_data"
    },
    {
     "data": {
      "image/png": "[encoded data removed]",
      "text/plain": [
       "<matplotlib.figure.Figure at 0x7f82fd5b0ef0>"
      ]
     },
     "metadata": {},
     "output_type": "display_data"
    }
   ],
   "source": [
    "plot_roc_curve(valid[1], y_pred)\n",
    "plot_pr_curve(valid[1], y_pred)"
   ]
  },
  {
   "cell_type": "code",
   "execution_count": 270,
   "metadata": {
    "collapsed": false
   },
   "outputs": [
    {
     "ename": "NameError",
     "evalue": "name 'dt_valid' is not defined",
     "output_type": "error",
     "traceback": [
      "\u001b[0;31m---------------------------------------------------------------------------\u001b[0m",
      "\u001b[0;31mNameError\u001b[0m                                 Traceback (most recent call last)",
      "\u001b[0;32m<ipython-input-270-74262f72b40a>\u001b[0m in \u001b[0;36m<module>\u001b[0;34m()\u001b[0m\n\u001b[0;32m----> 1\u001b[0;31m \u001b[0mdt_valid\u001b[0m\u001b[0;34m\u001b[0m\u001b[0m\n\u001b[0m",
      "\u001b[0;31mNameError\u001b[0m: name 'dt_valid' is not defined"
     ]
    }
   ],
   "source": [
    "dt_valid"
   ]
  },
  {
   "cell_type": "code",
   "execution_count": 300,
   "metadata": {
    "collapsed": false
   },
   "outputs": [
    {
     "name": "stderr",
     "output_type": "stream",
     "text": [
      "2017-05-14 21:50:40,786 [INFO] Evaluate...\n",
      "2017-05-14 21:50:43,281 [INFO] Evaluate...\n",
      "2017-05-14 21:50:44,644 [INFO] Evaluate...\n"
     ]
    },
    {
     "data": {
      "text/html": [
       "<div>\n",
       "<table border=\"1\" class=\"dataframe\">\n",
       "  <thead>\n",
       "    <tr style=\"text-align: right;\">\n",
       "      <th></th>\n",
       "      <th>dataset</th>\n",
       "      <th>loss</th>\n",
       "      <th>acc</th>\n",
       "      <th>auc</th>\n",
       "      <th>auprc</th>\n",
       "    </tr>\n",
       "  </thead>\n",
       "  <tbody>\n",
       "    <tr>\n",
       "      <th>0</th>\n",
       "      <td>valid</td>\n",
       "      <td>0.3776</td>\n",
       "      <td>0.8330</td>\n",
       "      <td>0.8259</td>\n",
       "      <td>0.5935</td>\n",
       "    </tr>\n",
       "    <tr>\n",
       "      <th>1</th>\n",
       "      <td>test</td>\n",
       "      <td>0.3503</td>\n",
       "      <td>0.8556</td>\n",
       "      <td>0.8601</td>\n",
       "      <td>0.6744</td>\n",
       "    </tr>\n",
       "    <tr>\n",
       "      <th>2</th>\n",
       "      <td>train</td>\n",
       "      <td>0.2863</td>\n",
       "      <td>0.8729</td>\n",
       "      <td>0.9274</td>\n",
       "      <td>0.8052</td>\n",
       "    </tr>\n",
       "  </tbody>\n",
       "</table>\n",
       "</div>"
      ],
      "text/plain": [
       "  dataset    loss     acc     auc   auprc\n",
       "0   valid  0.3776  0.8330  0.8259  0.5935\n",
       "1    test  0.3503  0.8556  0.8601  0.6744\n",
       "2   train  0.2863  0.8729  0.9274  0.8052"
      ]
     },
     "execution_count": 300,
     "metadata": {},
     "output_type": "execute_result"
    }
   ],
   "source": [
    "metrics_dt(m, {\"train\": (train[0], train[1]), \n",
    "               \"valid\": (valid[0], valid[1]), \n",
    "               \"test\": (test[0], test[1])})"
   ]
  },
  {
   "cell_type": "code",
   "execution_count": 301,
   "metadata": {
    "collapsed": false
   },
   "outputs": [
    {
     "data": {
      "text/plain": [
       "0.20042918454935621"
      ]
     },
     "execution_count": 301,
     "metadata": {},
     "output_type": "execute_result"
    }
   ],
   "source": [
    "valid[1].mean()"
   ]
  },
  {
   "cell_type": "code",
   "execution_count": 307,
   "metadata": {
    "collapsed": false
   },
   "outputs": [
    {
     "data": {
      "text/plain": [
       "(3393, 1)"
      ]
     },
     "execution_count": 307,
     "metadata": {},
     "output_type": "execute_result"
    }
   ],
   "source": [
    "test[1].shape"
   ]
  },
  {
   "cell_type": "code",
   "execution_count": 293,
   "metadata": {
    "collapsed": false
   },
   "outputs": [
    {
     "name": "stderr",
     "output_type": "stream",
     "text": [
      "2017-05-14 21:47:31,024 [INFO] Evaluate...\n",
      "2017-05-14 21:47:33,482 [INFO] Evaluate...\n",
      "2017-05-14 21:47:34,825 [INFO] Evaluate...\n"
     ]
    },
    {
     "data": {
      "text/html": [
       "<div>\n",
       "<table border=\"1\" class=\"dataframe\">\n",
       "  <thead>\n",
       "    <tr style=\"text-align: right;\">\n",
       "      <th></th>\n",
       "      <th>dataset</th>\n",
       "      <th>loss</th>\n",
       "      <th>acc</th>\n",
       "      <th>auc</th>\n",
       "      <th>auprc</th>\n",
       "    </tr>\n",
       "  </thead>\n",
       "  <tbody>\n",
       "    <tr>\n",
       "      <th>0</th>\n",
       "      <td>valid</td>\n",
       "      <td>0.3803</td>\n",
       "      <td>0.8489</td>\n",
       "      <td>0.8272</td>\n",
       "      <td>0.6269</td>\n",
       "    </tr>\n",
       "    <tr>\n",
       "      <th>1</th>\n",
       "      <td>test</td>\n",
       "      <td>0.3588</td>\n",
       "      <td>0.8556</td>\n",
       "      <td>0.8614</td>\n",
       "      <td>0.6869</td>\n",
       "    </tr>\n",
       "    <tr>\n",
       "      <th>2</th>\n",
       "      <td>train</td>\n",
       "      <td>0.2977</td>\n",
       "      <td>0.8666</td>\n",
       "      <td>0.9190</td>\n",
       "      <td>0.7865</td>\n",
       "    </tr>\n",
       "  </tbody>\n",
       "</table>\n",
       "</div>"
      ],
      "text/plain": [
       "  dataset    loss     acc     auc   auprc\n",
       "0   valid  0.3803  0.8489  0.8272  0.6269\n",
       "1    test  0.3588  0.8556  0.8614  0.6869\n",
       "2   train  0.2977  0.8666  0.9190  0.7865"
      ]
     },
     "execution_count": 293,
     "metadata": {},
     "output_type": "execute_result"
    }
   ],
   "source": [
    "metrics_dt(m, {\"train\": (train[0], train[1]), \n",
    "               \"valid\": (valid[0], valid[1]), \n",
    "               \"test\": (test[0], test[1])})"
   ]
  },
  {
   "cell_type": "code",
   "execution_count": 158,
   "metadata": {
    "collapsed": true
   },
   "outputs": [],
   "source": [
    "from concise.hyopt import eval_model"
   ]
  },
  {
   "cell_type": "code",
   "execution_count": 274,
   "metadata": {
    "collapsed": false
   },
   "outputs": [
    {
     "name": "stderr",
     "output_type": "stream",
     "text": [
      "2017-05-13 15:07:35,333 [INFO] Evaluate...\n"
     ]
    },
    {
     "data": {
      "text/plain": [
       "{'acc': 0.78199371351594071, 'loss': 0.53111041213131083}"
      ]
     },
     "execution_count": 274,
     "metadata": {},
     "output_type": "execute_result"
    }
   ],
   "source": [
    "eval_model(m, (train[0][\"seq\"], np.zeros_like(train[1])), {})"
   ]
  },
  {
   "cell_type": "code",
   "execution_count": 273,
   "metadata": {
    "collapsed": false
   },
   "outputs": [
    {
     "data": {
      "text/plain": [
       "[0.51310163051170998, 0.80444545038195003]"
      ]
     },
     "execution_count": 273,
     "metadata": {},
     "output_type": "execute_result"
    }
   ],
   "source": [
    "m.evaluate(train[0][\"seq\"], train[1], verbose=0, batch_size=1000)"
   ]
  },
  {
   "cell_type": "code",
   "execution_count": 48,
   "metadata": {
    "collapsed": false
   },
   "outputs": [
    {
     "ename": "AttributeError",
     "evalue": "module 'concise.eval_metrics' has no attribute 'fdr'",
     "output_type": "error",
     "traceback": [
      "\u001b[0;31m---------------------------------------------------------------------------\u001b[0m",
      "\u001b[0;31mAttributeError\u001b[0m                            Traceback (most recent call last)",
      "\u001b[0;32m<ipython-input-48-20683828001c>\u001b[0m in \u001b[0;36m<module>\u001b[0;34m()\u001b[0m\n\u001b[0;32m----> 1\u001b[0;31m \u001b[0mcem\u001b[0m\u001b[0;34m.\u001b[0m\u001b[0mfdr\u001b[0m\u001b[0;34m(\u001b[0m\u001b[0mvalid\u001b[0m\u001b[0;34m[\u001b[0m\u001b[0;36m1\u001b[0m\u001b[0;34m]\u001b[0m\u001b[0;34m,\u001b[0m \u001b[0my_pred\u001b[0m\u001b[0;34m)\u001b[0m\u001b[0;34m\u001b[0m\u001b[0m\n\u001b[0m",
      "\u001b[0;31mAttributeError\u001b[0m: module 'concise.eval_metrics' has no attribute 'fdr'"
     ]
    }
   ],
   "source": [
    "cem.(valid[1], y_pred)"
   ]
  },
  {
   "cell_type": "code",
   "execution_count": 49,
   "metadata": {
    "collapsed": false
   },
   "outputs": [
    {
     "ename": "NameError",
     "evalue": "name 'cm' is not defined",
     "output_type": "error",
     "traceback": [
      "\u001b[0;31m---------------------------------------------------------------------------\u001b[0m",
      "\u001b[0;31mNameError\u001b[0m                                 Traceback (most recent call last)",
      "\u001b[0;32m<ipython-input-49-ddc9de733409>\u001b[0m in \u001b[0;36m<module>\u001b[0;34m()\u001b[0m\n\u001b[0;32m----> 1\u001b[0;31m \u001b[0mdir\u001b[0m\u001b[0;34m(\u001b[0m\u001b[0mcm\u001b[0m\u001b[0;34m)\u001b[0m\u001b[0;34m\u001b[0m\u001b[0m\n\u001b[0m",
      "\u001b[0;31mNameError\u001b[0m: name 'cm' is not defined"
     ]
    }
   ],
   "source": [
    "dir(cm)"
   ]
  },
  {
   "cell_type": "code",
   "execution_count": 272,
   "metadata": {
    "collapsed": false
   },
   "outputs": [
    {
     "data": {
      "text/plain": [
       "0.79363716507992332"
      ]
     },
     "execution_count": 272,
     "metadata": {},
     "output_type": "execute_result"
    }
   ],
   "source": [
    "cem.auc(valid[1], m.predict(valid[0][\"seq\"]))"
   ]
  },
  {
   "cell_type": "code",
   "execution_count": 53,
   "metadata": {
    "collapsed": true
   },
   "outputs": [],
   "source": [
    "import keras.backend as K"
   ]
  },
  {
   "cell_type": "code",
   "execution_count": 57,
   "metadata": {
    "collapsed": false
   },
   "outputs": [
    {
     "data": {
      "text/plain": [
       "[325.0, 2042.0, 303.0, 266.0]"
      ]
     },
     "execution_count": 57,
     "metadata": {},
     "output_type": "execute_result"
    }
   ],
   "source": [
    "[K.eval(x) for x in cm.contingency_table(valid[1], y_pred)]"
   ]
  },
  {
   "cell_type": "code",
   "execution_count": 66,
   "metadata": {
    "collapsed": false
   },
   "outputs": [
    {
     "data": {
      "text/plain": [
       "0.53322393"
      ]
     },
     "execution_count": 66,
     "metadata": {},
     "output_type": "execute_result"
    }
   ],
   "source": [
    "K.eval(cm.f1(valid[1], y_pred))"
   ]
  },
  {
   "cell_type": "code",
   "execution_count": 60,
   "metadata": {
    "collapsed": false
   },
   "outputs": [
    {
     "data": {
      "text/plain": [
       "<module 'concise.evaluation' from '/opt/modules/i12g/anaconda/3-4.1.1/envs/gpu-tensorflow/lib/python3.5/site-packages/concise/evaluation.py'>"
      ]
     },
     "execution_count": 60,
     "metadata": {},
     "output_type": "execute_result"
    }
   ],
   "source": [
    "cm."
   ]
  },
  {
   "cell_type": "code",
   "execution_count": 18,
   "metadata": {
    "collapsed": false
   },
   "outputs": [
    {
     "data": {
      "text/plain": [
       "0.20835204310731925"
      ]
     },
     "execution_count": 18,
     "metadata": {},
     "output_type": "execute_result"
    }
   ],
   "source": [
    "train[1].mean()"
   ]
  },
  {
   "cell_type": "code",
   "execution_count": null,
   "metadata": {
    "collapsed": true
   },
   "outputs": [],
   "source": []
  }
 ],
 "metadata": {
  "anaconda-cloud": {},
  "kernelspec": {
   "display_name": "Python [conda env:gpu-tensorflow]",
   "language": "python",
   "name": "conda-env-gpu-tensorflow-py"
  },
  "language_info": {
   "codemirror_mode": {
    "name": "ipython",
    "version": 3
   },
   "file_extension": ".py",
   "mimetype": "text/x-python",
   "name": "python",
   "nbconvert_exporter": "python",
   "pygments_lexer": "ipython3",
   "version": "3.5.2"
  }
 },
 "nbformat": 4,
 "nbformat_minor": 0
}
