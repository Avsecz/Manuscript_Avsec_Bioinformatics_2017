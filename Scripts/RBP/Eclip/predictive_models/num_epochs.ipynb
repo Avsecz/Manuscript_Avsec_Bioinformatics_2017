{
 "cells": [
  {
   "cell_type": "code",
   "execution_count": 1,
   "metadata": {
    "collapsed": false
   },
   "outputs": [
    {
     "name": "stderr",
     "output_type": "stream",
     "text": [
      "Using TensorFlow backend.\n"
     ]
    }
   ],
   "source": [
    "from concise.hyopt import CMongoTrials, get_data\n",
    "import numpy as np\n",
    "import pandas as pd\n",
    "from tqdm import tqdm_notebook as tqdm\n",
    "import data\n",
    "\n",
    "%matplotlib inline  \n",
    "import matplotlib.pyplot as plt\n",
    "import seaborn as sns\n",
    "sns.set(style=\"whitegrid\", color_codes=True)\n",
    "\n",
    "def print_exp(exp_name):\n",
    "    print(\"-\" * 40 + \"\\nexp_name: \" + exp_name)\n",
    "\n",
    "\n",
    "DIR_ROOT = \"/s/project/deepcis/encode/eclip/\"\n",
    "DIR_ROOT = \"/home/avsec/projects-work/deepcis/data/encode/eclip/\"\n",
    "RBP_LIST = [\"UPF1\", \"PUM2\", \"DDX3X\", \"NKRF\", \"TARDBP\", \"SUGP2\"]\n",
    "\n",
    "DB_NAME = \"RBP__Eclip\"\n",
    "HOST = \"ouga03\"\n",
    "#HOST = \"localhost\"\n",
    "\n",
    "#EXPERIMENTS = [\"DeepNN\",\n",
    "#               \"DeepNN_scalar_position_gam\",\n",
    "#               \"DeepNN_scalar_position_relu\",\n",
    "#               \"DeepNN_track_position_gam\",\n",
    "#               \"DeepNN_track_position_relu\"]\n",
    "EXPERIMENTS = [\"DeepNN_2\",\n",
    "               \"DeepNN_scalar_position_gam_2\",\n",
    "               \"DeepNN_scalar_position_relu_2\"]\n",
    "data_fn = data.data"
   ]
  },
  {
   "cell_type": "code",
   "execution_count": 2,
   "metadata": {
    "collapsed": true
   },
   "outputs": [],
   "source": [
    "def get_big_df(exp_name, rbp_list):\n",
    "    df_list = [CMongoTrials(DB_NAME, exp_name + \"_\" + rbp, ip=HOST).as_df().assign(rbp=rbp) for rbp in tqdm(rbp_list)]\n",
    "    return pd.concat(df_list)"
   ]
  },
  {
   "cell_type": "code",
   "execution_count": 18,
   "metadata": {
    "collapsed": false
   },
   "outputs": [
    {
     "name": "stdout",
     "output_type": "stream",
     "text": [
      "\n",
      "\n",
      "\n"
     ]
    }
   ],
   "source": [
    "all_df = pd.concat([get_big_df(exp_name, RBP_LIST).assign(exp=exp_name) for exp_name in EXPERIMENTS])"
   ]
  },
  {
   "cell_type": "code",
   "execution_count": 17,
   "metadata": {
    "collapsed": false
   },
   "outputs": [
    {
     "data": {
      "text/html": [
       "<div>\n",
       "<table border=\"1\" class=\"dataframe\">\n",
       "  <thead>\n",
       "    <tr style=\"text-align: right;\">\n",
       "      <th></th>\n",
       "      <th>eval.acc</th>\n",
       "      <th>eval.auc</th>\n",
       "      <th>eval.auprc</th>\n",
       "      <th>eval.loss</th>\n",
       "      <th>exp</th>\n",
       "      <th>loss</th>\n",
       "      <th>n_epoch</th>\n",
       "      <th>name.data</th>\n",
       "      <th>name.loss_metric</th>\n",
       "      <th>name.loss_metric_mode</th>\n",
       "      <th>name.model</th>\n",
       "      <th>param.data.n_bases</th>\n",
       "      <th>param.data.pos_as_track</th>\n",
       "      <th>param.data.pos_class_weight</th>\n",
       "      <th>param.data.rbp_name</th>\n",
       "      <th>param.data.scale_raw</th>\n",
       "      <th>param.data.test_chr</th>\n",
       "      <th>param.data.valid_chr</th>\n",
       "      <th>param.fit.batch_size</th>\n",
       "      <th>param.fit.early_stop_monitor</th>\n",
       "      <th>param.fit.epochs</th>\n",
       "      <th>param.fit.patience</th>\n",
       "      <th>param.fit.use_weight</th>\n",
       "      <th>param.model.activation</th>\n",
       "      <th>param.model.dropout_rate</th>\n",
       "      <th>param.model.external_pos</th>\n",
       "      <th>param.model.external_pos.as_track</th>\n",
       "      <th>param.model.external_pos.scale</th>\n",
       "      <th>param.model.external_pos.type</th>\n",
       "      <th>param.model.external_pos.units</th>\n",
       "      <th>param.model.filters</th>\n",
       "      <th>param.model.internal_pos.name</th>\n",
       "      <th>param.model.internal_pos.pool_size</th>\n",
       "      <th>param.model.lr</th>\n",
       "      <th>param.model.use_batchnorm</th>\n",
       "      <th>param.shared.kernel_size</th>\n",
       "      <th>path.model</th>\n",
       "      <th>path.results</th>\n",
       "      <th>rbp</th>\n",
       "      <th>status</th>\n",
       "      <th>tid</th>\n",
       "      <th>time.duration.dataload</th>\n",
       "      <th>time.duration.total</th>\n",
       "      <th>time.duration.training</th>\n",
       "      <th>time.end</th>\n",
       "      <th>time.start</th>\n",
       "    </tr>\n",
       "  </thead>\n",
       "  <tbody>\n",
       "    <tr>\n",
       "      <th>0</th>\n",
       "      <td>0.8238</td>\n",
       "      <td>0.8020</td>\n",
       "      <td>0.5548</td>\n",
       "      <td>0.4084</td>\n",
       "      <td>DeepNN_2</td>\n",
       "      <td>-0.5548</td>\n",
       "      <td>37</td>\n",
       "      <td>data</td>\n",
       "      <td>auprc</td>\n",
       "      <td>auprc</td>\n",
       "      <td>model</td>\n",
       "      <td>30</td>\n",
       "      <td>False</td>\n",
       "      <td>1.0</td>\n",
       "      <td>UPF1</td>\n",
       "      <td>True</td>\n",
       "      <td>[2, 4, 6, 8, 10]</td>\n",
       "      <td>[1, 3]</td>\n",
       "      <td>128</td>\n",
       "      <td>val_loss</td>\n",
       "      <td>150</td>\n",
       "      <td>5</td>\n",
       "      <td>False</td>\n",
       "      <td>relu</td>\n",
       "      <td>0.0330</td>\n",
       "      <td>None</td>\n",
       "      <td>NaN</td>\n",
       "      <td>NaN</td>\n",
       "      <td>NaN</td>\n",
       "      <td>NaN</td>\n",
       "      <td>16</td>\n",
       "      <td>strided_maxpool</td>\n",
       "      <td>4</td>\n",
       "      <td>0.0004</td>\n",
       "      <td>False</td>\n",
       "      <td>11</td>\n",
       "      <td>/s/project/deepcis/hy...</td>\n",
       "      <td>/s/project/deepcis/hy...</td>\n",
       "      <td>UPF1</td>\n",
       "      <td>ok</td>\n",
       "      <td>3879</td>\n",
       "      <td>46.1098</td>\n",
       "      <td>266.1382</td>\n",
       "      <td>220.0284</td>\n",
       "      <td>2017-06-04 17:03:58.5...</td>\n",
       "      <td>2017-06-04 16:59:32.4...</td>\n",
       "    </tr>\n",
       "    <tr>\n",
       "      <th>1</th>\n",
       "      <td>0.8220</td>\n",
       "      <td>0.7925</td>\n",
       "      <td>0.5414</td>\n",
       "      <td>0.4098</td>\n",
       "      <td>DeepNN_2</td>\n",
       "      <td>-0.5414</td>\n",
       "      <td>15</td>\n",
       "      <td>data</td>\n",
       "      <td>auprc</td>\n",
       "      <td>auprc</td>\n",
       "      <td>model</td>\n",
       "      <td>20</td>\n",
       "      <td>False</td>\n",
       "      <td>1.0</td>\n",
       "      <td>UPF1</td>\n",
       "      <td>True</td>\n",
       "      <td>[2, 4, 6, 8, 10]</td>\n",
       "      <td>[1, 3]</td>\n",
       "      <td>128</td>\n",
       "      <td>val_loss</td>\n",
       "      <td>150</td>\n",
       "      <td>5</td>\n",
       "      <td>False</td>\n",
       "      <td>relu</td>\n",
       "      <td>0.2069</td>\n",
       "      <td>None</td>\n",
       "      <td>NaN</td>\n",
       "      <td>NaN</td>\n",
       "      <td>NaN</td>\n",
       "      <td>NaN</td>\n",
       "      <td>16</td>\n",
       "      <td>strided_maxpool</td>\n",
       "      <td>4</td>\n",
       "      <td>0.0004</td>\n",
       "      <td>True</td>\n",
       "      <td>11</td>\n",
       "      <td>/s/project/deepcis/hy...</td>\n",
       "      <td>/s/project/deepcis/hy...</td>\n",
       "      <td>UPF1</td>\n",
       "      <td>ok</td>\n",
       "      <td>3880</td>\n",
       "      <td>38.8495</td>\n",
       "      <td>636.1002</td>\n",
       "      <td>597.2506</td>\n",
       "      <td>2017-06-04 17:10:08.8...</td>\n",
       "      <td>2017-06-04 16:59:32.7...</td>\n",
       "    </tr>\n",
       "    <tr>\n",
       "      <th>2</th>\n",
       "      <td>0.8225</td>\n",
       "      <td>0.7890</td>\n",
       "      <td>0.5344</td>\n",
       "      <td>0.4130</td>\n",
       "      <td>DeepNN_2</td>\n",
       "      <td>-0.5344</td>\n",
       "      <td>13</td>\n",
       "      <td>data</td>\n",
       "      <td>auprc</td>\n",
       "      <td>auprc</td>\n",
       "      <td>model</td>\n",
       "      <td>20</td>\n",
       "      <td>False</td>\n",
       "      <td>1.0</td>\n",
       "      <td>UPF1</td>\n",
       "      <td>True</td>\n",
       "      <td>[2, 4, 6, 8, 10]</td>\n",
       "      <td>[1, 3]</td>\n",
       "      <td>128</td>\n",
       "      <td>val_loss</td>\n",
       "      <td>150</td>\n",
       "      <td>5</td>\n",
       "      <td>False</td>\n",
       "      <td>relu</td>\n",
       "      <td>0.1994</td>\n",
       "      <td>None</td>\n",
       "      <td>NaN</td>\n",
       "      <td>NaN</td>\n",
       "      <td>NaN</td>\n",
       "      <td>NaN</td>\n",
       "      <td>16</td>\n",
       "      <td>strided_maxpool</td>\n",
       "      <td>4</td>\n",
       "      <td>0.0007</td>\n",
       "      <td>True</td>\n",
       "      <td>11</td>\n",
       "      <td>/s/project/deepcis/hy...</td>\n",
       "      <td>/s/project/deepcis/hy...</td>\n",
       "      <td>UPF1</td>\n",
       "      <td>ok</td>\n",
       "      <td>3881</td>\n",
       "      <td>39.4462</td>\n",
       "      <td>564.3575</td>\n",
       "      <td>524.9113</td>\n",
       "      <td>2017-06-04 17:08:57.0...</td>\n",
       "      <td>2017-06-04 16:59:32.7...</td>\n",
       "    </tr>\n",
       "  </tbody>\n",
       "</table>\n",
       "</div>"
      ],
      "text/plain": [
       "   eval.acc  eval.auc  eval.auprc  eval.loss       exp    loss  n_epoch name.data  \\\n",
       "0    0.8238    0.8020      0.5548     0.4084  DeepNN_2 -0.5548       37      data   \n",
       "1    0.8220    0.7925      0.5414     0.4098  DeepNN_2 -0.5414       15      data   \n",
       "2    0.8225    0.7890      0.5344     0.4130  DeepNN_2 -0.5344       13      data   \n",
       "\n",
       "  name.loss_metric name.loss_metric_mode name.model  param.data.n_bases param.data.pos_as_track  \\\n",
       "0            auprc                 auprc      model                  30                   False   \n",
       "1            auprc                 auprc      model                  20                   False   \n",
       "2            auprc                 auprc      model                  20                   False   \n",
       "\n",
       "   param.data.pos_class_weight param.data.rbp_name param.data.scale_raw param.data.test_chr  \\\n",
       "0                       1.0                   UPF1                 True    [2, 4, 6, 8, 10]   \n",
       "1                       1.0                   UPF1                 True    [2, 4, 6, 8, 10]   \n",
       "2                       1.0                   UPF1                 True    [2, 4, 6, 8, 10]   \n",
       "\n",
       "  param.data.valid_chr  param.fit.batch_size param.fit.early_stop_monitor  param.fit.epochs  \\\n",
       "0               [1, 3]                   128                  val_loss                  150   \n",
       "1               [1, 3]                   128                  val_loss                  150   \n",
       "2               [1, 3]                   128                  val_loss                  150   \n",
       "\n",
       "   param.fit.patience param.fit.use_weight param.model.activation  param.model.dropout_rate  \\\n",
       "0                   5                False                   relu                    0.0330   \n",
       "1                   5                False                   relu                    0.2069   \n",
       "2                   5                False                   relu                    0.1994   \n",
       "\n",
       "  param.model.external_pos param.model.external_pos.as_track param.model.external_pos.scale  \\\n",
       "0                     None                       NaN                               NaN        \n",
       "1                     None                       NaN                               NaN        \n",
       "2                     None                       NaN                               NaN        \n",
       "\n",
       "  param.model.external_pos.type  param.model.external_pos.units  param.model.filters  \\\n",
       "0                       NaN                           NaN                         16   \n",
       "1                       NaN                           NaN                         16   \n",
       "2                       NaN                           NaN                         16   \n",
       "\n",
       "  param.model.internal_pos.name  param.model.internal_pos.pool_size  param.model.lr  \\\n",
       "0           strided_maxpool                             4                    0.0004   \n",
       "1           strided_maxpool                             4                    0.0004   \n",
       "2           strided_maxpool                             4                    0.0007   \n",
       "\n",
       "  param.model.use_batchnorm  param.shared.kernel_size                path.model  \\\n",
       "0                     False                        11  /s/project/deepcis/hy...   \n",
       "1                      True                        11  /s/project/deepcis/hy...   \n",
       "2                      True                        11  /s/project/deepcis/hy...   \n",
       "\n",
       "               path.results   rbp status   tid  time.duration.dataload  time.duration.total  \\\n",
       "0  /s/project/deepcis/hy...  UPF1     ok  3879                 46.1098             266.1382   \n",
       "1  /s/project/deepcis/hy...  UPF1     ok  3880                 38.8495             636.1002   \n",
       "2  /s/project/deepcis/hy...  UPF1     ok  3881                 39.4462             564.3575   \n",
       "\n",
       "   time.duration.training                  time.end                time.start  \n",
       "0                220.0284  2017-06-04 17:03:58.5...  2017-06-04 16:59:32.4...  \n",
       "1                597.2506  2017-06-04 17:10:08.8...  2017-06-04 16:59:32.7...  \n",
       "2                524.9113  2017-06-04 17:08:57.0...  2017-06-04 16:59:32.7...  "
      ]
     },
     "execution_count": 17,
     "metadata": {},
     "output_type": "execute_result"
    }
   ],
   "source": [
    "all_df.head(3)"
   ]
  },
  {
   "cell_type": "markdown",
   "metadata": {},
   "source": [
    "## All"
   ]
  },
  {
   "cell_type": "code",
   "execution_count": 16,
   "metadata": {
    "collapsed": false
   },
   "outputs": [
    {
     "data": {
      "text/plain": [
       "<seaborn.axisgrid.FacetGrid at 0x7f8d17a376d8>"
      ]
     },
     "execution_count": 16,
     "metadata": {},
     "output_type": "execute_result"
    },
    {
     "data": {
      "image/png": "[encoded data removed]",
      "text/plain": [
       "<matplotlib.figure.Figure at 0x7f8d17a37fd0>"
      ]
     },
     "metadata": {},
     "output_type": "display_data"
    }
   ],
   "source": [
    "sns.factorplot(x=\"rbp\", y=\"n_epoch\", hue=\"exp\",\n",
    "               data=all_df, kind=\"box\", size=7)"
   ]
  },
  {
   "cell_type": "code",
   "execution_count": 35,
   "metadata": {
    "collapsed": false
   },
   "outputs": [],
   "source": [
    "df_top10 = all_df.sort_values(\"loss\").groupby([\"exp\", \"rbp\"]).head(20).reset_index()"
   ]
  },
  {
   "cell_type": "markdown",
   "metadata": {},
   "source": [
    "## Top 20"
   ]
  },
  {
   "cell_type": "code",
   "execution_count": 53,
   "metadata": {
    "collapsed": false
   },
   "outputs": [
    {
     "data": {
      "text/plain": [
       "<seaborn.axisgrid.FacetGrid at 0x7f8d144c6198>"
      ]
     },
     "execution_count": 53,
     "metadata": {},
     "output_type": "execute_result"
    },
    {
     "data": {
      "image/png": "[encoded data removed]",
      "text/plain": [
       "<matplotlib.figure.Figure at 0x7f8d1444a828>"
      ]
     },
     "metadata": {},
     "output_type": "display_data"
    }
   ],
   "source": [
    "sns.factorplot(x=\"rbp\", y=\"n_epoch\", hue=\"exp\",\n",
    "               data=df_top10, kind=\"box\", size=7)"
   ]
  }
 ],
 "metadata": {
  "anaconda-cloud": {},
  "kernelspec": {
   "display_name": "Python [default]",
   "language": "python",
   "name": "python3"
  },
  "language_info": {
   "codemirror_mode": {
    "name": "ipython",
    "version": 3
   },
   "file_extension": ".py",
   "mimetype": "text/x-python",
   "name": "python",
   "nbconvert_exporter": "python",
   "pygments_lexer": "ipython3",
   "version": "3.5.2"
  }
 },
 "nbformat": 4,
 "nbformat_minor": 0
}
