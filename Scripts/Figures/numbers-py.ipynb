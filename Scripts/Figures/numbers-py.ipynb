{
 "cells": [
  {
   "cell_type": "markdown",
   "metadata": {},
   "source": [
    "## Numbers"
   ]
  },
  {
   "cell_type": "markdown",
   "metadata": {},
   "source": [
    "### Methods"
   ]
  },
  {
   "cell_type": "markdown",
   "metadata": {},
   "source": [
    "#### 2.3.1 Data"
   ]
  },
  {
   "cell_type": "code",
   "execution_count": 3,
   "metadata": {},
   "outputs": [
    {
     "name": "stdout",
     "output_type": "stream",
     "text": [
      "/data/nasif12/home_if12/avsec/projects-work/code_spline_trans/Scripts/RBP/Eclip/predictive_models\n"
     ]
    }
   ],
   "source": [
    "cd ../RBP/Eclip/predictive_models"
   ]
  },
  {
   "cell_type": "code",
   "execution_count": 4,
   "metadata": {},
   "outputs": [
    {
     "name": "stderr",
     "output_type": "stream",
     "text": [
      "Using TensorFlow backend.\n"
     ]
    }
   ],
   "source": [
    "import data"
   ]
  },
  {
   "cell_type": "code",
   "execution_count": 5,
   "metadata": {},
   "outputs": [],
   "source": [
    "from train_all import RBP_ALL"
   ]
  },
  {
   "cell_type": "code",
   "execution_count": 7,
   "metadata": {},
   "outputs": [],
   "source": [
    "rbp = RBP_ALL[0]"
   ]
  },
  {
   "cell_type": "code",
   "execution_count": 8,
   "metadata": {},
   "outputs": [],
   "source": [
    "train, valid, test = data.data_extended_cached(rbp)"
   ]
  },
  {
   "cell_type": "code",
   "execution_count": 10,
   "metadata": {},
   "outputs": [],
   "source": [
    "def get_summary(rbp):\n",
    "    train, valid, test = data.data_extended_cached(rbp)\n",
    "    return {\"train\": train[1].shape[0], \"valid\": valid[1].shape[0], \"test\": test[1].shape[0], \"rbp\": rbp}"
   ]
  },
  {
   "cell_type": "code",
   "execution_count": 12,
   "metadata": {},
   "outputs": [
    {
     "name": "stdout",
     "output_type": "stream",
     "text": [
      "WARNING, x.min() < start for some elements. Truncating them to start: x[x < start] = start\n",
      "WARNING, x.max() > end for some elements. Truncating them to end: x[x > end] = end\n",
      "WARNING, x.max() > end for some elements. Truncating them to end: x[x > end] = end\n",
      "WARNING, x.min() < start for some elements. Truncating them to start: x[x < start] = start\n",
      "WARNING, x.max() > end for some elements. Truncating them to end: x[x > end] = end\n",
      "WARNING, x.max() > end for some elements. Truncating them to end: x[x > end] = end\n",
      "WARNING, x.max() > end for some elements. Truncating them to end: x[x > end] = end\n",
      "WARNING, x.min() < start for some elements. Truncating them to start: x[x < start] = start\n",
      "WARNING, x.min() < start for some elements. Truncating them to start: x[x < start] = start\n",
      "WARNING, x.min() < start for some elements. Truncating them to start: x[x < start] = start\n",
      "WARNING, x.max() > end for some elements. Truncating them to end: x[x > end] = end\n",
      "WARNING, x.min() < start for some elements. Truncating them to start: x[x < start] = start\n",
      "WARNING, x.min() < start for some elements. Truncating them to start: x[x < start] = start\n",
      "WARNING, x.max() > end for some elements. Truncating them to end: x[x > end] = end\n",
      "WARNING, x.min() < start for some elements. Truncating them to start: x[x < start] = start\n",
      "WARNING, x.min() < start for some elements. Truncating them to start: x[x < start] = start\n",
      "WARNING, x.min() < start for some elements. Truncating them to start: x[x < start] = start\n",
      "WARNING, x.min() < start for some elements. Truncating them to start: x[x < start] = start\n",
      "WARNING, x.min() < start for some elements. Truncating them to start: x[x < start] = start\n",
      "WARNING, x.min() < start for some elements. Truncating them to start: x[x < start] = start\n",
      "WARNING, x.max() > end for some elements. Truncating them to end: x[x > end] = end\n",
      "WARNING, x.max() > end for some elements. Truncating them to end: x[x > end] = end\n",
      "WARNING, x.min() < start for some elements. Truncating them to start: x[x < start] = start\n",
      "WARNING, x.min() < start for some elements. Truncating them to start: x[x < start] = start\n",
      "WARNING, x.max() > end for some elements. Truncating them to end: x[x > end] = end\n",
      "WARNING, x.min() < start for some elements. Truncating them to start: x[x < start] = start\n",
      "WARNING, x.max() > end for some elements. Truncating them to end: x[x > end] = end\n",
      "WARNING, x.min() < start for some elements. Truncating them to start: x[x < start] = start\n",
      "WARNING, x.min() < start for some elements. Truncating them to start: x[x < start] = start\n",
      "WARNING, x.min() < start for some elements. Truncating them to start: x[x < start] = start\n",
      "WARNING, x.min() < start for some elements. Truncating them to start: x[x < start] = start\n",
      "WARNING, x.min() < start for some elements. Truncating them to start: x[x < start] = start\n",
      "WARNING, x.max() > end for some elements. Truncating them to end: x[x > end] = end\n",
      "WARNING, x.max() > end for some elements. Truncating them to end: x[x > end] = end\n",
      "WARNING, x.min() < start for some elements. Truncating them to start: x[x < start] = start\n",
      "WARNING, x.max() > end for some elements. Truncating them to end: x[x > end] = end\n",
      "WARNING, x.min() < start for some elements. Truncating them to start: x[x < start] = start\n",
      "WARNING, x.min() < start for some elements. Truncating them to start: x[x < start] = start\n",
      "WARNING, x.min() < start for some elements. Truncating them to start: x[x < start] = start\n",
      "WARNING, x.min() < start for some elements. Truncating them to start: x[x < start] = start\n",
      "WARNING, x.min() < start for some elements. Truncating them to start: x[x < start] = start\n",
      "WARNING, x.min() < start for some elements. Truncating them to start: x[x < start] = start\n",
      "WARNING, x.max() > end for some elements. Truncating them to end: x[x > end] = end\n",
      "WARNING, x.max() > end for some elements. Truncating them to end: x[x > end] = end\n",
      "WARNING, x.min() < start for some elements. Truncating them to start: x[x < start] = start\n",
      "WARNING, x.min() < start for some elements. Truncating them to start: x[x < start] = start\n",
      "WARNING, x.max() > end for some elements. Truncating them to end: x[x > end] = end\n",
      "WARNING, x.min() < start for some elements. Truncating them to start: x[x < start] = start\n",
      "WARNING, x.min() < start for some elements. Truncating them to start: x[x < start] = start\n",
      "WARNING, x.max() > end for some elements. Truncating them to end: x[x > end] = end\n",
      "WARNING, x.min() < start for some elements. Truncating them to start: x[x < start] = start\n",
      "WARNING, x.max() > end for some elements. Truncating them to end: x[x > end] = end\n",
      "WARNING, x.min() < start for some elements. Truncating them to start: x[x < start] = start\n",
      "WARNING, x.max() > end for some elements. Truncating them to end: x[x > end] = end\n",
      "WARNING, x.min() < start for some elements. Truncating them to start: x[x < start] = start\n",
      "WARNING, x.min() < start for some elements. Truncating them to start: x[x < start] = start\n",
      "WARNING, x.max() > end for some elements. Truncating them to end: x[x > end] = end\n",
      "WARNING, x.max() > end for some elements. Truncating them to end: x[x > end] = end\n",
      "WARNING, x.max() > end for some elements. Truncating them to end: x[x > end] = end\n",
      "WARNING, x.min() < start for some elements. Truncating them to start: x[x < start] = start\n",
      "WARNING, x.min() < start for some elements. Truncating them to start: x[x < start] = start\n",
      "WARNING, x.max() > end for some elements. Truncating them to end: x[x > end] = end\n",
      "WARNING, x.max() > end for some elements. Truncating them to end: x[x > end] = end\n",
      "WARNING, x.min() < start for some elements. Truncating them to start: x[x < start] = start\n",
      "WARNING, x.min() < start for some elements. Truncating them to start: x[x < start] = start\n",
      "WARNING, x.min() < start for some elements. Truncating them to start: x[x < start] = start\n",
      "WARNING, x.max() > end for some elements. Truncating them to end: x[x > end] = end\n",
      "WARNING, x.min() < start for some elements. Truncating them to start: x[x < start] = start\n",
      "WARNING, x.max() > end for some elements. Truncating them to end: x[x > end] = end\n",
      "WARNING, x.min() < start for some elements. Truncating them to start: x[x < start] = start\n",
      "WARNING, x.min() < start for some elements. Truncating them to start: x[x < start] = start\n",
      "WARNING, x.max() > end for some elements. Truncating them to end: x[x > end] = end\n",
      "WARNING, x.max() > end for some elements. Truncating them to end: x[x > end] = end\n",
      "WARNING, x.min() < start for some elements. Truncating them to start: x[x < start] = start\n",
      "WARNING, x.max() > end for some elements. Truncating them to end: x[x > end] = end\n",
      "WARNING, x.max() > end for some elements. Truncating them to end: x[x > end] = end\n",
      "WARNING, x.max() > end for some elements. Truncating them to end: x[x > end] = end\n",
      "WARNING, x.min() < start for some elements. Truncating them to start: x[x < start] = start\n",
      "WARNING, x.max() > end for some elements. Truncating them to end: x[x > end] = end\n",
      "WARNING, x.min() < start for some elements. Truncating them to start: x[x < start] = start\n",
      "WARNING, x.min() < start for some elements. Truncating them to start: x[x < start] = start\n",
      "WARNING, x.min() < start for some elements. Truncating them to start: x[x < start] = start\n",
      "WARNING, x.max() > end for some elements. Truncating them to end: x[x > end] = end\n",
      "WARNING, x.max() > end for some elements. Truncating them to end: x[x > end] = end\n",
      "WARNING, x.min() < start for some elements. Truncating them to start: x[x < start] = start\n",
      "WARNING, x.max() > end for some elements. Truncating them to end: x[x > end] = end\n",
      "WARNING, x.min() < start for some elements. Truncating them to start: x[x < start] = start\n",
      "WARNING, x.max() > end for some elements. Truncating them to end: x[x > end] = end\n",
      "WARNING, x.min() < start for some elements. Truncating them to start: x[x < start] = start\n",
      "WARNING, x.max() > end for some elements. Truncating them to end: x[x > end] = end\n",
      "WARNING, x.max() > end for some elements. Truncating them to end: x[x > end] = end\n",
      "WARNING, x.min() < start for some elements. Truncating them to start: x[x < start] = start\n",
      "WARNING, x.min() < start for some elements. Truncating them to start: x[x < start] = start\n",
      "WARNING, x.max() > end for some elements. Truncating them to end: x[x > end] = end\n",
      "WARNING, x.min() < start for some elements. Truncating them to start: x[x < start] = start\n",
      "WARNING, x.min() < start for some elements. Truncating them to start: x[x < start] = start\n",
      "WARNING, x.min() < start for some elements. Truncating them to start: x[x < start] = start\n",
      "WARNING, x.max() > end for some elements. Truncating them to end: x[x > end] = end\n",
      "WARNING, x.max() > end for some elements. Truncating them to end: x[x > end] = end\n",
      "WARNING, x.max() > end for some elements. Truncating them to end: x[x > end] = end\n",
      "WARNING, x.max() > end for some elements. Truncating them to end: x[x > end] = end\n",
      "WARNING, x.max() > end for some elements. Truncating them to end: x[x > end] = end\n",
      "WARNING, x.max() > end for some elements. Truncating them to end: x[x > end] = end\n",
      "WARNING, x.min() < start for some elements. Truncating them to start: x[x < start] = start\n",
      "WARNING, x.min() < start for some elements. Truncating them to start: x[x < start] = start\n",
      "WARNING, x.max() > end for some elements. Truncating them to end: x[x > end] = end\n",
      "WARNING, x.min() < start for some elements. Truncating them to start: x[x < start] = start\n",
      "WARNING, x.max() > end for some elements. Truncating them to end: x[x > end] = end\n",
      "WARNING, x.min() < start for some elements. Truncating them to start: x[x < start] = start\n",
      "WARNING, x.max() > end for some elements. Truncating them to end: x[x > end] = end\n",
      "WARNING, x.min() < start for some elements. Truncating them to start: x[x < start] = start\n",
      "WARNING, x.max() > end for some elements. Truncating them to end: x[x > end] = end\n",
      "WARNING, x.max() > end for some elements. Truncating them to end: x[x > end] = end\n",
      "WARNING, x.max() > end for some elements. Truncating them to end: x[x > end] = end\n",
      "WARNING, x.min() < start for some elements. Truncating them to start: x[x < start] = start\n",
      "WARNING, x.max() > end for some elements. Truncating them to end: x[x > end] = end\n",
      "WARNING, x.min() < start for some elements. Truncating them to start: x[x < start] = start\n",
      "WARNING, x.max() > end for some elements. Truncating them to end: x[x > end] = end\n",
      "WARNING, x.min() < start for some elements. Truncating them to start: x[x < start] = start\n",
      "WARNING, x.max() > end for some elements. Truncating them to end: x[x > end] = end\n",
      "WARNING, x.min() < start for some elements. Truncating them to start: x[x < start] = start\n",
      "WARNING, x.min() < start for some elements. Truncating them to start: x[x < start] = start\n",
      "WARNING, x.max() > end for some elements. Truncating them to end: x[x > end] = end\n",
      "WARNING, x.min() < start for some elements. Truncating them to start: x[x < start] = start\n",
      "WARNING, x.max() > end for some elements. Truncating them to end: x[x > end] = end\n",
      "WARNING, x.max() > end for some elements. Truncating them to end: x[x > end] = end\n",
      "WARNING, x.max() > end for some elements. Truncating them to end: x[x > end] = end\n",
      "WARNING, x.max() > end for some elements. Truncating them to end: x[x > end] = end\n",
      "WARNING, x.min() < start for some elements. Truncating them to start: x[x < start] = start\n",
      "WARNING, x.min() < start for some elements. Truncating them to start: x[x < start] = start\n",
      "WARNING, x.min() < start for some elements. Truncating them to start: x[x < start] = start\n",
      "WARNING, x.max() > end for some elements. Truncating them to end: x[x > end] = end\n",
      "WARNING, x.max() > end for some elements. Truncating them to end: x[x > end] = end\n",
      "WARNING, x.max() > end for some elements. Truncating them to end: x[x > end] = end\n",
      "WARNING, x.min() < start for some elements. Truncating them to start: x[x < start] = start\n",
      "WARNING, x.min() < start for some elements. Truncating them to start: x[x < start] = start\n",
      "WARNING, x.max() > end for some elements. Truncating them to end: x[x > end] = end\n",
      "WARNING, x.max() > end for some elements. Truncating them to end: x[x > end] = end\n",
      "WARNING, x.min() < start for some elements. Truncating them to start: x[x < start] = start\n",
      "WARNING, x.max() > end for some elements. Truncating them to end: x[x > end] = end\n",
      "WARNING, x.min() < start for some elements. Truncating them to start: x[x < start] = start\n",
      "WARNING, x.min() < start for some elements. Truncating them to start: x[x < start] = start\n",
      "WARNING, x.min() < start for some elements. Truncating them to start: x[x < start] = start\n",
      "WARNING, x.max() > end for some elements. Truncating them to end: x[x > end] = end\n",
      "WARNING, x.min() < start for some elements. Truncating them to start: x[x < start] = start\n",
      "WARNING, x.min() < start for some elements. Truncating them to start: x[x < start] = start\n",
      "WARNING, x.min() < start for some elements. Truncating them to start: x[x < start] = start\n",
      "WARNING, x.max() > end for some elements. Truncating them to end: x[x > end] = end\n",
      "WARNING, x.min() < start for some elements. Truncating them to start: x[x < start] = start\n",
      "WARNING, x.max() > end for some elements. Truncating them to end: x[x > end] = end\n",
      "WARNING, x.max() > end for some elements. Truncating them to end: x[x > end] = end\n",
      "WARNING, x.max() > end for some elements. Truncating them to end: x[x > end] = end\n",
      "WARNING, x.max() > end for some elements. Truncating them to end: x[x > end] = end\n",
      "WARNING, x.min() < start for some elements. Truncating them to start: x[x < start] = start\n",
      "WARNING, x.min() < start for some elements. Truncating them to start: x[x < start] = start\n",
      "WARNING, x.max() > end for some elements. Truncating them to end: x[x > end] = end\n",
      "WARNING, x.max() > end for some elements. Truncating them to end: x[x > end] = end\n",
      "WARNING, x.max() > end for some elements. Truncating them to end: x[x > end] = end\n",
      "WARNING, x.min() < start for some elements. Truncating them to start: x[x < start] = start\n",
      "WARNING, x.min() < start for some elements. Truncating them to start: x[x < start] = start\n",
      "WARNING, x.min() < start for some elements. Truncating them to start: x[x < start] = start\n",
      "WARNING, x.max() > end for some elements. Truncating them to end: x[x > end] = end\n",
      "WARNING, x.min() < start for some elements. Truncating them to start: x[x < start] = start\n",
      "WARNING, x.min() < start for some elements. Truncating them to start: x[x < start] = start\n",
      "WARNING, x.min() < start for some elements. Truncating them to start: x[x < start] = start\n",
      "WARNING, x.max() > end for some elements. Truncating them to end: x[x > end] = end\n",
      "WARNING, x.min() < start for some elements. Truncating them to start: x[x < start] = start\n",
      "WARNING, x.max() > end for some elements. Truncating them to end: x[x > end] = end\n",
      "WARNING, x.max() > end for some elements. Truncating them to end: x[x > end] = end\n",
      "WARNING, x.max() > end for some elements. Truncating them to end: x[x > end] = end\n",
      "WARNING, x.min() < start for some elements. Truncating them to start: x[x < start] = start\n",
      "WARNING, x.max() > end for some elements. Truncating them to end: x[x > end] = end\n",
      "WARNING, x.min() < start for some elements. Truncating them to start: x[x < start] = start\n",
      "WARNING, x.min() < start for some elements. Truncating them to start: x[x < start] = start\n",
      "WARNING, x.max() > end for some elements. Truncating them to end: x[x > end] = end\n",
      "WARNING, x.max() > end for some elements. Truncating them to end: x[x > end] = end\n",
      "WARNING, x.min() < start for some elements. Truncating them to start: x[x < start] = start\n",
      "WARNING, x.min() < start for some elements. Truncating them to start: x[x < start] = start\n",
      "WARNING, x.max() > end for some elements. Truncating them to end: x[x > end] = end\n",
      "WARNING, x.min() < start for some elements. Truncating them to start: x[x < start] = start\n",
      "WARNING, x.max() > end for some elements. Truncating them to end: x[x > end] = end\n",
      "WARNING, x.min() < start for some elements. Truncating them to start: x[x < start] = start\n",
      "WARNING, x.min() < start for some elements. Truncating them to start: x[x < start] = start\n",
      "WARNING, x.max() > end for some elements. Truncating them to end: x[x > end] = end\n",
      "WARNING, x.min() < start for some elements. Truncating them to start: x[x < start] = start\n",
      "WARNING, x.max() > end for some elements. Truncating them to end: x[x > end] = end\n",
      "WARNING, x.min() < start for some elements. Truncating them to start: x[x < start] = start\n",
      "WARNING, x.max() > end for some elements. Truncating them to end: x[x > end] = end\n",
      "WARNING, x.max() > end for some elements. Truncating them to end: x[x > end] = end\n",
      "WARNING, x.max() > end for some elements. Truncating them to end: x[x > end] = end\n",
      "WARNING, x.min() < start for some elements. Truncating them to start: x[x < start] = start\n",
      "WARNING, x.max() > end for some elements. Truncating them to end: x[x > end] = end\n",
      "WARNING, x.min() < start for some elements. Truncating them to start: x[x < start] = start\n",
      "WARNING, x.max() > end for some elements. Truncating them to end: x[x > end] = end\n",
      "WARNING, x.max() > end for some elements. Truncating them to end: x[x > end] = end\n",
      "WARNING, x.max() > end for some elements. Truncating them to end: x[x > end] = end\n",
      "WARNING, x.min() < start for some elements. Truncating them to start: x[x < start] = start\n",
      "WARNING, x.max() > end for some elements. Truncating them to end: x[x > end] = end\n",
      "WARNING, x.min() < start for some elements. Truncating them to start: x[x < start] = start\n",
      "WARNING, x.max() > end for some elements. Truncating them to end: x[x > end] = end\n",
      "WARNING, x.min() < start for some elements. Truncating them to start: x[x < start] = start\n",
      "WARNING, x.max() > end for some elements. Truncating them to end: x[x > end] = end\n",
      "WARNING, x.max() > end for some elements. Truncating them to end: x[x > end] = end\n",
      "WARNING, x.max() > end for some elements. Truncating them to end: x[x > end] = end\n"
     ]
    }
   ],
   "source": [
    "dt = pd.DataFrame([get_summary(rbp) for rbp in RBP_ALL])"
   ]
  },
  {
   "cell_type": "code",
   "execution_count": 21,
   "metadata": {},
   "outputs": [],
   "source": [
    "dt.set_index(\"rbp\", inplace=True)"
   ]
  },
  {
   "cell_type": "markdown",
   "metadata": {},
   "source": [
    "Fractions of training and test data"
   ]
  },
  {
   "cell_type": "code",
   "execution_count": 24,
   "metadata": {},
   "outputs": [
    {
     "data": {
      "text/plain": [
       "0.15687946801915836"
      ]
     },
     "execution_count": 24,
     "metadata": {},
     "output_type": "execute_result"
    }
   ],
   "source": [
    "dt.valid.sum() / dt.sum().sum()"
   ]
  },
  {
   "cell_type": "code",
   "execution_count": 25,
   "metadata": {},
   "outputs": [
    {
     "data": {
      "text/plain": [
       "0.2273238280249692"
      ]
     },
     "execution_count": 25,
     "metadata": {},
     "output_type": "execute_result"
    }
   ],
   "source": [
    "dt.test.sum() / dt.sum().sum()"
   ]
  },
  {
   "cell_type": "code",
   "execution_count": 9,
   "metadata": {},
   "outputs": [
    {
     "data": {
      "text/plain": [
       "10789"
      ]
     },
     "execution_count": 9,
     "metadata": {},
     "output_type": "execute_result"
    }
   ],
   "source": [
    "train[1].shape[0]"
   ]
  },
  {
   "cell_type": "code",
   "execution_count": null,
   "metadata": {},
   "outputs": [],
   "source": []
  }
 ],
 "metadata": {
  "kernelspec": {
   "display_name": "Python [default]",
   "language": "python",
   "name": "python3"
  },
  "language_info": {
   "codemirror_mode": {
    "name": "ipython",
    "version": 3
   },
   "file_extension": ".py",
   "mimetype": "text/x-python",
   "name": "python",
   "nbconvert_exporter": "python",
   "pygments_lexer": "ipython3",
   "version": "3.6.1"
  }
 },
 "nbformat": 4,
 "nbformat_minor": 2
}
