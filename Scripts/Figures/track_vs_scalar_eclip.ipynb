{
 "cells": [
  {
   "cell_type": "markdown",
   "metadata": {},
   "source": [
    "## Scatterplot of track vs scalar\n",
    "\n",
    "Make the scatterplot comparing track vs scalar"
   ]
  },
  {
   "cell_type": "code",
   "execution_count": 1,
   "metadata": {},
   "outputs": [
    {
     "data": {
      "text/html": [
       "'/data/nasif12/home_if12/avsec/projects-work/code_spline_trans/Scripts/Figures'"
      ],
      "text/latex": [
       "'/data/nasif12/home\\_if12/avsec/projects-work/code\\_spline\\_trans/Scripts/Figures'"
      ],
      "text/markdown": [
       "'/data/nasif12/home_if12/avsec/projects-work/code_spline_trans/Scripts/Figures'"
      ],
      "text/plain": [
       "[1] \"/data/nasif12/home_if12/avsec/projects-work/code_spline_trans/Scripts/Figures\""
      ]
     },
     "metadata": {},
     "output_type": "display_data"
    }
   ],
   "source": [
    "getwd()"
   ]
  },
  {
   "cell_type": "code",
   "execution_count": 2,
   "metadata": {},
   "outputs": [],
   "source": [
    "setwd(\"../../\")"
   ]
  },
  {
   "cell_type": "code",
   "execution_count": 3,
   "metadata": {},
   "outputs": [
    {
     "name": "stderr",
     "output_type": "stream",
     "text": [
      "Loading packages and configuration from src/r/config.R...\n",
      "Done\n"
     ]
    }
   ],
   "source": [
    "source(\".Rprofile\")"
   ]
  },
  {
   "cell_type": "code",
   "execution_count": 4,
   "metadata": {},
   "outputs": [
    {
     "name": "stderr",
     "output_type": "stream",
     "text": [
      "\n",
      "Attaching package: ‘dplyr’\n",
      "\n",
      "The following object is masked from ‘package:AnnotationDbi’:\n",
      "\n",
      "    select\n",
      "\n",
      "The following object is masked from ‘package:Biobase’:\n",
      "\n",
      "    combine\n",
      "\n",
      "The following objects are masked from ‘package:GenomicRanges’:\n",
      "\n",
      "    intersect, setdiff, union\n",
      "\n",
      "The following object is masked from ‘package:GenomeInfoDb’:\n",
      "\n",
      "    intersect\n",
      "\n",
      "The following objects are masked from ‘package:Biostrings’:\n",
      "\n",
      "    collapse, intersect, setdiff, setequal, union\n",
      "\n",
      "The following object is masked from ‘package:XVector’:\n",
      "\n",
      "    slice\n",
      "\n",
      "The following objects are masked from ‘package:IRanges’:\n",
      "\n",
      "    collapse, desc, intersect, setdiff, slice, union\n",
      "\n",
      "The following objects are masked from ‘package:S4Vectors’:\n",
      "\n",
      "    first, intersect, rename, setdiff, setequal, union\n",
      "\n",
      "The following objects are masked from ‘package:BiocGenerics’:\n",
      "\n",
      "    combine, intersect, setdiff, union\n",
      "\n",
      "The following object is masked from ‘package:nlme’:\n",
      "\n",
      "    collapse\n",
      "\n",
      "The following objects are masked from ‘package:stats’:\n",
      "\n",
      "    filter, lag\n",
      "\n",
      "The following objects are masked from ‘package:data.table’:\n",
      "\n",
      "    between, first, last\n",
      "\n",
      "The following objects are masked from ‘package:base’:\n",
      "\n",
      "    intersect, setdiff, setequal, union\n",
      "\n"
     ]
    }
   ],
   "source": [
    "source(\"Scripts/Figures/func/gam_vs_relu_perf.R\")"
   ]
  },
  {
   "cell_type": "code",
   "execution_count": 5,
   "metadata": {},
   "outputs": [],
   "source": [
    "# re-cache everything\n",
    "df = get_eCLIP_metric(n_cores=8, incl_track=TRUE)"
   ]
  },
  {
   "cell_type": "code",
   "execution_count": 6,
   "metadata": {},
   "outputs": [
    {
     "data": {},
     "metadata": {},
     "output_type": "display_data"
    }
   ],
   "source": [
    "df[, Method := gsub(\"DeepNN_track_position_ext_gam\", \"track_gam\", Method)]"
   ]
  },
  {
   "cell_type": "code",
   "execution_count": 7,
   "metadata": {},
   "outputs": [],
   "source": [
    "dtc <- df[metric==\"auprc\" & task == \"eCLIP\"][, .(Method, subtask, value)][, id := 1:.N, by = .(Method, subtask)] %>% spread(Method, value)"
   ]
  },
  {
   "cell_type": "code",
   "execution_count": 8,
   "metadata": {},
   "outputs": [
    {
     "data": {
      "text/html": [
       "<table>\n",
       "<thead><tr><th scope=col>task</th><th scope=col>subtask</th><th scope=col>Method</th><th scope=col>pos_as_track</th><th scope=col>exp</th><th scope=col>metric</th><th scope=col>value</th></tr></thead>\n",
       "<tbody>\n",
       "\t<tr><td>eCLIP     </td><td>AARS      </td><td>no_pos    </td><td>FALSE     </td><td>DeepNN_ext</td><td>auc       </td><td>0.7884387 </td></tr>\n",
       "\t<tr><td>eCLIP     </td><td>AARS      </td><td>no_pos    </td><td>FALSE     </td><td>DeepNN_ext</td><td>auc       </td><td>0.7592393 </td></tr>\n",
       "\t<tr><td>eCLIP     </td><td>AARS      </td><td>no_pos    </td><td>FALSE     </td><td>DeepNN_ext</td><td>auc       </td><td>0.7464089 </td></tr>\n",
       "\t<tr><td>eCLIP     </td><td>AARS      </td><td>no_pos    </td><td>FALSE     </td><td>DeepNN_ext</td><td>auc       </td><td>0.7494649 </td></tr>\n",
       "\t<tr><td>eCLIP     </td><td>AARS      </td><td>no_pos    </td><td>FALSE     </td><td>DeepNN_ext</td><td>auc       </td><td>0.7750127 </td></tr>\n",
       "\t<tr><td>eCLIP     </td><td>AARS      </td><td>no_pos    </td><td>FALSE     </td><td>DeepNN_ext</td><td>auc       </td><td>0.7378954 </td></tr>\n",
       "</tbody>\n",
       "</table>\n"
      ],
      "text/latex": [
       "\\begin{tabular}{r|lllllll}\n",
       " task & subtask & Method & pos\\_as\\_track & exp & metric & value\\\\\n",
       "\\hline\n",
       "\t eCLIP        & AARS         & no\\_pos     & FALSE        & DeepNN\\_ext & auc          & 0.7884387   \\\\\n",
       "\t eCLIP        & AARS         & no\\_pos     & FALSE        & DeepNN\\_ext & auc          & 0.7592393   \\\\\n",
       "\t eCLIP        & AARS         & no\\_pos     & FALSE        & DeepNN\\_ext & auc          & 0.7464089   \\\\\n",
       "\t eCLIP        & AARS         & no\\_pos     & FALSE        & DeepNN\\_ext & auc          & 0.7494649   \\\\\n",
       "\t eCLIP        & AARS         & no\\_pos     & FALSE        & DeepNN\\_ext & auc          & 0.7750127   \\\\\n",
       "\t eCLIP        & AARS         & no\\_pos     & FALSE        & DeepNN\\_ext & auc          & 0.7378954   \\\\\n",
       "\\end{tabular}\n"
      ],
      "text/markdown": [
       "\n",
       "task | subtask | Method | pos_as_track | exp | metric | value | \n",
       "|---|---|---|---|---|---|\n",
       "| eCLIP      | AARS       | no_pos     | FALSE      | DeepNN_ext | auc        | 0.7884387  | \n",
       "| eCLIP      | AARS       | no_pos     | FALSE      | DeepNN_ext | auc        | 0.7592393  | \n",
       "| eCLIP      | AARS       | no_pos     | FALSE      | DeepNN_ext | auc        | 0.7464089  | \n",
       "| eCLIP      | AARS       | no_pos     | FALSE      | DeepNN_ext | auc        | 0.7494649  | \n",
       "| eCLIP      | AARS       | no_pos     | FALSE      | DeepNN_ext | auc        | 0.7750127  | \n",
       "| eCLIP      | AARS       | no_pos     | FALSE      | DeepNN_ext | auc        | 0.7378954  | \n",
       "\n",
       "\n"
      ],
      "text/plain": [
       "  task  subtask Method pos_as_track exp        metric value    \n",
       "1 eCLIP AARS    no_pos FALSE        DeepNN_ext auc    0.7884387\n",
       "2 eCLIP AARS    no_pos FALSE        DeepNN_ext auc    0.7592393\n",
       "3 eCLIP AARS    no_pos FALSE        DeepNN_ext auc    0.7464089\n",
       "4 eCLIP AARS    no_pos FALSE        DeepNN_ext auc    0.7494649\n",
       "5 eCLIP AARS    no_pos FALSE        DeepNN_ext auc    0.7750127\n",
       "6 eCLIP AARS    no_pos FALSE        DeepNN_ext auc    0.7378954"
      ]
     },
     "metadata": {},
     "output_type": "display_data"
    }
   ],
   "source": [
    "df %>% head"
   ]
  },
  {
   "cell_type": "code",
   "execution_count": 9,
   "metadata": {},
   "outputs": [
    {
     "data": {
      "text/html": [
       "<table>\n",
       "<thead><tr><th scope=col>task</th><th scope=col>subtask</th><th scope=col>Method</th><th scope=col>pos_as_track</th><th scope=col>exp</th><th scope=col>metric</th><th scope=col>value</th></tr></thead>\n",
       "<tbody>\n",
       "\t<tr><td>eCLIP     </td><td>AARS      </td><td>no_pos    </td><td>FALSE     </td><td>DeepNN_ext</td><td>auc       </td><td>0.7884387 </td></tr>\n",
       "\t<tr><td>eCLIP     </td><td>AARS      </td><td>no_pos    </td><td>FALSE     </td><td>DeepNN_ext</td><td>auc       </td><td>0.7592393 </td></tr>\n",
       "\t<tr><td>eCLIP     </td><td>AARS      </td><td>no_pos    </td><td>FALSE     </td><td>DeepNN_ext</td><td>auc       </td><td>0.7464089 </td></tr>\n",
       "\t<tr><td>eCLIP     </td><td>AARS      </td><td>no_pos    </td><td>FALSE     </td><td>DeepNN_ext</td><td>auc       </td><td>0.7494649 </td></tr>\n",
       "\t<tr><td>eCLIP     </td><td>AARS      </td><td>no_pos    </td><td>FALSE     </td><td>DeepNN_ext</td><td>auc       </td><td>0.7750127 </td></tr>\n",
       "\t<tr><td>eCLIP     </td><td>AARS      </td><td>no_pos    </td><td>FALSE     </td><td>DeepNN_ext</td><td>auc       </td><td>0.7378954 </td></tr>\n",
       "</tbody>\n",
       "</table>\n"
      ],
      "text/latex": [
       "\\begin{tabular}{r|lllllll}\n",
       " task & subtask & Method & pos\\_as\\_track & exp & metric & value\\\\\n",
       "\\hline\n",
       "\t eCLIP        & AARS         & no\\_pos     & FALSE        & DeepNN\\_ext & auc          & 0.7884387   \\\\\n",
       "\t eCLIP        & AARS         & no\\_pos     & FALSE        & DeepNN\\_ext & auc          & 0.7592393   \\\\\n",
       "\t eCLIP        & AARS         & no\\_pos     & FALSE        & DeepNN\\_ext & auc          & 0.7464089   \\\\\n",
       "\t eCLIP        & AARS         & no\\_pos     & FALSE        & DeepNN\\_ext & auc          & 0.7494649   \\\\\n",
       "\t eCLIP        & AARS         & no\\_pos     & FALSE        & DeepNN\\_ext & auc          & 0.7750127   \\\\\n",
       "\t eCLIP        & AARS         & no\\_pos     & FALSE        & DeepNN\\_ext & auc          & 0.7378954   \\\\\n",
       "\\end{tabular}\n"
      ],
      "text/markdown": [
       "\n",
       "task | subtask | Method | pos_as_track | exp | metric | value | \n",
       "|---|---|---|---|---|---|\n",
       "| eCLIP      | AARS       | no_pos     | FALSE      | DeepNN_ext | auc        | 0.7884387  | \n",
       "| eCLIP      | AARS       | no_pos     | FALSE      | DeepNN_ext | auc        | 0.7592393  | \n",
       "| eCLIP      | AARS       | no_pos     | FALSE      | DeepNN_ext | auc        | 0.7464089  | \n",
       "| eCLIP      | AARS       | no_pos     | FALSE      | DeepNN_ext | auc        | 0.7494649  | \n",
       "| eCLIP      | AARS       | no_pos     | FALSE      | DeepNN_ext | auc        | 0.7750127  | \n",
       "| eCLIP      | AARS       | no_pos     | FALSE      | DeepNN_ext | auc        | 0.7378954  | \n",
       "\n",
       "\n"
      ],
      "text/plain": [
       "  task  subtask Method pos_as_track exp        metric value    \n",
       "1 eCLIP AARS    no_pos FALSE        DeepNN_ext auc    0.7884387\n",
       "2 eCLIP AARS    no_pos FALSE        DeepNN_ext auc    0.7592393\n",
       "3 eCLIP AARS    no_pos FALSE        DeepNN_ext auc    0.7464089\n",
       "4 eCLIP AARS    no_pos FALSE        DeepNN_ext auc    0.7494649\n",
       "5 eCLIP AARS    no_pos FALSE        DeepNN_ext auc    0.7750127\n",
       "6 eCLIP AARS    no_pos FALSE        DeepNN_ext auc    0.7378954"
      ]
     },
     "metadata": {},
     "output_type": "display_data"
    }
   ],
   "source": [
    "df %>% head"
   ]
  },
  {
   "cell_type": "code",
   "execution_count": 14,
   "metadata": {},
   "outputs": [
    {
     "data": {
      "text/html": [
       "<table>\n",
       "<thead><tr><th scope=col>task</th><th scope=col>Method</th><th scope=col>pos_as_track</th><th scope=col>exp</th><th scope=col>N</th></tr></thead>\n",
       "<tbody>\n",
       "\t<tr><td>eCLIP                          </td><td>no_pos                         </td><td>FALSE                          </td><td>DeepNN_ext                     </td><td>44800                          </td></tr>\n",
       "\t<tr><td>eCLIP                          </td><td>gam                            </td><td>FALSE                          </td><td>DeepNN_scalar_position_ext_gam </td><td>44800                          </td></tr>\n",
       "\t<tr><td>eCLIP                          </td><td>relu                           </td><td>FALSE                          </td><td>DeepNN_scalar_position_ext_relu</td><td>44800                          </td></tr>\n",
       "\t<tr><td>eCLIP                          </td><td>track_gam                      </td><td> TRUE                          </td><td>DeepNN_track_position_ext_gam  </td><td>44800                          </td></tr>\n",
       "</tbody>\n",
       "</table>\n"
      ],
      "text/latex": [
       "\\begin{tabular}{r|lllll}\n",
       " task & Method & pos\\_as\\_track & exp & N\\\\\n",
       "\\hline\n",
       "\t eCLIP                             & no\\_pos                          & FALSE                             & DeepNN\\_ext                      & 44800                            \\\\\n",
       "\t eCLIP                                   & gam                                     & FALSE                                   & DeepNN\\_scalar\\_position\\_ext\\_gam  & 44800                                  \\\\\n",
       "\t eCLIP                                   & relu                                    & FALSE                                   & DeepNN\\_scalar\\_position\\_ext\\_relu & 44800                                  \\\\\n",
       "\t eCLIP                                   & track\\_gam                             &  TRUE                                   & DeepNN\\_track\\_position\\_ext\\_gam   & 44800                                  \\\\\n",
       "\\end{tabular}\n"
      ],
      "text/markdown": [
       "\n",
       "task | Method | pos_as_track | exp | N | \n",
       "|---|---|---|---|\n",
       "| eCLIP                           | no_pos                          | FALSE                           | DeepNN_ext                      | 44800                           | \n",
       "| eCLIP                           | gam                             | FALSE                           | DeepNN_scalar_position_ext_gam  | 44800                           | \n",
       "| eCLIP                           | relu                            | FALSE                           | DeepNN_scalar_position_ext_relu | 44800                           | \n",
       "| eCLIP                           | track_gam                       |  TRUE                           | DeepNN_track_position_ext_gam   | 44800                           | \n",
       "\n",
       "\n"
      ],
      "text/plain": [
       "  task  Method    pos_as_track exp                             N    \n",
       "1 eCLIP no_pos    FALSE        DeepNN_ext                      44800\n",
       "2 eCLIP gam       FALSE        DeepNN_scalar_position_ext_gam  44800\n",
       "3 eCLIP relu      FALSE        DeepNN_scalar_position_ext_relu 44800\n",
       "4 eCLIP track_gam  TRUE        DeepNN_track_position_ext_gam   44800"
      ]
     },
     "metadata": {},
     "output_type": "display_data"
    }
   ],
   "source": [
    "df[, .N, by = .(task, Method, pos_as_track, exp)]"
   ]
  },
  {
   "cell_type": "code",
   "execution_count": 20,
   "metadata": {},
   "outputs": [],
   "source": [
    "write_csv(df, \"tmp.csv\")"
   ]
  },
  {
   "cell_type": "code",
   "execution_count": 18,
   "metadata": {},
   "outputs": [
    {
     "name": "stderr",
     "output_type": "stream",
     "text": [
      "Aggregate function missing, defaulting to 'length'\n"
     ]
    }
   ],
   "source": [
    "dtct = dcast(df, ...~ Method, value.var = \"value\")"
   ]
  },
  {
   "cell_type": "code",
   "execution_count": 25,
   "metadata": {},
   "outputs": [
    {
     "data": {
      "text/plain": [
       "\n",
       "\tWilcoxon signed rank test with continuity correction\n",
       "\n",
       "data:  track_gam and gam\n",
       "V = 50288, p-value = 1\n",
       "alternative hypothesis: true location shift is not equal to 0\n"
      ]
     },
     "metadata": {},
     "output_type": "display_data"
    },
    {
     "data": {
      "text/html": [
       "0"
      ],
      "text/latex": [
       "0"
      ],
      "text/markdown": [
       "0"
      ],
      "text/plain": [
       "[1] 0"
      ]
     },
     "metadata": {},
     "output_type": "display_data"
    },
    {
     "data": {
      "text/html": [
       "NaN"
      ],
      "text/latex": [
       "NaN"
      ],
      "text/markdown": [
       "NaN"
      ],
      "text/plain": [
       "[1] NaN"
      ]
     },
     "metadata": {},
     "output_type": "display_data"
    }
   ],
   "source": [
    "# overall not significant\n",
    "dtct[, wilcox.test(track_gam, gam, paired=TRUE)]\n",
    "# p.value = 0.91\n",
    "# \n",
    "dtct[, mean(track_gam - gam)]\n",
    "# 0.0014 -> average absolute dviation \n",
    "dtct[, mean((track_gam - gam)/gam)]\n",
    "# 0.2% relative deviation"
   ]
  },
  {
   "cell_type": "code",
   "execution_count": 26,
   "metadata": {},
   "outputs": [
    {
     "ename": "ERROR",
     "evalue": "Error in eval(bysub, x, parent.frame()): object 'signif.gam__track_gam' not found\n",
     "execution_count": 26,
     "output_type": "error",
     "traceback": [
      "Error in eval(bysub, x, parent.frame()): object 'signif.gam__track_gam' not found\nTraceback:\n",
      "1. dtct[, .N, by = .(signif.gam__track_gam, sign(track_gam - gam))]",
      "2. `[.data.table`(dtct, , .N, by = .(signif.gam__track_gam, sign(track_gam - \n .     gam)))",
      "3. eval(bysub, x, parent.frame())",
      "4. eval(bysub, x, parent.frame())"
     ]
    }
   ],
   "source": [
    "dtct[, .N, by = .(signif.gam__track_gam, sign(track_gam - gam))]"
   ]
  },
  {
   "cell_type": "code",
   "execution_count": 27,
   "metadata": {},
   "outputs": [],
   "source": [
    "# In Total: 43 significantly better using track and 15 significantly worse"
   ]
  },
  {
   "cell_type": "code",
   "execution_count": 28,
   "metadata": {},
   "outputs": [],
   "source": [
    "dtct <- dtc[, .(gam = mean(gam), \n",
    "              relu=mean(relu), \n",
    "              no_pos=mean(no_pos),\n",
    "              track_gam=mean(track_gam),\n",
    "              p.gam__relu = wilcox.test(gam, relu)$p.value,\n",
    "              p.gam__track_gam = wilcox.test(gam, track_gam)$p.value,\n",
    "              p.gam__no_pos = wilcox.test(gam, no_pos)$p.value\n",
    "              ), by = .(subtask)]"
   ]
  },
  {
   "cell_type": "code",
   "execution_count": 29,
   "metadata": {},
   "outputs": [],
   "source": [
    "signif_threshold <- 1e-4"
   ]
  },
  {
   "cell_type": "code",
   "execution_count": 30,
   "metadata": {},
   "outputs": [
    {
     "data": {},
     "metadata": {},
     "output_type": "display_data"
    },
    {
     "data": {},
     "metadata": {},
     "output_type": "display_data"
    },
    {
     "data": {},
     "metadata": {},
     "output_type": "display_data"
    },
    {
     "data": {
      "text/html": [
       "<table>\n",
       "<thead><tr><th scope=col>subtask</th><th scope=col>gam</th><th scope=col>relu</th><th scope=col>no_pos</th><th scope=col>track_gam</th><th scope=col>p.gam__relu</th><th scope=col>p.gam__track_gam</th><th scope=col>p.gam__no_pos</th><th scope=col>signif.gam__relu</th><th scope=col>signif.gam__no_pos</th><th scope=col>signif.gam__track_gam</th></tr></thead>\n",
       "<tbody>\n",
       "\t<tr><td>AARS        </td><td>0.6212842   </td><td>0.5183930   </td><td>0.4740540   </td><td>0.5710210   </td><td>5.572417e-63</td><td>8.815291e-36</td><td>6.620091e-67</td><td>TRUE        </td><td>TRUE        </td><td> TRUE       </td></tr>\n",
       "\t<tr><td>AGGF1       </td><td>0.7911967   </td><td>0.7746943   </td><td>0.6861069   </td><td>0.7878016   </td><td>5.742528e-44</td><td>1.200728e-04</td><td>4.830856e-67</td><td>TRUE        </td><td>TRUE        </td><td>FALSE       </td></tr>\n",
       "\t<tr><td>AKAP8L      </td><td>0.7225794   </td><td>0.6961368   </td><td>0.6647773   </td><td>0.7345498   </td><td>3.740603e-34</td><td>2.043366e-11</td><td>4.158183e-65</td><td>TRUE        </td><td>TRUE        </td><td> TRUE       </td></tr>\n",
       "\t<tr><td>AUH         </td><td>0.7433043   </td><td>0.6993373   </td><td>0.6370448   </td><td>0.7496658   </td><td>3.306504e-59</td><td>2.446475e-04</td><td>4.830856e-67</td><td>TRUE        </td><td>TRUE        </td><td>FALSE       </td></tr>\n",
       "\t<tr><td>BCCIP       </td><td>0.8443194   </td><td>0.8159724   </td><td>0.8073794   </td><td>0.8463252   </td><td>1.251558e-60</td><td>8.341838e-02</td><td>2.513869e-65</td><td>TRUE        </td><td>TRUE        </td><td>FALSE       </td></tr>\n",
       "\t<tr><td>BUD13       </td><td>0.8983075   </td><td>0.8832179   </td><td>0.7325109   </td><td>0.9018438   </td><td>4.419525e-66</td><td>8.681788e-18</td><td>4.830856e-67</td><td>TRUE        </td><td>TRUE        </td><td> TRUE       </td></tr>\n",
       "</tbody>\n",
       "</table>\n"
      ],
      "text/latex": [
       "\\begin{tabular}{r|lllllllllll}\n",
       " subtask & gam & relu & no\\_pos & track\\_gam & p.gam\\_\\_relu & p.gam\\_\\_track\\_gam & p.gam\\_\\_no\\_pos & signif.gam\\_\\_relu & signif.gam\\_\\_no\\_pos & signif.gam\\_\\_track\\_gam\\\\\n",
       "\\hline\n",
       "\t AARS         & 0.6212842    & 0.5183930    & 0.4740540    & 0.5710210    & 5.572417e-63 & 8.815291e-36 & 6.620091e-67 & TRUE         & TRUE         &  TRUE       \\\\\n",
       "\t AGGF1        & 0.7911967    & 0.7746943    & 0.6861069    & 0.7878016    & 5.742528e-44 & 1.200728e-04 & 4.830856e-67 & TRUE         & TRUE         & FALSE       \\\\\n",
       "\t AKAP8L       & 0.7225794    & 0.6961368    & 0.6647773    & 0.7345498    & 3.740603e-34 & 2.043366e-11 & 4.158183e-65 & TRUE         & TRUE         &  TRUE       \\\\\n",
       "\t AUH          & 0.7433043    & 0.6993373    & 0.6370448    & 0.7496658    & 3.306504e-59 & 2.446475e-04 & 4.830856e-67 & TRUE         & TRUE         & FALSE       \\\\\n",
       "\t BCCIP        & 0.8443194    & 0.8159724    & 0.8073794    & 0.8463252    & 1.251558e-60 & 8.341838e-02 & 2.513869e-65 & TRUE         & TRUE         & FALSE       \\\\\n",
       "\t BUD13        & 0.8983075    & 0.8832179    & 0.7325109    & 0.9018438    & 4.419525e-66 & 8.681788e-18 & 4.830856e-67 & TRUE         & TRUE         &  TRUE       \\\\\n",
       "\\end{tabular}\n"
      ],
      "text/markdown": [
       "\n",
       "subtask | gam | relu | no_pos | track_gam | p.gam__relu | p.gam__track_gam | p.gam__no_pos | signif.gam__relu | signif.gam__no_pos | signif.gam__track_gam | \n",
       "|---|---|---|---|---|---|\n",
       "| AARS         | 0.6212842    | 0.5183930    | 0.4740540    | 0.5710210    | 5.572417e-63 | 8.815291e-36 | 6.620091e-67 | TRUE         | TRUE         |  TRUE        | \n",
       "| AGGF1        | 0.7911967    | 0.7746943    | 0.6861069    | 0.7878016    | 5.742528e-44 | 1.200728e-04 | 4.830856e-67 | TRUE         | TRUE         | FALSE        | \n",
       "| AKAP8L       | 0.7225794    | 0.6961368    | 0.6647773    | 0.7345498    | 3.740603e-34 | 2.043366e-11 | 4.158183e-65 | TRUE         | TRUE         |  TRUE        | \n",
       "| AUH          | 0.7433043    | 0.6993373    | 0.6370448    | 0.7496658    | 3.306504e-59 | 2.446475e-04 | 4.830856e-67 | TRUE         | TRUE         | FALSE        | \n",
       "| BCCIP        | 0.8443194    | 0.8159724    | 0.8073794    | 0.8463252    | 1.251558e-60 | 8.341838e-02 | 2.513869e-65 | TRUE         | TRUE         | FALSE        | \n",
       "| BUD13        | 0.8983075    | 0.8832179    | 0.7325109    | 0.9018438    | 4.419525e-66 | 8.681788e-18 | 4.830856e-67 | TRUE         | TRUE         |  TRUE        | \n",
       "\n",
       "\n"
      ],
      "text/plain": [
       "  subtask gam       relu      no_pos    track_gam p.gam__relu  p.gam__track_gam\n",
       "1 AARS    0.6212842 0.5183930 0.4740540 0.5710210 5.572417e-63 8.815291e-36    \n",
       "2 AGGF1   0.7911967 0.7746943 0.6861069 0.7878016 5.742528e-44 1.200728e-04    \n",
       "3 AKAP8L  0.7225794 0.6961368 0.6647773 0.7345498 3.740603e-34 2.043366e-11    \n",
       "4 AUH     0.7433043 0.6993373 0.6370448 0.7496658 3.306504e-59 2.446475e-04    \n",
       "5 BCCIP   0.8443194 0.8159724 0.8073794 0.8463252 1.251558e-60 8.341838e-02    \n",
       "6 BUD13   0.8983075 0.8832179 0.7325109 0.9018438 4.419525e-66 8.681788e-18    \n",
       "  p.gam__no_pos signif.gam__relu signif.gam__no_pos signif.gam__track_gam\n",
       "1 6.620091e-67  TRUE             TRUE                TRUE                \n",
       "2 4.830856e-67  TRUE             TRUE               FALSE                \n",
       "3 4.158183e-65  TRUE             TRUE                TRUE                \n",
       "4 4.830856e-67  TRUE             TRUE               FALSE                \n",
       "5 2.513869e-65  TRUE             TRUE               FALSE                \n",
       "6 4.830856e-67  TRUE             TRUE                TRUE                "
      ]
     },
     "metadata": {},
     "output_type": "display_data"
    }
   ],
   "source": [
    "dtct[, signif.gam__relu := p.adjust(p.gam__relu, method=\"bonferroni\") < signif_threshold]\n",
    "dtct[, signif.gam__no_pos:= p.adjust(p.gam__no_pos, method=\"bonferroni\") < signif_threshold]\n",
    "dtct[, signif.gam__track_gam:= p.adjust(p.gam__track_gam, method=\"bonferroni\") < signif_threshold]\n",
    "dtct %>% head"
   ]
  },
  {
   "cell_type": "code",
   "execution_count": 32,
   "metadata": {},
   "outputs": [],
   "source": [
    "plt_dir <- \"data/plots/\"\n",
    "dir.create(plt_dir, showWarnings = FALSE)\n",
    "library(cowplot)\n",
    "source(\"Scripts/Figures/config.R\")"
   ]
  },
  {
   "cell_type": "code",
   "execution_count": 35,
   "metadata": {},
   "outputs": [
    {
     "data": {},
     "metadata": {},
     "output_type": "display_data"
    }
   ],
   "source": [
    "dtct[, add_label := rank(-abs(gam - track_gam)) < 5]"
   ]
  },
  {
   "cell_type": "code",
   "execution_count": 167,
   "metadata": {},
   "outputs": [
    {
     "name": "stderr",
     "output_type": "stream",
     "text": [
      "Warning message:\n",
      "“Removed 1 rows containing missing values (geom_point).”"
     ]
    },
    {
     "data": {},
     "metadata": {},
     "output_type": "display_data"
    },
    {
     "data": {
      "image/png": "[encoded data removed]",
      "text/plain": [
       "plot without title"
      ]
     },
     "metadata": {},
     "output_type": "display_data",
     "source": "R display func"
    }
   ],
   "source": [
    "library(\"gridExtra\")\n",
    "library(grid)\n",
    "\n",
    "plt_combined<- plt_test_gam_Why ChIP-seq data is not the ‘absolute truth’ about where and how strongly TFs bind in vivo, and what can we do about it?vs_relu + annotation_custom(ggplotGrob(hist_plt), xmin = 0.4,xmax = 0.83, ymin = 0.795, ymax=1.05)\n",
    "plt_combined\n",
    "#ggdraw() + draw_plot(plt_test_gam_vs_relu, 0, 0, 1, 1) + draw_plot(hist_plt, 0.15, 0.6, 0.5, 0.4, scale=1)"
   ]
  },
  {
   "cell_type": "code",
   "execution_count": 154,
   "metadata": {},
   "outputs": [],
   "source": [
    "plt_dir <- \"data/plots/\""
   ]
  },
  {
   "cell_type": "code",
   "execution_count": 168,
   "metadata": {},
   "outputs": [
    {
     "name": "stderr",
     "output_type": "stream",
     "text": [
      "Warning message:\n",
      "“Removed 1 rows containing missing values (geom_point).”Warning message:\n",
      "“Removed 1 rows containing missing values (geom_point).”"
     ]
    }
   ],
   "source": [
    "save_plot_mul(file.path(plt_dir, \"eCLIP_scalar_vs_vector\"), c(\"pdf\", \"png\"), plt_combined)"
   ]
  }
 ],
 "metadata": {
  "kernelspec": {
   "display_name": "R",
   "language": "R",
   "name": "ir"
  },
  "language_info": {
   "codemirror_mode": "r",
   "file_extension": ".r",
   "mimetype": "text/x-r-source",
   "name": "R",
   "pygments_lexer": "r",
   "version": "3.4.0"
  }
 },
 "nbformat": 4,
 "nbformat_minor": 2
}
