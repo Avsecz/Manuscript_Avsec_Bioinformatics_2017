{
 "cells": [
  {
   "cell_type": "markdown",
   "metadata": {},
   "source": [
    "## Get the table as csv to python"
   ]
  },
  {
   "cell_type": "markdown",
   "metadata": {},
   "source": [
    "## Make a 3x3 table\n",
    "- Columns: 3 different tasks\n",
    "- Row: seq, seq+distance+relu, seq+distance+spline_transformation\n",
    "- Put it after the figure 4\n",
    "- Summarize in text the discection of performance contribution"
   ]
  },
  {
   "cell_type": "code",
   "execution_count": 74,
   "metadata": {},
   "outputs": [],
   "source": [
    "options(repr.plot.width=4, repr.plot.height=3)\n",
    "\n",
    "options(digits=3)"
   ]
  },
  {
   "cell_type": "code",
   "execution_count": 1,
   "metadata": {},
   "outputs": [],
   "source": [
    "setwd(\"../../..\")"
   ]
  },
  {
   "cell_type": "code",
   "execution_count": 4,
   "metadata": {},
   "outputs": [],
   "source": [
    "source(\".Rprofile\")\n",
    "source(\"Scripts/Figures/config.R\")"
   ]
  },
  {
   "cell_type": "code",
   "execution_count": 76,
   "metadata": {},
   "outputs": [
    {
     "data": {
      "text/html": [
       "<table>\n",
       "<thead><tr><th scope=col>task</th><th scope=col>subtask</th><th scope=col>metric</th><th scope=col>gam</th><th scope=col>relu</th><th scope=col>no_pos</th><th scope=col>p.gam__relu</th><th scope=col>p.gam__no_pos</th><th scope=col>signif.gam__relu</th><th scope=col>signif.gam__no_pos</th></tr></thead>\n",
       "<tbody>\n",
       "\t<tr><td>branchpoint </td><td>deep        </td><td>auc         </td><td>0.948       </td><td>0.947       </td><td>   NA       </td><td>5.39e-20    </td><td>      NA    </td><td>TRUE        </td><td>  NA        </td></tr>\n",
       "\t<tr><td>branchpoint </td><td>deep        </td><td>auprc       </td><td>0.651       </td><td>0.645       </td><td>   NA       </td><td>1.76e-32    </td><td>      NA    </td><td>TRUE        </td><td>  NA        </td></tr>\n",
       "\t<tr><td>branchpoint </td><td>shallow     </td><td>auc         </td><td>0.921       </td><td>0.919       </td><td>   NA       </td><td>6.91e-34    </td><td>      NA    </td><td>TRUE        </td><td>  NA        </td></tr>\n",
       "\t<tr><td>branchpoint </td><td>shallow     </td><td>auprc       </td><td>0.581       </td><td>0.578       </td><td>   NA       </td><td>1.10e-13    </td><td>      NA    </td><td>TRUE        </td><td>  NA        </td></tr>\n",
       "\t<tr><td>CLIP        </td><td>Ago/EIF2C1-4</td><td>auc         </td><td>0.925       </td><td>0.898       </td><td>0.915       </td><td>3.71e-51    </td><td>1.50e-13    </td><td>TRUE        </td><td>TRUE        </td></tr>\n",
       "\t<tr><td>CLIP        </td><td>Ago/EIF2C1-4</td><td>auprc       </td><td>0.791       </td><td>0.720       </td><td>0.766       </td><td>4.06e-53    </td><td>2.38e-15    </td><td>TRUE        </td><td>TRUE        </td></tr>\n",
       "</tbody>\n",
       "</table>\n"
      ],
      "text/latex": [
       "\\begin{tabular}{r|llllllllll}\n",
       " task & subtask & metric & gam & relu & no\\_pos & p.gam\\_\\_relu & p.gam\\_\\_no\\_pos & signif.gam\\_\\_relu & signif.gam\\_\\_no\\_pos\\\\\n",
       "\\hline\n",
       "\t branchpoint  & deep         & auc          & 0.948        & 0.947        &    NA        & 5.39e-20     &       NA     & TRUE         &   NA        \\\\\n",
       "\t branchpoint  & deep         & auprc        & 0.651        & 0.645        &    NA        & 1.76e-32     &       NA     & TRUE         &   NA        \\\\\n",
       "\t branchpoint  & shallow      & auc          & 0.921        & 0.919        &    NA        & 6.91e-34     &       NA     & TRUE         &   NA        \\\\\n",
       "\t branchpoint  & shallow      & auprc        & 0.581        & 0.578        &    NA        & 1.10e-13     &       NA     & TRUE         &   NA        \\\\\n",
       "\t CLIP         & Ago/EIF2C1-4 & auc          & 0.925        & 0.898        & 0.915        & 3.71e-51     & 1.50e-13     & TRUE         & TRUE        \\\\\n",
       "\t CLIP         & Ago/EIF2C1-4 & auprc        & 0.791        & 0.720        & 0.766        & 4.06e-53     & 2.38e-15     & TRUE         & TRUE        \\\\\n",
       "\\end{tabular}\n"
      ],
      "text/markdown": [
       "\n",
       "task | subtask | metric | gam | relu | no_pos | p.gam__relu | p.gam__no_pos | signif.gam__relu | signif.gam__no_pos | \n",
       "|---|---|---|---|---|---|\n",
       "| branchpoint  | deep         | auc          | 0.948        | 0.947        |    NA        | 5.39e-20     |       NA     | TRUE         |   NA         | \n",
       "| branchpoint  | deep         | auprc        | 0.651        | 0.645        |    NA        | 1.76e-32     |       NA     | TRUE         |   NA         | \n",
       "| branchpoint  | shallow      | auc          | 0.921        | 0.919        |    NA        | 6.91e-34     |       NA     | TRUE         |   NA         | \n",
       "| branchpoint  | shallow      | auprc        | 0.581        | 0.578        |    NA        | 1.10e-13     |       NA     | TRUE         |   NA         | \n",
       "| CLIP         | Ago/EIF2C1-4 | auc          | 0.925        | 0.898        | 0.915        | 3.71e-51     | 1.50e-13     | TRUE         | TRUE         | \n",
       "| CLIP         | Ago/EIF2C1-4 | auprc        | 0.791        | 0.720        | 0.766        | 4.06e-53     | 2.38e-15     | TRUE         | TRUE         | \n",
       "\n",
       "\n"
      ],
      "text/plain": [
       "  task        subtask      metric gam   relu  no_pos p.gam__relu p.gam__no_pos\n",
       "1 branchpoint deep         auc    0.948 0.947    NA  5.39e-20          NA     \n",
       "2 branchpoint deep         auprc  0.651 0.645    NA  1.76e-32          NA     \n",
       "3 branchpoint shallow      auc    0.921 0.919    NA  6.91e-34          NA     \n",
       "4 branchpoint shallow      auprc  0.581 0.578    NA  1.10e-13          NA     \n",
       "5 CLIP        Ago/EIF2C1-4 auc    0.925 0.898 0.915  3.71e-51    1.50e-13     \n",
       "6 CLIP        Ago/EIF2C1-4 auprc  0.791 0.720 0.766  4.06e-53    2.38e-15     \n",
       "  signif.gam__relu signif.gam__no_pos\n",
       "1 TRUE               NA              \n",
       "2 TRUE               NA              \n",
       "3 TRUE               NA              \n",
       "4 TRUE               NA              \n",
       "5 TRUE             TRUE              \n",
       "6 TRUE             TRUE              "
      ]
     },
     "metadata": {},
     "output_type": "display_data"
    }
   ],
   "source": [
    "dt = get_metric_comparison(1e-4)\n",
    "head(dt)"
   ]
  },
  {
   "cell_type": "code",
   "execution_count": 14,
   "metadata": {},
   "outputs": [
    {
     "data": {
      "text/html": [
       "<ol class=list-inline>\n",
       "\t<li>'branchpoint'</li>\n",
       "\t<li>'CLIP'</li>\n",
       "\t<li>'eCLIP'</li>\n",
       "</ol>\n"
      ],
      "text/latex": [
       "\\begin{enumerate*}\n",
       "\\item 'branchpoint'\n",
       "\\item 'CLIP'\n",
       "\\item 'eCLIP'\n",
       "\\end{enumerate*}\n"
      ],
      "text/markdown": [
       "1. 'branchpoint'\n",
       "2. 'CLIP'\n",
       "3. 'eCLIP'\n",
       "\n",
       "\n"
      ],
      "text/plain": [
       "[1] \"branchpoint\" \"CLIP\"        \"eCLIP\"      "
      ]
     },
     "metadata": {},
     "output_type": "display_data"
    }
   ],
   "source": [
    "dt[metric==\"auprc\"][, unique(task)]"
   ]
  },
  {
   "cell_type": "code",
   "execution_count": 19,
   "metadata": {},
   "outputs": [],
   "source": [
    "dt <- dt[metric==\"auprc\"][!(task == \"branchpoint\" & subtask == \"shallow\")]"
   ]
  },
  {
   "cell_type": "code",
   "execution_count": 20,
   "metadata": {},
   "outputs": [
    {
     "data": {
      "text/html": [
       "<table>\n",
       "<thead><tr><th scope=col>task</th><th scope=col>N</th></tr></thead>\n",
       "<tbody>\n",
       "\t<tr><td>branchpoint</td><td>  1        </td></tr>\n",
       "\t<tr><td>CLIP       </td><td> 31        </td></tr>\n",
       "\t<tr><td>eCLIP      </td><td>112        </td></tr>\n",
       "</tbody>\n",
       "</table>\n"
      ],
      "text/latex": [
       "\\begin{tabular}{r|ll}\n",
       " task & N\\\\\n",
       "\\hline\n",
       "\t branchpoint &   1        \\\\\n",
       "\t CLIP        &  31        \\\\\n",
       "\t eCLIP       & 112        \\\\\n",
       "\\end{tabular}\n"
      ],
      "text/markdown": [
       "\n",
       "task | N | \n",
       "|---|---|---|\n",
       "| branchpoint |   1         | \n",
       "| CLIP        |  31         | \n",
       "| eCLIP       | 112         | \n",
       "\n",
       "\n"
      ],
      "text/plain": [
       "  task        N  \n",
       "1 branchpoint   1\n",
       "2 CLIP         31\n",
       "3 eCLIP       112"
      ]
     },
     "metadata": {},
     "output_type": "display_data"
    }
   ],
   "source": [
    "dt[, .N, by = task]"
   ]
  },
  {
   "cell_type": "code",
   "execution_count": 30,
   "metadata": {},
   "outputs": [
    {
     "data": {
      "text/html": [
       "<table>\n",
       "<thead><tr><th scope=col>task</th><th scope=col>baseline</th><th scope=col>relu</th><th scope=col>gam</th></tr></thead>\n",
       "<tbody>\n",
       "\t<tr><td>branchpoint</td><td>       NA  </td><td>0.6448695  </td><td>0.6511232  </td></tr>\n",
       "\t<tr><td>CLIP       </td><td>0.7996747  </td><td>0.8036396  </td><td>0.8351932  </td></tr>\n",
       "\t<tr><td>eCLIP      </td><td>0.6631287  </td><td>0.7432130  </td><td>0.7763490  </td></tr>\n",
       "</tbody>\n",
       "</table>\n"
      ],
      "text/latex": [
       "\\begin{tabular}{r|llll}\n",
       " task & baseline & relu & gam\\\\\n",
       "\\hline\n",
       "\t branchpoint &        NA   & 0.6448695   & 0.6511232  \\\\\n",
       "\t CLIP        & 0.7996747   & 0.8036396   & 0.8351932  \\\\\n",
       "\t eCLIP       & 0.6631287   & 0.7432130   & 0.7763490  \\\\\n",
       "\\end{tabular}\n"
      ],
      "text/markdown": [
       "\n",
       "task | baseline | relu | gam | \n",
       "|---|---|---|\n",
       "| branchpoint |        NA   | 0.6448695   | 0.6511232   | \n",
       "| CLIP        | 0.7996747   | 0.8036396   | 0.8351932   | \n",
       "| eCLIP       | 0.6631287   | 0.7432130   | 0.7763490   | \n",
       "\n",
       "\n"
      ],
      "text/plain": [
       "  task        baseline  relu      gam      \n",
       "1 branchpoint        NA 0.6448695 0.6511232\n",
       "2 CLIP        0.7996747 0.8036396 0.8351932\n",
       "3 eCLIP       0.6631287 0.7432130 0.7763490"
      ]
     },
     "metadata": {},
     "output_type": "display_data"
    }
   ],
   "source": [
    "dfs = dt[, .(baseline = mean(no_pos), relu = mean(relu), gam = mean(gam)), by = task]\n",
    "dfs"
   ]
  },
  {
   "cell_type": "code",
   "execution_count": 55,
   "metadata": {},
   "outputs": [],
   "source": [
    "load_dir <- \"data/Splice_branchpoints/processed/pr_roc/\"\n",
    "pr_curves <- fread(file.path(load_dir, \"pr_curves.csv\"))"
   ]
  },
  {
   "cell_type": "code",
   "execution_count": 63,
   "metadata": {},
   "outputs": [
    {
     "data": {
      "text/html": [
       "<table>\n",
       "<thead><tr><th scope=col>auPR</th><th scope=col>method</th></tr></thead>\n",
       "<tbody>\n",
       "\t<tr><td>0.6400888      </td><td>branchpointer  </td></tr>\n",
       "\t<tr><td>0.6508372      </td><td>concise_deep   </td></tr>\n",
       "\t<tr><td>0.5815679      </td><td>concise_shallow</td></tr>\n",
       "\t<tr><td>0.6451201      </td><td>deep_relu_0    </td></tr>\n",
       "\t<tr><td>0.5022051      </td><td>glmnet         </td></tr>\n",
       "\t<tr><td>0.5773803      </td><td>shallow_relu_0 </td></tr>\n",
       "</tbody>\n",
       "</table>\n"
      ],
      "text/latex": [
       "\\begin{tabular}{r|ll}\n",
       " auPR & method\\\\\n",
       "\\hline\n",
       "\t 0.6400888       & branchpointer  \\\\\n",
       "\t 0.6508372         & concise\\_deep   \\\\\n",
       "\t 0.5815679         & concise\\_shallow\\\\\n",
       "\t 0.6451201           & deep\\_relu\\_0    \\\\\n",
       "\t 0.5022051       & glmnet         \\\\\n",
       "\t 0.5773803           & shallow\\_relu\\_0 \\\\\n",
       "\\end{tabular}\n"
      ],
      "text/markdown": [
       "\n",
       "auPR | method | \n",
       "|---|---|---|---|---|---|\n",
       "| 0.6400888       | branchpointer   | \n",
       "| 0.6508372       | concise_deep    | \n",
       "| 0.5815679       | concise_shallow | \n",
       "| 0.6451201       | deep_relu_0     | \n",
       "| 0.5022051       | glmnet          | \n",
       "| 0.5773803       | shallow_relu_0  | \n",
       "\n",
       "\n"
      ],
      "text/plain": [
       "  auPR      method         \n",
       "1 0.6400888 branchpointer  \n",
       "2 0.6508372 concise_deep   \n",
       "3 0.5815679 concise_shallow\n",
       "4 0.6451201 deep_relu_0    \n",
       "5 0.5022051 glmnet         \n",
       "6 0.5773803 shallow_relu_0 "
      ]
     },
     "metadata": {},
     "output_type": "display_data"
    }
   ],
   "source": [
    "bp_performances = pr_curves[, .(auPR, method)] %>% unique\n",
    "bp_performances"
   ]
  },
  {
   "cell_type": "code",
   "execution_count": 62,
   "metadata": {},
   "outputs": [
    {
     "data": {
      "text/html": [
       "0.640088829977086"
      ],
      "text/latex": [
       "0.640088829977086"
      ],
      "text/markdown": [
       "0.640088829977086"
      ],
      "text/plain": [
       "[1] 0.6400888"
      ]
     },
     "metadata": {},
     "output_type": "display_data"
    }
   ],
   "source": [
    "branchpointer_perf = bp_performances[method == \"branchpointer\", auPR]\n",
    "branchpointer_perf"
   ]
  },
  {
   "cell_type": "code",
   "execution_count": 65,
   "metadata": {},
   "outputs": [
    {
     "data": {},
     "metadata": {},
     "output_type": "display_data"
    }
   ],
   "source": [
    "dfs[task == \"branchpoint\", baseline := branchpointer_perf]"
   ]
  },
  {
   "cell_type": "code",
   "execution_count": 75,
   "metadata": {},
   "outputs": [
    {
     "data": {
      "text/html": [
       "<table>\n",
       "<thead><tr><th scope=col>task</th><th scope=col>baseline</th><th scope=col>relu</th><th scope=col>gam</th></tr></thead>\n",
       "<tbody>\n",
       "\t<tr><td>branchpoint</td><td>0.640      </td><td>0.645      </td><td>0.651      </td></tr>\n",
       "\t<tr><td>CLIP       </td><td>0.800      </td><td>0.804      </td><td>0.835      </td></tr>\n",
       "\t<tr><td>eCLIP      </td><td>0.663      </td><td>0.743      </td><td>0.776      </td></tr>\n",
       "</tbody>\n",
       "</table>\n"
      ],
      "text/latex": [
       "\\begin{tabular}{r|llll}\n",
       " task & baseline & relu & gam\\\\\n",
       "\\hline\n",
       "\t branchpoint & 0.640       & 0.645       & 0.651      \\\\\n",
       "\t CLIP        & 0.800       & 0.804       & 0.835      \\\\\n",
       "\t eCLIP       & 0.663       & 0.743       & 0.776      \\\\\n",
       "\\end{tabular}\n"
      ],
      "text/markdown": [
       "\n",
       "task | baseline | relu | gam | \n",
       "|---|---|---|\n",
       "| branchpoint | 0.640       | 0.645       | 0.651       | \n",
       "| CLIP        | 0.800       | 0.804       | 0.835       | \n",
       "| eCLIP       | 0.663       | 0.743       | 0.776       | \n",
       "\n",
       "\n"
      ],
      "text/plain": [
       "  task        baseline relu  gam  \n",
       "1 branchpoint 0.640    0.645 0.651\n",
       "2 CLIP        0.800    0.804 0.835\n",
       "3 eCLIP       0.663    0.743 0.776"
      ]
     },
     "metadata": {},
     "output_type": "display_data"
    }
   ],
   "source": [
    "dfs"
   ]
  },
  {
   "cell_type": "code",
   "execution_count": 48,
   "metadata": {},
   "outputs": [
    {
     "name": "stderr",
     "output_type": "stream",
     "text": [
      "Warning message:\n",
      "“Removed 11 rows containing missing values (geom_point).”"
     ]
    },
    {
     "data": {},
     "metadata": {},
     "output_type": "display_data"
    },
    {
     "data": {
      "image/png": "[encoded data removed]",
      "text/plain": [
       "plot without title"
      ]
     },
     "metadata": {},
     "output_type": "display_data",
     "source": "R display func"
    }
   ],
   "source": [
    "no_pos_relu <- ggplot(dt[task==\"eCLIP\"], aes(x = no_pos, y = gam)) + geom_point() + geom_abline() + xlim(c(.5, 1))+ylim(c(.5, 1))\n",
    "no_pos_relu"
   ]
  }
 ],
 "metadata": {
  "kernelspec": {
   "display_name": "R",
   "language": "R",
   "name": "ir"
  },
  "language_info": {
   "codemirror_mode": "r",
   "file_extension": ".r",
   "mimetype": "text/x-r-source",
   "name": "R",
   "pygments_lexer": "r",
   "version": "3.4.0"
  }
 },
 "nbformat": 4,
 "nbformat_minor": 2
}
