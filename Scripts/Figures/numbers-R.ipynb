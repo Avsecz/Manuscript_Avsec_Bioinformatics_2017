{
 "cells": [
  {
   "cell_type": "markdown",
   "metadata": {},
   "source": [
    "## Paper numbers"
   ]
  },
  {
   "cell_type": "code",
   "execution_count": 1,
   "metadata": {},
   "outputs": [
    {
     "data": {
      "text/html": [
       "'/data/nasif12/home_if12/avsec/projects-work/code_spline_trans/Scripts/Figures'"
      ],
      "text/latex": [
       "'/data/nasif12/home\\_if12/avsec/projects-work/code\\_spline\\_trans/Scripts/Figures'"
      ],
      "text/markdown": [
       "'/data/nasif12/home_if12/avsec/projects-work/code_spline_trans/Scripts/Figures'"
      ],
      "text/plain": [
       "[1] \"/data/nasif12/home_if12/avsec/projects-work/code_spline_trans/Scripts/Figures\""
      ]
     },
     "metadata": {},
     "output_type": "display_data"
    }
   ],
   "source": [
    "getwd()"
   ]
  },
  {
   "cell_type": "code",
   "execution_count": 2,
   "metadata": {},
   "outputs": [],
   "source": [
    "setwd(\"../../\")"
   ]
  },
  {
   "cell_type": "code",
   "execution_count": 3,
   "metadata": {},
   "outputs": [
    {
     "name": "stderr",
     "output_type": "stream",
     "text": [
      "Loading packages and configuration from src/r/config.R...\n",
      "Done\n"
     ]
    }
   ],
   "source": [
    "source(\".Rprofile\")"
   ]
  },
  {
   "cell_type": "code",
   "execution_count": 4,
   "metadata": {},
   "outputs": [
    {
     "name": "stderr",
     "output_type": "stream",
     "text": [
      "\n",
      "Attaching package: ‘dplyr’\n",
      "\n",
      "The following object is masked from ‘package:AnnotationDbi’:\n",
      "\n",
      "    select\n",
      "\n",
      "The following object is masked from ‘package:Biobase’:\n",
      "\n",
      "    combine\n",
      "\n",
      "The following objects are masked from ‘package:GenomicRanges’:\n",
      "\n",
      "    intersect, setdiff, union\n",
      "\n",
      "The following object is masked from ‘package:GenomeInfoDb’:\n",
      "\n",
      "    intersect\n",
      "\n",
      "The following objects are masked from ‘package:Biostrings’:\n",
      "\n",
      "    collapse, intersect, setdiff, setequal, union\n",
      "\n",
      "The following object is masked from ‘package:XVector’:\n",
      "\n",
      "    slice\n",
      "\n",
      "The following objects are masked from ‘package:IRanges’:\n",
      "\n",
      "    collapse, desc, intersect, setdiff, slice, union\n",
      "\n",
      "The following objects are masked from ‘package:S4Vectors’:\n",
      "\n",
      "    first, intersect, rename, setdiff, setequal, union\n",
      "\n",
      "The following objects are masked from ‘package:BiocGenerics’:\n",
      "\n",
      "    combine, intersect, setdiff, union\n",
      "\n",
      "The following object is masked from ‘package:nlme’:\n",
      "\n",
      "    collapse\n",
      "\n",
      "The following objects are masked from ‘package:stats’:\n",
      "\n",
      "    filter, lag\n",
      "\n",
      "The following objects are masked from ‘package:data.table’:\n",
      "\n",
      "    between, first, last\n",
      "\n",
      "The following objects are masked from ‘package:base’:\n",
      "\n",
      "    intersect, setdiff, setequal, union\n",
      "\n"
     ]
    }
   ],
   "source": [
    "source(\"Scripts/Figures/func/gam_vs_relu_perf.R\")"
   ]
  },
  {
   "cell_type": "code",
   "execution_count": 5,
   "metadata": {},
   "outputs": [],
   "source": [
    "dtm <- get_metric_comparison(1e-4)\n",
    "df1 <- dtm[task != \"branch-point\" & metric == \"auprc\"]"
   ]
  },
  {
   "cell_type": "code",
   "execution_count": 36,
   "metadata": {},
   "outputs": [],
   "source": [
    "## OLD computation\n",
    "# df1[task == \"eCLIP\" & subtask ==\"UPF1\"]\n",
    "##      task subtask metric       gam      relu    no_pos  p.gam__relu p.gam__no_pos signif.gam__relu signif.gam__no_pos\n",
    "##    <char>  <char> <char>     <num>     <num>     <num>        <num>         <num>           <lgcl>             <lgcl>\n",
    "## 1:  eCLIP    UPF1    auc 0.9444418 0.9392438 0.7992773 1.440169e-44  4.830856e-67             TRUE               TRUE\n",
    "\n",
    "## > df1[task == \"eCLIP\", gam - no_pos] %>% summary\n",
    "##      Min.   1st Qu.    Median      Mean   3rd Qu.      Max. \n",
    "## -0.002254  0.027951  0.051840  0.055303  0.071242  0.239969 \n",
    "\n",
    "## df1[task == \"eCLIP\", wilcox.test(gam, no_pos, paired = TRUE)]\n",
    "## V = 6306, p-value < 2.2e-16\n",
    "## > dtm[task == \"iClip\" & metric == \"auc\", wilcox.test(gam, no_pos, paired = TRUE)]\n",
    "\n",
    "## Wilcoxon signed rank test\n",
    "## df1[task == \"eCLIP\", wilcox.test(gam, relu, paired = TRUE)]\n",
    "## V = 6258, p-value < 2.2e-16\n",
    "\n",
    "## Wilcoxon signed rank test\n",
    "## df1[task == \"CLIP\", wilcox.test(gam, relu, paired = TRUE)]\n",
    "## V = 489, p-value = 1.77e-08\n",
    "\n",
    "## data:  gam and no_pos\n",
    "## V = 488, p-value = 2.328e-08\n",
    "## alternative hypothesis: true location shift is not equal to 0\n",
    "\n",
    "## > dtm[task == \"iClip\" & metric == \"auc\", gam- no_pos] %>% summary\n",
    "##      Min.   1st Qu.    Median      Mean   3rd Qu.      Max. \n",
    "## -0.004433  0.007605  0.017141  0.021911  0.029563  0.090431   \n",
    "## --------------------------------------------\n",
    "## shared RBP's: hnRNPC, Nsun2, PUM2, QKI, SRSF1, TAF15, TIA1, U2AF2\n",
    "\n",
    "## dtm[task == \"eCLIP\" & metric == \"auprc\", .(subtask, signif.gam__no_pos)] %>% print(112)\n",
    "## dtm[task == \"eCLIP\" & metric == \"auprc\", .(subtask, signif.gam__no_pos)][, table(signif.gam__no_pos)]\n",
    "## CLIP not signif: ESWR1, PUM2, SRSF1, TAF15\n",
    "\n",
    "## 104 / 112 - PUM2, SRSF1, TAF15 are all significant\n",
    "## 10/11 for unique CLIP\n",
    "## In total: 114 / 123"
   ]
  },
  {
   "cell_type": "code",
   "execution_count": 7,
   "metadata": {},
   "outputs": [
    {
     "data": {
      "text/html": [
       "<table>\n",
       "<thead><tr><th scope=col>task</th><th scope=col>subtask</th><th scope=col>metric</th><th scope=col>gam</th><th scope=col>relu</th><th scope=col>no_pos</th><th scope=col>p.gam__relu</th><th scope=col>p.gam__no_pos</th><th scope=col>signif.gam__relu</th><th scope=col>signif.gam__no_pos</th></tr></thead>\n",
       "<tbody>\n",
       "\t<tr><td>eCLIP       </td><td>UPF1        </td><td>auprc       </td><td>0.8519161   </td><td>0.8410799   </td><td>0.543426    </td><td>7.210925e-34</td><td>4.830856e-67</td><td>TRUE        </td><td>TRUE        </td></tr>\n",
       "</tbody>\n",
       "</table>\n"
      ],
      "text/latex": [
       "\\begin{tabular}{r|llllllllll}\n",
       " task & subtask & metric & gam & relu & no\\_pos & p.gam\\_\\_relu & p.gam\\_\\_no\\_pos & signif.gam\\_\\_relu & signif.gam\\_\\_no\\_pos\\\\\n",
       "\\hline\n",
       "\t eCLIP        & UPF1         & auprc        & 0.8519161    & 0.8410799    & 0.543426     & 7.210925e-34 & 4.830856e-67 & TRUE         & TRUE        \\\\\n",
       "\\end{tabular}\n"
      ],
      "text/markdown": [
       "\n",
       "task | subtask | metric | gam | relu | no_pos | p.gam__relu | p.gam__no_pos | signif.gam__relu | signif.gam__no_pos | \n",
       "|---|\n",
       "| eCLIP        | UPF1         | auprc        | 0.8519161    | 0.8410799    | 0.543426     | 7.210925e-34 | 4.830856e-67 | TRUE         | TRUE         | \n",
       "\n",
       "\n"
      ],
      "text/plain": [
       "  task  subtask metric gam       relu      no_pos   p.gam__relu  p.gam__no_pos\n",
       "1 eCLIP UPF1    auprc  0.8519161 0.8410799 0.543426 7.210925e-34 4.830856e-67 \n",
       "  signif.gam__relu signif.gam__no_pos\n",
       "1 TRUE             TRUE              "
      ]
     },
     "metadata": {},
     "output_type": "display_data"
    }
   ],
   "source": [
    "df1[task == \"eCLIP\" & subtask ==\"UPF1\"]"
   ]
  },
  {
   "cell_type": "code",
   "execution_count": 8,
   "metadata": {},
   "outputs": [
    {
     "data": {
      "text/plain": [
       "    Min.  1st Qu.   Median     Mean  3rd Qu.     Max. \n",
       "0.001224 0.058388 0.106552 0.113232 0.166338 0.308490 "
      ]
     },
     "metadata": {},
     "output_type": "display_data"
    }
   ],
   "source": [
    "df1[task == \"eCLIP\", gam - no_pos] %>% summary"
   ]
  },
  {
   "cell_type": "code",
   "execution_count": 10,
   "metadata": {},
   "outputs": [
    {
     "data": {
      "text/plain": [
       "\n",
       "\tWilcoxon signed rank test with continuity correction\n",
       "\n",
       "data:  gam and no_pos\n",
       "V = 6328, p-value < 2.2e-16\n",
       "alternative hypothesis: true location shift is not equal to 0\n"
      ]
     },
     "metadata": {},
     "output_type": "display_data"
    }
   ],
   "source": [
    "df1[task == \"eCLIP\", wilcox.test(gam, no_pos, paired = TRUE)]"
   ]
  },
  {
   "cell_type": "code",
   "execution_count": 13,
   "metadata": {},
   "outputs": [
    {
     "data": {
      "text/plain": [
       "\n",
       "\tWilcoxon signed rank test\n",
       "\n",
       "data:  gam and no_pos\n",
       "V = 496, p-value = 9.313e-10\n",
       "alternative hypothesis: true location shift is not equal to 0\n"
      ]
     },
     "metadata": {},
     "output_type": "display_data"
    }
   ],
   "source": [
    "dtm[task == \"CLIP\" & metric == \"auc\", wilcox.test(gam, no_pos, paired = TRUE)]"
   ]
  },
  {
   "cell_type": "code",
   "execution_count": 14,
   "metadata": {},
   "outputs": [
    {
     "data": {
      "text/plain": [
       "\n",
       "\tWilcoxon signed rank test with continuity correction\n",
       "\n",
       "data:  gam and relu\n",
       "V = 6258, p-value < 2.2e-16\n",
       "alternative hypothesis: true location shift is not equal to 0\n"
      ]
     },
     "metadata": {},
     "output_type": "display_data"
    }
   ],
   "source": [
    "df1[task == \"eCLIP\", wilcox.test(gam, relu, paired = TRUE)]"
   ]
  },
  {
   "cell_type": "code",
   "execution_count": 15,
   "metadata": {},
   "outputs": [
    {
     "data": {
      "text/plain": [
       "\n",
       "\tWilcoxon signed rank test\n",
       "\n",
       "data:  gam and relu\n",
       "V = 489, p-value = 1.77e-08\n",
       "alternative hypothesis: true location shift is not equal to 0\n"
      ]
     },
     "metadata": {},
     "output_type": "display_data"
    }
   ],
   "source": [
    "df1[task == \"CLIP\", wilcox.test(gam, relu, paired = TRUE)]"
   ]
  },
  {
   "cell_type": "code",
   "execution_count": 16,
   "metadata": {},
   "outputs": [
    {
     "data": {
      "text/plain": [
       "   Min. 1st Qu.  Median    Mean 3rd Qu.    Max. \n",
       "                                                "
      ]
     },
     "metadata": {},
     "output_type": "display_data"
    }
   ],
   "source": [
    "dtm[task == \"iClip\" & metric == \"auc\", gam- no_pos] %>% summary"
   ]
  },
  {
   "cell_type": "code",
   "execution_count": 17,
   "metadata": {},
   "outputs": [],
   "source": [
    "## shared RBP's: hnRNPC, Nsun2, PUM2, QKI, SRSF1, TAF15, TIA1, U2AF2\n"
   ]
  },
  {
   "cell_type": "code",
   "execution_count": 26,
   "metadata": {},
   "outputs": [
    {
     "data": {
      "text/html": [
       "<table>\n",
       "<thead><tr><th scope=col>task</th><th scope=col>signif.gam__no_pos</th><th scope=col>g_gam__no_pos</th><th scope=col>N</th></tr></thead>\n",
       "<tbody>\n",
       "\t<tr><td>branchpoint</td><td>   NA      </td><td>NA         </td><td>  2        </td></tr>\n",
       "\t<tr><td>CLIP       </td><td> TRUE      </td><td> 1         </td><td> 24        </td></tr>\n",
       "\t<tr><td>CLIP       </td><td>FALSE      </td><td>-1         </td><td>  1        </td></tr>\n",
       "\t<tr><td>CLIP       </td><td>FALSE      </td><td> 1         </td><td>  6        </td></tr>\n",
       "\t<tr><td>eCLIP      </td><td> TRUE      </td><td> 1         </td><td>110        </td></tr>\n",
       "\t<tr><td>eCLIP      </td><td>FALSE      </td><td> 1         </td><td>  2        </td></tr>\n",
       "</tbody>\n",
       "</table>\n"
      ],
      "text/latex": [
       "\\begin{tabular}{r|llll}\n",
       " task & signif.gam\\_\\_no\\_pos & g\\_gam\\_\\_no\\_pos & N\\\\\n",
       "\\hline\n",
       "\t branchpoint &    NA       & NA          &   2        \\\\\n",
       "\t CLIP        &  TRUE       &  1          &  24        \\\\\n",
       "\t CLIP        & FALSE       & -1          &   1        \\\\\n",
       "\t CLIP        & FALSE       &  1          &   6        \\\\\n",
       "\t eCLIP       &  TRUE       &  1          & 110        \\\\\n",
       "\t eCLIP       & FALSE       &  1          &   2        \\\\\n",
       "\\end{tabular}\n"
      ],
      "text/markdown": [
       "\n",
       "task | signif.gam__no_pos | g_gam__no_pos | N | \n",
       "|---|---|---|---|---|---|\n",
       "| branchpoint |    NA       | NA          |   2         | \n",
       "| CLIP        |  TRUE       |  1          |  24         | \n",
       "| CLIP        | FALSE       | -1          |   1         | \n",
       "| CLIP        | FALSE       |  1          |   6         | \n",
       "| eCLIP       |  TRUE       |  1          | 110         | \n",
       "| eCLIP       | FALSE       |  1          |   2         | \n",
       "\n",
       "\n"
      ],
      "text/plain": [
       "  task        signif.gam__no_pos g_gam__no_pos N  \n",
       "1 branchpoint    NA              NA              2\n",
       "2 CLIP         TRUE               1             24\n",
       "3 CLIP        FALSE              -1              1\n",
       "4 CLIP        FALSE               1              6\n",
       "5 eCLIP        TRUE               1            110\n",
       "6 eCLIP       FALSE               1              2"
      ]
     },
     "metadata": {},
     "output_type": "display_data"
    }
   ],
   "source": [
    "# number os significantly different guys\n",
    "dtm[metric == \"auprc\"][, .N, .(task, signif.gam__no_pos, g_gam__no_pos = sign(gam-no_pos))]"
   ]
  },
  {
   "cell_type": "code",
   "execution_count": 30,
   "metadata": {},
   "outputs": [
    {
     "data": {
      "text/plain": [
       "signif.gam__no_pos\n",
       "FALSE  TRUE \n",
       "    2   110 "
      ]
     },
     "metadata": {},
     "output_type": "display_data"
    }
   ],
   "source": [
    "dtm[task == \"eCLIP\" & metric == \"auprc\", .(subtask, signif.gam__no_pos)][, table(signif.gam__no_pos)]"
   ]
  },
  {
   "cell_type": "code",
   "execution_count": 35,
   "metadata": {},
   "outputs": [
    {
     "data": {
      "text/plain": [
       "signif.gam__no_pos\n",
       "FALSE  TRUE \n",
       "    7    24 "
      ]
     },
     "metadata": {},
     "output_type": "display_data"
    }
   ],
   "source": [
    "dtm[task == \"CLIP\" & metric == \"auprc\", .(subtask, signif.gam__no_pos)][, table(signif.gam__no_pos)]"
   ]
  },
  {
   "cell_type": "code",
   "execution_count": null,
   "metadata": {},
   "outputs": [],
   "source": [
    "dtm[task == \"CLIP\" & metric == \"auprc\", .(subtask, signif.gam__no_pos)][, table(signif.gam__no_pos)]"
   ]
  },
  {
   "cell_type": "code",
   "execution_count": 34,
   "metadata": {},
   "outputs": [
    {
     "name": "stdout",
     "output_type": "stream",
     "text": [
      "      subtask signif.gam__no_pos\n",
      "       <char>             <lgcl>\n",
      "  1:     AARS               TRUE\n",
      "  2:    AGGF1               TRUE\n",
      "  3:   AKAP8L               TRUE\n",
      "  4:      AUH               TRUE\n",
      "  5:    BCCIP               TRUE\n",
      "  6:    BUD13               TRUE\n",
      "  7:    CDC40               TRUE\n",
      "  8:    CPSF6               TRUE\n",
      "  9:    CSTF2               TRUE\n",
      " 10:   CSTF2T               TRUE\n",
      " 11:    DDX24               TRUE\n",
      " 12:    DDX3X               TRUE\n",
      " 13:    DDX42               TRUE\n",
      " 14:    DDX55               TRUE\n",
      " 15:    DDX59               TRUE\n",
      " 16:     DDX6               TRUE\n",
      " 17:    DGCR8               TRUE\n",
      " 18:    DHX30               TRUE\n",
      " 19:     DKC1               TRUE\n",
      " 20:   DROSHA               TRUE\n",
      " 21:   EFTUD2               TRUE\n",
      " 22:    EIF3D               TRUE\n",
      " 23:   EIF4G2               TRUE\n",
      " 24:    EWSR1               TRUE\n",
      " 25:  FAM120A               TRUE\n",
      " 26:  FASTKD2               TRUE\n",
      " 27:    FKBP4               TRUE\n",
      " 28:     FMR1               TRUE\n",
      " 29:      FTO               TRUE\n",
      " 30:    FUBP3               TRUE\n",
      " 31:     FXR1               TRUE\n",
      " 32:     FXR2               TRUE\n",
      " 33:   GEMIN5               TRUE\n",
      " 34:     GNL3               TRUE\n",
      " 35:    GPKOW               TRUE\n",
      " 36:    GRSF1               TRUE\n",
      " 37:    GRWD1               TRUE\n",
      " 38:   GTF2F1               TRUE\n",
      " 39:     HLTF               TRUE\n",
      " 40:  HNRNPA1               TRUE\n",
      " 41:   HNRNPC               TRUE\n",
      " 42:   HNRNPK               TRUE\n",
      " 43:   HNRNPM               TRUE\n",
      " 44:   HNRNPU               TRUE\n",
      " 45: HNRNPUL1               TRUE\n",
      " 46:  IGF2BP1               TRUE\n",
      " 47:  IGF2BP2               TRUE\n",
      " 48:  IGF2BP3               TRUE\n",
      " 49:     ILF3               TRUE\n",
      " 50:  KHDRBS1               TRUE\n",
      " 51:    KHSRP               TRUE\n",
      " 52:    LARP4               TRUE\n",
      " 53:    LARP7               TRUE\n",
      " 54:   LIN28B               TRUE\n",
      " 55:    LSM11               TRUE\n",
      " 56:   METAP2               TRUE\n",
      " 57:    MTPAP               TRUE\n",
      " 58:    NCBP2               TRUE\n",
      " 59:     NKRF               TRUE\n",
      " 60:    NOL12               TRUE\n",
      " 61:     NONO               TRUE\n",
      " 62:     NPM1               TRUE\n",
      " 63:    NSUN2               TRUE\n",
      " 64:    PCBP2               TRUE\n",
      " 65:     PPIG               TRUE\n",
      " 66:    PPIL4               TRUE\n",
      " 67:    PRPF8               TRUE\n",
      " 68:    PTBP1               TRUE\n",
      " 69:     PUM2               TRUE\n",
      " 70:     PUS1               TRUE\n",
      " 71:      QKI               TRUE\n",
      " 72:   RBFOX2               TRUE\n",
      " 73:    RBM15               TRUE\n",
      " 74:    RBM22               TRUE\n",
      " 75:    RBM27               TRUE\n",
      " 76:    RPS11               TRUE\n",
      " 77:     RPS5               TRUE\n",
      " 78:    SAFB2               TRUE\n",
      " 79:     SBDS               TRUE\n",
      " 80:   SERBP1               TRUE\n",
      " 81:    SF3A3               TRUE\n",
      " 82:    SF3B1               TRUE\n",
      " 83:    SF3B4               TRUE\n",
      " 84:     SFPQ              FALSE\n",
      " 85:     SLBP               TRUE\n",
      " 86:     SLTM               TRUE\n",
      " 87:   SMNDC1               TRUE\n",
      " 88:     SND1               TRUE\n",
      " 89:    SRSF1               TRUE\n",
      " 90:    SRSF7               TRUE\n",
      " 91:    SRSF9               TRUE\n",
      " 92:     SUB1               TRUE\n",
      " 93:    SUGP2              FALSE\n",
      " 94:  SUPV3L1               TRUE\n",
      " 95:    TAF15               TRUE\n",
      " 96:   TARDBP               TRUE\n",
      " 97:    TBRG4               TRUE\n",
      " 98:     TIA1               TRUE\n",
      " 99:   TNRC6A               TRUE\n",
      "100:    TRA2A               TRUE\n",
      "101:   TROVE2               TRUE\n",
      "102:    U2AF1               TRUE\n",
      "103:    U2AF2               TRUE\n",
      "104:    UCHL5               TRUE\n",
      "105:     UPF1               TRUE\n",
      "106:     XPO5               TRUE\n",
      "107:    XRCC6               TRUE\n",
      "108:     XRN2               TRUE\n",
      "109:     YBX3               TRUE\n",
      "110:    YWHAG               TRUE\n",
      "111:   ZNF622               TRUE\n",
      "112:   ZRANB2               TRUE\n",
      "      subtask signif.gam__no_pos\n"
     ]
    }
   ],
   "source": [
    "dtm[task == \"eCLIP\" & metric == \"auprc\", .(subtask, signif.gam__no_pos)] %>% print(112)"
   ]
  },
  {
   "cell_type": "code",
   "execution_count": null,
   "metadata": {},
   "outputs": [],
   "source": [
    "# eCLIP non significant: SUGP2, SFPQ"
   ]
  },
  {
   "cell_type": "code",
   "execution_count": null,
   "metadata": {},
   "outputs": [],
   "source": [
    "# shared RBP's: hnRNPC, Nsun2, PUM2, QKI, SRSF1, TAF15, TIA1, U2AF2"
   ]
  },
  {
   "cell_type": "code",
   "execution_count": 37,
   "metadata": {},
   "outputs": [],
   "source": [
    "# new number: 120/123 proteins significant"
   ]
  },
  {
   "cell_type": "markdown",
   "metadata": {},
   "source": [
    "## Section 3.1 results"
   ]
  },
  {
   "cell_type": "markdown",
   "metadata": {},
   "source": [
    "Highest increase"
   ]
  },
  {
   "cell_type": "code",
   "execution_count": 48,
   "metadata": {},
   "outputs": [
    {
     "data": {
      "text/html": [
       "<table>\n",
       "<thead><tr><th scope=col>task</th><th scope=col>subtask</th><th scope=col>metric</th><th scope=col>gam</th><th scope=col>relu</th><th scope=col>no_pos</th><th scope=col>p.gam__relu</th><th scope=col>p.gam__no_pos</th><th scope=col>signif.gam__relu</th><th scope=col>signif.gam__no_pos</th></tr></thead>\n",
       "<tbody>\n",
       "\t<tr><td>eCLIP       </td><td>UPF1        </td><td>auprc       </td><td>0.8519161   </td><td>0.8410799   </td><td>0.5434260   </td><td>7.210925e-34</td><td>4.830856e-67</td><td>TRUE        </td><td>TRUE        </td></tr>\n",
       "\t<tr><td>eCLIP       </td><td>SUB1        </td><td>auprc       </td><td>0.8326159   </td><td>0.8218845   </td><td>0.5427817   </td><td>3.121127e-25</td><td>4.830856e-67</td><td>TRUE        </td><td>TRUE        </td></tr>\n",
       "\t<tr><td>eCLIP       </td><td>IGF2BP1     </td><td>auprc       </td><td>0.8638788   </td><td>0.8522988   </td><td>0.6267107   </td><td>2.602044e-59</td><td>4.830856e-67</td><td>TRUE        </td><td>TRUE        </td></tr>\n",
       "\t<tr><td>eCLIP       </td><td>FXR1        </td><td>auprc       </td><td>0.8154544   </td><td>0.7888516   </td><td>0.5870590   </td><td>3.440156e-58</td><td>4.830856e-67</td><td>TRUE        </td><td>TRUE        </td></tr>\n",
       "\t<tr><td>eCLIP       </td><td>DDX55       </td><td>auprc       </td><td>0.7913881   </td><td>0.7790971   </td><td>0.5638470   </td><td>2.714463e-31</td><td>4.830856e-67</td><td>TRUE        </td><td>TRUE        </td></tr>\n",
       "</tbody>\n",
       "</table>\n"
      ],
      "text/latex": [
       "\\begin{tabular}{r|llllllllll}\n",
       " task & subtask & metric & gam & relu & no\\_pos & p.gam\\_\\_relu & p.gam\\_\\_no\\_pos & signif.gam\\_\\_relu & signif.gam\\_\\_no\\_pos\\\\\n",
       "\\hline\n",
       "\t eCLIP        & UPF1         & auprc        & 0.8519161    & 0.8410799    & 0.5434260    & 7.210925e-34 & 4.830856e-67 & TRUE         & TRUE        \\\\\n",
       "\t eCLIP        & SUB1         & auprc        & 0.8326159    & 0.8218845    & 0.5427817    & 3.121127e-25 & 4.830856e-67 & TRUE         & TRUE        \\\\\n",
       "\t eCLIP        & IGF2BP1      & auprc        & 0.8638788    & 0.8522988    & 0.6267107    & 2.602044e-59 & 4.830856e-67 & TRUE         & TRUE        \\\\\n",
       "\t eCLIP        & FXR1         & auprc        & 0.8154544    & 0.7888516    & 0.5870590    & 3.440156e-58 & 4.830856e-67 & TRUE         & TRUE        \\\\\n",
       "\t eCLIP        & DDX55        & auprc        & 0.7913881    & 0.7790971    & 0.5638470    & 2.714463e-31 & 4.830856e-67 & TRUE         & TRUE        \\\\\n",
       "\\end{tabular}\n"
      ],
      "text/markdown": [
       "\n",
       "task | subtask | metric | gam | relu | no_pos | p.gam__relu | p.gam__no_pos | signif.gam__relu | signif.gam__no_pos | \n",
       "|---|---|---|---|---|\n",
       "| eCLIP        | UPF1         | auprc        | 0.8519161    | 0.8410799    | 0.5434260    | 7.210925e-34 | 4.830856e-67 | TRUE         | TRUE         | \n",
       "| eCLIP        | SUB1         | auprc        | 0.8326159    | 0.8218845    | 0.5427817    | 3.121127e-25 | 4.830856e-67 | TRUE         | TRUE         | \n",
       "| eCLIP        | IGF2BP1      | auprc        | 0.8638788    | 0.8522988    | 0.6267107    | 2.602044e-59 | 4.830856e-67 | TRUE         | TRUE         | \n",
       "| eCLIP        | FXR1         | auprc        | 0.8154544    | 0.7888516    | 0.5870590    | 3.440156e-58 | 4.830856e-67 | TRUE         | TRUE         | \n",
       "| eCLIP        | DDX55        | auprc        | 0.7913881    | 0.7790971    | 0.5638470    | 2.714463e-31 | 4.830856e-67 | TRUE         | TRUE         | \n",
       "\n",
       "\n"
      ],
      "text/plain": [
       "  task  subtask metric gam       relu      no_pos    p.gam__relu  p.gam__no_pos\n",
       "1 eCLIP UPF1    auprc  0.8519161 0.8410799 0.5434260 7.210925e-34 4.830856e-67 \n",
       "2 eCLIP SUB1    auprc  0.8326159 0.8218845 0.5427817 3.121127e-25 4.830856e-67 \n",
       "3 eCLIP IGF2BP1 auprc  0.8638788 0.8522988 0.6267107 2.602044e-59 4.830856e-67 \n",
       "4 eCLIP FXR1    auprc  0.8154544 0.7888516 0.5870590 3.440156e-58 4.830856e-67 \n",
       "5 eCLIP DDX55   auprc  0.7913881 0.7790971 0.5638470 2.714463e-31 4.830856e-67 \n",
       "  signif.gam__relu signif.gam__no_pos\n",
       "1 TRUE             TRUE              \n",
       "2 TRUE             TRUE              \n",
       "3 TRUE             TRUE              \n",
       "4 TRUE             TRUE              \n",
       "5 TRUE             TRUE              "
      ]
     },
     "metadata": {},
     "output_type": "display_data"
    }
   ],
   "source": [
    "dtm[task == \"eCLIP\" & metric == \"auprc\"][order(-(gam- no_pos))][1:5]"
   ]
  },
  {
   "cell_type": "code",
   "execution_count": 50,
   "metadata": {},
   "outputs": [],
   "source": [
    "# Highest = UPF1: 0.54 -> 0.85 (delta = 0.31, p<1e-16)"
   ]
  },
  {
   "cell_type": "markdown",
   "metadata": {},
   "source": [
    "Average improvement"
   ]
  },
  {
   "cell_type": "code",
   "execution_count": 54,
   "metadata": {},
   "outputs": [
    {
     "data": {
      "text/html": [
       "0.113232388037185"
      ],
      "text/latex": [
       "0.113232388037185"
      ],
      "text/markdown": [
       "0.113232388037185"
      ],
      "text/plain": [
       "[1] 0.1132324"
      ]
     },
     "metadata": {},
     "output_type": "display_data"
    }
   ],
   "source": [
    "dtm[task == \"eCLIP\" & metric == \"auprc\"][, mean(gam- no_pos)]"
   ]
  },
  {
   "cell_type": "code",
   "execution_count": 57,
   "metadata": {},
   "outputs": [
    {
     "data": {
      "text/html": [
       "<table>\n",
       "<thead><tr><th scope=col>m_gam</th><th scope=col>m_no_pos</th></tr></thead>\n",
       "<tbody>\n",
       "\t<tr><td>0.7764473</td><td>0.6632149</td></tr>\n",
       "</tbody>\n",
       "</table>\n"
      ],
      "text/latex": [
       "\\begin{tabular}{r|ll}\n",
       " m\\_gam & m\\_no\\_pos\\\\\n",
       "\\hline\n",
       "\t 0.7764473 & 0.6632149\\\\\n",
       "\\end{tabular}\n"
      ],
      "text/markdown": [
       "\n",
       "m_gam | m_no_pos | \n",
       "|---|\n",
       "| 0.7764473 | 0.6632149 | \n",
       "\n",
       "\n"
      ],
      "text/plain": [
       "  m_gam     m_no_pos \n",
       "1 0.7764473 0.6632149"
      ]
     },
     "metadata": {},
     "output_type": "display_data"
    }
   ],
   "source": [
    "dtm[task == \"eCLIP\" & metric == \"auprc\"][, .(m_gam=mean(gam), m_no_pos= mean(no_pos))]"
   ]
  },
  {
   "cell_type": "code",
   "execution_count": 58,
   "metadata": {},
   "outputs": [
    {
     "data": {
      "text/plain": [
       "\n",
       "\tWilcoxon signed rank test with continuity correction\n",
       "\n",
       "data:  gam and no_pos\n",
       "V = 6328, p-value < 2.2e-16\n",
       "alternative hypothesis: true location shift is not equal to 0\n"
      ]
     },
     "metadata": {},
     "output_type": "display_data"
    }
   ],
   "source": [
    "dtm[task == \"eCLIP\" & metric == \"auprc\"][, wilcox.test(gam, no_pos, paired=TRUE)]"
   ]
  },
  {
   "cell_type": "markdown",
   "metadata": {},
   "source": [
    "### CLIP"
   ]
  },
  {
   "cell_type": "code",
   "execution_count": 72,
   "metadata": {},
   "outputs": [
    {
     "data": {
      "text/html": [
       "0.0355185374779219"
      ],
      "text/latex": [
       "0.0355185374779219"
      ],
      "text/markdown": [
       "0.0355185374779219"
      ],
      "text/plain": [
       "[1] 0.03551854"
      ]
     },
     "metadata": {},
     "output_type": "display_data"
    }
   ],
   "source": [
    "dtm[task == \"CLIP\" & metric == \"auprc\"][, mean(gam- no_pos)]"
   ]
  },
  {
   "cell_type": "code",
   "execution_count": 74,
   "metadata": {},
   "outputs": [
    {
     "data": {
      "text/html": [
       "<table>\n",
       "<thead><tr><th scope=col>m_gam</th><th scope=col>m_no_pos</th></tr></thead>\n",
       "<tbody>\n",
       "\t<tr><td>0.8351932</td><td>0.7996747</td></tr>\n",
       "</tbody>\n",
       "</table>\n"
      ],
      "text/latex": [
       "\\begin{tabular}{r|ll}\n",
       " m\\_gam & m\\_no\\_pos\\\\\n",
       "\\hline\n",
       "\t 0.8351932 & 0.7996747\\\\\n",
       "\\end{tabular}\n"
      ],
      "text/markdown": [
       "\n",
       "m_gam | m_no_pos | \n",
       "|---|\n",
       "| 0.8351932 | 0.7996747 | \n",
       "\n",
       "\n"
      ],
      "text/plain": [
       "  m_gam     m_no_pos \n",
       "1 0.8351932 0.7996747"
      ]
     },
     "metadata": {},
     "output_type": "display_data"
    }
   ],
   "source": [
    "dtm[task == \"CLIP\" & metric == \"auprc\"][, .(m_gam=mean(gam), m_no_pos= mean(no_pos))]"
   ]
  },
  {
   "cell_type": "code",
   "execution_count": 76,
   "metadata": {},
   "outputs": [
    {
     "data": {
      "text/plain": [
       "\n",
       "\tWilcoxon signed rank test\n",
       "\n",
       "data:  gam and no_pos\n",
       "V = 487, p-value = 3.073e-08\n",
       "alternative hypothesis: true location shift is not equal to 0\n"
      ]
     },
     "metadata": {},
     "output_type": "display_data"
    }
   ],
   "source": [
    "dtm[task == \"CLIP\" & metric == \"auprc\"][, wilcox.test(gam, no_pos, paired=TRUE)]"
   ]
  },
  {
   "cell_type": "code",
   "execution_count": 79,
   "metadata": {},
   "outputs": [
    {
     "data": {
      "text/html": [
       "0.0173986827126113"
      ],
      "text/latex": [
       "0.0173986827126113"
      ],
      "text/markdown": [
       "0.0173986827126113"
      ],
      "text/plain": [
       "[1] 0.01739868"
      ]
     },
     "metadata": {},
     "output_type": "display_data"
    }
   ],
   "source": [
    "dtm[task == \"CLIP\" & metric == \"auc\"][, mean(gam- no_pos)]"
   ]
  },
  {
   "cell_type": "code",
   "execution_count": 77,
   "metadata": {},
   "outputs": [
    {
     "data": {
      "text/html": [
       "<table>\n",
       "<thead><tr><th scope=col>m_gam</th><th scope=col>m_no_pos</th></tr></thead>\n",
       "<tbody>\n",
       "\t<tr><td>0.9316041</td><td>0.9142054</td></tr>\n",
       "</tbody>\n",
       "</table>\n"
      ],
      "text/latex": [
       "\\begin{tabular}{r|ll}\n",
       " m\\_gam & m\\_no\\_pos\\\\\n",
       "\\hline\n",
       "\t 0.9316041 & 0.9142054\\\\\n",
       "\\end{tabular}\n"
      ],
      "text/markdown": [
       "\n",
       "m_gam | m_no_pos | \n",
       "|---|\n",
       "| 0.9316041 | 0.9142054 | \n",
       "\n",
       "\n"
      ],
      "text/plain": [
       "  m_gam     m_no_pos \n",
       "1 0.9316041 0.9142054"
      ]
     },
     "metadata": {},
     "output_type": "display_data"
    }
   ],
   "source": [
    "dtm[task == \"CLIP\" & metric == \"auc\"][, .(m_gam=mean(gam), m_no_pos= mean(no_pos))]"
   ]
  },
  {
   "cell_type": "code",
   "execution_count": 78,
   "metadata": {},
   "outputs": [
    {
     "data": {
      "text/plain": [
       "\n",
       "\tWilcoxon signed rank test\n",
       "\n",
       "data:  gam and no_pos\n",
       "V = 496, p-value = 9.313e-10\n",
       "alternative hypothesis: true location shift is not equal to 0\n"
      ]
     },
     "metadata": {},
     "output_type": "display_data"
    }
   ],
   "source": [
    "dtm[task == \"CLIP\" & metric == \"auc\"][, wilcox.test(gam, no_pos, paired=TRUE)]"
   ]
  },
  {
   "cell_type": "markdown",
   "metadata": {},
   "source": [
    "## Section 3.4 Results"
   ]
  },
  {
   "cell_type": "markdown",
   "metadata": {},
   "source": [
    "### eClip"
   ]
  },
  {
   "cell_type": "code",
   "execution_count": 62,
   "metadata": {},
   "outputs": [
    {
     "data": {
      "text/html": [
       "0.0330901263926295"
      ],
      "text/latex": [
       "0.0330901263926295"
      ],
      "text/markdown": [
       "0.0330901263926295"
      ],
      "text/plain": [
       "[1] 0.03309013"
      ]
     },
     "metadata": {},
     "output_type": "display_data"
    }
   ],
   "source": [
    "dtm[task == \"eCLIP\" & metric == \"auprc\"][, mean(gam - relu)]"
   ]
  },
  {
   "cell_type": "code",
   "execution_count": 60,
   "metadata": {},
   "outputs": [
    {
     "data": {
      "text/plain": [
       "\n",
       "\tWilcoxon signed rank test with continuity correction\n",
       "\n",
       "data:  gam and relu\n",
       "V = 6258, p-value < 2.2e-16\n",
       "alternative hypothesis: true location shift is not equal to 0\n"
      ]
     },
     "metadata": {},
     "output_type": "display_data"
    }
   ],
   "source": [
    "dtm[task == \"eCLIP\" & metric == \"auprc\"][, wilcox.test(gam, relu, paired=TRUE)]"
   ]
  },
  {
   "cell_type": "code",
   "execution_count": 63,
   "metadata": {},
   "outputs": [
    {
     "data": {
      "text/html": [
       "0.0182687326451576"
      ],
      "text/latex": [
       "0.0182687326451576"
      ],
      "text/markdown": [
       "0.0182687326451576"
      ],
      "text/plain": [
       "[1] 0.01826873"
      ]
     },
     "metadata": {},
     "output_type": "display_data"
    }
   ],
   "source": [
    "dtm[task == \"eCLIP\" & metric == \"auc\"][, mean(gam - relu)]"
   ]
  },
  {
   "cell_type": "code",
   "execution_count": 64,
   "metadata": {},
   "outputs": [
    {
     "data": {
      "text/plain": [
       "\n",
       "\tWilcoxon signed rank test with continuity correction\n",
       "\n",
       "data:  gam and relu\n",
       "V = 6273, p-value < 2.2e-16\n",
       "alternative hypothesis: true location shift is not equal to 0\n"
      ]
     },
     "metadata": {},
     "output_type": "display_data"
    }
   ],
   "source": [
    "dtm[task == \"eCLIP\" & metric == \"auc\"][, wilcox.test(gam, relu, paired=TRUE)]"
   ]
  },
  {
   "cell_type": "markdown",
   "metadata": {},
   "source": [
    "### Clip"
   ]
  },
  {
   "cell_type": "code",
   "execution_count": 65,
   "metadata": {},
   "outputs": [
    {
     "data": {
      "text/html": [
       "0.0315536051912396"
      ],
      "text/latex": [
       "0.0315536051912396"
      ],
      "text/markdown": [
       "0.0315536051912396"
      ],
      "text/plain": [
       "[1] 0.03155361"
      ]
     },
     "metadata": {},
     "output_type": "display_data"
    }
   ],
   "source": [
    "dtm[task == \"CLIP\" & metric == \"auprc\"][, mean(gam - relu)]"
   ]
  },
  {
   "cell_type": "code",
   "execution_count": 66,
   "metadata": {},
   "outputs": [
    {
     "data": {
      "text/plain": [
       "\n",
       "\tWilcoxon signed rank test\n",
       "\n",
       "data:  gam and relu\n",
       "V = 489, p-value = 1.77e-08\n",
       "alternative hypothesis: true location shift is not equal to 0\n"
      ]
     },
     "metadata": {},
     "output_type": "display_data"
    }
   ],
   "source": [
    "dtm[task == \"CLIP\" & metric == \"auprc\"][, wilcox.test(gam, relu, paired=TRUE)]"
   ]
  },
  {
   "cell_type": "code",
   "execution_count": 67,
   "metadata": {},
   "outputs": [
    {
     "data": {
      "text/html": [
       "0.0172945445338411"
      ],
      "text/latex": [
       "0.0172945445338411"
      ],
      "text/markdown": [
       "0.0172945445338411"
      ],
      "text/plain": [
       "[1] 0.01729454"
      ]
     },
     "metadata": {},
     "output_type": "display_data"
    }
   ],
   "source": [
    "dtm[task == \"CLIP\" & metric == \"auc\"][, mean(gam - relu)]"
   ]
  },
  {
   "cell_type": "code",
   "execution_count": 68,
   "metadata": {},
   "outputs": [
    {
     "data": {
      "text/plain": [
       "\n",
       "\tWilcoxon signed rank test\n",
       "\n",
       "data:  gam and relu\n",
       "V = 494, p-value = 2.794e-09\n",
       "alternative hypothesis: true location shift is not equal to 0\n"
      ]
     },
     "metadata": {},
     "output_type": "display_data"
    }
   ],
   "source": [
    "dtm[task == \"CLIP\" & metric == \"auc\"][, wilcox.test(gam, relu, paired=TRUE)]"
   ]
  },
  {
   "cell_type": "markdown",
   "metadata": {},
   "source": [
    "#### Branchpoint"
   ]
  },
  {
   "cell_type": "code",
   "execution_count": 92,
   "metadata": {},
   "outputs": [
    {
     "data": {
      "text/html": [
       "<table>\n",
       "<thead><tr><th scope=col>task</th><th scope=col>subtask</th><th scope=col>metric</th><th scope=col>gam</th><th scope=col>relu</th><th scope=col>no_pos</th><th scope=col>p.gam__relu</th><th scope=col>p.gam__no_pos</th><th scope=col>signif.gam__relu</th><th scope=col>signif.gam__no_pos</th></tr></thead>\n",
       "<tbody>\n",
       "\t<tr><td>branchpoint </td><td>deep        </td><td>auc         </td><td>0.9476534   </td><td>0.9466131   </td><td>NA          </td><td>5.391944e-20</td><td>NA          </td><td>TRUE        </td><td>NA          </td></tr>\n",
       "\t<tr><td>branchpoint </td><td>deep        </td><td>auprc       </td><td>0.6511232   </td><td>0.6448695   </td><td>NA          </td><td>1.764714e-32</td><td>NA          </td><td>TRUE        </td><td>NA          </td></tr>\n",
       "\t<tr><td>branchpoint </td><td>shallow     </td><td>auc         </td><td>0.9211600   </td><td>0.9189890   </td><td>NA          </td><td>6.912548e-34</td><td>NA          </td><td>TRUE        </td><td>NA          </td></tr>\n",
       "\t<tr><td>branchpoint </td><td>shallow     </td><td>auprc       </td><td>0.5814233   </td><td>0.5776402   </td><td>NA          </td><td>1.097703e-13</td><td>NA          </td><td>TRUE        </td><td>NA          </td></tr>\n",
       "</tbody>\n",
       "</table>\n"
      ],
      "text/latex": [
       "\\begin{tabular}{r|llllllllll}\n",
       " task & subtask & metric & gam & relu & no\\_pos & p.gam\\_\\_relu & p.gam\\_\\_no\\_pos & signif.gam\\_\\_relu & signif.gam\\_\\_no\\_pos\\\\\n",
       "\\hline\n",
       "\t branchpoint  & deep         & auc          & 0.9476534    & 0.9466131    & NA           & 5.391944e-20 & NA           & TRUE         & NA          \\\\\n",
       "\t branchpoint  & deep         & auprc        & 0.6511232    & 0.6448695    & NA           & 1.764714e-32 & NA           & TRUE         & NA          \\\\\n",
       "\t branchpoint  & shallow      & auc          & 0.9211600    & 0.9189890    & NA           & 6.912548e-34 & NA           & TRUE         & NA          \\\\\n",
       "\t branchpoint  & shallow      & auprc        & 0.5814233    & 0.5776402    & NA           & 1.097703e-13 & NA           & TRUE         & NA          \\\\\n",
       "\\end{tabular}\n"
      ],
      "text/markdown": [
       "\n",
       "task | subtask | metric | gam | relu | no_pos | p.gam__relu | p.gam__no_pos | signif.gam__relu | signif.gam__no_pos | \n",
       "|---|---|---|---|\n",
       "| branchpoint  | deep         | auc          | 0.9476534    | 0.9466131    | NA           | 5.391944e-20 | NA           | TRUE         | NA           | \n",
       "| branchpoint  | deep         | auprc        | 0.6511232    | 0.6448695    | NA           | 1.764714e-32 | NA           | TRUE         | NA           | \n",
       "| branchpoint  | shallow      | auc          | 0.9211600    | 0.9189890    | NA           | 6.912548e-34 | NA           | TRUE         | NA           | \n",
       "| branchpoint  | shallow      | auprc        | 0.5814233    | 0.5776402    | NA           | 1.097703e-13 | NA           | TRUE         | NA           | \n",
       "\n",
       "\n"
      ],
      "text/plain": [
       "  task        subtask metric gam       relu      no_pos p.gam__relu \n",
       "1 branchpoint deep    auc    0.9476534 0.9466131 NA     5.391944e-20\n",
       "2 branchpoint deep    auprc  0.6511232 0.6448695 NA     1.764714e-32\n",
       "3 branchpoint shallow auc    0.9211600 0.9189890 NA     6.912548e-34\n",
       "4 branchpoint shallow auprc  0.5814233 0.5776402 NA     1.097703e-13\n",
       "  p.gam__no_pos signif.gam__relu signif.gam__no_pos\n",
       "1 NA            TRUE             NA                \n",
       "2 NA            TRUE             NA                \n",
       "3 NA            TRUE             NA                \n",
       "4 NA            TRUE             NA                "
      ]
     },
     "metadata": {},
     "output_type": "display_data"
    }
   ],
   "source": [
    "dtm[task == \"branchpoint\"]"
   ]
  },
  {
   "cell_type": "code",
   "execution_count": 97,
   "metadata": {},
   "outputs": [
    {
     "data": {
      "text/html": [
       "0.00625371668339125"
      ],
      "text/latex": [
       "0.00625371668339125"
      ],
      "text/markdown": [
       "0.00625371668339125"
      ],
      "text/plain": [
       "[1] 0.006253717"
      ]
     },
     "metadata": {},
     "output_type": "display_data"
    }
   ],
   "source": [
    "dtm[task == \"branchpoint\" & metric == \"auprc\" & subtask == \"deep\"][, gam- relu]"
   ]
  },
  {
   "cell_type": "code",
   "execution_count": 99,
   "metadata": {},
   "outputs": [
    {
     "data": {
      "text/html": [
       "0.00104026674183055"
      ],
      "text/latex": [
       "0.00104026674183055"
      ],
      "text/markdown": [
       "0.00104026674183055"
      ],
      "text/plain": [
       "[1] 0.001040267"
      ]
     },
     "metadata": {},
     "output_type": "display_data"
    }
   ],
   "source": [
    "dtm[task == \"branchpoint\" & metric == \"auc\" & subtask == \"deep\"][, gam- relu]"
   ]
  }
 ],
 "metadata": {
  "kernelspec": {
   "display_name": "R",
   "language": "R",
   "name": "ir"
  },
  "language_info": {
   "codemirror_mode": "r",
   "file_extension": ".r",
   "mimetype": "text/x-r-source",
   "name": "R",
   "pygments_lexer": "r",
   "version": "3.4.0"
  }
 },
 "nbformat": 4,
 "nbformat_minor": 2
}
