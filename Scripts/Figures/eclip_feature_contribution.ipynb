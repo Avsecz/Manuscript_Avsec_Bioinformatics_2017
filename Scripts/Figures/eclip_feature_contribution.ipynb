{
 "cells": [
  {
   "cell_type": "markdown",
   "metadata": {},
   "source": [
    "## Heatmap for feature exclusion"
   ]
  },
  {
   "cell_type": "markdown",
   "metadata": {},
   "source": [
    "### Parse all the data into a nice tidy dataframe"
   ]
  },
  {
   "cell_type": "code",
   "execution_count": 2,
   "metadata": {},
   "outputs": [
    {
     "name": "stdout",
     "output_type": "stream",
     "text": [
      "/data/nasif12/home_if12/avsec/projects-work/code_spline_trans\n"
     ]
    }
   ],
   "source": [
    "cd ../../"
   ]
  },
  {
   "cell_type": "code",
   "execution_count": 211,
   "metadata": {},
   "outputs": [],
   "source": [
    "import pandas as pd\n",
    "dt = pd.read_table(\"data/eclip/raw/metadata.tsv\")\n",
    "RBPS = pd.Series([x[0] for x in dt[dt.Assembly == \"GRCh38\"][\"Experiment target\"].str.split(\"-\")]).unique()\n",
    "assert len(RBPS) == 112"
   ]
  },
  {
   "cell_type": "code",
   "execution_count": 212,
   "metadata": {},
   "outputs": [],
   "source": [
    "ROOT_DIR = \"data/eclip\"\n",
    "PROC_DIR = ROOT_DIR + \"/processed\"\n",
    "EXP = \"DeepNN_scalar_position_ext_gam\"\n",
    "glob_pattern = PROC_DIR + \"/feature_exclusion_exp/results/{rbp_name}/{exp}-excl-{fset}.json\"\n",
    "glob_pattern_deepcis = \"/s/project/deepcis/encode/eclip/processed/feature_exclusion_exp/results/{rbp_name}/{exp}-excl-{fset}.json\""
   ]
  },
  {
   "cell_type": "code",
   "execution_count": 213,
   "metadata": {},
   "outputs": [],
   "source": [
    "from snakemake.utils import listfiles\n",
    "from concise.utils.helper import read_json\n",
    "from concise.hyopt import _flatten_dict"
   ]
  },
  {
   "cell_type": "code",
   "execution_count": 214,
   "metadata": {},
   "outputs": [],
   "source": [
    "def load_data(fname, args):\n",
    "    start = _flatten_dict(read_json(fname), separator=\".\")\n",
    "    return {**start, **dict(args)}"
   ]
  },
  {
   "cell_type": "code",
   "execution_count": 298,
   "metadata": {},
   "outputs": [],
   "source": [
    "res = pd.DataFrame.from_records([load_data(fname, args) for fname, args in listfiles(glob_pattern)])"
   ]
  },
  {
   "cell_type": "code",
   "execution_count": 303,
   "metadata": {},
   "outputs": [],
   "source": [
    "res.fset.unique()\n",
    "pos_categories_all = ['tss,gene_start', 'gene_start', \"tss\", \"start_codon\", 'exon_intron', \n",
    "                      'intron_exon', 'stop_codon', 'polya', 'gene_end', 'polya,gene_end']\n",
    "pos_categories = ['gene_start', \"tss\", \"start_codon\", 'exon_intron', \n",
    "                  'intron_exon', 'stop_codon', 'polya', 'gene_end']"
   ]
  },
  {
   "cell_type": "code",
   "execution_count": 304,
   "metadata": {},
   "outputs": [],
   "source": [
    "res_subset = res[res.fset.isin(pos_categories)]\n",
    "res_subset[\"fset\"] = pd.Categorical(res_subset.fset, categories=pos_categories)"
   ]
  },
  {
   "cell_type": "code",
   "execution_count": 306,
   "metadata": {},
   "outputs": [],
   "source": [
    "df = res_subset[[\"parsed_args.rbp\", \"fset\", \"eval_test.auprc\"]]\n",
    "df[\"fset\"] = df.fset.str.replace(\",\", \", \")"
   ]
  },
  {
   "cell_type": "markdown",
   "metadata": {},
   "source": [
    "## Scale by RBP"
   ]
  },
  {
   "cell_type": "markdown",
   "metadata": {},
   "source": [
    "### Add the baseline performance row"
   ]
  },
  {
   "cell_type": "code",
   "execution_count": 2,
   "metadata": {},
   "outputs": [
    {
     "name": "stderr",
     "output_type": "stream",
     "text": [
      "/home/avsec/bin/anaconda3/lib/python3.6/importlib/_bootstrap.py:205: RuntimeWarning: compiletime version 3.5 of module 'tensorflow.python.framework.fast_tensor_util' does not match runtime version 3.6\n",
      "  return f(*args, **kwds)\n",
      "Using TensorFlow backend.\n"
     ]
    }
   ],
   "source": [
    "import os\n",
    "import concise.eval_metrics as cem\n",
    "import seaborn as sns"
   ]
  },
  {
   "cell_type": "code",
   "execution_count": 310,
   "metadata": {},
   "outputs": [],
   "source": [
    "dfp = df.pivot(\"fset\", \"parsed_args.rbp\", \"eval_test.auprc\")"
   ]
  },
  {
   "cell_type": "code",
   "execution_count": 314,
   "metadata": {},
   "outputs": [],
   "source": [
    "from tqdm import tqdm"
   ]
  },
  {
   "cell_type": "code",
   "execution_count": 315,
   "metadata": {},
   "outputs": [],
   "source": [
    "def load_perf(dir_root, rbp_list, exp_list, verbose=False):\n",
    "    dt_list = []\n",
    "    dt_pred_list = []\n",
    "    for rbp in rbp_list:\n",
    "        for exp in exp_list:\n",
    "            \n",
    "            path = \"{root}/processed/predictions/{rbp}/{method}.csv\".format(root=dir_root, rbp=rbp, method=exp)\n",
    "            if os.path.exists(path):\n",
    "                if verbose:\n",
    "                    print(path)\n",
    "                dt = pd.read_csv(path)\n",
    "                del dt[\"Unnamed: 0\"]\n",
    "                dt[\"rbp\"] = rbp\n",
    "                dt[\"method\"] = exp               \n",
    "                \n",
    "                auc = cem.auc(dt[\"y_true\"], dt[\"y_pred\"])\n",
    "                auprc = cem.auprc(dt[\"y_true\"], dt[\"y_pred\"])\n",
    "                # TODO - add random auc and auprc\n",
    "                auc_random = cem.auc(dt[\"y_true\"], dt[\"y_true\"].sample(frac=1, replace=False))\n",
    "                auprc_random = cem.auprc(dt[\"y_true\"], dt[\"y_true\"].sample(frac=1, replace=False))\n",
    "                #auc_random = auc\n",
    "                #auprc_random = auprc\n",
    "                \n",
    "                dtm = pd.DataFrame({\"rbp\": [rbp], \"method\": [exp],\n",
    "                                    \"auprc\": [auprc], \"auc\": [auc], \n",
    "                                    \"auprc_random\": [auprc_random], \"auc_random\": [auc_random],\n",
    "                                    })\n",
    "                dt_list.append(dtm)\n",
    "                #dt_pred_list.append(dt)\n",
    "    dt_test = pd.concat(dt_list)\n",
    "    #dt_pred_test = pd.concat(dt_pred_list)\n",
    "    dtt = dt_test.set_index([\"rbp\", \"method\"]).unstack()\n",
    "    return dtt"
   ]
  },
  {
   "cell_type": "code",
   "execution_count": 316,
   "metadata": {},
   "outputs": [],
   "source": [
    "RBP_ALL = list(dfp.columns)\n",
    "\n",
    "seq_w_dist_df = load_perf(ROOT_DIR, RBP_ALL, [\"DeepNN_scalar_position_ext_gam\"])\n",
    "seq_w_dist = seq_w_dist_df[\"auprc\"][\"DeepNN_scalar_position_ext_gam\"]\n",
    "seq_only = load_perf(ROOT_DIR, RBP_ALL, [\"DeepNN_ext\"])[\"auprc\"][\"DeepNN_ext\"]\n",
    "random_auprc = seq_w_dist_df[\"auprc_random\"].DeepNN_scalar_position_ext_gam"
   ]
  },
  {
   "cell_type": "code",
   "execution_count": 318,
   "metadata": {},
   "outputs": [],
   "source": [
    "dfp_sub = dfp"
   ]
  },
  {
   "cell_type": "code",
   "execution_count": 319,
   "metadata": {},
   "outputs": [],
   "source": [
    "dfp_sub_transf = dfp_sub.sub(seq_only).div(seq_w_dist - seq_only)\n",
    "dfp_sub_transf[dfp_sub_transf > 1] = 1\n",
    "dfp_sub_transf[dfp_sub_transf < 0] = 0"
   ]
  },
  {
   "cell_type": "code",
   "execution_count": 320,
   "metadata": {},
   "outputs": [],
   "source": [
    "#st_vs_seq_only = (seq_w_dist - seq_only) / (seq_w_dist - random_auprc)"
   ]
  },
  {
   "cell_type": "code",
   "execution_count": 321,
   "metadata": {},
   "outputs": [],
   "source": [
    "st_vs_seq_only = (seq_w_dist - seq_only) / (seq_only - random_auprc)"
   ]
  },
  {
   "cell_type": "code",
   "execution_count": 322,
   "metadata": {},
   "outputs": [],
   "source": [
    "rbp = \"HNRNPUL1\""
   ]
  },
  {
   "cell_type": "code",
   "execution_count": 323,
   "metadata": {},
   "outputs": [
    {
     "data": {
      "text/plain": [
       "rbp\n",
       "HNRNPUL1    0.5398\n",
       "Name: DeepNN_ext, dtype: float64"
      ]
     },
     "execution_count": 323,
     "metadata": {},
     "output_type": "execute_result"
    }
   ],
   "source": [
    "seq_only[[rbp]]"
   ]
  },
  {
   "cell_type": "code",
   "execution_count": 324,
   "metadata": {},
   "outputs": [
    {
     "data": {
      "text/plain": [
       "rbp\n",
       "HNRNPUL1    0.6496\n",
       "Name: DeepNN_scalar_position_ext_gam, dtype: float64"
      ]
     },
     "execution_count": 324,
     "metadata": {},
     "output_type": "execute_result"
    }
   ],
   "source": [
    "seq_w_dist[[rbp]]"
   ]
  },
  {
   "cell_type": "code",
   "execution_count": 325,
   "metadata": {},
   "outputs": [
    {
     "data": {
      "text/html": [
       "<div>\n",
       "<style>\n",
       "    .dataframe thead tr:only-child th {\n",
       "        text-align: right;\n",
       "    }\n",
       "\n",
       "    .dataframe thead th {\n",
       "        text-align: left;\n",
       "    }\n",
       "\n",
       "    .dataframe tbody tr th {\n",
       "        vertical-align: top;\n",
       "    }\n",
       "</style>\n",
       "<table border=\"1\" class=\"dataframe\">\n",
       "  <thead>\n",
       "    <tr style=\"text-align: right;\">\n",
       "      <th>parsed_args.rbp</th>\n",
       "      <th>HNRNPUL1</th>\n",
       "    </tr>\n",
       "    <tr>\n",
       "      <th>fset</th>\n",
       "      <th></th>\n",
       "    </tr>\n",
       "  </thead>\n",
       "  <tbody>\n",
       "    <tr>\n",
       "      <th>exon_intron</th>\n",
       "      <td>0.5474</td>\n",
       "    </tr>\n",
       "    <tr>\n",
       "      <th>gene_end</th>\n",
       "      <td>0.5674</td>\n",
       "    </tr>\n",
       "    <tr>\n",
       "      <th>gene_start</th>\n",
       "      <td>0.5794</td>\n",
       "    </tr>\n",
       "    <tr>\n",
       "      <th>...</th>\n",
       "      <td>...</td>\n",
       "    </tr>\n",
       "    <tr>\n",
       "      <th>start_codon</th>\n",
       "      <td>0.5748</td>\n",
       "    </tr>\n",
       "    <tr>\n",
       "      <th>stop_codon</th>\n",
       "      <td>0.5628</td>\n",
       "    </tr>\n",
       "    <tr>\n",
       "      <th>tss</th>\n",
       "      <td>0.5460</td>\n",
       "    </tr>\n",
       "  </tbody>\n",
       "</table>\n",
       "<p>8 rows × 1 columns</p>\n",
       "</div>"
      ],
      "text/plain": [
       "parsed_args.rbp  HNRNPUL1\n",
       "fset                     \n",
       "exon_intron        0.5474\n",
       "gene_end           0.5674\n",
       "gene_start         0.5794\n",
       "...                   ...\n",
       "start_codon        0.5748\n",
       "stop_codon         0.5628\n",
       "tss                0.5460\n",
       "\n",
       "[8 rows x 1 columns]"
      ]
     },
     "execution_count": 325,
     "metadata": {},
     "output_type": "execute_result"
    }
   ],
   "source": [
    "dfp_sub[[rbp]]"
   ]
  },
  {
   "cell_type": "code",
   "execution_count": 326,
   "metadata": {},
   "outputs": [],
   "source": [
    "# Why are these all worse?"
   ]
  },
  {
   "cell_type": "code",
   "execution_count": 327,
   "metadata": {},
   "outputs": [],
   "source": [
    "from concise.hyopt import CMongoTrials, get_model, get_data"
   ]
  },
  {
   "cell_type": "code",
   "execution_count": 328,
   "metadata": {},
   "outputs": [
    {
     "name": "stderr",
     "output_type": "stream",
     "text": [
      "2017-10-12 11:53:21,974 [INFO] PROTOCOL mongo\n",
      "2017-10-12 11:53:21,977 [INFO] USERNAME None\n",
      "2017-10-12 11:53:21,979 [INFO] HOSTNAME ouga03\n",
      "2017-10-12 11:53:21,981 [INFO] PORT 1234\n",
      "2017-10-12 11:53:21,983 [INFO] PATH /RBP__Eclip_p/jobs\n",
      "2017-10-12 11:53:21,985 [INFO] DB RBP__Eclip_p\n",
      "2017-10-12 11:53:21,987 [INFO] COLLECTION jobs\n",
      "2017-10-12 11:53:21,989 [INFO] PASS None\n"
     ]
    },
    {
     "data": {
      "text/html": [
       "<div>\n",
       "<style>\n",
       "    .dataframe thead tr:only-child th {\n",
       "        text-align: right;\n",
       "    }\n",
       "\n",
       "    .dataframe thead th {\n",
       "        text-align: left;\n",
       "    }\n",
       "\n",
       "    .dataframe tbody tr th {\n",
       "        vertical-align: top;\n",
       "    }\n",
       "</style>\n",
       "<table border=\"1\" class=\"dataframe\">\n",
       "  <thead>\n",
       "    <tr style=\"text-align: right;\">\n",
       "      <th></th>\n",
       "      <th>tid</th>\n",
       "      <th>loss</th>\n",
       "      <th>status</th>\n",
       "      <th>eval.acc</th>\n",
       "      <th>eval.auc</th>\n",
       "      <th>eval.auprc</th>\n",
       "      <th>eval.loss</th>\n",
       "      <th>name.data</th>\n",
       "      <th>name.model</th>\n",
       "      <th>name.optim_metric</th>\n",
       "      <th>name.optim_metric_mode</th>\n",
       "      <th>param.data.n_bases</th>\n",
       "      <th>param.data.pos_class_weight</th>\n",
       "      <th>param.data.rbp_name</th>\n",
       "      <th>param.data.test_chr</th>\n",
       "      <th>param.data.valid_chr</th>\n",
       "      <th>param.fit.batch_size</th>\n",
       "      <th>param.fit.early_stop_monitor</th>\n",
       "      <th>param.fit.epochs</th>\n",
       "      <th>param.fit.patience</th>\n",
       "      <th>param.fit.use_weight</th>\n",
       "      <th>param.model.activation</th>\n",
       "      <th>param.model.dropout_rate</th>\n",
       "      <th>param.model.external_pos.as_track</th>\n",
       "      <th>param.model.external_pos.feat_names</th>\n",
       "      <th>param.model.external_pos.type</th>\n",
       "      <th>param.model.external_pos.units</th>\n",
       "      <th>param.model.filters</th>\n",
       "      <th>param.model.internal_pos.name</th>\n",
       "      <th>param.model.internal_pos.pool_size</th>\n",
       "      <th>param.model.kernel_size</th>\n",
       "      <th>param.model.lr</th>\n",
       "      <th>param.model.use_batchnorm</th>\n",
       "      <th>path.model</th>\n",
       "      <th>path.results</th>\n",
       "      <th>time.duration.dataload</th>\n",
       "      <th>time.duration.total</th>\n",
       "      <th>time.duration.training</th>\n",
       "      <th>time.end</th>\n",
       "      <th>time.start</th>\n",
       "      <th>n_epoch</th>\n",
       "    </tr>\n",
       "  </thead>\n",
       "  <tbody>\n",
       "    <tr>\n",
       "      <th>0</th>\n",
       "      <td>1526</td>\n",
       "      <td>-0.5975</td>\n",
       "      <td>ok</td>\n",
       "      <td>0.8336</td>\n",
       "      <td>0.8296</td>\n",
       "      <td>0.5975</td>\n",
       "      <td>0.3885</td>\n",
       "      <td>data_extended</td>\n",
       "      <td>model</td>\n",
       "      <td>auprc</td>\n",
       "      <td>auprc</td>\n",
       "      <td>20</td>\n",
       "      <td>1.0</td>\n",
       "      <td>HNRNPUL1</td>\n",
       "      <td>[2, 4, 6, 8, 10]</td>\n",
       "      <td>[1, 3]</td>\n",
       "      <td>128</td>\n",
       "      <td>val_loss</td>\n",
       "      <td>150</td>\n",
       "      <td>5</td>\n",
       "      <td>False</td>\n",
       "      <td>relu</td>\n",
       "      <td>0.5666</td>\n",
       "      <td>False</td>\n",
       "      <td>[tss, polya, exon_int...</td>\n",
       "      <td>gam</td>\n",
       "      <td>1</td>\n",
       "      <td>16</td>\n",
       "      <td>strided_maxpool</td>\n",
       "      <td>4</td>\n",
       "      <td>11</td>\n",
       "      <td>0.0015</td>\n",
       "      <td>False</td>\n",
       "      <td>/s/project/deepcis/hy...</td>\n",
       "      <td>/s/project/deepcis/hy...</td>\n",
       "      <td>0.0459</td>\n",
       "      <td>48.7215</td>\n",
       "      <td>48.6755</td>\n",
       "      <td>2017-09-30 04:24:31.3...</td>\n",
       "      <td>2017-09-30 04:23:42.6...</td>\n",
       "      <td>34</td>\n",
       "    </tr>\n",
       "    <tr>\n",
       "      <th>11</th>\n",
       "      <td>2098</td>\n",
       "      <td>-0.5955</td>\n",
       "      <td>ok</td>\n",
       "      <td>0.8322</td>\n",
       "      <td>0.8250</td>\n",
       "      <td>0.5955</td>\n",
       "      <td>0.3938</td>\n",
       "      <td>data_extended</td>\n",
       "      <td>model</td>\n",
       "      <td>auprc</td>\n",
       "      <td>auprc</td>\n",
       "      <td>30</td>\n",
       "      <td>1.0</td>\n",
       "      <td>HNRNPUL1</td>\n",
       "      <td>[2, 4, 6, 8, 10]</td>\n",
       "      <td>[1, 3]</td>\n",
       "      <td>128</td>\n",
       "      <td>val_loss</td>\n",
       "      <td>150</td>\n",
       "      <td>5</td>\n",
       "      <td>False</td>\n",
       "      <td>relu</td>\n",
       "      <td>0.2425</td>\n",
       "      <td>False</td>\n",
       "      <td>[tss, polya, exon_int...</td>\n",
       "      <td>gam</td>\n",
       "      <td>1</td>\n",
       "      <td>16</td>\n",
       "      <td>strided_maxpool</td>\n",
       "      <td>4</td>\n",
       "      <td>11</td>\n",
       "      <td>0.0092</td>\n",
       "      <td>False</td>\n",
       "      <td>/s/project/deepcis/hy...</td>\n",
       "      <td>/s/project/deepcis/hy...</td>\n",
       "      <td>0.0390</td>\n",
       "      <td>20.4067</td>\n",
       "      <td>20.3678</td>\n",
       "      <td>2017-09-30 07:01:54.2...</td>\n",
       "      <td>2017-09-30 07:01:33.8...</td>\n",
       "      <td>12</td>\n",
       "    </tr>\n",
       "    <tr>\n",
       "      <th>2</th>\n",
       "      <td>1630</td>\n",
       "      <td>-0.5938</td>\n",
       "      <td>ok</td>\n",
       "      <td>0.8295</td>\n",
       "      <td>0.8266</td>\n",
       "      <td>0.5938</td>\n",
       "      <td>0.3895</td>\n",
       "      <td>data_extended</td>\n",
       "      <td>model</td>\n",
       "      <td>auprc</td>\n",
       "      <td>auprc</td>\n",
       "      <td>30</td>\n",
       "      <td>1.0</td>\n",
       "      <td>HNRNPUL1</td>\n",
       "      <td>[2, 4, 6, 8, 10]</td>\n",
       "      <td>[1, 3]</td>\n",
       "      <td>128</td>\n",
       "      <td>val_loss</td>\n",
       "      <td>150</td>\n",
       "      <td>5</td>\n",
       "      <td>False</td>\n",
       "      <td>relu</td>\n",
       "      <td>0.6649</td>\n",
       "      <td>False</td>\n",
       "      <td>[tss, polya, exon_int...</td>\n",
       "      <td>gam</td>\n",
       "      <td>1</td>\n",
       "      <td>16</td>\n",
       "      <td>strided_maxpool</td>\n",
       "      <td>4</td>\n",
       "      <td>11</td>\n",
       "      <td>0.0029</td>\n",
       "      <td>False</td>\n",
       "      <td>/s/project/deepcis/hy...</td>\n",
       "      <td>/s/project/deepcis/hy...</td>\n",
       "      <td>0.5014</td>\n",
       "      <td>52.3579</td>\n",
       "      <td>51.8565</td>\n",
       "      <td>2017-09-30 04:51:13.5...</td>\n",
       "      <td>2017-09-30 04:50:21.1...</td>\n",
       "      <td>23</td>\n",
       "    </tr>\n",
       "    <tr>\n",
       "      <th>...</th>\n",
       "      <td>...</td>\n",
       "      <td>...</td>\n",
       "      <td>...</td>\n",
       "      <td>...</td>\n",
       "      <td>...</td>\n",
       "      <td>...</td>\n",
       "      <td>...</td>\n",
       "      <td>...</td>\n",
       "      <td>...</td>\n",
       "      <td>...</td>\n",
       "      <td>...</td>\n",
       "      <td>...</td>\n",
       "      <td>...</td>\n",
       "      <td>...</td>\n",
       "      <td>...</td>\n",
       "      <td>...</td>\n",
       "      <td>...</td>\n",
       "      <td>...</td>\n",
       "      <td>...</td>\n",
       "      <td>...</td>\n",
       "      <td>...</td>\n",
       "      <td>...</td>\n",
       "      <td>...</td>\n",
       "      <td>...</td>\n",
       "      <td>...</td>\n",
       "      <td>...</td>\n",
       "      <td>...</td>\n",
       "      <td>...</td>\n",
       "      <td>...</td>\n",
       "      <td>...</td>\n",
       "      <td>...</td>\n",
       "      <td>...</td>\n",
       "      <td>...</td>\n",
       "      <td>...</td>\n",
       "      <td>...</td>\n",
       "      <td>...</td>\n",
       "      <td>...</td>\n",
       "      <td>...</td>\n",
       "      <td>...</td>\n",
       "      <td>...</td>\n",
       "      <td>...</td>\n",
       "    </tr>\n",
       "    <tr>\n",
       "      <th>19</th>\n",
       "      <td>2495</td>\n",
       "      <td>-0.5097</td>\n",
       "      <td>ok</td>\n",
       "      <td>0.8113</td>\n",
       "      <td>0.7813</td>\n",
       "      <td>0.5097</td>\n",
       "      <td>0.4468</td>\n",
       "      <td>data_extended</td>\n",
       "      <td>model</td>\n",
       "      <td>auprc</td>\n",
       "      <td>auprc</td>\n",
       "      <td>20</td>\n",
       "      <td>1.0</td>\n",
       "      <td>HNRNPUL1</td>\n",
       "      <td>[2, 4, 6, 8, 10]</td>\n",
       "      <td>[1, 3]</td>\n",
       "      <td>128</td>\n",
       "      <td>val_loss</td>\n",
       "      <td>150</td>\n",
       "      <td>5</td>\n",
       "      <td>False</td>\n",
       "      <td>relu</td>\n",
       "      <td>0.1764</td>\n",
       "      <td>False</td>\n",
       "      <td>[tss, polya, exon_int...</td>\n",
       "      <td>gam</td>\n",
       "      <td>1</td>\n",
       "      <td>16</td>\n",
       "      <td>strided_maxpool</td>\n",
       "      <td>4</td>\n",
       "      <td>11</td>\n",
       "      <td>0.0008</td>\n",
       "      <td>True</td>\n",
       "      <td>/s/project/deepcis/hy...</td>\n",
       "      <td>/s/project/deepcis/hy...</td>\n",
       "      <td>0.0362</td>\n",
       "      <td>122.3087</td>\n",
       "      <td>122.2725</td>\n",
       "      <td>2017-09-30 08:44:28.3...</td>\n",
       "      <td>2017-09-30 08:42:26.0...</td>\n",
       "      <td>12</td>\n",
       "    </tr>\n",
       "    <tr>\n",
       "      <th>13</th>\n",
       "      <td>2202</td>\n",
       "      <td>-0.4368</td>\n",
       "      <td>ok</td>\n",
       "      <td>0.7890</td>\n",
       "      <td>0.7353</td>\n",
       "      <td>0.4368</td>\n",
       "      <td>0.4919</td>\n",
       "      <td>data_extended</td>\n",
       "      <td>model</td>\n",
       "      <td>auprc</td>\n",
       "      <td>auprc</td>\n",
       "      <td>20</td>\n",
       "      <td>1.0</td>\n",
       "      <td>HNRNPUL1</td>\n",
       "      <td>[2, 4, 6, 8, 10]</td>\n",
       "      <td>[1, 3]</td>\n",
       "      <td>128</td>\n",
       "      <td>val_loss</td>\n",
       "      <td>150</td>\n",
       "      <td>5</td>\n",
       "      <td>False</td>\n",
       "      <td>relu</td>\n",
       "      <td>0.0099</td>\n",
       "      <td>False</td>\n",
       "      <td>[tss, polya, exon_int...</td>\n",
       "      <td>gam</td>\n",
       "      <td>1</td>\n",
       "      <td>16</td>\n",
       "      <td>strided_maxpool</td>\n",
       "      <td>4</td>\n",
       "      <td>11</td>\n",
       "      <td>0.0047</td>\n",
       "      <td>True</td>\n",
       "      <td>/s/project/deepcis/hy...</td>\n",
       "      <td>/s/project/deepcis/hy...</td>\n",
       "      <td>0.0421</td>\n",
       "      <td>80.0604</td>\n",
       "      <td>80.0183</td>\n",
       "      <td>2017-09-30 07:26:27.0...</td>\n",
       "      <td>2017-09-30 07:25:07.0...</td>\n",
       "      <td>6</td>\n",
       "    </tr>\n",
       "    <tr>\n",
       "      <th>3</th>\n",
       "      <td>1682</td>\n",
       "      <td>-0.4241</td>\n",
       "      <td>ok</td>\n",
       "      <td>0.7890</td>\n",
       "      <td>0.7400</td>\n",
       "      <td>0.4241</td>\n",
       "      <td>0.4834</td>\n",
       "      <td>data_extended</td>\n",
       "      <td>model</td>\n",
       "      <td>auprc</td>\n",
       "      <td>auprc</td>\n",
       "      <td>20</td>\n",
       "      <td>1.0</td>\n",
       "      <td>HNRNPUL1</td>\n",
       "      <td>[2, 4, 6, 8, 10]</td>\n",
       "      <td>[1, 3]</td>\n",
       "      <td>128</td>\n",
       "      <td>val_loss</td>\n",
       "      <td>150</td>\n",
       "      <td>5</td>\n",
       "      <td>False</td>\n",
       "      <td>relu</td>\n",
       "      <td>0.0877</td>\n",
       "      <td>False</td>\n",
       "      <td>[tss, polya, exon_int...</td>\n",
       "      <td>gam</td>\n",
       "      <td>1</td>\n",
       "      <td>16</td>\n",
       "      <td>strided_maxpool</td>\n",
       "      <td>4</td>\n",
       "      <td>11</td>\n",
       "      <td>0.0023</td>\n",
       "      <td>True</td>\n",
       "      <td>/s/project/deepcis/hy...</td>\n",
       "      <td>/s/project/deepcis/hy...</td>\n",
       "      <td>0.0490</td>\n",
       "      <td>69.5662</td>\n",
       "      <td>69.5173</td>\n",
       "      <td>2017-09-30 05:06:36.4...</td>\n",
       "      <td>2017-09-30 05:05:26.8...</td>\n",
       "      <td>6</td>\n",
       "    </tr>\n",
       "  </tbody>\n",
       "</table>\n",
       "<p>20 rows × 41 columns</p>\n",
       "</div>"
      ],
      "text/plain": [
       "     tid    loss status  eval.acc  eval.auc  eval.auprc  eval.loss      name.data name.model  \\\n",
       "0   1526 -0.5975     ok    0.8336    0.8296      0.5975     0.3885  data_extended      model   \n",
       "11  2098 -0.5955     ok    0.8322    0.8250      0.5955     0.3938  data_extended      model   \n",
       "2   1630 -0.5938     ok    0.8295    0.8266      0.5938     0.3895  data_extended      model   \n",
       "..   ...     ...    ...       ...       ...         ...        ...            ...        ...   \n",
       "19  2495 -0.5097     ok    0.8113    0.7813      0.5097     0.4468  data_extended      model   \n",
       "13  2202 -0.4368     ok    0.7890    0.7353      0.4368     0.4919  data_extended      model   \n",
       "3   1682 -0.4241     ok    0.7890    0.7400      0.4241     0.4834  data_extended      model   \n",
       "\n",
       "   name.optim_metric name.optim_metric_mode  param.data.n_bases  param.data.pos_class_weight  \\\n",
       "0              auprc                  auprc                  20                       1.0      \n",
       "11             auprc                  auprc                  30                       1.0      \n",
       "2              auprc                  auprc                  30                       1.0      \n",
       "..               ...                    ...                 ...                       ...      \n",
       "19             auprc                  auprc                  20                       1.0      \n",
       "13             auprc                  auprc                  20                       1.0      \n",
       "3              auprc                  auprc                  20                       1.0      \n",
       "\n",
       "   param.data.rbp_name param.data.test_chr param.data.valid_chr  param.fit.batch_size  \\\n",
       "0             HNRNPUL1    [2, 4, 6, 8, 10]               [1, 3]                   128   \n",
       "11            HNRNPUL1    [2, 4, 6, 8, 10]               [1, 3]                   128   \n",
       "2             HNRNPUL1    [2, 4, 6, 8, 10]               [1, 3]                   128   \n",
       "..                 ...                 ...                  ...                   ...   \n",
       "19            HNRNPUL1    [2, 4, 6, 8, 10]               [1, 3]                   128   \n",
       "13            HNRNPUL1    [2, 4, 6, 8, 10]               [1, 3]                   128   \n",
       "3             HNRNPUL1    [2, 4, 6, 8, 10]               [1, 3]                   128   \n",
       "\n",
       "   param.fit.early_stop_monitor  param.fit.epochs  param.fit.patience  param.fit.use_weight  \\\n",
       "0                   val_loss                  150                   5                 False   \n",
       "11                  val_loss                  150                   5                 False   \n",
       "2                   val_loss                  150                   5                 False   \n",
       "..                       ...                  ...                 ...                   ...   \n",
       "19                  val_loss                  150                   5                 False   \n",
       "13                  val_loss                  150                   5                 False   \n",
       "3                   val_loss                  150                   5                 False   \n",
       "\n",
       "   param.model.activation  param.model.dropout_rate  param.model.external_pos.as_track  \\\n",
       "0                    relu                    0.5666                     False            \n",
       "11                   relu                    0.2425                     False            \n",
       "2                    relu                    0.6649                     False            \n",
       "..                    ...                       ...                       ...            \n",
       "19                   relu                    0.1764                     False            \n",
       "13                   relu                    0.0099                     False            \n",
       "3                    relu                    0.0877                     False            \n",
       "\n",
       "   param.model.external_pos.feat_names param.model.external_pos.type  \\\n",
       "0   [tss, polya, exon_int...                                 gam       \n",
       "11  [tss, polya, exon_int...                                 gam       \n",
       "2   [tss, polya, exon_int...                                 gam       \n",
       "..                       ...                                 ...       \n",
       "19  [tss, polya, exon_int...                                 gam       \n",
       "13  [tss, polya, exon_int...                                 gam       \n",
       "3   [tss, polya, exon_int...                                 gam       \n",
       "\n",
       "    param.model.external_pos.units  param.model.filters param.model.internal_pos.name  \\\n",
       "0                          1                         16           strided_maxpool       \n",
       "11                         1                         16           strided_maxpool       \n",
       "2                          1                         16           strided_maxpool       \n",
       "..                       ...                        ...                       ...       \n",
       "19                         1                         16           strided_maxpool       \n",
       "13                         1                         16           strided_maxpool       \n",
       "3                          1                         16           strided_maxpool       \n",
       "\n",
       "    param.model.internal_pos.pool_size  param.model.kernel_size  param.model.lr  \\\n",
       "0                          4                                 11          0.0015   \n",
       "11                         4                                 11          0.0092   \n",
       "2                          4                                 11          0.0029   \n",
       "..                       ...                                ...             ...   \n",
       "19                         4                                 11          0.0008   \n",
       "13                         4                                 11          0.0047   \n",
       "3                          4                                 11          0.0023   \n",
       "\n",
       "    param.model.use_batchnorm                path.model              path.results  \\\n",
       "0                      False   /s/project/deepcis/hy...  /s/project/deepcis/hy...   \n",
       "11                     False   /s/project/deepcis/hy...  /s/project/deepcis/hy...   \n",
       "2                      False   /s/project/deepcis/hy...  /s/project/deepcis/hy...   \n",
       "..                       ...                        ...                       ...   \n",
       "19                      True   /s/project/deepcis/hy...  /s/project/deepcis/hy...   \n",
       "13                      True   /s/project/deepcis/hy...  /s/project/deepcis/hy...   \n",
       "3                       True   /s/project/deepcis/hy...  /s/project/deepcis/hy...   \n",
       "\n",
       "    time.duration.dataload  time.duration.total  time.duration.training                  time.end  \\\n",
       "0                   0.0459              48.7215                 48.6755  2017-09-30 04:24:31.3...   \n",
       "11                  0.0390              20.4067                 20.3678  2017-09-30 07:01:54.2...   \n",
       "2                   0.5014              52.3579                 51.8565  2017-09-30 04:51:13.5...   \n",
       "..                     ...                  ...                     ...                       ...   \n",
       "19                  0.0362             122.3087                122.2725  2017-09-30 08:44:28.3...   \n",
       "13                  0.0421              80.0604                 80.0183  2017-09-30 07:26:27.0...   \n",
       "3                   0.0490              69.5662                 69.5173  2017-09-30 05:06:36.4...   \n",
       "\n",
       "                  time.start  n_epoch  \n",
       "0   2017-09-30 04:23:42.6...       34  \n",
       "11  2017-09-30 07:01:33.8...       12  \n",
       "2   2017-09-30 04:50:21.1...       23  \n",
       "..                       ...      ...  \n",
       "19  2017-09-30 08:42:26.0...       12  \n",
       "13  2017-09-30 07:25:07.0...        6  \n",
       "3   2017-09-30 05:05:26.8...        6  \n",
       "\n",
       "[20 rows x 41 columns]"
      ]
     },
     "execution_count": 328,
     "metadata": {},
     "output_type": "execute_result"
    }
   ],
   "source": [
    "trials = CMongoTrials(db_name=\"RBP__Eclip_p\", exp_name=\"DeepNN_scalar_position_ext_gam_\" + rbp)\n",
    "trials.as_df().sort_values(\"eval.auprc\", ascending=False)"
   ]
  },
  {
   "cell_type": "code",
   "execution_count": 329,
   "metadata": {},
   "outputs": [],
   "source": [
    "m = trials.load_model(trials.best_trial_tid())"
   ]
  },
  {
   "cell_type": "code",
   "execution_count": 330,
   "metadata": {},
   "outputs": [],
   "source": [
    "param = trials.get_param(trials.best_trial_tid())"
   ]
  },
  {
   "cell_type": "markdown",
   "metadata": {},
   "source": [
    "## Nice heatmap"
   ]
  },
  {
   "cell_type": "code",
   "execution_count": null,
   "metadata": {},
   "outputs": [],
   "source": [
    "from sklearn.preprocessing import minmax_scale\n",
    "\n",
    "from matplotlib.colors import rgb2hex\n",
    "\n",
    "color_vector = sns.cubehelix_palette(as_cmap=True)\n",
    "colors_seq_w_dist = color_vector(minmax_scale(seq_w_dist))\n",
    "colors_seq_only = zcolor_vector(minmax_scale(seq_only))\n",
    "colors_delta = color_vector(minmax_scale(seq_w_dist - seq_only))\n",
    "sort_idx = np.argsort(-seq_w_dist + seq_only)"
   ]
  },
  {
   "cell_type": "code",
   "execution_count": 353,
   "metadata": {},
   "outputs": [
    {
     "name": "stderr",
     "output_type": "stream",
     "text": [
      "/opt/modules/i12g/anaconda/3-4.1.1/lib/python3.5/site-packages/matplotlib/cbook.py:136: MatplotlibDeprecationWarning: The axisbg attribute was deprecated in version 2.0. Use facecolor instead.\n",
      "  warnings.warn(message, mplDeprecation, stacklevel=1)\n"
     ]
    },
    {
     "data": {
      "image/png": "[encoded data removed]",
      "text/plain": [
       "<matplotlib.figure.Figure at 0x7fa51ba584e0>"
      ]
     },
     "metadata": {},
     "output_type": "display_data"
    }
   ],
   "source": [
    "cg = sns.clustermap(1-dfp_sub_transf.loc[pos_categories], figsize=(20,5),\n",
    "                    col_colors=np.stack([colors_seq_only, #bottom\n",
    "                                         colors_seq_w_dist, # top\n",
    "                                         colors_delta]),\n",
    "                    cmap=\"Blues\", row_cluster=False)\n",
    "res = plt.setp(cg.ax_heatmap.yaxis.get_majorticklabels(), rotation=0)\n",
    "cg.ax_row_dendrogram.clear()\n",
    "col = cg.cax.get_position()\n",
    "col = cg.cax.get_position()\n",
    "\n",
    "cg.ax_heatmap.yaxis.set_label_position(\"left\")\n",
    "cg.ax_heatmap.yaxis.set_ticks_position(\"left\")\n",
    "cg.ax_heatmap.set_ylabel(\"Excluded genomic landmark\")\n",
    "cg.ax_heatmap.set_xlabel(\"RBP\")\n",
    "cg.cax.set_ylabel(\"Relative performance decrease\")\n",
    "#cg.ax_col_colors.set_ylabel(\"asd\").set_rotation(0)\n",
    "pos = cg.ax_col_dendrogram.get_position()\n",
    "cg.ax_col_dendrogram.set_position([pos.x0, pos.y0, pos.width, pos.height*1.8])\n",
    "\n",
    "## Add the top pannel plot\n",
    "cg.ax_col_colors.set_yticks([0.5, 1.5, 2.5])\n",
    "cg.ax_col_colors.set_yticklabels([\"delta\", \"DNN w/ dist\", \"DNN\"])\n",
    "pos = cg.ax_col_colors.get_position()\n",
    "expand_by = pos.height\n",
    "cg.ax_col_colors.set_position([pos.x0, pos.y0, pos.width, pos.height + expand_by])\n",
    "\n",
    "pos = cg.ax_col_dendrogram.get_position()\n",
    "cg.ax_col_dendrogram.set_position([pos.x0, pos.y0 + expand_by, pos.width, pos.height])\n",
    "\n",
    "\n",
    "\n",
    "hm_pos = cg.ax_heatmap.get_position()\n",
    "cg.ax_row_dendrogram.set_visible(False)\n",
    "cg.cax.set_position([hm_pos.xmax + 0.003, hm_pos.y0, .006, hm_pos.height])"
   ]
  },
  {
   "cell_type": "code",
   "execution_count": 354,
   "metadata": {},
   "outputs": [],
   "source": [
    "cg.savefig(\"data/plots/heatmap_excl.pdf\")"
   ]
  }
 ],
 "metadata": {
  "kernelspec": {
   "display_name": "Python [default]",
   "language": "python",
   "name": "python3"
  },
  "language_info": {
   "codemirror_mode": {
    "name": "ipython",
    "version": 3
   },
   "file_extension": ".py",
   "mimetype": "text/x-python",
   "name": "python",
   "nbconvert_exporter": "python",
   "pygments_lexer": "ipython3",
   "version": "3.6.1"
  }
 },
 "nbformat": 4,
 "nbformat_minor": 2
}
