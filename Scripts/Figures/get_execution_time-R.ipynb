{
 "cells": [
  {
   "cell_type": "code",
   "execution_count": 1,
   "metadata": {},
   "outputs": [],
   "source": [
    "setwd(\"../../../\")"
   ]
  },
  {
   "cell_type": "code",
   "execution_count": 2,
   "metadata": {},
   "outputs": [
    {
     "name": "stderr",
     "output_type": "stream",
     "text": [
      "Loading packages and configuration from src/r/config.R...\n",
      "Done\n"
     ]
    }
   ],
   "source": [
    "source(\".Rprofile\")"
   ]
  },
  {
   "cell_type": "code",
   "execution_count": 60,
   "metadata": {},
   "outputs": [],
   "source": [
    "source(\"Scripts/Figures/func/gam_vs_relu_perf.R\")\n",
    "source(\"Scripts/Figures/config.R\")"
   ]
  },
  {
   "cell_type": "markdown",
   "metadata": {},
   "source": [
    "## Execution time"
   ]
  },
  {
   "cell_type": "code",
   "execution_count": 9,
   "metadata": {},
   "outputs": [],
   "source": [
    "plt_dir <- \"data/plots/\""
   ]
  },
  {
   "cell_type": "code",
   "execution_count": 10,
   "metadata": {},
   "outputs": [],
   "source": [
    "# get the time for glmnet \n",
    "rbps <- c(\"UPF1\", \"PUM2\", \"DDX3X\", \"NKRF\", \"TARDBP\", \"SUGP2\")\n",
    "position_types <- c(\"no_position\", \"w_position\")"
   ]
  },
  {
   "cell_type": "code",
   "execution_count": 11,
   "metadata": {},
   "outputs": [],
   "source": [
    "options(repr.plot.width=8, repr.plot.height=3)\n",
    "\n",
    "options(digits=3)"
   ]
  },
  {
   "cell_type": "code",
   "execution_count": 12,
   "metadata": {},
   "outputs": [],
   "source": [
    "fp <- function(rbp, pos) readRDS(eclip_modelling_get_output_file(\"kmer_glmnet\", rbp, position_type=pos))"
   ]
  },
  {
   "cell_type": "code",
   "execution_count": 13,
   "metadata": {},
   "outputs": [],
   "source": [
    "v <- expand.grid(rbp=rbps, position_type=position_types)"
   ]
  },
  {
   "cell_type": "code",
   "execution_count": 14,
   "metadata": {},
   "outputs": [],
   "source": [
    "res = lapply(1:nrow(v), function(i) data.table(rbp=v[i, \"rbp\"],\n",
    "                                               pos_type=v[i, \"position_type\"],\n",
    "                                               exec_time=fp(v[i, \"rbp\"], v[i, \"position_type\"])$best_model$execution_time)) %>% rbindlist"
   ]
  },
  {
   "cell_type": "code",
   "execution_count": 15,
   "metadata": {},
   "outputs": [
    {
     "data": {},
     "metadata": {},
     "output_type": "display_data"
    }
   ],
   "source": [
    "res[, method := \"glmnet\"]"
   ]
  },
  {
   "cell_type": "code",
   "execution_count": 16,
   "metadata": {},
   "outputs": [
    {
     "data": {},
     "metadata": {},
     "output_type": "display_data"
    }
   ],
   "source": [
    "res[, exec_time := exec_time / 10] # due to cross-validation"
   ]
  },
  {
   "cell_type": "code",
   "execution_count": 17,
   "metadata": {},
   "outputs": [
    {
     "data": {
      "text/html": [
       "<table>\n",
       "<thead><tr><th scope=col>rbp</th><th scope=col>pos_type</th><th scope=col>exec_time</th><th scope=col>method</th></tr></thead>\n",
       "<tbody>\n",
       "\t<tr><td>UPF1       </td><td>no_position</td><td>35.46      </td><td>glmnet     </td></tr>\n",
       "\t<tr><td>PUM2       </td><td>no_position</td><td> 3.84      </td><td>glmnet     </td></tr>\n",
       "\t<tr><td>DDX3X      </td><td>no_position</td><td>49.66      </td><td>glmnet     </td></tr>\n",
       "\t<tr><td>NKRF       </td><td>no_position</td><td>26.23      </td><td>glmnet     </td></tr>\n",
       "\t<tr><td>TARDBP     </td><td>no_position</td><td> 9.82      </td><td>glmnet     </td></tr>\n",
       "\t<tr><td>SUGP2      </td><td>no_position</td><td>14.52      </td><td>glmnet     </td></tr>\n",
       "\t<tr><td>UPF1       </td><td>w_position </td><td>34.12      </td><td>glmnet     </td></tr>\n",
       "\t<tr><td>PUM2       </td><td>w_position </td><td> 3.93      </td><td>glmnet     </td></tr>\n",
       "\t<tr><td>DDX3X      </td><td>w_position </td><td>52.60      </td><td>glmnet     </td></tr>\n",
       "\t<tr><td>NKRF       </td><td>w_position </td><td>28.95      </td><td>glmnet     </td></tr>\n",
       "\t<tr><td>TARDBP     </td><td>w_position </td><td>10.03      </td><td>glmnet     </td></tr>\n",
       "\t<tr><td>SUGP2      </td><td>w_position </td><td>15.42      </td><td>glmnet     </td></tr>\n",
       "</tbody>\n",
       "</table>\n"
      ],
      "text/latex": [
       "\\begin{tabular}{r|llll}\n",
       " rbp & pos\\_type & exec\\_time & method\\\\\n",
       "\\hline\n",
       "\t UPF1          & no\\_position & 35.46         & glmnet       \\\\\n",
       "\t PUM2          & no\\_position &  3.84         & glmnet       \\\\\n",
       "\t DDX3X         & no\\_position & 49.66         & glmnet       \\\\\n",
       "\t NKRF          & no\\_position & 26.23         & glmnet       \\\\\n",
       "\t TARDBP        & no\\_position &  9.82         & glmnet       \\\\\n",
       "\t SUGP2         & no\\_position & 14.52         & glmnet       \\\\\n",
       "\t UPF1          & w\\_position  & 34.12         & glmnet       \\\\\n",
       "\t PUM2          & w\\_position  &  3.93         & glmnet       \\\\\n",
       "\t DDX3X         & w\\_position  & 52.60         & glmnet       \\\\\n",
       "\t NKRF          & w\\_position  & 28.95         & glmnet       \\\\\n",
       "\t TARDBP        & w\\_position  & 10.03         & glmnet       \\\\\n",
       "\t SUGP2         & w\\_position  & 15.42         & glmnet       \\\\\n",
       "\\end{tabular}\n"
      ],
      "text/markdown": [
       "\n",
       "rbp | pos_type | exec_time | method | \n",
       "|---|---|---|---|---|---|---|---|---|---|---|---|\n",
       "| UPF1        | no_position | 35.46       | glmnet      | \n",
       "| PUM2        | no_position |  3.84       | glmnet      | \n",
       "| DDX3X       | no_position | 49.66       | glmnet      | \n",
       "| NKRF        | no_position | 26.23       | glmnet      | \n",
       "| TARDBP      | no_position |  9.82       | glmnet      | \n",
       "| SUGP2       | no_position | 14.52       | glmnet      | \n",
       "| UPF1        | w_position  | 34.12       | glmnet      | \n",
       "| PUM2        | w_position  |  3.93       | glmnet      | \n",
       "| DDX3X       | w_position  | 52.60       | glmnet      | \n",
       "| NKRF        | w_position  | 28.95       | glmnet      | \n",
       "| TARDBP      | w_position  | 10.03       | glmnet      | \n",
       "| SUGP2       | w_position  | 15.42       | glmnet      | \n",
       "\n",
       "\n"
      ],
      "text/plain": [
       "   rbp    pos_type    exec_time method\n",
       "1  UPF1   no_position 35.46     glmnet\n",
       "2  PUM2   no_position  3.84     glmnet\n",
       "3  DDX3X  no_position 49.66     glmnet\n",
       "4  NKRF   no_position 26.23     glmnet\n",
       "5  TARDBP no_position  9.82     glmnet\n",
       "6  SUGP2  no_position 14.52     glmnet\n",
       "7  UPF1   w_position  34.12     glmnet\n",
       "8  PUM2   w_position   3.93     glmnet\n",
       "9  DDX3X  w_position  52.60     glmnet\n",
       "10 NKRF   w_position  28.95     glmnet\n",
       "11 TARDBP w_position  10.03     glmnet\n",
       "12 SUGP2  w_position  15.42     glmnet"
      ]
     },
     "metadata": {},
     "output_type": "display_data"
    }
   ],
   "source": [
    "res"
   ]
  },
  {
   "cell_type": "code",
   "execution_count": 18,
   "metadata": {},
   "outputs": [],
   "source": [
    "## TODO - get the execution time for the R - python training"
   ]
  },
  {
   "cell_type": "code",
   "execution_count": 19,
   "metadata": {},
   "outputs": [],
   "source": [
    "df_eclip <- fread(\"data/eclip/processed/runtime_fig2b_DeepNN.csv\")"
   ]
  },
  {
   "cell_type": "code",
   "execution_count": 20,
   "metadata": {},
   "outputs": [],
   "source": [
    "df_eclip_tidy <- df_eclip[perf_rank == 1][,.(rbp,\n",
    "                            pos_type = ifelse(exp==\"DeepNN\", \"no_position\", \"w_position\"), \n",
    "                            exec_time=time.duration.training, \n",
    "                                             method=\"DNN\")]"
   ]
  },
  {
   "cell_type": "code",
   "execution_count": 21,
   "metadata": {},
   "outputs": [],
   "source": [
    "dft = rbindlist(list(res, df_eclip_tidy))"
   ]
  },
  {
   "cell_type": "code",
   "execution_count": 22,
   "metadata": {},
   "outputs": [
    {
     "data": {},
     "metadata": {},
     "output_type": "display_data"
    }
   ],
   "source": [
    "dft[, pos_type := ifelse(pos_type == \"w_position\", \" w/ dist\", \"\")]"
   ]
  },
  {
   "cell_type": "code",
   "execution_count": 23,
   "metadata": {},
   "outputs": [
    {
     "data": {},
     "metadata": {},
     "output_type": "display_data"
    },
    {
     "data": {},
     "metadata": {},
     "output_type": "display_data"
    }
   ],
   "source": [
    "dft[, mp := fct_inorder(paste0(method, pos_type))]\n",
    "dft[, rbp := fct_inorder(rbp)]"
   ]
  },
  {
   "cell_type": "code",
   "execution_count": 24,
   "metadata": {},
   "outputs": [],
   "source": [
    "## TODO - update the labels to match with figure 2"
   ]
  },
  {
   "cell_type": "code",
   "execution_count": 25,
   "metadata": {},
   "outputs": [],
   "source": [
    "colors <- c(col_glmnet, col_branchpointer, col_concise_shallow, col_concise_deep)"
   ]
  },
  {
   "cell_type": "code",
   "execution_count": 26,
   "metadata": {},
   "outputs": [
    {
     "data": {},
     "metadata": {},
     "output_type": "display_data"
    },
    {
     "data": {
      "image/png": "[encoded data removed]",
      "text/plain": [
       "plot without title"
      ]
     },
     "metadata": {},
     "output_type": "display_data",
     "source": "R display func"
    }
   ],
   "source": [
    "options(repr.plot.width=6, repr.plot.height=3)\n",
    "\n",
    "plt <- ggplot(dft, aes(x = rbp, fill = mp, y = exec_time)) + \n",
    "geom_bar(stat=\"identity\", position=\"dodge\") + \n",
    "scale_fill_manual(values=colors) + \n",
    "ylab(\"Training time (seconds)\") +\n",
    "xlab(NULL) + \n",
    "scale_y_log10(breaks = c(1, 2, 5, 10, 20, 50, 100, 200, 500, 1000)) + \n",
    "theme(legend.justification = c(1, 1), \n",
    "      legend.title=element_blank(),\n",
    "      legend.position = c(1, 1), \n",
    "      legend.direction = \"horizontal\",\n",
    "      panel.grid.major.y = element_line(colour=\"grey\", size=0.1)) \n",
    "plt"
   ]
  },
  {
   "cell_type": "code",
   "execution_count": 27,
   "metadata": {},
   "outputs": [],
   "source": [
    "save_plot_mul(file.path(plt_dir, \"fig_S3\"), c(\"png\", \"pdf\", \"eps\"), plt,\n",
    "          ncol=1, nrow=1, base_height=2.8, base_aspect_ratio=3,\n",
    "          dpi=600)"
   ]
  },
  {
   "cell_type": "markdown",
   "metadata": {},
   "source": [
    "## PL vs ST runtime"
   ]
  },
  {
   "cell_type": "code",
   "execution_count": 28,
   "metadata": {},
   "outputs": [],
   "source": [
    "source(\"Scripts/Splice_branchpoints/plot_functions/trials.R\")"
   ]
  },
  {
   "cell_type": "code",
   "execution_count": 29,
   "metadata": {},
   "outputs": [],
   "source": [
    "df = get_trials_df_eval()"
   ]
  },
  {
   "cell_type": "code",
   "execution_count": 84,
   "metadata": {},
   "outputs": [
    {
     "data": {
      "text/html": [
       "<table>\n",
       "<thead><tr><th scope=col>tid</th><th scope=col>depth</th><th scope=col>type</th><th scope=col>n_epoch</th><th scope=col>eval.accuracy</th><th scope=col>eval.auc</th><th scope=col>eval.auprc</th><th scope=col>eval.f1</th><th scope=col>eval.fdr</th><th scope=col>eval.loss</th><th scope=col>eval.precision</th><th scope=col>eval.sensitivity</th><th scope=col>eval.specificity</th><th scope=col>time.duration.dataload</th><th scope=col>time.duration.total</th><th scope=col>time.duration.training</th><th scope=col>time.end</th><th scope=col>time.start</th></tr></thead>\n",
       "<tbody>\n",
       "\t<tr><td>1704                      </td><td>deep                      </td><td>gam                       </td><td>26                        </td><td>0.962                     </td><td>0.948                     </td><td>0.680                     </td><td>0.582                     </td><td>0.219                     </td><td>0.109                     </td><td>0.781                     </td><td>0.470                     </td><td>0.992                     </td><td>55.5                      </td><td>286                       </td><td>230                       </td><td>2017-05-01 10:03:18.178699</td><td>2017-05-01 09:58:32.542102</td></tr>\n",
       "\t<tr><td>2058                      </td><td>deep                      </td><td>gam                       </td><td>43                        </td><td>0.962                     </td><td>0.947                     </td><td>0.679                     </td><td>0.587                     </td><td>0.221                     </td><td>0.110                     </td><td>0.779                     </td><td>0.477                     </td><td>0.992                     </td><td>55.9                      </td><td>430                       </td><td>374                       </td><td>2017-05-01 15:47:45.994833</td><td>2017-05-01 15:40:36.164629</td></tr>\n",
       "\t<tr><td>1718                      </td><td>deep                      </td><td>gam                       </td><td>28                        </td><td>0.962                     </td><td>0.948                     </td><td>0.679                     </td><td>0.580                     </td><td>0.217                     </td><td>0.108                     </td><td>0.783                     </td><td>0.466                     </td><td>0.992                     </td><td>56.2                      </td><td>307                       </td><td>251                       </td><td>2017-05-01 10:09:05.511638</td><td>2017-05-01 10:03:58.465634</td></tr>\n",
       "\t<tr><td>1525                      </td><td>deep                      </td><td>gam                       </td><td>29                        </td><td>0.961                     </td><td>0.949                     </td><td>0.679                     </td><td>0.555                     </td><td>0.179                     </td><td>0.109                     </td><td>0.821                     </td><td>0.424                     </td><td>0.994                     </td><td>56.5                      </td><td>310                       </td><td>254                       </td><td>2017-05-01 00:17:33.044347</td><td>2017-05-01 00:12:22.726490</td></tr>\n",
       "\t<tr><td>2028                      </td><td>deep                      </td><td>gam                       </td><td>40                        </td><td>0.962                     </td><td>0.948                     </td><td>0.679                     </td><td>0.588                     </td><td>0.219                     </td><td>0.108                     </td><td>0.781                     </td><td>0.476                     </td><td>0.992                     </td><td>56.4                      </td><td>407                       </td><td>351                       </td><td>2017-05-01 11:38:03.105668</td><td>2017-05-01 11:31:15.765314</td></tr>\n",
       "\t<tr><td>1851                      </td><td>deep                      </td><td>gam                       </td><td>28                        </td><td>0.962                     </td><td>0.948                     </td><td>0.679                     </td><td>0.575                     </td><td>0.206                     </td><td>0.109                     </td><td>0.794                     </td><td>0.456                     </td><td>0.993                     </td><td>77.4                      </td><td>417                       </td><td>340                       </td><td>2017-05-01 10:48:09.989744</td><td>2017-05-01 10:41:12.816684</td></tr>\n",
       "</tbody>\n",
       "</table>\n"
      ],
      "text/latex": [
       "\\begin{tabular}{r|llllllllllllllllll}\n",
       " tid & depth & type & n\\_epoch & eval.accuracy & eval.auc & eval.auprc & eval.f1 & eval.fdr & eval.loss & eval.precision & eval.sensitivity & eval.specificity & time.duration.dataload & time.duration.total & time.duration.training & time.end & time.start\\\\\n",
       "\\hline\n",
       "\t 1704                       & deep                       & gam                        & 26                         & 0.962                      & 0.948                      & 0.680                      & 0.582                      & 0.219                      & 0.109                      & 0.781                      & 0.470                      & 0.992                      & 55.5                       & 286                        & 230                        & 2017-05-01 10:03:18.178699 & 2017-05-01 09:58:32.542102\\\\\n",
       "\t 2058                       & deep                       & gam                        & 43                         & 0.962                      & 0.947                      & 0.679                      & 0.587                      & 0.221                      & 0.110                      & 0.779                      & 0.477                      & 0.992                      & 55.9                       & 430                        & 374                        & 2017-05-01 15:47:45.994833 & 2017-05-01 15:40:36.164629\\\\\n",
       "\t 1718                       & deep                       & gam                        & 28                         & 0.962                      & 0.948                      & 0.679                      & 0.580                      & 0.217                      & 0.108                      & 0.783                      & 0.466                      & 0.992                      & 56.2                       & 307                        & 251                        & 2017-05-01 10:09:05.511638 & 2017-05-01 10:03:58.465634\\\\\n",
       "\t 1525                       & deep                       & gam                        & 29                         & 0.961                      & 0.949                      & 0.679                      & 0.555                      & 0.179                      & 0.109                      & 0.821                      & 0.424                      & 0.994                      & 56.5                       & 310                        & 254                        & 2017-05-01 00:17:33.044347 & 2017-05-01 00:12:22.726490\\\\\n",
       "\t 2028                       & deep                       & gam                        & 40                         & 0.962                      & 0.948                      & 0.679                      & 0.588                      & 0.219                      & 0.108                      & 0.781                      & 0.476                      & 0.992                      & 56.4                       & 407                        & 351                        & 2017-05-01 11:38:03.105668 & 2017-05-01 11:31:15.765314\\\\\n",
       "\t 1851                       & deep                       & gam                        & 28                         & 0.962                      & 0.948                      & 0.679                      & 0.575                      & 0.206                      & 0.109                      & 0.794                      & 0.456                      & 0.993                      & 77.4                       & 417                        & 340                        & 2017-05-01 10:48:09.989744 & 2017-05-01 10:41:12.816684\\\\\n",
       "\\end{tabular}\n"
      ],
      "text/markdown": [
       "\n",
       "tid | depth | type | n_epoch | eval.accuracy | eval.auc | eval.auprc | eval.f1 | eval.fdr | eval.loss | eval.precision | eval.sensitivity | eval.specificity | time.duration.dataload | time.duration.total | time.duration.training | time.end | time.start | \n",
       "|---|---|---|---|---|---|\n",
       "| 1704                       | deep                       | gam                        | 26                         | 0.962                      | 0.948                      | 0.680                      | 0.582                      | 0.219                      | 0.109                      | 0.781                      | 0.470                      | 0.992                      | 55.5                       | 286                        | 230                        | 2017-05-01 10:03:18.178699 | 2017-05-01 09:58:32.542102 | \n",
       "| 2058                       | deep                       | gam                        | 43                         | 0.962                      | 0.947                      | 0.679                      | 0.587                      | 0.221                      | 0.110                      | 0.779                      | 0.477                      | 0.992                      | 55.9                       | 430                        | 374                        | 2017-05-01 15:47:45.994833 | 2017-05-01 15:40:36.164629 | \n",
       "| 1718                       | deep                       | gam                        | 28                         | 0.962                      | 0.948                      | 0.679                      | 0.580                      | 0.217                      | 0.108                      | 0.783                      | 0.466                      | 0.992                      | 56.2                       | 307                        | 251                        | 2017-05-01 10:09:05.511638 | 2017-05-01 10:03:58.465634 | \n",
       "| 1525                       | deep                       | gam                        | 29                         | 0.961                      | 0.949                      | 0.679                      | 0.555                      | 0.179                      | 0.109                      | 0.821                      | 0.424                      | 0.994                      | 56.5                       | 310                        | 254                        | 2017-05-01 00:17:33.044347 | 2017-05-01 00:12:22.726490 | \n",
       "| 2028                       | deep                       | gam                        | 40                         | 0.962                      | 0.948                      | 0.679                      | 0.588                      | 0.219                      | 0.108                      | 0.781                      | 0.476                      | 0.992                      | 56.4                       | 407                        | 351                        | 2017-05-01 11:38:03.105668 | 2017-05-01 11:31:15.765314 | \n",
       "| 1851                       | deep                       | gam                        | 28                         | 0.962                      | 0.948                      | 0.679                      | 0.575                      | 0.206                      | 0.109                      | 0.794                      | 0.456                      | 0.993                      | 77.4                       | 417                        | 340                        | 2017-05-01 10:48:09.989744 | 2017-05-01 10:41:12.816684 | \n",
       "\n",
       "\n"
      ],
      "text/plain": [
       "  tid  depth type n_epoch eval.accuracy eval.auc eval.auprc eval.f1 eval.fdr\n",
       "1 1704 deep  gam  26      0.962         0.948    0.680      0.582   0.219   \n",
       "2 2058 deep  gam  43      0.962         0.947    0.679      0.587   0.221   \n",
       "3 1718 deep  gam  28      0.962         0.948    0.679      0.580   0.217   \n",
       "4 1525 deep  gam  29      0.961         0.949    0.679      0.555   0.179   \n",
       "5 2028 deep  gam  40      0.962         0.948    0.679      0.588   0.219   \n",
       "6 1851 deep  gam  28      0.962         0.948    0.679      0.575   0.206   \n",
       "  eval.loss eval.precision eval.sensitivity eval.specificity\n",
       "1 0.109     0.781          0.470            0.992           \n",
       "2 0.110     0.779          0.477            0.992           \n",
       "3 0.108     0.783          0.466            0.992           \n",
       "4 0.109     0.821          0.424            0.994           \n",
       "5 0.108     0.781          0.476            0.992           \n",
       "6 0.109     0.794          0.456            0.993           \n",
       "  time.duration.dataload time.duration.total time.duration.training\n",
       "1 55.5                   286                 230                   \n",
       "2 55.9                   430                 374                   \n",
       "3 56.2                   307                 251                   \n",
       "4 56.5                   310                 254                   \n",
       "5 56.4                   407                 351                   \n",
       "6 77.4                   417                 340                   \n",
       "  time.end                   time.start                \n",
       "1 2017-05-01 10:03:18.178699 2017-05-01 09:58:32.542102\n",
       "2 2017-05-01 15:47:45.994833 2017-05-01 15:40:36.164629\n",
       "3 2017-05-01 10:09:05.511638 2017-05-01 10:03:58.465634\n",
       "4 2017-05-01 00:17:33.044347 2017-05-01 00:12:22.726490\n",
       "5 2017-05-01 11:38:03.105668 2017-05-01 11:31:15.765314\n",
       "6 2017-05-01 10:48:09.989744 2017-05-01 10:41:12.816684"
      ]
     },
     "metadata": {},
     "output_type": "display_data"
    }
   ],
   "source": [
    "df %>% head"
   ]
  },
  {
   "cell_type": "code",
   "execution_count": 108,
   "metadata": {},
   "outputs": [
    {
     "data": {},
     "metadata": {},
     "output_type": "display_data"
    },
    {
     "data": {},
     "metadata": {},
     "output_type": "display_data"
    },
    {
     "data": {},
     "metadata": {},
     "output_type": "display_data"
    },
    {
     "data": {},
     "metadata": {},
     "output_type": "display_data"
    }
   ],
   "source": [
    "dfs = df[, .SD[1:10][, .(time.duration.training, n_epoch, eval.auprc, epoch_training_time = time.duration.training / n_epoch)], \n",
    "         by = .(depth, type)]\n",
    "dfs[, type := fct_relevel(type, c(\"relu\", \"gam\"))]\n",
    "dfs[, depth := fct_relevel(depth, c(\"shallow\", \"deep\"))]\n",
    "dfs[, type := fct_recode(type, \"PL\"=\"relu\", \"Spline\"=\"gam\")]\n",
    "\n",
    "\n",
    "\n",
    "dfs[, method := paste(depth, type)]"
   ]
  },
  {
   "cell_type": "code",
   "execution_count": 163,
   "metadata": {},
   "outputs": [
    {
     "data": {},
     "metadata": {},
     "output_type": "display_data"
    },
    {
     "data": {
      "image/png": "[encoded data removed]",
      "text/plain": [
       "plot without title"
      ]
     },
     "metadata": {},
     "output_type": "display_data",
     "source": "R display func"
    }
   ],
   "source": [
    "options(repr.plot.width=3, repr.plot.height=2.3)\n",
    "\n",
    "plt_bp <- ggplot(dfs, aes(x = type, color = method, y = epoch_training_time)) + \n",
    "geom_boxplot(alpha=0.5)+ \n",
    "geom_jitter(alpha=0.5) + \n",
    "facet_wrap( ~depth, strip.position = \"bottom\", scales = \"free_x\") +\n",
    "legend_off + \n",
    "scale_color_manual(values = c(col_relu_deep,col_concise_deep, col_relu_shallow,col_concise_shallow)) + \n",
    "theme(panel.spacing = unit(0, \"lines\"),\n",
    "      strip.background = element_blank(),\n",
    "      strip.placement = \"outside\")+\n",
    "      #panel.grid.major.y = element_line(colour=\"grey\", size=0.2)) +\n",
    "xlab(NULL) +\n",
    "ylab(\"training time\\n(seconds / epoch)\")\n",
    "\n",
    "plt_bp"
   ]
  },
  {
   "cell_type": "code",
   "execution_count": 116,
   "metadata": {},
   "outputs": [
    {
     "data": {
      "text/html": [
       "<table>\n",
       "<thead><tr><th scope=col>method</th><th scope=col>V1</th></tr></thead>\n",
       "<tbody>\n",
       "\t<tr><td>deep Spline   </td><td> 9.72         </td></tr>\n",
       "\t<tr><td>deep PL       </td><td>10.12         </td></tr>\n",
       "\t<tr><td>shallow Spline</td><td> 3.15         </td></tr>\n",
       "\t<tr><td>shallow PL    </td><td> 4.88         </td></tr>\n",
       "</tbody>\n",
       "</table>\n"
      ],
      "text/latex": [
       "\\begin{tabular}{r|ll}\n",
       " method & V1\\\\\n",
       "\\hline\n",
       "\t deep Spline    &  9.72         \\\\\n",
       "\t deep PL        & 10.12         \\\\\n",
       "\t shallow Spline &  3.15         \\\\\n",
       "\t shallow PL     &  4.88         \\\\\n",
       "\\end{tabular}\n"
      ],
      "text/markdown": [
       "\n",
       "method | V1 | \n",
       "|---|---|---|---|\n",
       "| deep Spline    |  9.72          | \n",
       "| deep PL        | 10.12          | \n",
       "| shallow Spline |  3.15          | \n",
       "| shallow PL     |  4.88          | \n",
       "\n",
       "\n"
      ],
      "text/plain": [
       "  method         V1   \n",
       "1 deep Spline     9.72\n",
       "2 deep PL        10.12\n",
       "3 shallow Spline  3.15\n",
       "4 shallow PL      4.88"
      ]
     },
     "metadata": {},
     "output_type": "display_data"
    }
   ],
   "source": [
    "dfs[, mean(epoch_training_time), by = method]\n",
    "a <- dfs[, mean(epoch_training_time), by = method][, V1]"
   ]
  },
  {
   "cell_type": "code",
   "execution_count": 118,
   "metadata": {},
   "outputs": [
    {
     "data": {
      "text/html": [
       "0.960229891726307"
      ],
      "text/latex": [
       "0.960229891726307"
      ],
      "text/markdown": [
       "0.960229891726307"
      ],
      "text/plain": [
       "[1] 0.96"
      ]
     },
     "metadata": {},
     "output_type": "display_data"
    }
   ],
   "source": [
    "a[1] / a[2]"
   ]
  },
  {
   "cell_type": "code",
   "execution_count": 119,
   "metadata": {},
   "outputs": [
    {
     "data": {
      "text/html": [
       "0.64463176288676"
      ],
      "text/latex": [
       "0.64463176288676"
      ],
      "text/markdown": [
       "0.64463176288676"
      ],
      "text/plain": [
       "[1] 0.645"
      ]
     },
     "metadata": {},
     "output_type": "display_data"
    }
   ],
   "source": [
    "a[3] / a[4]"
   ]
  },
  {
   "cell_type": "code",
   "execution_count": null,
   "metadata": {},
   "outputs": [],
   "source": []
  },
  {
   "cell_type": "code",
   "execution_count": 164,
   "metadata": {},
   "outputs": [
    {
     "name": "stderr",
     "output_type": "stream",
     "text": [
      "Warning message in grid.Call.graphics(C_points, x$x, x$y, x$pch, x$size):\n",
      "“semi-transparency is not supported on this device: reported only once per page”"
     ]
    }
   ],
   "source": [
    "save_plot_mul(file.path(plt_dir, \"fig4e_compute_time\"), c(\"png\", \"pdf\", \"eps\"), plt_bp,\n",
    "          ncol=1, nrow=1, base_height=2.8, base_aspect_ratio=3/2.3,\n",
    "          dpi=600)"
   ]
  }
 ],
 "metadata": {
  "kernelspec": {
   "display_name": "R",
   "language": "R",
   "name": "ir"
  },
  "language_info": {
   "codemirror_mode": "r",
   "file_extension": ".r",
   "mimetype": "text/x-r-source",
   "name": "R",
   "pygments_lexer": "r",
   "version": "3.4.0"
  }
 },
 "nbformat": 4,
 "nbformat_minor": 2
}
